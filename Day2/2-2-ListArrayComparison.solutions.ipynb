{
  "cells": [
    {
      "cell_type": "code",
      "execution_count": 1,
      "id": "fc792f74",
      "metadata": {},
      "outputs": [
        {
          "name": "stdout",
          "output_type": "stream",
          "text": [
            "Requirement already satisfied: numpy in /home/nickdg/miniconda3/envs/py10/lib/python3.10/site-packages (1.23.3)\n"
          ]
        }
      ],
      "source": [
        "%pip install numpy"
      ]
    },
    {
      "cell_type": "code",
      "execution_count": null,
      "id": "a8a2602a",
      "metadata": {
        "cell_id": "00000-11f94838-7e38-4af6-a447-9ea8f5c23d39",
        "deepnote_cell_type": "code",
        "deepnote_to_be_reexecuted": false,
        "execution_millis": 3,
        "execution_start": 1628680067251,
        "id": "apparent-optimum",
        "source_hash": "c2602aa8"
      },
      "outputs": [],
      "source": [
        "import numpy as np"
      ]
    },
    {
      "cell_type": "markdown",
      "id": "c38e4870",
      "metadata": {
        "cell_id": "00001-91d39974-4425-4c7e-a1d5-2d8de88c9055",
        "deepnote_cell_type": "markdown",
        "id": "shared-quality"
      },
      "source": [
        "# Numpy Arrays  vs Python Lists\n",
        "\n",
        "Like Python Lists, numpy Arrays are ordered sequences of data.  However, they have slightly different properties than Python lists:\n",
        "\n",
        "| Property | Lists | Arrays |\n",
        "| :--:     | :--:  | :--:   |\n",
        "| Ordered  | \u2714\ufe0f    | \u2714\ufe0f |\n",
        "| Mutable | \u2714\ufe0f    | \u2714\ufe0f |\n",
        "| Can Mix Data Types | \u2714\ufe0f |   |\n",
        "| Append Data without Copying Whole Structure | \u2714\ufe0f  |  |\n",
        "| Broadcastable |  | \u2714\ufe0f |\n",
        "| Fast Calculations |   | \u2714\ufe0f |\n",
        "| Fast Append | \u2714\ufe0f |  |\n",
        "\n"
      ]
    },
    {
      "cell_type": "markdown",
      "id": "2fb1ccab",
      "metadata": {
        "cell_id": "00002-13ca0a86-211c-4a1a-a5cb-cde210bfee84",
        "deepnote_cell_type": "markdown",
        "id": "massive-agent"
      },
      "source": [
        "### Exercises \n",
        "Let's explore each property and compare lists and arrays"
      ]
    },
    {
      "cell_type": "markdown",
      "id": "47120ef6",
      "metadata": {
        "cell_id": "00003-8b32488f-ee6c-44c8-9118-5f3e7962e4f0",
        "deepnote_cell_type": "markdown",
        "id": "charitable-enzyme"
      },
      "source": [
        "#### Ordered Index"
      ]
    },
    {
      "cell_type": "markdown",
      "id": "1309aaf5",
      "metadata": {
        "cell_id": "00004-524041f6-a765-46f3-9d46-c076f0b400ed",
        "deepnote_cell_type": "markdown",
        "tags": []
      },
      "source": [
        "**Examples**"
      ]
    },
    {
      "cell_type": "markdown",
      "id": "9de83ca8",
      "metadata": {
        "cell_id": "00005-dc4b7405-fb73-44fb-9e88-69cc76e9bc0d",
        "deepnote_cell_type": "markdown",
        "id": "rising-knowing"
      },
      "source": [
        "Index the third element of these data collections:"
      ]
    },
    {
      "cell_type": "markdown",
      "id": "8a8380cb",
      "metadata": {
        "cell_id": "00006-fa5cc312-81c6-4b21-bf98-64133c62f0db",
        "deepnote_cell_type": "markdown",
        "id": "earlier-result"
      },
      "source": [
        "List:"
      ]
    },
    {
      "cell_type": "code",
      "execution_count": null,
      "id": "ecb24551",
      "metadata": {
        "cell_id": "00007-797822e9-e57c-4205-8bf3-0dcfd77d39bc",
        "deepnote_cell_type": "code",
        "deepnote_to_be_reexecuted": false,
        "execution_millis": 3,
        "execution_start": 1628679812683,
        "id": "independent-indication",
        "outputId": "05975b3b-cdb5-4b65-8f2a-14e8a2461536",
        "source_hash": "11a5da96"
      },
      "outputs": [],
      "source": [
        "x = [10, 20, 30, 40, 50]\n",
        "x[2]"
      ]
    },
    {
      "cell_type": "markdown",
      "id": "d62d9c20",
      "metadata": {
        "cell_id": "00008-d27f4ce2-b831-4505-a3ee-5890c766ab62",
        "deepnote_cell_type": "markdown",
        "id": "creative-brake"
      },
      "source": [
        "Array:"
      ]
    },
    {
      "cell_type": "code",
      "execution_count": null,
      "id": "768e0cd8",
      "metadata": {
        "cell_id": "00009-305f7eb7-1211-43eb-b119-1c8f9b96f2cc",
        "deepnote_cell_type": "code",
        "id": "caroline-oklahoma",
        "outputId": "5e4a8285-9025-458b-8669-35775957af29"
      },
      "outputs": [
        {
          "data": {
            "text/plain": [
              "30"
            ]
          },
          "execution_count": 32,
          "metadata": {
            "tags": []
          },
          "output_type": "execute_result"
        }
      ],
      "source": [
        "x = np.array([10, 20, 30, 40, 50])\n",
        "x[2]"
      ]
    },
    {
      "cell_type": "markdown",
      "id": "f6d268e7",
      "metadata": {
        "cell_id": "00010-b1ebf92d-a7d7-4bb2-b643-f7249048d69d",
        "deepnote_cell_type": "markdown",
        "id": "minimal-growing"
      },
      "source": [
        "#### Ordered Slicing"
      ]
    },
    {
      "cell_type": "markdown",
      "id": "ebe6a455",
      "metadata": {
        "cell_id": "00011-56f39f64-daf6-47e1-af9e-cd757c7251e0",
        "deepnote_cell_type": "markdown",
        "id": "acoustic-westminster"
      },
      "source": [
        "Slice out the second-to-fourth element of these data collections:"
      ]
    },
    {
      "cell_type": "markdown",
      "id": "b97d290f",
      "metadata": {
        "cell_id": "00012-8b13cc1d-3d8e-4399-b19d-8bf62802454f",
        "deepnote_cell_type": "markdown",
        "tags": []
      },
      "source": [
        "**Examples**"
      ]
    },
    {
      "cell_type": "markdown",
      "id": "ceab1137",
      "metadata": {
        "cell_id": "00013-dcefa053-a590-4330-a7c0-26daec0a2f87",
        "deepnote_cell_type": "markdown",
        "id": "genetic-carrier"
      },
      "source": [
        "List:"
      ]
    },
    {
      "cell_type": "code",
      "execution_count": null,
      "id": "f0bb7009",
      "metadata": {
        "cell_id": "00014-0ee6176d-caac-452e-950d-bae36de0067d",
        "deepnote_cell_type": "code",
        "id": "furnished-sharing",
        "outputId": "d8f997b4-99e0-4a5c-8c58-9ca2107e7a8f"
      },
      "outputs": [
        {
          "data": {
            "text/plain": [
              "[20, 30, 40]"
            ]
          },
          "execution_count": 35,
          "metadata": {
            "tags": []
          },
          "output_type": "execute_result"
        }
      ],
      "source": [
        "x = [10, 20, 30, 40, 50]\n",
        "x[1:4]"
      ]
    },
    {
      "cell_type": "markdown",
      "id": "4b432d11",
      "metadata": {
        "cell_id": "00015-f16679b9-8afe-4d73-ba17-a2eda572633f",
        "deepnote_cell_type": "markdown",
        "id": "intimate-joseph"
      },
      "source": [
        "Array:"
      ]
    },
    {
      "cell_type": "code",
      "execution_count": null,
      "id": "4d34037e",
      "metadata": {
        "cell_id": "00016-b1ac4a47-ac8b-4f84-82c9-32ffa8531c3a",
        "deepnote_cell_type": "code",
        "id": "married-vulnerability",
        "outputId": "3dcd6020-ef42-4184-a937-633140fb6c65"
      },
      "outputs": [
        {
          "data": {
            "text/plain": [
              "array([20, 30, 40])"
            ]
          },
          "execution_count": 36,
          "metadata": {
            "tags": []
          },
          "output_type": "execute_result"
        }
      ],
      "source": [
        "x = np.array([10, 20, 30, 40, 50])\n",
        "x[1:4]"
      ]
    },
    {
      "cell_type": "markdown",
      "id": "8c561a12",
      "metadata": {
        "cell_id": "00017-523e26f0-28b9-47af-866e-0eacafae7014",
        "deepnote_cell_type": "markdown",
        "id": "russian-bones"
      },
      "source": [
        "#### \"Mutate\" a Value inside a Collection\n",
        "\n",
        "Just as values inside a collection can be retrieved, they can also be re-assigned.  For example, to change the third element of these data collections to the value \"A\":\n",
        "\n",
        "```python\n",
        "data[index] = value\n",
        "```"
      ]
    },
    {
      "cell_type": "markdown",
      "id": "ceb7b70f",
      "metadata": {
        "cell_id": "00018-7e8c891e-b3cd-473a-aa07-af63f5d5b5a2",
        "deepnote_cell_type": "markdown",
        "id": "expired-following"
      },
      "source": [
        "List:"
      ]
    },
    {
      "cell_type": "code",
      "execution_count": null,
      "id": "4d2e0e03",
      "metadata": {
        "cell_id": "00019-8ef443f0-0461-4241-9b91-67aa18533e31",
        "deepnote_cell_type": "code",
        "deepnote_to_be_reexecuted": false,
        "execution_millis": 0,
        "execution_start": 1628717187885,
        "id": "musical-demographic",
        "outputId": "fc36fe25-c9c8-42d7-ddc6-1636eaeb0bff",
        "source_hash": "f736c8e3"
      },
      "outputs": [
        {
          "data": {
            "text/plain": [
              "['A', 'C', 'A', 'G', 'C', 'T']"
            ]
          },
          "execution_count": 11,
          "metadata": {},
          "output_type": "execute_result"
        }
      ],
      "source": [
        "x = [\"A\", \"C\", \"G\", \"G\", \"C\", \"T\"]\n",
        "x[2] = \"A\"\n",
        "x"
      ]
    },
    {
      "cell_type": "markdown",
      "id": "ce001b73",
      "metadata": {
        "cell_id": "00020-114e7006-9352-4bc1-a13a-66eff0ea207d",
        "deepnote_cell_type": "markdown",
        "id": "choice-facial"
      },
      "source": [
        "Array:"
      ]
    },
    {
      "cell_type": "code",
      "execution_count": null,
      "id": "1ed53d9c",
      "metadata": {
        "cell_id": "00021-04128832-9eb8-4448-9859-8f70efbcbdcd",
        "deepnote_cell_type": "code",
        "id": "viral-saturn",
        "outputId": "d1f0426d-60a7-46ef-e176-2260ddc43ab9"
      },
      "outputs": [
        {
          "data": {
            "text/plain": [
              "array(['A', 'C', 'A', 'G', 'C', 'T'], dtype='<U1')"
            ]
          },
          "execution_count": 41,
          "metadata": {
            "tags": []
          },
          "output_type": "execute_result"
        }
      ],
      "source": [
        "x = np.array([\"A\", \"C\", \"G\", \"G\", \"C\", \"T\"])\n",
        "x[2]=\"A\"\n",
        "x"
      ]
    },
    {
      "cell_type": "markdown",
      "id": "7d92bfb6",
      "metadata": {
        "cell_id": "00022-6122cae9-9a3a-4b04-9a46-c1f798c629e4",
        "deepnote_cell_type": "markdown",
        "id": "brown-champion"
      },
      "source": [
        "#### Mixing Data Types"
      ]
    },
    {
      "cell_type": "markdown",
      "id": "b470d6f7",
      "metadata": {
        "cell_id": "00023-bbcc713b-984d-4ffb-8fb3-ac944952b0e6",
        "deepnote_cell_type": "markdown",
        "id": "generous-kazakhstan"
      },
      "source": [
        "Change the third element of these data collections to the value 40:\n",
        "```python\n",
        "data[index] = value\n",
        "```"
      ]
    },
    {
      "cell_type": "markdown",
      "id": "283ac319",
      "metadata": {
        "cell_id": "00024-0eae2b8d-13ef-4e38-ab39-1fedeef80d87",
        "deepnote_cell_type": "markdown",
        "id": "turkish-lambda"
      },
      "source": [
        "List:"
      ]
    },
    {
      "cell_type": "code",
      "execution_count": null,
      "id": "7e8ee948",
      "metadata": {
        "cell_id": "00025-e5eb1891-3ec5-4c3f-99f7-6faf9a543ffc",
        "deepnote_cell_type": "code",
        "id": "material-excitement",
        "outputId": "1662be1f-9c55-491f-a613-6e18063fb9ec"
      },
      "outputs": [
        {
          "data": {
            "text/plain": [
              "['A', 'C', 'AT', 'G', 'C', 'T']"
            ]
          },
          "execution_count": 42,
          "metadata": {
            "tags": []
          },
          "output_type": "execute_result"
        }
      ],
      "source": [
        "x = [\"A\", \"C\", \"G\", \"G\", \"C\", \"T\"]\n",
        "x[2]=\"AT\"\n",
        "x"
      ]
    },
    {
      "cell_type": "markdown",
      "id": "9ef1d66e",
      "metadata": {
        "cell_id": "00026-561ad00c-39e8-4532-ad17-4c1857be94d4",
        "deepnote_cell_type": "markdown",
        "id": "surface-namibia"
      },
      "source": [
        "Array:"
      ]
    },
    {
      "cell_type": "code",
      "execution_count": null,
      "id": "261f884f",
      "metadata": {
        "cell_id": "00027-50a93b87-7d6c-4685-b525-9e0e4b3446d8",
        "deepnote_cell_type": "code",
        "id": "solar-appraisal",
        "outputId": "95bfd1f0-b554-41fd-837b-1e359b83b5d2"
      },
      "outputs": [
        {
          "data": {
            "text/plain": [
              "array(['ATG', 'CGA', 'GT', 'GTT', 'CTT', 'TGA'], dtype='<U3')"
            ]
          },
          "execution_count": 48,
          "metadata": {
            "tags": []
          },
          "output_type": "execute_result"
        }
      ],
      "source": [
        "x = np.array([\"ATG\", \"CGA\", \"GCT\", \"GTT\", \"CTT\", \"TGA\"])\n",
        "x[2]=\"GT\"\n",
        "x"
      ]
    },
    {
      "cell_type": "markdown",
      "id": "1667dc72",
      "metadata": {
        "cell_id": "00028-2c898847-1b68-49ec-a7ff-5ca4ac8af20d",
        "deepnote_cell_type": "markdown",
        "id": "approximate-association"
      },
      "source": [
        "#### Append Values"
      ]
    },
    {
      "cell_type": "markdown",
      "id": "37474f11",
      "metadata": {
        "cell_id": "00029-f2b828ce-44ef-40b2-9fde-c11860e89f79",
        "deepnote_cell_type": "markdown",
        "id": "republican-soviet"
      },
      "source": [
        "Append a new value to the end of these data:"
      ]
    },
    {
      "cell_type": "markdown",
      "id": "e8ed2579",
      "metadata": {
        "cell_id": "00030-251d2ada-55f4-4369-a029-478eec6f722b",
        "deepnote_cell_type": "markdown",
        "id": "surgical-phase"
      },
      "source": [
        "List:\n",
        "```python\n",
        "data.append(value)\n",
        "```"
      ]
    },
    {
      "cell_type": "code",
      "execution_count": null,
      "id": "e9140587",
      "metadata": {
        "cell_id": "00031-47af30f7-a504-456a-b095-667b08e45ffa",
        "deepnote_cell_type": "code",
        "id": "dental-hopkins",
        "outputId": "563c924f-ae45-4615-8b58-04ff5b1a8475"
      },
      "outputs": [
        {
          "data": {
            "text/plain": [
              "['A', 'C', 'G', 'G', 'C', 'T', 'A']"
            ]
          },
          "execution_count": 51,
          "metadata": {
            "tags": []
          },
          "output_type": "execute_result"
        }
      ],
      "source": [
        "x = [\"A\", \"C\", \"G\", \"G\", \"C\", \"T\"]\n",
        "x.append(\"A\")\n",
        "x"
      ]
    },
    {
      "cell_type": "code",
      "execution_count": null,
      "id": "5dd9e2d5",
      "metadata": {
        "cell_id": "00032-004f1cc2-a712-44bf-9ea5-a6ad2e907544",
        "deepnote_cell_type": "code",
        "deepnote_to_be_reexecuted": false,
        "execution_start": 1628755267067,
        "id": "italic-excuse",
        "outputId": "46ac010b-72b6-47e7-a7cd-9e35997066cd",
        "source_hash": "45d5e9f8"
      },
      "outputs": [
        {
          "data": {
            "text/plain": [
              "['A', 'C', 'G', 'A', 'G', 'C', 'T']"
            ]
          },
          "execution_count": 1,
          "metadata": {},
          "output_type": "execute_result"
        }
      ],
      "source": [
        "x = [\"A\", \"C\", \"G\", \"G\", \"C\", \"T\"]\n",
        "x.insert(3, \"A\")\n",
        "x"
      ]
    },
    {
      "cell_type": "markdown",
      "id": "8e4f9bad",
      "metadata": {
        "cell_id": "00033-e2ba686a-76df-40aa-a6e4-400b1a0d6c18",
        "deepnote_cell_type": "markdown",
        "id": "tribal-business"
      },
      "source": [
        "Array:\n",
        "```python\n",
        "np.append(data, value)\n",
        "```"
      ]
    },
    {
      "cell_type": "code",
      "execution_count": null,
      "id": "0c2569ed",
      "metadata": {
        "cell_id": "00034-6681128a-ff6e-474e-bbab-f92c6f729126",
        "deepnote_cell_type": "code",
        "deepnote_to_be_reexecuted": false,
        "execution_millis": 5,
        "execution_start": 1628755303415,
        "id": "opposed-vampire",
        "outputId": "9bdfedc2-cfd1-48bb-fb6c-524d5cad9063",
        "source_hash": "15367286"
      },
      "outputs": [
        {
          "data": {
            "text/plain": [
              "array(['A', 'C', 'G', 'G', 'C', 'T'], dtype='<U1')"
            ]
          },
          "execution_count": 6,
          "metadata": {},
          "output_type": "execute_result"
        }
      ],
      "source": [
        "x = np.array([\"A\", \"C\", \"G\", \"G\", \"C\", \"T\"])\n",
        "x2 = np.append(x, \"A\")\n",
        "x"
      ]
    },
    {
      "cell_type": "code",
      "execution_count": null,
      "id": "487ff358",
      "metadata": {
        "cell_id": "00035-0aacb603-c9b2-4ee3-8e2d-589c0c3f1276",
        "deepnote_cell_type": "code",
        "deepnote_to_be_reexecuted": false,
        "execution_millis": 3,
        "execution_start": 1628755281007,
        "source_hash": "c2602aa8",
        "tags": []
      },
      "outputs": [],
      "source": [
        "import numpy as np"
      ]
    },
    {
      "cell_type": "markdown",
      "id": "3d046ea8",
      "metadata": {
        "cell_id": "00035-75f1eb66-60a3-418a-a77d-3163502c1b5a",
        "deepnote_cell_type": "markdown",
        "id": "provincial-prototype"
      },
      "source": [
        "### Broadcasting\n",
        "\n",
        "Run the following code, which multiplies every value in the collection by 10"
      ]
    },
    {
      "cell_type": "markdown",
      "id": "beb1493b",
      "metadata": {
        "cell_id": "00036-6ca2c146-88a1-434a-a41d-75f111384c0c",
        "deepnote_cell_type": "markdown",
        "id": "actual-marking"
      },
      "source": [
        "List:"
      ]
    },
    {
      "cell_type": "code",
      "execution_count": null,
      "id": "f7c39953",
      "metadata": {
        "cell_id": "00037-dd5021d0-9e4f-4c56-a5f4-8108000a9fa1",
        "deepnote_cell_type": "code",
        "id": "urban-virtue",
        "outputId": "cdbc1adb-9615-4187-e850-780225a063d1"
      },
      "outputs": [
        {
          "data": {
            "text/plain": [
              "[1, 2, 3, 4, 5]"
            ]
          },
          "execution_count": 61,
          "metadata": {
            "tags": []
          },
          "output_type": "execute_result"
        }
      ],
      "source": [
        "data = [1, 2, 3, 4, 5]\n",
        "data"
      ]
    },
    {
      "cell_type": "code",
      "execution_count": null,
      "id": "99dc45fb",
      "metadata": {
        "cell_id": "00038-31bd953d-c58f-4144-a3b0-697994ac185e",
        "deepnote_cell_type": "code",
        "id": "color-testing"
      },
      "outputs": [],
      "source": [
        "data * 10;"
      ]
    },
    {
      "cell_type": "code",
      "execution_count": null,
      "id": "72ab57f0",
      "metadata": {
        "cell_id": "00039-f7db591a-5bff-4ec5-86ac-fa4c7857e7d1",
        "deepnote_cell_type": "code",
        "id": "loose-queen",
        "outputId": "8ca573d8-2462-4877-a043-e44ae52b0721"
      },
      "outputs": [
        {
          "data": {
            "text/plain": [
              "[10, 20, 30, 40, 50]"
            ]
          },
          "execution_count": 58,
          "metadata": {
            "tags": []
          },
          "output_type": "execute_result"
        }
      ],
      "source": [
        "data10 = [x * 10 for x in data]\n",
        "data10"
      ]
    },
    {
      "cell_type": "markdown",
      "id": "f52db249",
      "metadata": {
        "cell_id": "00040-b84e75d7-651f-44d6-99d4-1ae784013043",
        "deepnote_cell_type": "markdown",
        "id": "renewable-split"
      },
      "source": [
        "Array:"
      ]
    },
    {
      "cell_type": "code",
      "execution_count": null,
      "id": "5994981c",
      "metadata": {
        "cell_id": "00041-b5b35f51-beda-49c8-88c0-4113f7117799",
        "deepnote_cell_type": "code",
        "id": "satisfactory-details",
        "outputId": "544944b5-e1cf-44c5-ab99-b9918f4f37e0"
      },
      "outputs": [
        {
          "data": {
            "text/plain": [
              "array([1, 2, 3, 4, 5])"
            ]
          },
          "execution_count": 59,
          "metadata": {
            "tags": []
          },
          "output_type": "execute_result"
        }
      ],
      "source": [
        "data = np.array([1, 2, 3, 4, 5])\n",
        "data"
      ]
    },
    {
      "cell_type": "code",
      "execution_count": null,
      "id": "a4bfd7a5",
      "metadata": {
        "cell_id": "00042-400995f0-ad28-43ec-b4c8-a000f167ea50",
        "deepnote_cell_type": "code",
        "id": "posted-chemical",
        "outputId": "d4165da4-33b6-4682-db97-4a7caa6d2e33"
      },
      "outputs": [
        {
          "data": {
            "text/plain": [
              "array([10, 20, 30, 40, 50])"
            ]
          },
          "execution_count": 60,
          "metadata": {
            "tags": []
          },
          "output_type": "execute_result"
        }
      ],
      "source": [
        "data10 = data * 10\n",
        "data10"
      ]
    },
    {
      "cell_type": "markdown",
      "id": "552efc1d",
      "metadata": {
        "cell_id": "00043-05e5de29-bc45-4086-99d5-029c2da43f71",
        "deepnote_cell_type": "markdown",
        "id": "parliamentary-immigration"
      },
      "source": [
        "### Fast Calculations\n",
        "\n",
        "Run the following code, which multiplies every value in the collection by 10.  This time, take a look at how long it takes to run.  Which is faster?\n",
        "\n",
        "Note: the ```%%timeit``` magic command runs the cell many times and reports the average amount of time each run of the cell's code took."
      ]
    },
    {
      "cell_type": "markdown",
      "id": "189d5da7",
      "metadata": {
        "cell_id": "00044-fa0c2749-2d17-441f-aed8-155aae63084d",
        "deepnote_cell_type": "markdown",
        "id": "lonely-supervision"
      },
      "source": [
        "List:"
      ]
    },
    {
      "cell_type": "code",
      "execution_count": null,
      "id": "b1166856",
      "metadata": {
        "cell_id": "00045-f2593e14-8599-4718-9bfa-d35a2e4d64d3",
        "deepnote_cell_type": "code",
        "id": "english-french",
        "outputId": "930214ea-1d4c-4403-fe00-512e57edeea1"
      },
      "outputs": [
        {
          "data": {
            "text/plain": [
              "1000000.0"
            ]
          },
          "execution_count": 66,
          "metadata": {
            "tags": []
          },
          "output_type": "execute_result"
        }
      ],
      "source": [
        "1e6 "
      ]
    },
    {
      "cell_type": "code",
      "execution_count": null,
      "id": "6d73c8c4",
      "metadata": {
        "cell_id": "00046-332a6833-dd47-4cfe-a250-994551f4be50",
        "deepnote_cell_type": "code",
        "id": "loved-terrorism"
      },
      "outputs": [],
      "source": [
        "data = list(range(0, 1_000_000))\n",
        "# data"
      ]
    },
    {
      "cell_type": "code",
      "execution_count": null,
      "id": "32d69609",
      "metadata": {
        "cell_id": "00047-3996e81f-858d-4a87-b4fd-4783241e39a3",
        "deepnote_cell_type": "code",
        "id": "ranking-borough",
        "outputId": "ec0031e3-48db-4846-a032-a600175d3e8e"
      },
      "outputs": [
        {
          "name": "stdout",
          "output_type": "stream",
          "text": [
            "97 ms \u00b1 522 \u00b5s per loop (mean \u00b1 std. dev. of 7 runs, 10 loops each)\n"
          ]
        }
      ],
      "source": [
        "%%timeit\n",
        "data10 = [x * 10 for x in data]"
      ]
    },
    {
      "cell_type": "markdown",
      "id": "67103a3a",
      "metadata": {
        "cell_id": "00048-79733a52-1b85-4fc2-ae77-b91e938400bf",
        "deepnote_cell_type": "markdown",
        "id": "least-flavor"
      },
      "source": [
        "Array:"
      ]
    },
    {
      "cell_type": "code",
      "execution_count": null,
      "id": "4c865af7",
      "metadata": {
        "cell_id": "00049-32581eb8-cbc5-4e4c-9a40-37b5664d9c49",
        "deepnote_cell_type": "code",
        "id": "favorite-disposal",
        "outputId": "cb6e87ea-6dbc-476f-e8ea-2c06e94cc29d"
      },
      "outputs": [
        {
          "data": {
            "text/plain": [
              "array([     0,      1,      2, ..., 999997, 999998, 999999])"
            ]
          },
          "execution_count": 70,
          "metadata": {
            "tags": []
          },
          "output_type": "execute_result"
        }
      ],
      "source": [
        "data = np.arange(0, 1_000_000)\n",
        "data"
      ]
    },
    {
      "cell_type": "code",
      "execution_count": null,
      "id": "c5050e71",
      "metadata": {
        "cell_id": "00050-01fb70d5-9151-4509-b3bd-192ddc4745cd",
        "deepnote_cell_type": "code",
        "id": "remarkable-player",
        "outputId": "80489102-607c-4e63-ed9d-7b772efb33b2"
      },
      "outputs": [
        {
          "name": "stdout",
          "output_type": "stream",
          "text": [
            "1.99 ms \u00b1 62.3 \u00b5s per loop (mean \u00b1 std. dev. of 7 runs, 100 loops each)\n"
          ]
        }
      ],
      "source": [
        "%%timeit\n",
        "data10 = data * 10"
      ]
    },
    {
      "cell_type": "markdown",
      "id": "9dcd72c7",
      "metadata": {
        "cell_id": "00051-54197f76-7cfd-411e-b258-511f6391cd0e",
        "deepnote_cell_type": "markdown",
        "id": "delayed-maine"
      },
      "source": [
        "### Fast Append\n",
        "\n",
        "Run the following code, which appends a new value to a list a thousand times.  Which is faster?\n"
      ]
    },
    {
      "cell_type": "markdown",
      "id": "c5eb57b5",
      "metadata": {
        "cell_id": "00052-89314cb7-18fe-4d95-8f65-149f4fbac09b",
        "deepnote_cell_type": "markdown",
        "id": "retained-table"
      },
      "source": [
        "List:"
      ]
    },
    {
      "cell_type": "code",
      "execution_count": null,
      "id": "d006d708",
      "metadata": {
        "cell_id": "00053-92c788f9-05c6-4ca0-bc82-bbda760b5ce2",
        "deepnote_cell_type": "code",
        "id": "thirty-louisiana",
        "outputId": "dfc0f6be-a17a-472f-ef16-1b39b1244282"
      },
      "outputs": [
        {
          "name": "stdout",
          "output_type": "stream",
          "text": [
            "779 \u00b5s \u00b1 27.4 \u00b5s per loop (mean \u00b1 std. dev. of 7 runs, 1000 loops each)\n"
          ]
        }
      ],
      "source": [
        "%%timeit\n",
        "data = []  # an empty list\n",
        "for _ in range(10000):  # repeat N times\n",
        "    data.append(\"A\")\n"
      ]
    },
    {
      "cell_type": "markdown",
      "id": "f53f1020",
      "metadata": {
        "cell_id": "00054-cde77dbc-add2-42cd-9521-75fff318c5f7",
        "deepnote_cell_type": "markdown",
        "id": "cognitive-england"
      },
      "source": [
        "Array:"
      ]
    },
    {
      "cell_type": "code",
      "execution_count": null,
      "id": "657ca6fd",
      "metadata": {
        "cell_id": "00055-002e6a5f-b21f-47f0-8dff-b8dc1df31083",
        "deepnote_cell_type": "code",
        "id": "jewish-transparency",
        "outputId": "11aae548-8f1a-4734-fee6-b407e191b93e"
      },
      "outputs": [
        {
          "name": "stdout",
          "output_type": "stream",
          "text": [
            "81.3 ms \u00b1 734 \u00b5s per loop (mean \u00b1 std. dev. of 7 runs, 10 loops each)\n"
          ]
        }
      ],
      "source": [
        "%%timeit\n",
        "data = np.array([], dtype=str)  # an empty array\n",
        "for _ in range(10000):  # repeat N times\n",
        "    data = np.append(data, \"A\")"
      ]
    },
    {
      "cell_type": "markdown",
      "id": "960a8240",
      "metadata": {
        "cell_id": "00056-c18ba053-803a-4cb7-8237-653caa5936f3",
        "deepnote_cell_type": "markdown",
        "id": "golden-mineral"
      },
      "source": [
        "### Summary\n",
        "On the other hand, if you want maximum flexibility, lists are perfect!  But if your data is complete and well-organized, arrays are quite handy!  They are simple to work with and can crunch a lot of numbers in a short time!  "
      ]
    }
  ],
  "metadata": {
    "deepnote": {},
    "deepnote_execution_queue": [],
    "deepnote_notebook_id": "5c0853ea-fc95-410d-b317-28d75c56e355",
    "kernelspec": {
      "display_name": "Python 3 (ipykernel)",
      "language": "python",
      "name": "python3"
    },
    "language_info": {
      "codemirror_mode": {
        "name": "ipython",
        "version": 3
      },
      "file_extension": ".py",
      "mimetype": "text/x-python",
      "name": "python",
      "nbconvert_exporter": "python",
      "pygments_lexer": "ipython3",
      "version": "3.9.12"
    },
    "vscode": {
      "interpreter": {
        "hash": "d6852d01271bf8033dbdb7ec364b6f6e89fd52a18c6bf5b4c73e48c86329a8dd"
      }
    }
  },
  "nbformat": 4,
  "nbformat_minor": 5
}