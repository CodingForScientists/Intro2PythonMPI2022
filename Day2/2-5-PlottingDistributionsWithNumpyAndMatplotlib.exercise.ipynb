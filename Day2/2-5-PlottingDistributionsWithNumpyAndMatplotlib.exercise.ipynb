{
  "cells": [
    {
      "cell_type": "code",
      "execution_count": null,
      "id": "5ea46ace-6f0a-421a-8bc4-282ab439b32d",
      "metadata": {},
      "outputs": [],
      "source": [
        "%pip install numpy\n",
        "%pip install matplotlib"
      ]
    },
    {
      "cell_type": "code",
      "execution_count": 1,
      "id": "9a5b072d-46f7-4495-864e-ae3a8f331a1f",
      "metadata": {},
      "outputs": [],
      "source": [
        "import numpy as np\n",
        "import matplotlib.pyplot as plt\n",
        "plt.style.use('fivethirtyeight')  # could also try 'bmh', 'classic', 'dark_background', 'ggplot'"
      ]
    },
    {
      "cell_type": "markdown",
      "id": "38773cf8-df95-4575-a23b-209cbc0ff328",
      "metadata": {},
      "source": [
        "## Plotting Random Data with Bar Plots and Histograms\n",
        "\n",
        "\n",
        "#### NumPy Discrete Random Generation Functions\n",
        "\n",
        "| Function | Description | Example |\n",
        "| :--- | :--- | :--- |\n",
        "| **`np.random.randint(low, high, size)`** | Returns an array of uniformly-distributed integers | `np.random.randint(0, 10, size=30)` |\n",
        "| **`np.random.choice(choices, size)`** | Returns an array of random choices from `choices` | `np.random.choice(['They love me', 'They love me not'], size=5)` |\n",
        "| **`np.random.binomial(n_events, prob, size)`** | Returns an array of binomial-distributed data | `np.random.binomial(1, 0.5, size=10)` |\n",
        "| **`np.random.poisson(rate, size)`** | Returns an array of poisson-distributed data | `np.random.poisson(4, size=100)` |\n",
        "\n",
        "#### Making Frequency Bar Plots with Numpy and Matplotlb\n",
        "\n",
        "| Function | Description | Example |\n",
        "| :--- | :--- | :--- |\n",
        "| **`plt.bar(values, heights)`** | Make a bar plot with given bar values and heights | `plt.bar(['a', 'b', 'c'], [4, 10, 5])` |\n",
        "| **`plt.barh(values, heights)`** | Make a horizontal bar plot with given bar values and heights | `plt.barh(['a', 'b', 'c'], [4, 10, 5])` |\n",
        "| **`np.unique(data)`** | Return an array of the unique values in a dataset | `np.unique(['a', 'b', 'a']) # Returns ['a', 'b']` |\n",
        "| **`np.unique(data, return_counts=True)`** | Return an array of the unique values in a dataset and their counts| `np.unique(['a', 'b', 'a'], return_counts=True) # Returns (['a', 'b'], (2, 1))` |\n",
        "\n",
        "\n",
        "Matplotlib doesn't have a frquency plotter function, but it does have a bar plotting function!   And Numpy doesn't have a bar plotting function, but it does have a frequency counting function!  Below, we combine the libraries to make a frequency plotter.\n",
        "\n",
        "\n",
        "\n",
        "```python\n",
        "data = ['a', 'b', 'a', 'b', 'c']\n",
        "values, freqs = np.unique(data, return_counts=True)\n",
        "plt.bar(values, freqs)\n",
        "```\n"
      ]
    },
    {
      "cell_type": "markdown",
      "id": "6a9cdfbb-ec13-4ea0-a281-51c83500073a",
      "metadata": {},
      "source": [
        "**Exercises**: Using the functions in the tables above, create each of the following datasets and plot them as bar plots."
      ]
    },
    {
      "cell_type": "markdown",
      "id": "e8fae1f3-d45b-407c-8772-70c734bdd113",
      "metadata": {},
      "source": [
        "*Example*: Create 30 random integers with values from 1 to 5 and plot its distribution:"
      ]
    },
    {
      "cell_type": "code",
      "execution_count": 52,
      "id": "7a61c6a9-4bea-48b9-9149-ee321b29d920",
      "metadata": {},
      "outputs": [
        {
          "data": {
            "image/png": "[encoded data removed]",
            "text/plain": [
              "<Figure size 640x480 with 1 Axes>"
            ]
          },
          "metadata": {},
          "output_type": "display_data"
        }
      ],
      "source": [
        "data = np.random.randint(1, 6, size=30)\n",
        "values, freqs = np.unique(data, return_counts=True)\n",
        "plt.bar(values, freqs);"
      ]
    },
    {
      "cell_type": "markdown",
      "id": "3e005a17-a900-40fc-9b8f-25a1181d04bd",
      "metadata": {},
      "source": [
        "Create 10,000 random integers with values from 1 to 20 and plot its distribution:"
      ]
    },
    {
      "cell_type": "code",
      "execution_count": 54,
      "id": "9e6ae026-7679-4be6-86c7-f5bebe00114d",
      "metadata": {
        "tags": [
          "exercise"
        ]
      },
      "outputs": [],
      "source": []
    },
    {
      "cell_type": "markdown",
      "id": "bb710b36-d833-41fc-8db8-5904113121bf",
      "metadata": {},
      "source": [
        "Create 50 random choices between \"yes\" and \"no\" and plot the number of times each choice was selected."
      ]
    },
    {
      "cell_type": "code",
      "execution_count": 55,
      "id": "129f61b3-9210-4c48-b010-e6a329b49ba4",
      "metadata": {
        "tags": [
          "exercise"
        ]
      },
      "outputs": [],
      "source": []
    },
    {
      "cell_type": "markdown",
      "id": "dce7a498-1b6a-4324-9298-f88e4159e7ed",
      "metadata": {},
      "source": [
        "Create a random sample of 1000 data points, randomly choosing a country from the list below, and plot its distribution (note: what alternative functoin in the table above can be used to make the text situation nicer?)"
      ]
    },
    {
      "cell_type": "code",
      "execution_count": 1,
      "id": "b193f04c-fe37-4753-95e5-5def85ea72f2",
      "metadata": {},
      "outputs": [
        {
          "name": "stdout",
          "output_type": "stream",
          "text": [
            "['Belgium', 'Bosnia-Herzegovina', 'Czech', 'Croatia', 'France', 'Germany', 'Italy', 'Netherlands', 'Portugal', 'Spain']\n"
          ]
        }
      ],
      "source": [
        "countries = ['Belgium', 'Bosnia-Herzegovina', 'Czech', 'Croatia', 'France', 'Germany', 'Italy',  'Netherlands', 'Portugal', 'Spain',]\n",
        "print(countries)"
      ]
    },
    {
      "cell_type": "code",
      "execution_count": 59,
      "id": "f8f44874-0384-4734-9d85-3c1b1b61fdbd",
      "metadata": {
        "tags": [
          "exercise"
        ]
      },
      "outputs": [],
      "source": []
    },
    {
      "cell_type": "markdown",
      "id": "b4c4f141-30f9-47ae-9fd2-e9659e0f38c5",
      "metadata": {},
      "source": [
        "Create a binomial-distributed dataset that shows the outcome of getting a given number of heads (with a probability of 0.5) from 10 coin flip events.  Make the data set size as big as you need to make the distribution's shape look clear."
      ]
    },
    {
      "cell_type": "code",
      "execution_count": 57,
      "id": "3c30d8af-167f-4381-a721-f885f4c6a7d1",
      "metadata": {
        "tags": [
          "exercise"
        ]
      },
      "outputs": [],
      "source": []
    },
    {
      "cell_type": "markdown",
      "id": "9035bc06-0315-49bc-acc9-f6db149aef75",
      "metadata": {},
      "source": [
        "Create a poisson-distributed dataset with a rate of 2 and plot its distribution. Make the data set size as big as you need to make the distribution's shape look clear."
      ]
    },
    {
      "cell_type": "code",
      "execution_count": 58,
      "id": "c75dd5ba-cc86-4546-aad2-c3811804b49a",
      "metadata": {
        "tags": [
          "exercise"
        ]
      },
      "outputs": [],
      "source": []
    },
    {
      "cell_type": "markdown",
      "id": "1746b6b7-b8a8-4b15-9f17-14bf1bec4705",
      "metadata": {},
      "source": [
        "Create a poisson-distributed dataset with a rate of 30 and plot its distribution. Make the data set size as big as you need to make the distribution's shape look clear."
      ]
    },
    {
      "cell_type": "code",
      "execution_count": 60,
      "id": "5f709f2a-5ff9-49d3-9bc8-10c790204086",
      "metadata": {
        "tags": [
          "exercise"
        ]
      },
      "outputs": [],
      "source": []
    },
    {
      "cell_type": "markdown",
      "id": "7abb0eaf-7125-409f-8a2c-b97104e2d73e",
      "metadata": {},
      "source": [
        "### Plotting Continuous Data Frequencies with Histograms Using `np.histogram()` and `plt.bar()`\n",
        "\n",
        "**Continuous** data, data that has more possible values than we care to count, needs to be *binned* in order to get the same kind of graph; in effect, instead of counting the number of 1s, 2s, and 3s, we're counting the number of values between 1 and 3, 3 and 5, etc.  By using equal-size bins in our counts, we can quickly get an idea of which value ranges have the most data. \n",
        "\n",
        "Numpy has a histogram function that does this counting: `np.histogram()`.  It works similarly to the `np.unique()` function, giving counts within a range:"
      ]
    },
    {
      "cell_type": "code",
      "execution_count": 65,
      "id": "7e8e40ed",
      "metadata": {},
      "outputs": [
        {
          "data": {
            "text/plain": [
              "(array([3, 2, 4]), array([1., 3., 5., 7.]))"
            ]
          },
          "execution_count": 65,
          "metadata": {},
          "output_type": "execute_result"
        }
      ],
      "source": [
        "data = [1, 1, 2, 3, 4, 5, 5, 6, 7]\n",
        "freqs, values = np.histogram(data, bins=3)\n",
        "freqs, values\n",
        "# plt.bar(x[0:-1], freq, width=np.diff(x), align='edge');"
      ]
    },
    {
      "cell_type": "markdown",
      "id": "26c14602",
      "metadata": {},
      "source": [
        "To plot this data using the `plt.bar()` function, we need to give `bar()` some more details:\n",
        "  - To plot all the values except the last one\n",
        "  - That the width of the bars should be the same size  as the size of each bin (calculated with `np.diff()`)\n",
        "  - That the left edge of the bar should be at each value, not the center"
      ]
    },
    {
      "cell_type": "code",
      "execution_count": 66,
      "id": "045ef2dd",
      "metadata": {},
      "outputs": [
        {
          "data": {
            "image/png": "[encoded data removed]",
            "text/plain": [
              "<Figure size 640x480 with 1 Axes>"
            ]
          },
          "metadata": {},
          "output_type": "display_data"
        }
      ],
      "source": [
        "plt.bar(values[0:-1], freqs, width=np.diff(values), align='edge');"
      ]
    },
    {
      "cell_type": "markdown",
      "id": "212e2c4b-0a9c-44f7-b59d-3e28b5ff5593",
      "metadata": {},
      "source": [
        "\n",
        "#### NumPy Random Generation Functions\n",
        "\n",
        "| Function | Description | Example |\n",
        "| :--- | :--- | :--- |\n",
        "| **`np.random.uniform(low, high, size)`** | Returns an array of uniformly-distributed numbers | `np.random.uniform(0, 1, size=100)` |\n",
        "| **`np.random.normal(mean, std, size)`** | Returns an array of normally-distributed numbers | `np.random.normal(0, 1, size=100)` |\n",
        "| **`np.random.exponential(freq, size)`** | Returns an array of exponentially-distributed numbers | `np.random.exponential(0.2, size=100)` |\n",
        "\n",
        "#### NumPy Analysis Functions:\n",
        "\n",
        "| Function | Description | Example |\n",
        "| :--- | :--- | :--- |\n",
        "| **`freqs, values = np.histogram(data, bins)`** | Returns two arrays: the data's binned counts and their bins | `freqs, values = np.histogram(data, bins=3)` |\n",
        "\n",
        "\n",
        "#### Matplotlib Bar Plot Function \n",
        "\n",
        "| Function | Description | Example |\n",
        "| :--- | :--- | :--- |\n",
        "| **`plt.bar(x, height, width, align)`** | Plots a left-edge aligned bar plot | `plt.bar(values[0:-1], freqs, width=np.diff(values), align='edge')` |\n"
      ]
    },
    {
      "cell_type": "markdown",
      "id": "1f0abb59-a74c-4049-bfa4-b72f6391d4fb",
      "metadata": {},
      "source": [
        "**Exercises**"
      ]
    },
    {
      "cell_type": "markdown",
      "id": "650f31c5-a02a-4347-97ea-506c0c0c8c01",
      "metadata": {},
      "source": [
        "*Example*: Create 300 data points, uniformly-distributed between 0 and 1, and plot the data's distribution.  Set the number of bins in the histogram to a value that makes the data's distribution look clear as best you can."
      ]
    },
    {
      "cell_type": "code",
      "execution_count": 4,
      "id": "9dce3005-4866-43e2-85b8-d236fc153ca6",
      "metadata": {},
      "outputs": [
        {
          "data": {
            "image/png": "[encoded data removed]",
            "text/plain": [
              "<Figure size 640x480 with 1 Axes>"
            ]
          },
          "metadata": {},
          "output_type": "display_data"
        }
      ],
      "source": [
        "data = np.random.uniform(0, 1, size=300)\n",
        "freqs, values = np.histogram(data, bins=5)\n",
        "plt.bar(values[0:-1], freqs, width=np.diff(values), align='edge');"
      ]
    },
    {
      "cell_type": "markdown",
      "id": "e5bc04d9-2534-4d29-a03a-b06200014be0",
      "metadata": {},
      "source": [
        "Create 30000 data points, uniformly-distributed between 1 and 10, and plot the data's distribution.  Set the number of bins in the histogram to a value that makes the data's distribution look clear as best you can."
      ]
    },
    {
      "cell_type": "code",
      "execution_count": 5,
      "id": "381e753e-8642-4778-b026-3f9fe861d52f",
      "metadata": {
        "tags": [
          "exercise"
        ]
      },
      "outputs": [],
      "source": []
    },
    {
      "cell_type": "markdown",
      "id": "4b62d7a5-3028-40aa-bf1b-35af46145b8b",
      "metadata": {},
      "source": [
        "Create normally-distributed data with a mean of 5 and a standard deviation of 1, and plot the data's distribution.  Create as many data points as you need and set the number of bins in the histogram to a value to make the data's distribution look clear as best you can."
      ]
    },
    {
      "cell_type": "code",
      "execution_count": 7,
      "id": "2fbc3a56-b0fc-428c-90f0-b31752292d23",
      "metadata": {
        "tags": [
          "exercise"
        ]
      },
      "outputs": [],
      "source": []
    },
    {
      "cell_type": "markdown",
      "id": "cc054212-1ddb-4956-8ead-6f7dbaaa022d",
      "metadata": {},
      "source": [
        "Create exponentially-distributed data with a mean inter-time interval of 0.2, and plot the data's distribution.  Create as many data points as you need and set the number of bins in the histogram to a value to make the data's distribution look clear as best you can."
      ]
    },
    {
      "cell_type": "code",
      "execution_count": 8,
      "id": "de2dde30-b78e-4a6a-822f-6149abab9556",
      "metadata": {
        "tags": [
          "exercise"
        ]
      },
      "outputs": [],
      "source": []
    },
    {
      "cell_type": "markdown",
      "id": "6182d69f-41dd-4c08-bca6-6c4a67552dba",
      "metadata": {},
      "source": [
        "### Plotting Continuous Data Frequencies with Histograms Using `plt.hist()`\n",
        "\n",
        "Okay, so we can calculate our own histograms using numpy, but why not just let Matplotlib do it?  Matplotlib has a `plt.hist()` function which will simpify our analysis code.\n"
      ]
    },
    {
      "cell_type": "markdown",
      "id": "96a12284",
      "metadata": {},
      "source": [
        "\n",
        "#### Matplotlib Histogram Function \n",
        "\n",
        "| Function | Description | Example |\n",
        "| :--- | :--- | :--- |\n",
        "| **`plt.hist(data)`** | Plot a histogram | `plt.hist(data)` |\n",
        "| **`plt.hist(data, bins)`** | Specify the number of bins in the histogram | `plt.hist(data, bins=20)` |\n",
        "| **`plt.hist(data, density)`** | Use probability on the y-axis instead of frequency | `plt.hist(data, density=True)` | \n",
        "| **`plt.hist(data, cumulative)`** | Make a cumulative histogram instead | `plt.hist(data, cumulative=True)` |\n",
        "| **`plt.hist(data, bins, density, cumulative)`** | Specify multiple parameters at once | `plt.hist(data, bins=20, density=True, cumulative=False)` |\n"
      ]
    },
    {
      "cell_type": "markdown",
      "id": "aeaa01b2-352d-41ee-bf90-728743152164",
      "metadata": {},
      "source": [
        "**Exercises**"
      ]
    },
    {
      "cell_type": "markdown",
      "id": "f6392d46-0ed9-4ed0-8d89-dc7bb6de6531",
      "metadata": {},
      "source": [
        "*Example*: Create 300 data points, uniformly-distributed between 0 and 1, and plot the data's distribution.  Set the number of bins in the histogram to a value that makes the data's distribution look clear as best you can."
      ]
    },
    {
      "cell_type": "code",
      "execution_count": 10,
      "id": "7cc70e65-43e2-401b-be30-37727a8340fe",
      "metadata": {},
      "outputs": [
        {
          "data": {
            "image/png": "[encoded data removed]",
            "text/plain": [
              "<Figure size 640x480 with 1 Axes>"
            ]
          },
          "metadata": {},
          "output_type": "display_data"
        }
      ],
      "source": [
        "data = np.random.uniform(0, 1, size=300)\n",
        "plt.hist(data, bins=2);"
      ]
    },
    {
      "cell_type": "markdown",
      "id": "76aef446-cdd8-46b3-9788-04f20522edb8",
      "metadata": {},
      "source": [
        "Create 30000 data points, uniformly-distributed between 1 and 10, and plot the data's distribution.  Set the number of bins in the histogram to a value that makes the data's distribution look clear as best you can."
      ]
    },
    {
      "cell_type": "code",
      "execution_count": 13,
      "id": "d6c0cf61-046e-43b9-b5f2-318af1621528",
      "metadata": {
        "tags": [
          "exercise"
        ]
      },
      "outputs": [],
      "source": []
    },
    {
      "cell_type": "markdown",
      "id": "c03cd3e2-3b75-42e1-a980-7dcec02268aa",
      "metadata": {},
      "source": [
        "Create normally-distributed data with a mean of 5 and a standard deviation of 1, and plot the data's distribution.  Create as many data points as you need and set the number of bins in the histogram to a value to make the data's distribution look clear as best you can."
      ]
    },
    {
      "cell_type": "code",
      "execution_count": 14,
      "id": "cdfb4fbc-b69d-4eca-a416-8d69f891fff5",
      "metadata": {
        "tags": [
          "exercise"
        ]
      },
      "outputs": [],
      "source": []
    },
    {
      "cell_type": "markdown",
      "id": "4c987eb7-571c-41af-90c4-d8d8aadd1169",
      "metadata": {},
      "source": [
        "Create exponentially-distributed data with a mean inter-time interval of 0.2, and plot the data's distribution.  Create as many data points as you need and set the number of bins in the histogram to a value to make the data's distribution look clear as best you can."
      ]
    },
    {
      "cell_type": "code",
      "execution_count": 15,
      "id": "faaa4350-d2e7-458b-a6f8-a5cdd45333d2",
      "metadata": {
        "tags": [
          "exercise"
        ]
      },
      "outputs": [],
      "source": []
    }
  ],
  "metadata": {
    "kernelspec": {
      "display_name": "Python 3 (ipykernel)",
      "language": "python",
      "name": "python3"
    },
    "language_info": {
      "codemirror_mode": {
        "name": "ipython",
        "version": 3
      },
      "file_extension": ".py",
      "mimetype": "text/x-python",
      "name": "python",
      "nbconvert_exporter": "python",
      "pygments_lexer": "ipython3",
      "version": "3.10.4 (main, Mar 31 2022, 08:41:55) [GCC 7.5.0]"
    },
    "vscode": {
      "interpreter": {
        "hash": "d6852d01271bf8033dbdb7ec364b6f6e89fd52a18c6bf5b4c73e48c86329a8dd"
      }
    }
  },
  "nbformat": 4,
  "nbformat_minor": 5
}