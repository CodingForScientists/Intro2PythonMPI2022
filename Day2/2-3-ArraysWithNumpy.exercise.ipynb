{
  "cells": [
    {
      "cell_type": "code",
      "execution_count": null,
      "metadata": {},
      "outputs": [],
      "source": [
        "%pip install numpy"
      ]
    },
    {
      "cell_type": "code",
      "execution_count": 2,
      "metadata": {
        "cell_id": "19f9989e4ec941ab8f9a5d3fbbded4f2",
        "deepnote_cell_height": 81,
        "deepnote_cell_type": "code",
        "deepnote_to_be_reexecuted": false,
        "execution_millis": 17,
        "execution_start": 1651061147011,
        "id": "apparent-optimum",
        "source_hash": "c2602aa8"
      },
      "outputs": [],
      "source": [
        "import numpy as np"
      ]
    },
    {
      "cell_type": "markdown",
      "metadata": {
        "cell_id": "691333f20d29467383fa76a740aa1018",
        "deepnote_cell_height": 770.703125,
        "deepnote_cell_type": "markdown",
        "tags": []
      },
      "source": [
        "## Numpy Arrays\n",
        "\n",
        "#### Some Array Creation Functions (Review)\n",
        "| Function | Purpose |  Example |\n",
        "| :-----------: | :-------------: | :-------------: |\n",
        "| **np.array()**  | Turns a list into an array |   `np.array([2, 5, 3])` |\n",
        "| **np.arange()**                  | the integers between two values | `np.arange(2, 7)` |\n",
        "| **np.arange()**                  | the numbers between two values, with a given step size | `np.arange(2, 7, 0.5)` |\n",
        "| **np.linspace()**               | a given number of values between two values |  `np.linspace(2, 3, 10)` |\n",
        "| **np.zeros()**                    | Makes an array of all zeros | `np.zeros(5)` |\n",
        "| **np.ones()**                     | Makes an array of all ones | `np.ones(3)` |\n",
        "| **np.random.random()** | Makes an array of random numbers | `np.random.random(100)` |\n",
        "| **np.random.randn()**     | Makes an array of normally-distributed random numbers | `np.random.randn(100)` |\n",
        "| **np.random.randint()**     | Makes an array of uniformly-distributed random integers | `np.random.randint(-5, 10, 100)` |\n",
        "\n",
        "\n",
        "#### Important Array Attributes\n",
        "\n",
        "| Attribute     | Description                                          | Example Output   |\n",
        "| :-------:     | :---------:                                          | :-----:          |\n",
        "| **`x.dtype`**  | numpy data type (64-bit int, 32-bit float, etc)      | `dtype('int64')` | \n",
        "| **`x.shape`**  | number of elements along each dimension of the array | `(17,)`          |\n",
        "| **`x.size`**   | total number of values in the array                  | `17`             | \n",
        "| **`x.nbytes`** | total amount of memory the array takes up, in bytes  | `136`            |\n",
        "\n"
      ]
    },
    {
      "cell_type": "markdown",
      "metadata": {
        "cell_id": "686c3765178542e0bcf787d2dd43cfa7",
        "deepnote_cell_height": 88.78125,
        "deepnote_cell_type": "markdown",
        "tags": []
      },
      "source": [
        "**Exercises**\n",
        "\n",
        "Make the arrays requested in any way you'd like, then print the property requested from that created array."
      ]
    },
    {
      "cell_type": "markdown",
      "metadata": {
        "cell_id": "abd0997cad9c4cf7a2e384c80def0a81",
        "deepnote_cell_height": 52.390625,
        "deepnote_cell_type": "markdown",
        "tags": []
      },
      "source": [
        "**Example: All the integers from 3 to 10**"
      ]
    },
    {
      "cell_type": "code",
      "execution_count": 2,
      "metadata": {
        "cell_id": "313d2534e9ed42bb86fdbb62226f0f75",
        "deepnote_cell_height": 136.1875,
        "deepnote_cell_type": "code",
        "deepnote_output_heights": [
          21.1875
        ],
        "deepnote_to_be_reexecuted": false,
        "execution_millis": 11,
        "execution_start": 1651065094579,
        "source_hash": "322b681a",
        "tags": []
      },
      "outputs": [
        {
          "data": {
            "text/plain": [
              "array([ 3,  4,  5,  6,  7,  8,  9, 10])"
            ]
          },
          "execution_count": 2,
          "metadata": {},
          "output_type": "execute_result"
        }
      ],
      "source": [
        "x = np.arange(3, 11)\n",
        "x"
      ]
    },
    {
      "cell_type": "markdown",
      "metadata": {
        "cell_id": "bf41a8661ac14eb2aaffee29877b31c0",
        "deepnote_cell_height": 52.390625,
        "deepnote_cell_type": "markdown",
        "tags": []
      },
      "source": [
        "How many total values are in this array?"
      ]
    },
    {
      "cell_type": "code",
      "execution_count": 3,
      "metadata": {
        "cell_id": "df83de99297b4f18b539321e5a142b9f",
        "deepnote_cell_height": 118.1875,
        "deepnote_cell_type": "code",
        "deepnote_output_heights": [
          21.1875
        ],
        "deepnote_to_be_reexecuted": false,
        "execution_millis": 48,
        "execution_start": 1651065116747,
        "source_hash": "69f23ee1",
        "tags": []
      },
      "outputs": [
        {
          "data": {
            "text/plain": [
              "8"
            ]
          },
          "execution_count": 3,
          "metadata": {},
          "output_type": "execute_result"
        }
      ],
      "source": [
        "x.size"
      ]
    },
    {
      "cell_type": "markdown",
      "metadata": {
        "cell_id": "20fdd3b9630441c6911332273485c047",
        "deepnote_cell_height": 52.390625,
        "deepnote_cell_type": "markdown",
        "tags": []
      },
      "source": [
        "**All the numbers from 2 to 6, spaced 0.3 apart.**"
      ]
    },
    {
      "cell_type": "code",
      "execution_count": 8,
      "metadata": {
        "cell_id": "c951ae4c53324643bd5ce1a9f8bf2d13",
        "deepnote_cell_height": 81,
        "deepnote_cell_type": "code",
        "deepnote_to_be_reexecuted": false,
        "execution_millis": 1,
        "execution_start": 1651065056800,
        "source_hash": "b623e53d",
        "tags": [
          "exercise"
        ]
      },
      "outputs": [],
      "source": []
    },
    {
      "cell_type": "markdown",
      "metadata": {
        "cell_id": "d147d56712e14abbb1d9ef516a3e4372",
        "deepnote_cell_height": 52.390625,
        "deepnote_cell_type": "markdown",
        "tags": []
      },
      "source": [
        "What is the shape of this array?"
      ]
    },
    {
      "cell_type": "code",
      "execution_count": 6,
      "metadata": {
        "cell_id": "433382499fff4c809c390556bbc7aafb",
        "deepnote_cell_height": 66,
        "deepnote_cell_type": "code",
        "tags": [
          "exercise"
        ]
      },
      "outputs": [],
      "source": []
    },
    {
      "cell_type": "markdown",
      "metadata": {
        "cell_id": "6e123fcfe3304a40b755242a17f997d3",
        "deepnote_cell_height": 52.390625,
        "deepnote_cell_type": "markdown",
        "tags": []
      },
      "source": [
        "**9 numbers from 3 to 6, spaced equally apart.**"
      ]
    },
    {
      "cell_type": "code",
      "execution_count": 7,
      "metadata": {
        "cell_id": "c27a303b0f1f4ede94fa0a94519162a8",
        "deepnote_cell_height": 81,
        "deepnote_cell_type": "code",
        "deepnote_to_be_reexecuted": false,
        "execution_millis": 2,
        "execution_start": 1651826879842,
        "owner_user_id": "c7a9f7f2-eddd-41d5-be7d-5159ad6417bb",
        "source_hash": "c2602aa8",
        "tags": [
          "exercise"
        ]
      },
      "outputs": [],
      "source": []
    },
    {
      "cell_type": "markdown",
      "metadata": {
        "cell_id": "aeedc843330d4de7bea09a5d8265cdbb",
        "deepnote_cell_height": 52.390625,
        "deepnote_cell_type": "markdown",
        "tags": []
      },
      "source": [
        "How many bytes does this array take up?"
      ]
    },
    {
      "cell_type": "code",
      "execution_count": 9,
      "metadata": {
        "cell_id": "3a0b84b489fe4fb4ab594900db3901df",
        "deepnote_cell_height": 66,
        "deepnote_cell_type": "code",
        "tags": [
          "exercise"
        ]
      },
      "outputs": [],
      "source": []
    },
    {
      "cell_type": "markdown",
      "metadata": {
        "cell_id": "15fd2dc068c848a096cfbed482e72a2b",
        "deepnote_cell_height": 52.390625,
        "deepnote_cell_type": "markdown",
        "tags": []
      },
      "source": [
        "**The square of the values 40, 20, 3, 5, and 10.**"
      ]
    },
    {
      "cell_type": "code",
      "execution_count": 10,
      "metadata": {
        "cell_id": "703cebcdda0c48c884e3972628907ff0",
        "deepnote_cell_height": 81,
        "deepnote_cell_type": "code",
        "deepnote_to_be_reexecuted": false,
        "execution_millis": 2,
        "execution_start": 1651150674767,
        "source_hash": "b623e53d",
        "tags": [
          "exercise"
        ]
      },
      "outputs": [],
      "source": []
    },
    {
      "cell_type": "markdown",
      "metadata": {
        "cell_id": "9f7131dfc6284dcd917ab7249adf018b",
        "deepnote_cell_height": 52.390625,
        "deepnote_cell_type": "markdown",
        "tags": []
      },
      "source": [
        "What data type does this array hold?"
      ]
    },
    {
      "cell_type": "code",
      "execution_count": 11,
      "metadata": {
        "cell_id": "c3c613f12d0246f1a15508150041f355",
        "deepnote_cell_height": 81,
        "deepnote_cell_type": "code",
        "deepnote_to_be_reexecuted": false,
        "execution_millis": 0,
        "execution_start": 1651064642600,
        "source_hash": "b623e53d",
        "tags": [
          "exercise"
        ]
      },
      "outputs": [],
      "source": []
    },
    {
      "cell_type": "markdown",
      "metadata": {
        "cell_id": "3d4ef9c99abd4feaa78174f2b5b64a0f",
        "deepnote_cell_height": 52.390625,
        "deepnote_cell_type": "markdown",
        "tags": []
      },
      "source": [
        "**The square root of the values 32, 4, 3, and 6**"
      ]
    },
    {
      "cell_type": "code",
      "execution_count": 13,
      "metadata": {
        "cell_id": "91abbfb51720457fb082a3f2bf25e29d",
        "deepnote_cell_height": 118.1875,
        "deepnote_cell_type": "code",
        "deepnote_output_heights": [
          21.1875
        ],
        "deepnote_to_be_reexecuted": false,
        "execution_millis": 194,
        "execution_start": 1651063753326,
        "source_hash": "cf725b7b",
        "tags": [
          "exercise"
        ]
      },
      "outputs": [],
      "source": []
    },
    {
      "cell_type": "markdown",
      "metadata": {
        "cell_id": "37dca5f5fa884dbfbe0eb0f01d327a94",
        "deepnote_cell_height": 52.390625,
        "deepnote_cell_type": "markdown",
        "tags": []
      },
      "source": [
        "What data type does this array hold?"
      ]
    },
    {
      "cell_type": "code",
      "execution_count": 14,
      "metadata": {
        "cell_id": "022863e7539b4bceabe684bcd7df31b2",
        "deepnote_cell_height": 66,
        "deepnote_cell_type": "code",
        "tags": [
          "exercise"
        ]
      },
      "outputs": [],
      "source": []
    },
    {
      "cell_type": "markdown",
      "metadata": {
        "cell_id": "921e0376cc3e471ea93cfabb1184e9c5",
        "deepnote_cell_height": 52.390625,
        "deepnote_cell_type": "markdown",
        "tags": []
      },
      "source": [
        "**Ten random integers between -3 and 3**"
      ]
    },
    {
      "cell_type": "code",
      "execution_count": 174,
      "metadata": {
        "cell_id": "2fdc685e04584d37abc11f1f03cf9fd1",
        "deepnote_cell_height": 81,
        "deepnote_cell_type": "code",
        "deepnote_output_heights": [
          21.1875
        ],
        "deepnote_to_be_reexecuted": false,
        "execution_millis": 2,
        "execution_start": 1652183201905,
        "source_hash": "b623e53d",
        "tags": [
          "exercise"
        ]
      },
      "outputs": [],
      "source": []
    },
    {
      "cell_type": "markdown",
      "metadata": {
        "cell_id": "d85b7cc7c2884fbb8dac5f086f0f9919",
        "deepnote_cell_height": 52.390625,
        "deepnote_cell_type": "markdown",
        "tags": []
      },
      "source": [
        "What is this array's shape?"
      ]
    },
    {
      "cell_type": "code",
      "execution_count": 16,
      "metadata": {
        "cell_id": "aca5637fc40d4f75898c4651ac556920",
        "deepnote_cell_height": 118.1875,
        "deepnote_cell_type": "code",
        "deepnote_output_heights": [
          21.1875
        ],
        "deepnote_to_be_reexecuted": false,
        "execution_millis": 8,
        "execution_start": 1651827278634,
        "source_hash": "57b8ea20",
        "tags": [
          "exercise"
        ]
      },
      "outputs": [],
      "source": []
    },
    {
      "cell_type": "markdown",
      "metadata": {
        "cell_id": "d1690f99c442427e9b00f33190562335",
        "deepnote_cell_height": 52.390625,
        "deepnote_cell_type": "markdown",
        "tags": []
      },
      "source": [
        "**Create an array of the following five three-letter animal names: dog, cat, pig, rat, ant**"
      ]
    },
    {
      "cell_type": "code",
      "execution_count": 11,
      "metadata": {
        "cell_id": "a957084618f345708a07ad1252e44909",
        "deepnote_cell_height": 81,
        "deepnote_cell_type": "code",
        "deepnote_output_heights": [
          21.1875
        ],
        "deepnote_to_be_reexecuted": false,
        "execution_millis": 1,
        "execution_start": 1652183180542,
        "source_hash": "b623e53d",
        "tags": [
          "exercise"
        ]
      },
      "outputs": [],
      "source": []
    },
    {
      "cell_type": "markdown",
      "metadata": {
        "cell_id": "ed4a728fecd04db5bde8b10f9e04e8a5",
        "deepnote_cell_height": 52.390625,
        "deepnote_cell_type": "markdown",
        "tags": []
      },
      "source": [
        "What data type does this array hold?"
      ]
    },
    {
      "cell_type": "code",
      "execution_count": 4,
      "metadata": {
        "cell_id": "bb1c5fc9f5d34d3f85513c6e264b32e8",
        "deepnote_cell_height": 66,
        "deepnote_cell_type": "code",
        "tags": [
          "exercise"
        ]
      },
      "outputs": [],
      "source": []
    },
    {
      "cell_type": "markdown",
      "metadata": {
        "cell_id": "0f798f388be9404da5feebc30419a738",
        "deepnote_cell_height": 52.390625,
        "deepnote_cell_type": "markdown",
        "tags": []
      },
      "source": [
        "How many bytes does this array take up?  Why?"
      ]
    },
    {
      "cell_type": "code",
      "execution_count": 6,
      "metadata": {
        "cell_id": "065af4d2616b44c398a409360f9f209e",
        "deepnote_cell_height": 66,
        "deepnote_cell_type": "code",
        "tags": [
          "exercise"
        ]
      },
      "outputs": [],
      "source": []
    },
    {
      "cell_type": "markdown",
      "metadata": {
        "cell_id": "3f15ec0bb2124fddbb85a0da3856057c",
        "deepnote_cell_height": 52.390625,
        "deepnote_cell_type": "markdown",
        "tags": []
      },
      "source": [
        "**Create an array of the following five animal names: dog, cat, pig, rat, anteater**"
      ]
    },
    {
      "cell_type": "code",
      "execution_count": 7,
      "metadata": {
        "cell_id": "cfc7ae23fcfa4803992070e3923e83e4",
        "deepnote_cell_height": 66,
        "deepnote_cell_type": "code",
        "tags": [
          "exercise"
        ]
      },
      "outputs": [],
      "source": []
    },
    {
      "cell_type": "markdown",
      "metadata": {
        "cell_id": "1f62d9cb9202422794d626c21b8131af",
        "deepnote_cell_height": 52.390625,
        "deepnote_cell_type": "markdown",
        "tags": []
      },
      "source": [
        "What data type does this array hold?"
      ]
    },
    {
      "cell_type": "code",
      "execution_count": 8,
      "metadata": {
        "cell_id": "e8e443ae00c4447184e42700985cff04",
        "deepnote_cell_height": 66,
        "deepnote_cell_type": "code",
        "tags": [
          "exercise"
        ]
      },
      "outputs": [],
      "source": []
    },
    {
      "cell_type": "markdown",
      "metadata": {
        "cell_id": "2054cc8863cb45cfbad5684f2ccd3714",
        "deepnote_cell_height": 52.390625,
        "deepnote_cell_type": "markdown",
        "tags": []
      },
      "source": [
        "How many bytes does this array take up?  Why?"
      ]
    },
    {
      "cell_type": "code",
      "execution_count": 10,
      "metadata": {
        "cell_id": "263641f9c04441cab5772b8012494d7f",
        "deepnote_cell_height": 66,
        "deepnote_cell_type": "code",
        "tags": [
          "exercise"
        ]
      },
      "outputs": [],
      "source": []
    },
    {
      "cell_type": "markdown",
      "metadata": {},
      "source": [
        "## Extra: Custom Dataset Generation\n",
        "\n",
        "| Syntax              |  Name \n",
        "| :---                | :--  \n",
        "| `x[0]`              | **Index**\n",
        "| `x[1:3]`            | **Slice**\n",
        "| `x[0] = 5`          | **Mutate**\n",
        "| `x[0:4] = 5`        | **Mutate**\n",
        "| `y = x * 5`         | **Transform**\n",
        "| `x[3:] = x[3:] * 5` | **Transform In-Place**\n",
        "| `x[3:] *= 5`        | **Transform In-Place** (shorter version)\n",
        "\n"
      ]
    },
    {
      "cell_type": "markdown",
      "metadata": {
        "cell_id": "9095fbedbdd843858e7cc7dd488b70a3",
        "deepnote_cell_height": 52.390625,
        "deepnote_cell_type": "markdown",
        "tags": []
      },
      "source": [
        "Without hard-coding it, create an array with these values: `[ 0, 99,  2, 99,  4, 99, 6, 99,  8, 99]`"
      ]
    },
    {
      "cell_type": "code",
      "execution_count": 14,
      "metadata": {
        "cell_id": "c5b3d16f02ee40c7a4aa6e566c3d3e16",
        "deepnote_cell_height": 66,
        "deepnote_cell_type": "code",
        "tags": [
          "exercise"
        ]
      },
      "outputs": [],
      "source": []
    },
    {
      "cell_type": "markdown",
      "metadata": {
        "cell_id": "e234f59fa41b4052a2bca4006ee9e5ec",
        "deepnote_cell_height": 52.390625,
        "deepnote_cell_type": "markdown",
        "tags": []
      },
      "source": [
        "Without hard-coding it, create an array with these values:\n",
        "`[  0, 100, 200, 300,   4,   5,   6,   7,   8,   9]`"
      ]
    },
    {
      "cell_type": "code",
      "execution_count": 16,
      "metadata": {
        "cell_id": "d716a3897d204cf0b17d4b727638c143",
        "deepnote_cell_height": 81,
        "deepnote_cell_type": "code",
        "deepnote_to_be_reexecuted": false,
        "execution_millis": 7,
        "execution_start": 1651065128745,
        "source_hash": "b623e53d",
        "tags": [
          "exercise"
        ]
      },
      "outputs": [],
      "source": []
    },
    {
      "cell_type": "code",
      "execution_count": null,
      "metadata": {},
      "outputs": [],
      "source": []
    }
  ],
  "metadata": {
    "colab": {
      "name": "7 Matrices.ipynb",
      "provenance": []
    },
    "deepnote": {},
    "deepnote_execution_queue": [],
    "deepnote_notebook_id": "ab3d3c5a444244bf987f3e6b75843036",
    "kernelspec": {
      "display_name": "Python 3 (ipykernel)",
      "language": "python",
      "name": "python3"
    },
    "language_info": {
      "codemirror_mode": {
        "name": "ipython",
        "version": 3
      },
      "file_extension": ".py",
      "mimetype": "text/x-python",
      "name": "python",
      "nbconvert_exporter": "python",
      "pygments_lexer": "ipython3",
      "version": "3.9.12"
    },
    "vscode": {
      "interpreter": {
        "hash": "d6852d01271bf8033dbdb7ec364b6f6e89fd52a18c6bf5b4c73e48c86329a8dd"
      }
    }
  },
  "nbformat": 4,
  "nbformat_minor": 4
}