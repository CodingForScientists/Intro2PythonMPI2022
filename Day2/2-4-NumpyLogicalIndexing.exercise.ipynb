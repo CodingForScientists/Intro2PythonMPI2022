{
  "cells": [
    {
      "cell_type": "code",
      "execution_count": 1,
      "id": "8a3821b1",
      "metadata": {},
      "outputs": [
        {
          "name": "stdout",
          "output_type": "stream",
          "text": [
            "Requirement already satisfied: numpy in /home/nickdg/miniconda3/envs/py10/lib/python3.10/site-packages (1.23.3)\n"
          ]
        }
      ],
      "source": [
        "%pip install numpy"
      ]
    },
    {
      "cell_type": "code",
      "execution_count": 1,
      "id": "6c2e2988",
      "metadata": {
        "cell_id": "00000-d8c9f90f-d649-47b2-a772-a6639c594321",
        "deepnote_cell_type": "code",
        "id": "metric-level"
      },
      "outputs": [],
      "source": [
        "import numpy as np"
      ]
    },
    {
      "cell_type": "markdown",
      "id": "638e7694",
      "metadata": {
        "cell_id": "00001-08bea5dd-b612-4234-a812-1f203f7df899",
        "deepnote_cell_type": "markdown",
        "id": "sorted-signal"
      },
      "source": [
        "# Filtering Data With Logical Indexing\n",
        "\n",
        "Sometimes you want to remove certain values from your dataset.  In Numpy, this can be done with **Logical Indexing**, and in normal Python this is done with an **If Statement**"
      ]
    },
    {
      "cell_type": "markdown",
      "id": "92b82e93",
      "metadata": {
        "cell_id": "00002-9e11b127-b196-47c8-9d0d-2b50736be4b3",
        "deepnote_cell_type": "markdown",
        "id": "adequate-commercial"
      },
      "source": [
        "### Step 1: Create a Logical Numpy Array\n",
        "\n",
        "We can convert all of the values in an array at once with a single logical expression.  This is broadcasting, the same as is done with the math operations we saw earlier:\n",
        "\n",
        "```python\n",
        ">>> data = np.array([1, 2, 3, 4, 5])\n",
        ">>> data < 3\n",
        "[True, True, False, False, False]\n",
        "```"
      ]
    },
    {
      "cell_type": "markdown",
      "id": "ad04f329",
      "metadata": {
        "cell_id": "00003-fe7303ea-b10c-4a84-9ffc-bc0f035734ec",
        "deepnote_cell_type": "markdown",
        "id": "innovative-robin"
      },
      "source": [
        "**Exercises**: Make arrays of True/False values that answer the following questions about the dataset below for each element."
      ]
    },
    {
      "cell_type": "code",
      "execution_count": 2,
      "id": "0a65b4e2",
      "metadata": {
        "cell_id": "00004-5c70af26-6004-48a1-bd45-579cd012595a",
        "deepnote_cell_type": "code",
        "id": "stuck-bunny"
      },
      "outputs": [],
      "source": [
        "import numpy as np\n",
        "\n",
        "list_of_values = [3, 7, 10, 2, 1, 7, np.nan, 20, -5]\n",
        "data = np.array(list_of_values)"
      ]
    },
    {
      "cell_type": "markdown",
      "id": "1cb7f37d",
      "metadata": {
        "cell_id": "00005-21086fd0-bbeb-464b-a7c3-da5876fc72fe",
        "deepnote_cell_type": "markdown",
        "id": "fluid-workplace"
      },
      "source": [
        "*Example*: Where are the values that are greater than zero?"
      ]
    },
    {
      "cell_type": "code",
      "execution_count": 3,
      "id": "3cc28de9",
      "metadata": {
        "cell_id": "00006-ff88d338-0cb3-4cea-ab9c-741d77c33b46",
        "deepnote_cell_type": "code",
        "id": "rotary-compatibility"
      },
      "outputs": [
        {
          "data": {
            "text/plain": [
              "array([ True,  True,  True,  True,  True,  True, False,  True, False])"
            ]
          },
          "execution_count": 3,
          "metadata": {},
          "output_type": "execute_result"
        }
      ],
      "source": [
        "data > 0"
      ]
    },
    {
      "cell_type": "markdown",
      "id": "f3a7c3e2-e32e-475c-8ae4-be7810bbf82f",
      "metadata": {},
      "source": [
        "Where are the values that are less than four?"
      ]
    },
    {
      "cell_type": "code",
      "execution_count": 4,
      "id": "355b79f7-bb7f-423e-b0ab-99b0eda56eb9",
      "metadata": {
        "tags": [
          "exercise"
        ]
      },
      "outputs": [],
      "source": []
    },
    {
      "cell_type": "markdown",
      "id": "07217a7e",
      "metadata": {
        "cell_id": "00007-eb53820d-a2e0-482d-8c4a-6f71953fc9a6",
        "deepnote_cell_type": "markdown",
        "id": "northern-desert"
      },
      "source": [
        "Where are the values that are equal to 7?"
      ]
    },
    {
      "cell_type": "code",
      "execution_count": 5,
      "id": "1e4ee5b2",
      "metadata": {
        "cell_id": "00008-037e480b-3844-4f97-ac74-219010466530",
        "deepnote_cell_type": "code",
        "id": "muslim-ultimate",
        "tags": [
          "exercise"
        ]
      },
      "outputs": [],
      "source": []
    },
    {
      "cell_type": "markdown",
      "id": "4d4b2e5e",
      "metadata": {
        "cell_id": "00009-40a9d5e7-5885-437d-99e2-e066f9d3f896",
        "deepnote_cell_type": "markdown",
        "id": "classified-emphasis"
      },
      "source": [
        "Where are the values that are greater or equal to 7?"
      ]
    },
    {
      "cell_type": "code",
      "execution_count": 6,
      "id": "49f267c8",
      "metadata": {
        "cell_id": "00010-eeafa298-689b-4de9-8f85-2bacaa588c93",
        "deepnote_cell_type": "code",
        "id": "unlimited-initial",
        "tags": [
          "exercise"
        ]
      },
      "outputs": [],
      "source": []
    },
    {
      "cell_type": "markdown",
      "id": "4693f371",
      "metadata": {
        "cell_id": "00011-fb4e2d78-0147-431c-adde-af364fe33f69",
        "deepnote_cell_type": "markdown",
        "id": "industrial-conditioning"
      },
      "source": [
        "Where are the values that are not equal to 7?"
      ]
    },
    {
      "cell_type": "code",
      "execution_count": 7,
      "id": "db433b70",
      "metadata": {
        "cell_id": "00012-35a8b581-1e3a-4516-884e-0b30ecae8104",
        "deepnote_cell_type": "code",
        "id": "martial-ultimate",
        "tags": [
          "exercise"
        ]
      },
      "outputs": [],
      "source": []
    },
    {
      "cell_type": "markdown",
      "id": "45de21c2",
      "metadata": {
        "cell_id": "00013-de3057d0-df97-49b2-a46b-977e9bcca1c7",
        "deepnote_cell_type": "markdown",
        "id": "light-timber"
      },
      "source": [
        "## Step 2: Filter with Logical Indexing\n",
        "\n",
        "If an array of True/False values is used to *index* another array, and both arrays are the same size, it will return all of the values that correspond to the True values of the indexing array:\n",
        "\n",
        "```python\n",
        ">>> data = np.array([1, 2, 3, 4, 5])\n",
        ">>> mask = data > 3\n",
        ">>> mask\n",
        "[False, False, False, True, True]\n",
        ">>> data[mask]\n",
        "[4, 5]\n",
        "```\n",
        "\n",
        "Both steps can also be done in a single expression.  Sometimes this can make things clearer!\n",
        "\n",
        "\n",
        "```python\n",
        ">>> data[data > 3]\n",
        "[4, 5]\n",
        "```\n"
      ]
    },
    {
      "cell_type": "markdown",
      "id": "3c54cc02",
      "metadata": {
        "cell_id": "00014-2ee1b7ab-4624-461b-bd11-580494260598",
        "deepnote_cell_type": "markdown",
        "id": "parental-economy"
      },
      "source": [
        "**Exercises**:  Using the data below, extract only the values that corresspond to each question"
      ]
    },
    {
      "cell_type": "code",
      "execution_count": 6,
      "id": "d574515b",
      "metadata": {
        "cell_id": "00015-019cc24c-f22b-4722-80b9-b558a5530631",
        "deepnote_cell_type": "code",
        "id": "military-shopping",
        "outputId": "14158f33-64a8-437a-ffb0-d5b5a4ba3b73"
      },
      "outputs": [
        {
          "data": {
            "text/plain": [
              "array([ 3.,  1., -6.,  8., 20.,  2., nan,  7.,  1., nan,  9.,  7.,  7.,\n",
              "       -7.])"
            ]
          },
          "execution_count": 6,
          "metadata": {},
          "output_type": "execute_result"
        }
      ],
      "source": [
        "data = np.array([3, 1, -6, 8, 20, 2, np.nan, 7, 1, np.nan, 9, 7, 7, -7])\n",
        "data"
      ]
    },
    {
      "cell_type": "markdown",
      "id": "0b11dac9",
      "metadata": {
        "cell_id": "00016-c6167d87-67b5-4d42-9c32-eedf16065ecf",
        "deepnote_cell_type": "markdown",
        "id": "opened-progressive"
      },
      "source": [
        "*Example*: The values that are less than 0"
      ]
    },
    {
      "cell_type": "code",
      "execution_count": 7,
      "id": "61e05d33",
      "metadata": {
        "cell_id": "00017-eec017b4-d07c-4656-b9f9-d6a28338e04a",
        "deepnote_cell_type": "code",
        "id": "armed-inside"
      },
      "outputs": [
        {
          "data": {
            "text/plain": [
              "array([-6., -7.])"
            ]
          },
          "execution_count": 7,
          "metadata": {},
          "output_type": "execute_result"
        }
      ],
      "source": [
        "data[data < 0]"
      ]
    },
    {
      "cell_type": "markdown",
      "id": "6cc2a189",
      "metadata": {
        "cell_id": "00018-cb8f6705-350b-4e38-afb4-97d081fcda17",
        "deepnote_cell_type": "markdown",
        "id": "amino-cache"
      },
      "source": [
        "The values that are greater than 3"
      ]
    },
    {
      "cell_type": "code",
      "execution_count": 10,
      "id": "10a1afe1",
      "metadata": {
        "cell_id": "00019-2edc492f-b7a7-4cd3-b349-8f869ff91d26",
        "deepnote_cell_type": "code",
        "id": "ordinary-reconstruction",
        "tags": [
          "exercise"
        ]
      },
      "outputs": [],
      "source": []
    },
    {
      "cell_type": "markdown",
      "id": "96593abc",
      "metadata": {
        "cell_id": "00020-64061a00-f7a4-4839-ba01-370769d1bd53",
        "deepnote_cell_type": "markdown",
        "id": "surgical-inclusion"
      },
      "source": [
        "The values not equal to 7"
      ]
    },
    {
      "cell_type": "code",
      "execution_count": 11,
      "id": "073a5488",
      "metadata": {
        "cell_id": "00021-404f3f89-e9cb-450e-8e4e-1ddf8a1c3093",
        "deepnote_cell_type": "code",
        "id": "occupied-history",
        "tags": [
          "exercise"
        ]
      },
      "outputs": [],
      "source": []
    },
    {
      "cell_type": "markdown",
      "id": "f2ee4330",
      "metadata": {
        "cell_id": "00022-12df6744-eaec-46d4-a2f6-f8338a7afb93",
        "deepnote_cell_type": "markdown",
        "id": "underlying-awareness"
      },
      "source": [
        "The values equal to 20"
      ]
    },
    {
      "cell_type": "code",
      "execution_count": 12,
      "id": "b0b0abef",
      "metadata": {
        "cell_id": "00023-67128a3b-2509-4591-b5e9-efbeb3293c61",
        "deepnote_cell_type": "code",
        "id": "original-hacker",
        "tags": [
          "exercise"
        ]
      },
      "outputs": [],
      "source": []
    },
    {
      "cell_type": "markdown",
      "id": "43588e12",
      "metadata": {
        "cell_id": "00041-7774923c-b585-48c4-ac2e-5038dc170f8b",
        "deepnote_cell_type": "markdown",
        "id": "celtic-commercial"
      },
      "source": [
        "### Statistics on Filtered Data\n"
      ]
    },
    {
      "cell_type": "markdown",
      "id": "489f4d50",
      "metadata": {},
      "source": [
        "\n",
        "**Exercises**: Using the following dataset, have Python to calculate the answers to the questions below:"
      ]
    },
    {
      "cell_type": "code",
      "execution_count": 8,
      "id": "a0c11319",
      "metadata": {
        "cell_id": "00043-a20f0d6d-3f12-4e4f-8bcd-ddc2cc3870cb",
        "deepnote_cell_type": "code",
        "id": "knowing-pitch",
        "outputId": "16e6aec3-429f-4a58-cef7-c915b5142a3c"
      },
      "outputs": [
        {
          "data": {
            "text/plain": [
              "array([ 3,  1, -6,  8, 20,  2,  7,  1,  9,  7,  7, -7])"
            ]
          },
          "execution_count": 8,
          "metadata": {},
          "output_type": "execute_result"
        }
      ],
      "source": [
        "data = np.array([3, 1, -6, 8, 20, 2, 7, 1, 9, 7, 7, -7])\n",
        "data"
      ]
    },
    {
      "cell_type": "markdown",
      "id": "4f6da27b",
      "metadata": {
        "cell_id": "00044-cfaafc68-bdb1-4b76-8c68-cfaf46dd14ef",
        "deepnote_cell_type": "markdown",
        "id": "radio-powell"
      },
      "source": [
        "*Example*: How many values are greater than 4?  "
      ]
    },
    {
      "cell_type": "code",
      "execution_count": 15,
      "id": "91578c70",
      "metadata": {
        "cell_id": "00045-dd927e15-b816-4a3d-9a73-2d3b2f075635",
        "deepnote_cell_type": "code",
        "id": "healthy-holmes"
      },
      "outputs": [
        {
          "data": {
            "text/plain": [
              "6"
            ]
          },
          "execution_count": 15,
          "metadata": {},
          "output_type": "execute_result"
        }
      ],
      "source": [
        "len(data[data > 4])"
      ]
    },
    {
      "cell_type": "markdown",
      "id": "869754b1",
      "metadata": {
        "cell_id": "00046-0a7545b7-6323-4ea6-b134-6317fb0a2f4e",
        "deepnote_cell_type": "markdown",
        "id": "reduced-authorization"
      },
      "source": [
        "How many values are equal to 7?"
      ]
    },
    {
      "cell_type": "code",
      "execution_count": 16,
      "id": "89d0382a",
      "metadata": {
        "cell_id": "00047-ac232071-f181-44bb-ad51-2790fe771775",
        "deepnote_cell_type": "code",
        "id": "pursuant-workplace",
        "tags": [
          "exercise"
        ]
      },
      "outputs": [],
      "source": []
    },
    {
      "cell_type": "markdown",
      "id": "440802b8",
      "metadata": {
        "cell_id": "00048-57dbcea0-3f49-426c-92aa-36b09f3ae4b3",
        "deepnote_cell_type": "markdown",
        "id": "artificial-serve"
      },
      "source": [
        "What is the mean value of the positive numbers?"
      ]
    },
    {
      "cell_type": "code",
      "execution_count": 17,
      "id": "87b7d0a8",
      "metadata": {
        "cell_id": "00049-a06a43e9-7609-4dc6-b9ee-09c75abd98cd",
        "deepnote_cell_type": "code",
        "id": "working-madagascar",
        "tags": [
          "exercise"
        ]
      },
      "outputs": [],
      "source": []
    },
    {
      "cell_type": "markdown",
      "id": "9cbfd353",
      "metadata": {
        "cell_id": "00050-81a40328-7559-42c3-9060-b5b4d450098a",
        "deepnote_cell_type": "markdown",
        "id": "continuous-workshop"
      },
      "source": [
        "What is the mean value of the negative numbers?"
      ]
    },
    {
      "cell_type": "code",
      "execution_count": 18,
      "id": "fd60b634",
      "metadata": {
        "cell_id": "00051-0bfad543-be10-48ed-b351-5b271dfee20e",
        "deepnote_cell_type": "code",
        "id": "flush-miami",
        "tags": [
          "exercise"
        ]
      },
      "outputs": [],
      "source": []
    },
    {
      "cell_type": "markdown",
      "id": "9192a645",
      "metadata": {
        "cell_id": "00052-ebd153a9-bc27-4c6e-a782-7ca0c2d9b8bd",
        "deepnote_cell_type": "markdown",
        "id": "visible-journey"
      },
      "source": [
        "What is the median value of the values that are greater than 5?"
      ]
    },
    {
      "cell_type": "code",
      "execution_count": 19,
      "id": "78045989",
      "metadata": {
        "cell_id": "00053-be28c851-2869-404a-b8e4-fafcdbc2a807",
        "deepnote_cell_type": "code",
        "id": "residential-decade",
        "tags": [
          "exercise"
        ]
      },
      "outputs": [],
      "source": []
    },
    {
      "cell_type": "markdown",
      "id": "38920c5a",
      "metadata": {
        "cell_id": "00056-16952307-edfc-4488-bad6-0aff928e6373",
        "deepnote_cell_type": "markdown",
        "id": "growing-venture"
      },
      "source": [
        "What proportion of the values are positive?  (hint: sum and len, or mean)"
      ]
    },
    {
      "cell_type": "code",
      "execution_count": 20,
      "id": "726a22fb",
      "metadata": {
        "cell_id": "00057-04e495aa-e221-4a7a-b094-0f767f899650",
        "deepnote_cell_type": "code",
        "id": "infinite-madison",
        "tags": [
          "exercise"
        ]
      },
      "outputs": [],
      "source": []
    },
    {
      "cell_type": "markdown",
      "id": "26f47f50",
      "metadata": {
        "cell_id": "00058-0fe905fb-99ea-419c-9d2d-573abc291e93",
        "deepnote_cell_type": "markdown",
        "id": "breathing-breakdown"
      },
      "source": [
        "What proportion of the values are less than or equal to 8?"
      ]
    },
    {
      "cell_type": "code",
      "execution_count": 21,
      "id": "278e4f7e",
      "metadata": {
        "cell_id": "00059-b318cc3e-306a-4e8f-9727-fed3269b89d8",
        "deepnote_cell_type": "code",
        "id": "quality-bandwidth",
        "tags": [
          "exercise"
        ]
      },
      "outputs": [],
      "source": []
    },
    {
      "cell_type": "markdown",
      "id": "a08b25ab",
      "metadata": {},
      "source": [
        "## Modifying Data Using Logical Indexing\n",
        "\n",
        "Just like in normal indexing operations with arrays, logical indexing can be used to *set* new values ,in addition to *getting* new values from an array:\n",
        "\n",
        "| Example | Description |\n",
        "| :-- | :-- |\n",
        "| **`data[data > 5] = 10`** | Set all values greater than 5 to 10  |\n",
        "| **`data[data > 5] = data[data > 5] * 10`** | Set the values greater than 5 to themselves times 10  |\n",
        "| **`data[data > 5] *= 10`** | Multiply all the values greater than 5 by 10, setting them in-place.  |\n",
        "| **`data2 = data.copy()`** | Copy an array to a new variable |"
      ]
    },
    {
      "cell_type": "markdown",
      "id": "4f3d2c4e",
      "metadata": {},
      "source": [
        "Example: Set all positive values in `data` to 100"
      ]
    },
    {
      "cell_type": "code",
      "execution_count": 3,
      "id": "ab54454a-08ea-455e-8abb-22fcb23ce40e",
      "metadata": {},
      "outputs": [
        {
          "data": {
            "text/plain": [
              "array([-4, -3, -2, -1,  0,  1,  2,  3,  4])"
            ]
          },
          "execution_count": 3,
          "metadata": {},
          "output_type": "execute_result"
        }
      ],
      "source": [
        "data = np.arange(-4, 5)\n",
        "data"
      ]
    },
    {
      "cell_type": "code",
      "execution_count": 4,
      "id": "fb734ebf-6f61-487c-aa39-a6af87d42e6b",
      "metadata": {},
      "outputs": [
        {
          "data": {
            "text/plain": [
              "array([ -4,  -3,  -2,  -1,   0, 100, 100, 100, 100])"
            ]
          },
          "execution_count": 4,
          "metadata": {},
          "output_type": "execute_result"
        }
      ],
      "source": [
        "data[data > 0] = 100\n",
        "data"
      ]
    },
    {
      "cell_type": "markdown",
      "id": "4765eace-1faf-41fa-bb30-773b81ddd97f",
      "metadata": {},
      "source": [
        "Set all negative values in `data` to 0"
      ]
    },
    {
      "cell_type": "code",
      "execution_count": 7,
      "id": "b418666b-ed1b-4541-ae8a-cdcc9031b91f",
      "metadata": {},
      "outputs": [
        {
          "data": {
            "text/plain": [
              "array([ 1, -2,  2, -1,  1,  4, -3,  1,  2, -1])"
            ]
          },
          "execution_count": 7,
          "metadata": {},
          "output_type": "execute_result"
        }
      ],
      "source": [
        "data = np.array([ 1, -2,  2, -1,  1,  4, -3,  1,  2, -1])\n",
        "data"
      ]
    },
    {
      "cell_type": "code",
      "execution_count": 8,
      "id": "4a5179ce-4505-4bde-9beb-43513194c913",
      "metadata": {
        "tags": [
          "exercise"
        ]
      },
      "outputs": [],
      "source": []
    },
    {
      "cell_type": "markdown",
      "id": "3e603f35-581e-4c68-a11a-b56ae76c9f04",
      "metadata": {},
      "source": [
        "Add 100 to all values in `data` less than 100."
      ]
    },
    {
      "cell_type": "code",
      "execution_count": 13,
      "id": "d7c8debf-0928-4b3a-b6b9-fb349597bf1e",
      "metadata": {},
      "outputs": [
        {
          "data": {
            "text/plain": [
              "array([  0, 101,   2,   3, 104, 105,   6, 107,   8])"
            ]
          },
          "execution_count": 13,
          "metadata": {},
          "output_type": "execute_result"
        }
      ],
      "source": [
        "data = np.array([0, 101, 2, 3, 104, 105, 6, 107, 8])\n",
        "data"
      ]
    },
    {
      "cell_type": "code",
      "execution_count": 14,
      "id": "0d359df2-2f9f-42b0-9253-798a7b82b437",
      "metadata": {
        "tags": [
          "exercise"
        ]
      },
      "outputs": [],
      "source": []
    },
    {
      "cell_type": "markdown",
      "id": "b136c40c-184e-48e6-8c22-f9c31c483e07",
      "metadata": {},
      "source": [
        "Make all the negative values in `data` positive."
      ]
    },
    {
      "cell_type": "code",
      "execution_count": 17,
      "id": "5c2581ef-4472-40b4-8365-fe4301654fa1",
      "metadata": {},
      "outputs": [
        {
          "data": {
            "text/plain": [
              "array([  1,  -2,  -3,   4,  -5,   6,   7,  -8,   9,  10, -11])"
            ]
          },
          "execution_count": 17,
          "metadata": {},
          "output_type": "execute_result"
        }
      ],
      "source": [
        "data = np.array([1, -2, -3, 4, -5, 6, 7, -8, 9, 10, -11])\n",
        "data"
      ]
    },
    {
      "cell_type": "code",
      "execution_count": 18,
      "id": "bfba2784-59f2-46b7-aea4-ce34dd63e4a5",
      "metadata": {
        "tags": [
          "exercise"
        ]
      },
      "outputs": [],
      "source": []
    },
    {
      "cell_type": "markdown",
      "id": "432d0837-441c-458d-b82b-f2050c85abdc",
      "metadata": {},
      "source": [
        "Challenge: Set all the values greater than 10 in `data` to random values between 0 and 10 (use the `np.random.randint()` function)"
      ]
    },
    {
      "cell_type": "code",
      "execution_count": 19,
      "id": "c2b479c6-9fa1-4efd-ac2c-1701f4501609",
      "metadata": {},
      "outputs": [
        {
          "data": {
            "text/plain": [
              "array([ 3, 15,  8, 12,  7, 19, 11,  6,  2, 25])"
            ]
          },
          "execution_count": 19,
          "metadata": {},
          "output_type": "execute_result"
        }
      ],
      "source": [
        "data = np.array([3, 15, 8, 12, 7, 19, 11, 6, 2, 25])\n",
        "data"
      ]
    },
    {
      "cell_type": "code",
      "execution_count": 26,
      "id": "09be82a9-fce6-4f2b-97c9-eaf753d549e2",
      "metadata": {
        "tags": [
          "exercise"
        ]
      },
      "outputs": [],
      "source": []
    },
    {
      "cell_type": "markdown",
      "id": "c12a22ea",
      "metadata": {},
      "source": [
        "## Using Logical Indexing to Link Two Different Variables in a Dataset\n",
        "\n",
        "So long as this process produces a mask of Trues and Falses equal in shape to the array it's bein used on, it works!  An implication of this is that we can use one dataset to index another dataset:\n",
        "\n",
        "| Syntax | Description |\n",
        "| :--  | :-- |\n",
        "| **`data2[data1 > 0]`** | Get the values in `data2` with indices that correspond to the positive values in `data1` |"
      ]
    },
    {
      "cell_type": "markdown",
      "id": "236ab391-5b58-4b83-9b7a-dc11cdb0d7cb",
      "metadata": {},
      "source": [
        "Get all the \"Treatment\" group's temperatures"
      ]
    },
    {
      "cell_type": "code",
      "execution_count": 30,
      "id": "05454b09-b2ff-4871-86df-fbb5dbb7686c",
      "metadata": {},
      "outputs": [],
      "source": [
        "temp = np.array([35, 38, 32, 35, 39, 37, 36, 38, 39])\n",
        "group = np.array(['Control', 'Treatment', 'Treatment', 'Control', 'Treatment', 'Control', 'Control', 'Treatment', 'Control'])"
      ]
    },
    {
      "cell_type": "code",
      "execution_count": 31,
      "id": "906c66c0-87af-45ed-a01e-8a237925117b",
      "metadata": {
        "tags": [
          "exercise"
        ]
      },
      "outputs": [],
      "source": []
    },
    {
      "cell_type": "markdown",
      "id": "86d1dd84",
      "metadata": {},
      "source": [
        "Calculate the mean temperature of the \"Control\" group"
      ]
    },
    {
      "cell_type": "code",
      "execution_count": 32,
      "id": "1987d19a-6bce-43bb-94cc-f39fd0d42549",
      "metadata": {},
      "outputs": [],
      "source": [
        "temp = np.array([35, 38, 32, 35, 39, 37, 36, 38, 39])\n",
        "group = np.array(['Control', 'Treatment', 'Treatment', 'Control', 'Treatment', 'Control', 'Control', 'Treatment', 'Control'])"
      ]
    },
    {
      "cell_type": "code",
      "execution_count": 33,
      "id": "98d05af4-7d70-43da-b008-7b8e6891f74e",
      "metadata": {
        "tags": [
          "exercise"
        ]
      },
      "outputs": [],
      "source": []
    },
    {
      "cell_type": "markdown",
      "id": "7bdcabae-ae69-44d3-be72-ea32c5ea092c",
      "metadata": {},
      "source": [
        "Get the group names for all the temperatures greater than 35, calculating the proportion that are in the Control group"
      ]
    },
    {
      "cell_type": "code",
      "execution_count": null,
      "id": "56ab6b9d-a8c5-46f0-91a1-c78e66d34474",
      "metadata": {},
      "outputs": [],
      "source": [
        "temp = np.array([35, 38, 32, 35, 39, 37, 36, 38, 39])\n",
        "group = np.array(['Control', 'Treatment', 'Treatment', 'Control', 'Treatment', 'Control', 'Control', 'Treatment', 'Control'])"
      ]
    },
    {
      "cell_type": "code",
      "execution_count": 34,
      "id": "9fb2f630-f373-4d09-9fd1-3b7f55074c87",
      "metadata": {
        "tags": [
          "exercise"
        ]
      },
      "outputs": [],
      "source": []
    }
  ],
  "metadata": {
    "colab": {
      "name": "8 LogicalIndexing.ipynb",
      "provenance": []
    },
    "deepnote": {},
    "deepnote_execution_queue": [],
    "deepnote_notebook_id": "335d2424-d599-47af-9b70-08ab62ee0333",
    "kernelspec": {
      "display_name": "Python 3 (ipykernel)",
      "language": "python",
      "name": "python3"
    },
    "language_info": {
      "codemirror_mode": {
        "name": "ipython",
        "version": 3
      },
      "file_extension": ".py",
      "mimetype": "text/x-python",
      "name": "python",
      "nbconvert_exporter": "python",
      "pygments_lexer": "ipython3",
      "version": "3.9.12"
    },
    "metadata": {
      "interpreter": {
        "hash": "fc0e67284b290651ff490186edfcd112a3a9886d035b0e6d700f36a65c8bc338"
      }
    },
    "vscode": {
      "interpreter": {
        "hash": "d6852d01271bf8033dbdb7ec364b6f6e89fd52a18c6bf5b4c73e48c86329a8dd"
      }
    }
  },
  "nbformat": 4,
  "nbformat_minor": 5
}