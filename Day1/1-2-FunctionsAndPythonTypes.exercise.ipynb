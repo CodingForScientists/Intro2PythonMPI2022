{
  "cells": [
    {
      "cell_type": "markdown",
      "metadata": {
        "cell_id": "3f746096811b45fe929a2fc7127c950c",
        "deepnote_cell_height": 253.59375,
        "deepnote_cell_type": "markdown"
      },
      "source": [
        "# Object-Oriented Python: Types, Objects, and Methods\n",
        "\n",
        "Python is an \"Object-Oriented\" Programming language.  This means that data is transformed into code, an approach that makes Python very flexible.  \n",
        "\n",
        "In this unit, we'll learn to think about data in python in terms of \"types\", which will open the doors for using a wide variety of tools in Python and make it easier to understand how to fix our code when Python raises an error message.\n",
        "\n"
      ]
    },
    {
      "cell_type": "markdown",
      "metadata": {
        "cell_id": "40cc174bfdf14b6d94141b5297511d46",
        "deepnote_cell_height": 70,
        "deepnote_cell_type": "markdown"
      },
      "source": [
        "## One Approach to Coding: Code-Data Separation"
      ]
    },
    {
      "cell_type": "markdown",
      "metadata": {
        "cell_id": "3f8481e0ee054a2199ad838acdd4c5f7",
        "deepnote_cell_height": 153.1875,
        "deepnote_cell_type": "markdown"
      },
      "source": [
        "##### Function Syntax in Python\n",
        "\n",
        "```python\n",
        "function_name(argument1)\n",
        "function_name(argument1, argument2)\n",
        "```\n",
        "\n",
        "For example, to calculate the sum of two numbers: `min(1, 2)`"
      ]
    },
    {
      "cell_type": "markdown",
      "metadata": {
        "cell_id": "a65cf3d06589434a8a22dba7c6ad2246",
        "deepnote_cell_height": 74.796875,
        "deepnote_cell_type": "markdown"
      },
      "source": [
        "\n",
        "**Exercises**: Answer the following questions using the built-in math functions `round()`,  `pow()`, `min()`, `max()`, and `sum()`"
      ]
    },
    {
      "cell_type": "markdown",
      "metadata": {
        "cell_id": "e0d2b150ff744646ad1e6a09195fc885",
        "deepnote_cell_height": 52.390625,
        "deepnote_cell_type": "markdown"
      },
      "source": [
        "*Example*: What is `3.2` rounded to the nearest whole number?"
      ]
    },
    {
      "cell_type": "code",
      "execution_count": null,
      "metadata": {
        "cell_id": "6604ffe88ed1402cb8f8f635ee69c819",
        "deepnote_cell_height": 118.171875,
        "deepnote_cell_type": "code",
        "deepnote_to_be_reexecuted": false,
        "execution_millis": 199,
        "execution_start": 1652166545353,
        "source_hash": "f845f215"
      },
      "outputs": [
        {
          "data": {
            "text/plain": [
              "3"
            ]
          },
          "execution_count": 1,
          "metadata": {},
          "output_type": "execute_result"
        }
      ],
      "source": [
        "round(3.2)"
      ]
    },
    {
      "cell_type": "markdown",
      "metadata": {
        "cell_id": "e90637d737184901bd00d3a45c000ee9",
        "deepnote_cell_height": 52.390625,
        "deepnote_cell_type": "markdown"
      },
      "source": [
        "What is `7.8` rounded to the nearest whole number?"
      ]
    },
    {
      "cell_type": "code",
      "execution_count": null,
      "metadata": {
        "cell_id": "f3163017549a41aaaab6d730876dfc84",
        "deepnote_cell_height": 81,
        "deepnote_cell_type": "code",
        "deepnote_to_be_reexecuted": false,
        "execution_millis": 0,
        "execution_start": 1649930004324,
        "source_hash": "b623e53d",
        "tags": [
          "exercise"
        ]
      },
      "outputs": [],
      "source": []
    },
    {
      "cell_type": "markdown",
      "metadata": {
        "cell_id": "39a9df0a76ac41e4b8cae5a388046f58",
        "deepnote_cell_height": 52.390625,
        "deepnote_cell_type": "markdown"
      },
      "source": [
        "Which number is smaller: `4` or `5`?"
      ]
    },
    {
      "cell_type": "code",
      "execution_count": null,
      "metadata": {
        "cell_id": "657abd00325b4382984a56c4f6ff318e",
        "deepnote_cell_height": 81,
        "deepnote_cell_type": "code",
        "deepnote_to_be_reexecuted": false,
        "execution_millis": 2,
        "execution_start": 1649930001509,
        "source_hash": "b623e53d",
        "tags": [
          "exercise"
        ]
      },
      "outputs": [],
      "source": []
    },
    {
      "cell_type": "markdown",
      "metadata": {
        "cell_id": "93b6ff9a2ee0493bba8869affd50a9a0",
        "deepnote_cell_height": 52.390625,
        "deepnote_cell_type": "markdown"
      },
      "source": [
        "Which number is bigger: `5`, `8`, or `10`?"
      ]
    },
    {
      "cell_type": "code",
      "execution_count": null,
      "metadata": {
        "cell_id": "c21c4f05c25b4eacb39c0ead375e7bc7",
        "deepnote_cell_height": 118.171875,
        "deepnote_cell_type": "code",
        "deepnote_to_be_reexecuted": false,
        "execution_millis": 10,
        "execution_start": 1652166545961,
        "source_hash": "35f19cc1",
        "tags": [
          "exercise"
        ]
      },
      "outputs": [],
      "source": []
    },
    {
      "cell_type": "markdown",
      "metadata": {
        "cell_id": "739934ffb8914e62ad15fed37c6312f5",
        "deepnote_cell_height": 128.1875,
        "deepnote_cell_type": "markdown"
      },
      "source": [
        "Which number is smaller: \n",
        "  - 80 divided by 4 \n",
        "  - 3 times 7"
      ]
    },
    {
      "cell_type": "code",
      "execution_count": null,
      "metadata": {
        "cell_id": "dd06f0408a1949049032ff8c4bf068bb",
        "deepnote_cell_height": 118.171875,
        "deepnote_cell_type": "code",
        "deepnote_to_be_reexecuted": false,
        "execution_millis": 8,
        "execution_start": 1652166555655,
        "source_hash": "ad20501b",
        "tags": [
          "exercise"
        ]
      },
      "outputs": [],
      "source": []
    },
    {
      "cell_type": "markdown",
      "metadata": {
        "cell_id": "c1c367c00c4c4b02bfb0fea0f9888ebd",
        "deepnote_cell_height": 52.390625,
        "deepnote_cell_type": "markdown"
      },
      "source": [
        "What's the sum of four and five (using the `sum()` function?"
      ]
    },
    {
      "cell_type": "code",
      "execution_count": null,
      "metadata": {
        "cell_id": "57932aefff07464f822ce213ef5bc270",
        "deepnote_cell_height": 118.171875,
        "deepnote_cell_type": "code",
        "deepnote_to_be_reexecuted": false,
        "execution_millis": 12,
        "execution_start": 1652166615931,
        "source_hash": "3c9fe3c8",
        "tags": [
          "exercise"
        ]
      },
      "outputs": [],
      "source": []
    },
    {
      "cell_type": "markdown",
      "metadata": {
        "cell_id": "b0417395c6384de5b7a5d930dd6dbda4",
        "deepnote_cell_height": 52.390625,
        "deepnote_cell_type": "markdown"
      },
      "source": [
        "What's the sum of the numbers one through five?"
      ]
    },
    {
      "cell_type": "code",
      "execution_count": null,
      "metadata": {
        "cell_id": "0db0747e708a4cc0929fe557af1528dd",
        "deepnote_cell_height": 118.171875,
        "deepnote_cell_type": "code",
        "deepnote_to_be_reexecuted": false,
        "execution_millis": 8,
        "execution_start": 1652166610010,
        "source_hash": "95f01277",
        "tags": [
          "exercise"
        ]
      },
      "outputs": [],
      "source": []
    },
    {
      "cell_type": "markdown",
      "metadata": {
        "cell_id": "51bab115bd144c8b9cc7125d6927030c",
        "deepnote_cell_height": 667.390625,
        "deepnote_cell_type": "markdown"
      },
      "source": [
        "\n",
        "## Literal Data Syntax in Python\n",
        "\n",
        "Data in Python can take the form of many different **types**.  The most basic are:\n",
        "\n",
        "  - **int**: 3   # whole numbers\n",
        "  - **float**: 3.1  # decimal numbers\n",
        "  - **bool**: True  # the logical values, can only be True or False\n",
        "  - **str**: \"hi\"  #  text data\n",
        "  - **bytes**: b\"hi123\\x03\"  # a sequence of generic computer data\n",
        "  - **NoneType**: None  # a placeholder, usually for missing values\n",
        "  \n",
        "Data can be \"assigned\" to variables for use in other lines of code using the equals sign:\n",
        "\n",
        "```python\n",
        ">>> data = 3\n",
        ">>> data + 5\n",
        "8\n",
        "```\n",
        "\n",
        "Somtimes it's not clear what type of data a certain variable represents.   \n",
        "To find out the type of data, you can use the `type()` function:\n",
        "\n",
        "```python\n",
        ">>> type(3)\n",
        "int\n",
        "\n",
        ">>> type('hello')\n",
        "str\n",
        "\n",
        ">>> type(data)\n",
        "int\n",
        "```\n",
        "\n",
        "  "
      ]
    },
    {
      "cell_type": "markdown",
      "metadata": {
        "cell_id": "e982244befd34b27a73a1d7d99dc561f",
        "deepnote_cell_height": 52.390625,
        "deepnote_cell_type": "markdown"
      },
      "source": [
        "**Exercises**"
      ]
    },
    {
      "cell_type": "markdown",
      "metadata": {
        "cell_id": "b14ea1b6ef61460b956329cf676570c8",
        "deepnote_cell_height": 52.390625,
        "deepnote_cell_type": "markdown"
      },
      "source": [
        "*Example*: What type is 3?"
      ]
    },
    {
      "cell_type": "code",
      "execution_count": null,
      "metadata": {
        "cell_id": "d29039ad901644c28c415dab8cf1cb4b",
        "deepnote_cell_height": 118.171875,
        "deepnote_cell_type": "code",
        "deepnote_to_be_reexecuted": false,
        "execution_millis": 11,
        "execution_start": 1649859863808,
        "source_hash": "1fa4ebe8"
      },
      "outputs": [
        {
          "data": {
            "text/plain": [
              "int"
            ]
          },
          "execution_count": 4,
          "metadata": {},
          "output_type": "execute_result"
        }
      ],
      "source": [
        "type(3)"
      ]
    },
    {
      "cell_type": "markdown",
      "metadata": {
        "cell_id": "e13639780ed74e338d6d44b1afa6028a",
        "deepnote_cell_height": 52.390625,
        "deepnote_cell_type": "markdown"
      },
      "source": [
        "What type is -1?"
      ]
    },
    {
      "cell_type": "code",
      "execution_count": null,
      "metadata": {
        "cell_id": "ab24eb615fb440d695f8b28262091b49",
        "deepnote_cell_height": 118.171875,
        "deepnote_cell_type": "code",
        "deepnote_to_be_reexecuted": false,
        "execution_millis": 10,
        "execution_start": 1652166623087,
        "source_hash": "c699e1d2",
        "tags": [
          "exercise"
        ]
      },
      "outputs": [],
      "source": []
    },
    {
      "cell_type": "markdown",
      "metadata": {
        "cell_id": "7d9504712aed413dba4a8a063fef2e66",
        "deepnote_cell_height": 52.390625,
        "deepnote_cell_type": "markdown"
      },
      "source": [
        "What type is 5.2?"
      ]
    },
    {
      "cell_type": "code",
      "execution_count": null,
      "metadata": {
        "cell_id": "c85ca35c1f6548eb998d19e9873ec42b",
        "deepnote_cell_height": 118.171875,
        "deepnote_cell_type": "code",
        "deepnote_to_be_reexecuted": false,
        "execution_millis": 5,
        "execution_start": 1652166626491,
        "source_hash": "25a74a43",
        "tags": [
          "exercise"
        ]
      },
      "outputs": [],
      "source": []
    },
    {
      "cell_type": "markdown",
      "metadata": {
        "cell_id": "13ce223d320d42218a767becf072c8d6",
        "deepnote_cell_height": 52.390625,
        "deepnote_cell_type": "markdown"
      },
      "source": [
        "What type is `data`?"
      ]
    },
    {
      "cell_type": "code",
      "execution_count": null,
      "metadata": {},
      "outputs": [],
      "source": [
        "data = 3.14"
      ]
    },
    {
      "cell_type": "code",
      "execution_count": null,
      "metadata": {
        "cell_id": "81a50412729d44609655a511e3b1d2db",
        "deepnote_cell_height": 136.171875,
        "deepnote_cell_type": "code",
        "deepnote_to_be_reexecuted": false,
        "execution_millis": 5,
        "execution_start": 1652166630968,
        "source_hash": "de2dc2a3",
        "tags": [
          "exercise"
        ]
      },
      "outputs": [],
      "source": []
    },
    {
      "cell_type": "markdown",
      "metadata": {
        "cell_id": "e6f3903747974b43a1e1b24a5b6d398a",
        "deepnote_cell_height": 52.390625,
        "deepnote_cell_type": "markdown",
        "tags": []
      },
      "source": [
        "What type is `data`?"
      ]
    },
    {
      "cell_type": "code",
      "execution_count": null,
      "metadata": {},
      "outputs": [],
      "source": [
        "data = 10"
      ]
    },
    {
      "cell_type": "code",
      "execution_count": null,
      "metadata": {
        "cell_id": "150dc0656fea4e439ccfc2a9bba2de8c",
        "deepnote_cell_height": 136.171875,
        "deepnote_cell_type": "code",
        "deepnote_to_be_reexecuted": false,
        "execution_millis": 5,
        "execution_start": 1652166633838,
        "source_hash": "5ba8ad69",
        "tags": [
          "exercise"
        ]
      },
      "outputs": [],
      "source": []
    },
    {
      "cell_type": "markdown",
      "metadata": {
        "cell_id": "70c747a8bfac42a48a2f6cf45b42bf58",
        "deepnote_cell_height": 52.390625,
        "deepnote_cell_type": "markdown"
      },
      "source": [
        "What type is `data`?"
      ]
    },
    {
      "cell_type": "code",
      "execution_count": null,
      "metadata": {},
      "outputs": [],
      "source": [
        "data = 10."
      ]
    },
    {
      "cell_type": "code",
      "execution_count": null,
      "metadata": {
        "cell_id": "52da40d6453c4e47b54bc51127b5ce65",
        "deepnote_cell_height": 81,
        "deepnote_cell_type": "code",
        "deepnote_to_be_reexecuted": false,
        "execution_millis": 11,
        "execution_start": 1649859828122,
        "source_hash": "fdcefb96",
        "tags": [
          "exercise"
        ]
      },
      "outputs": [],
      "source": []
    },
    {
      "cell_type": "markdown",
      "metadata": {
        "cell_id": "4dfc767d0c334d628fd159305ed1d340",
        "deepnote_cell_height": 52.390625,
        "deepnote_cell_type": "markdown"
      },
      "source": [
        "What type is `data`?\n"
      ]
    },
    {
      "cell_type": "code",
      "execution_count": null,
      "metadata": {},
      "outputs": [],
      "source": [
        "data = False"
      ]
    },
    {
      "cell_type": "code",
      "execution_count": null,
      "metadata": {
        "cell_id": "bf3d56e4a613491b830e34301b86c551",
        "deepnote_cell_height": 136.171875,
        "deepnote_cell_type": "code",
        "deepnote_to_be_reexecuted": false,
        "execution_millis": 138,
        "execution_start": 1652166638266,
        "source_hash": "ffac8ad4",
        "tags": [
          "exercise"
        ]
      },
      "outputs": [],
      "source": []
    },
    {
      "cell_type": "markdown",
      "metadata": {
        "cell_id": "20c2ac20dcd6460aaaa040999dad27ea",
        "deepnote_cell_height": 52.390625,
        "deepnote_cell_type": "markdown"
      },
      "source": [
        "What type is `data`?\n"
      ]
    },
    {
      "cell_type": "code",
      "execution_count": null,
      "metadata": {
        "cell_id": "16f84c9c9095454185bf6e9ba5c223b6",
        "deepnote_cell_height": 136.171875,
        "deepnote_cell_type": "code",
        "deepnote_to_be_reexecuted": false,
        "execution_millis": 18,
        "execution_start": 1652166641710,
        "source_hash": "1b6f9e7f"
      },
      "outputs": [
        {
          "data": {
            "text/plain": [
              "str"
            ]
          },
          "execution_count": 14,
          "metadata": {},
          "output_type": "execute_result"
        }
      ],
      "source": [
        "data = \"The Weather\""
      ]
    },
    {
      "cell_type": "code",
      "execution_count": null,
      "metadata": {
        "tags": [
          "exercise"
        ]
      },
      "outputs": [],
      "source": []
    },
    {
      "cell_type": "markdown",
      "metadata": {
        "cell_id": "e73e91f89e2d40f495b4efb08e4a115f",
        "deepnote_cell_height": 52.390625,
        "deepnote_cell_type": "markdown"
      },
      "source": [
        "What type is `data`?"
      ]
    },
    {
      "cell_type": "code",
      "execution_count": null,
      "metadata": {},
      "outputs": [],
      "source": [
        "data = None"
      ]
    },
    {
      "cell_type": "code",
      "execution_count": null,
      "metadata": {
        "cell_id": "a4b1302a9ae544db9f4d0ac4a20e4357",
        "deepnote_cell_height": 136.171875,
        "deepnote_cell_type": "code",
        "deepnote_to_be_reexecuted": false,
        "execution_millis": 8,
        "execution_start": 1652166644350,
        "source_hash": "d0a23cb",
        "tags": [
          "exercise"
        ]
      },
      "outputs": [],
      "source": []
    },
    {
      "cell_type": "markdown",
      "metadata": {
        "cell_id": "3fa3d0f8886b4db7b3a447f284fb0915",
        "deepnote_cell_height": 52.390625,
        "deepnote_cell_type": "markdown"
      },
      "source": [
        "What type is `data`?\n"
      ]
    },
    {
      "cell_type": "code",
      "execution_count": null,
      "metadata": {},
      "outputs": [],
      "source": [
        "data = 5 > 2"
      ]
    },
    {
      "cell_type": "code",
      "execution_count": null,
      "metadata": {
        "cell_id": "63d70694da3f467fb0a52709d287d87e",
        "deepnote_cell_height": 136.171875,
        "deepnote_cell_type": "code",
        "deepnote_to_be_reexecuted": false,
        "execution_millis": 5,
        "execution_start": 1652166648309,
        "source_hash": "ff1b37b1",
        "tags": [
          "exercise"
        ]
      },
      "outputs": [],
      "source": []
    },
    {
      "cell_type": "markdown",
      "metadata": {
        "cell_id": "4479dba7be644a1db6a160a043327b11",
        "deepnote_cell_height": 52.390625,
        "deepnote_cell_type": "markdown"
      },
      "source": [
        "What type is `data`?"
      ]
    },
    {
      "cell_type": "code",
      "execution_count": null,
      "metadata": {},
      "outputs": [],
      "source": [
        "data = round(3.2)"
      ]
    },
    {
      "cell_type": "code",
      "execution_count": null,
      "metadata": {
        "cell_id": "0ce138f3a7714f5da459dd983f359ae5",
        "deepnote_cell_height": 136.171875,
        "deepnote_cell_type": "code",
        "deepnote_to_be_reexecuted": false,
        "execution_millis": 724,
        "execution_start": 1652166651505,
        "source_hash": "85ddc801",
        "tags": [
          "exercise"
        ]
      },
      "outputs": [],
      "source": []
    },
    {
      "cell_type": "markdown",
      "metadata": {
        "cell_id": "442d70160a42428d8e8143399a8007b7",
        "deepnote_cell_height": 398,
        "deepnote_cell_type": "markdown"
      },
      "source": [
        "## Changing Types: Using Type Contructors to Make New Objects\n",
        "\n",
        "Just as how the function `sum()` transforms two numbers into a single number, functions can transform data found in one type into another type.  Much of the time, this function is named the same as the type, so if you know the type's name, you know how to make it!\n",
        "\n",
        "For example, make a `float` from an `int`:\n",
        "```python\n",
        ">>> x1 = 3\n",
        ">>> type(x1)\n",
        "int\n",
        ">>> x2 = float(x1)\n",
        ">>> x2\n",
        "float\n",
        "```"
      ]
    },
    {
      "cell_type": "markdown",
      "metadata": {
        "cell_id": "f368cacd60574f0fb15584051f87e7c5",
        "deepnote_cell_height": 54,
        "deepnote_cell_type": "markdown"
      },
      "source": [
        "##### Exercises"
      ]
    },
    {
      "cell_type": "markdown",
      "metadata": {
        "cell_id": "cda04b0d080a457bb9828314b1da5356",
        "deepnote_cell_height": 52.390625,
        "deepnote_cell_type": "markdown"
      },
      "source": [
        "*Example*: Make `data2` into a `float`, from `data1`"
      ]
    },
    {
      "cell_type": "code",
      "execution_count": null,
      "metadata": {
        "cell_id": "57e6269cd3904d5b9fd62e9aeddc6b00",
        "deepnote_cell_height": 154.171875,
        "deepnote_cell_type": "code",
        "deepnote_to_be_reexecuted": false,
        "execution_millis": 8,
        "execution_start": 1652166671744,
        "source_hash": "3c61c72"
      },
      "outputs": [
        {
          "data": {
            "text/plain": [
              "(3.0, float)"
            ]
          },
          "execution_count": 10,
          "metadata": {},
          "output_type": "execute_result"
        }
      ],
      "source": [
        "data1 = 3\n",
        "data2 = float(data1)\n",
        "data2, type(data2)"
      ]
    },
    {
      "cell_type": "markdown",
      "metadata": {
        "cell_id": "2e4e4566495b482a924fbaf69eb3600b",
        "deepnote_cell_height": 52.390625,
        "deepnote_cell_type": "markdown"
      },
      "source": [
        "Make `data2`an `int`, from `data1`"
      ]
    },
    {
      "cell_type": "code",
      "execution_count": null,
      "metadata": {
        "cell_id": "72566a4024df42eda4075fe33b06258a",
        "deepnote_cell_height": 172.171875,
        "deepnote_cell_type": "code",
        "deepnote_to_be_reexecuted": false,
        "execution_millis": 6,
        "execution_start": 1652166677512,
        "source_hash": "e13ecbb4"
      },
      "outputs": [
        {
          "data": {
            "text/plain": [
              "10000000000000"
            ]
          },
          "execution_count": 21,
          "metadata": {},
          "output_type": "execute_result"
        }
      ],
      "source": [
        "data1 = 10_000_000_000_000.000_000"
      ]
    },
    {
      "cell_type": "code",
      "execution_count": null,
      "metadata": {
        "tags": [
          "exercise"
        ]
      },
      "outputs": [],
      "source": []
    },
    {
      "cell_type": "markdown",
      "metadata": {
        "cell_id": "70b7bfe1581c43fcadccc020e2e54f36",
        "deepnote_cell_height": 52.390625,
        "deepnote_cell_type": "markdown"
      },
      "source": [
        "Make `data2` an `int`, from `data1`.  (What's different here from the `round()` function?)"
      ]
    },
    {
      "cell_type": "code",
      "execution_count": null,
      "metadata": {},
      "outputs": [],
      "source": [
        "data1 = 3.99"
      ]
    },
    {
      "cell_type": "code",
      "execution_count": null,
      "metadata": {
        "cell_id": "df2c5238ea1545bb889b995e5165aeca",
        "deepnote_cell_height": 154.171875,
        "deepnote_cell_type": "code",
        "deepnote_to_be_reexecuted": false,
        "execution_millis": 4,
        "execution_start": 1652166695344,
        "source_hash": "88a024ae",
        "tags": [
          "exercise"
        ]
      },
      "outputs": [],
      "source": []
    },
    {
      "cell_type": "markdown",
      "metadata": {
        "cell_id": "54ebf21c947043929506fe67316d0689",
        "deepnote_cell_height": 52.390625,
        "deepnote_cell_type": "markdown"
      },
      "source": [
        "Make `data2` a string, from `data1`  (What's different here?)"
      ]
    },
    {
      "cell_type": "code",
      "execution_count": null,
      "metadata": {},
      "outputs": [],
      "source": [
        "data1 = 3.14000000"
      ]
    },
    {
      "cell_type": "code",
      "execution_count": null,
      "metadata": {
        "cell_id": "88ad8e11b43648f5b63bd7998cf2f2ff",
        "deepnote_cell_height": 154.171875,
        "deepnote_cell_type": "code",
        "deepnote_to_be_reexecuted": false,
        "execution_millis": 21,
        "execution_start": 1652166710055,
        "source_hash": "21d9cd5f",
        "tags": [
          "exercise"
        ]
      },
      "outputs": [],
      "source": []
    },
    {
      "cell_type": "markdown",
      "metadata": {
        "cell_id": "ecbcbc0ed10f449288811be81e70502a",
        "deepnote_cell_height": 52.390625,
        "deepnote_cell_type": "markdown"
      },
      "source": [
        "Make `data2` a float, from `data1`."
      ]
    },
    {
      "cell_type": "code",
      "execution_count": null,
      "metadata": {},
      "outputs": [],
      "source": [
        "data1 = \"5.2\""
      ]
    },
    {
      "cell_type": "code",
      "execution_count": null,
      "metadata": {
        "cell_id": "be2de81b3e4944809797380f74405c36",
        "deepnote_cell_height": 154.171875,
        "deepnote_cell_type": "code",
        "deepnote_to_be_reexecuted": false,
        "execution_millis": 4,
        "execution_start": 1652166719291,
        "source_hash": "2a4138c5",
        "tags": [
          "exercise"
        ]
      },
      "outputs": [],
      "source": []
    },
    {
      "cell_type": "markdown",
      "metadata": {
        "cell_id": "4d09e171b2bc43808d899d508bbd5f08",
        "deepnote_cell_height": 52.390625,
        "deepnote_cell_type": "markdown",
        "tags": []
      },
      "source": [
        "Make `data2`, an int, from `data1`"
      ]
    },
    {
      "cell_type": "code",
      "execution_count": null,
      "metadata": {},
      "outputs": [],
      "source": [
        "data1 = \"5\""
      ]
    },
    {
      "cell_type": "code",
      "execution_count": null,
      "metadata": {
        "cell_id": "fd775fa5e4db494293349c342b8a4564",
        "deepnote_cell_height": 154.171875,
        "deepnote_cell_type": "code",
        "deepnote_to_be_reexecuted": false,
        "execution_millis": 4,
        "execution_start": 1652166725972,
        "source_hash": "4e838430",
        "tags": [
          "exercise"
        ]
      },
      "outputs": [],
      "source": []
    },
    {
      "cell_type": "markdown",
      "metadata": {
        "cell_id": "52a50b0073344f5b99d1a4dbdef21aa4",
        "deepnote_cell_height": 52.390625,
        "deepnote_cell_type": "markdown"
      },
      "source": [
        "Tur `data2` into an int, from `data1` (What happened?)."
      ]
    },
    {
      "cell_type": "code",
      "execution_count": null,
      "metadata": {},
      "outputs": [],
      "source": [
        "data1 = 5.2"
      ]
    },
    {
      "cell_type": "code",
      "execution_count": null,
      "metadata": {
        "cell_id": "f2f7a4580ae048c5a4af264a4976d41c",
        "deepnote_cell_height": 154.171875,
        "deepnote_cell_type": "code",
        "deepnote_to_be_reexecuted": false,
        "execution_millis": 6,
        "execution_start": 1652166743975,
        "source_hash": "18610849",
        "tags": [
          "exercise"
        ]
      },
      "outputs": [],
      "source": []
    },
    {
      "cell_type": "markdown",
      "metadata": {
        "cell_id": "91399f2d15664a59b05249ccd3c5beb9",
        "deepnote_cell_height": 52.390625,
        "deepnote_cell_type": "markdown"
      },
      "source": [
        "Make `data2`, a string, from `data1`.  (Don't worry if this one looks strange. What do you observe?)"
      ]
    },
    {
      "cell_type": "code",
      "execution_count": null,
      "metadata": {},
      "outputs": [],
      "source": [
        "data1 = b\"testing\""
      ]
    },
    {
      "cell_type": "code",
      "execution_count": null,
      "metadata": {
        "cell_id": "50f2c0af376141dea95a72de2bfd24e9",
        "deepnote_cell_height": 154.171875,
        "deepnote_cell_type": "code",
        "deepnote_to_be_reexecuted": false,
        "execution_millis": 3,
        "execution_start": 1652166767927,
        "source_hash": "2f63a70e",
        "tags": [
          "exercise"
        ]
      },
      "outputs": [],
      "source": []
    },
    {
      "cell_type": "markdown",
      "metadata": {
        "cell_id": "3420ff2c3d6f4f88bc8583fbe0f10fd6",
        "deepnote_cell_height": 52.390625,
        "deepnote_cell_type": "markdown"
      },
      "source": [
        "Make `data2`, a `bytes`, from `data1` (What's interesting here?)"
      ]
    },
    {
      "cell_type": "code",
      "execution_count": null,
      "metadata": {},
      "outputs": [],
      "source": [
        "data1 = 5"
      ]
    },
    {
      "cell_type": "code",
      "execution_count": null,
      "metadata": {
        "cell_id": "09262dde6f0c4eab8f474b99de1fdb2f",
        "deepnote_cell_height": 154.171875,
        "deepnote_cell_type": "code",
        "deepnote_to_be_reexecuted": false,
        "execution_millis": 577,
        "execution_start": 1652166800664,
        "source_hash": "306c3cc3",
        "tags": [
          "exercise"
        ]
      },
      "outputs": [],
      "source": []
    },
    {
      "cell_type": "markdown",
      "metadata": {
        "cell_id": "1088acc4405d40c0a4757ac7c14719cc",
        "deepnote_cell_height": 405.390625,
        "deepnote_cell_type": "markdown"
      },
      "source": [
        "## Method Syntax in Python: Code and Data Aren't Seperate\n",
        "\n",
        "Types in Python contain functions as well as data; when functions and data are combined, it's called an \"object\".  Everything in Python is an object, which means that all data contains some useful functions that can be used.  A function inside an object is called a **\"method\"**\n",
        "\n",
        "Methods in Python fall in two categories:\n",
        "\n",
        "  - **\"Dunder\" Methods:** These methods are named with double-underscores in the beginning and end.  They aren't meant to be used directly, but rather tell Python which method to call when an operator is used.  (For example, the `__add__` method is called when the `+` operator is in the code)\n",
        "  \n",
        "  - **Normal Methods:**  These methods are meant to be used directly, by putting a `.` after the object.  (For example, strings can count the number of times a letter appears: `'hello'.count('l')`)\n",
        "\n",
        "You can see what methods any object has by using the `dir()` function.  \n",
        "\n",
        "  - `dir()` usually produces a long list; using `print()` is a trick to make the whole list show up in the same line."
      ]
    },
    {
      "cell_type": "markdown",
      "metadata": {
        "cell_id": "df13c819f5514eada21d2238dd495766",
        "deepnote_cell_height": 52.390625,
        "deepnote_cell_type": "markdown"
      },
      "source": [
        "**Exercises**"
      ]
    },
    {
      "cell_type": "markdown",
      "metadata": {
        "cell_id": "f2d42bb4c13f46a3bcbd7024b4ddb324",
        "deepnote_cell_height": 52.390625,
        "deepnote_cell_type": "markdown"
      },
      "source": [
        "Print the list of methods that integers have. Do more methods start with an underscore or start with a letter?"
      ]
    },
    {
      "cell_type": "code",
      "execution_count": null,
      "metadata": {
        "cell_id": "6cc85bd2c4e74a25ab7990f8f5f24d78",
        "deepnote_cell_height": 172.171875,
        "deepnote_cell_type": "code",
        "deepnote_to_be_reexecuted": false,
        "execution_millis": 16,
        "execution_start": 1649927307434,
        "source_hash": "f62722ac",
        "tags": [
          "exercise"
        ]
      },
      "outputs": [],
      "source": []
    },
    {
      "cell_type": "markdown",
      "metadata": {
        "cell_id": "5fc6f6927ca94f32bf919908ff819d00",
        "deepnote_cell_height": 52.390625,
        "deepnote_cell_type": "markdown"
      },
      "source": [
        "Print the list of methods that None has.  How many don't start with an underscore?"
      ]
    },
    {
      "cell_type": "code",
      "execution_count": null,
      "metadata": {
        "cell_id": "2c0aedd7b6434f78b88e5d11106a00fd",
        "deepnote_cell_height": 117.0625,
        "deepnote_cell_type": "code",
        "deepnote_to_be_reexecuted": false,
        "execution_millis": 4,
        "execution_start": 1652166853076,
        "source_hash": "e67bf081",
        "tags": [
          "exercise"
        ]
      },
      "outputs": [],
      "source": []
    },
    {
      "cell_type": "markdown",
      "metadata": {
        "cell_id": "03d6b231949f4cd4a2788c87fd7e0998",
        "deepnote_cell_height": 52.390625,
        "deepnote_cell_type": "markdown"
      },
      "source": [
        "Print the list of methods that `data` has.  How many don't start with an underscore?"
      ]
    },
    {
      "cell_type": "code",
      "execution_count": null,
      "metadata": {
        "cell_id": "123e782fc26c4474aa7791d00c5c92ee",
        "deepnote_cell_height": 135.0625,
        "deepnote_cell_type": "code",
        "deepnote_to_be_reexecuted": false,
        "execution_millis": 5,
        "execution_start": 1652166861520,
        "source_hash": "74986d0f",
        "tags": [
          "exercise"
        ]
      },
      "outputs": [],
      "source": []
    },
    {
      "cell_type": "markdown",
      "metadata": {
        "cell_id": "6b23a4176d1a4786ab73988e948adad8",
        "deepnote_cell_height": 52.390625,
        "deepnote_cell_type": "markdown"
      },
      "source": [
        "Looking at the list of methods in `dir(int)`, would you assume that you use the addition operator with integers?  "
      ]
    },
    {
      "cell_type": "code",
      "execution_count": null,
      "metadata": {
        "cell_id": "38dd3f40eeca48238881e45fe5c22ba5",
        "deepnote_cell_height": 118.171875,
        "deepnote_cell_type": "code",
        "deepnote_to_be_reexecuted": false,
        "execution_millis": 2,
        "execution_start": 1649860992717,
        "source_hash": "84b424a0",
        "tags": [
          "exercise"
        ]
      },
      "outputs": [],
      "source": []
    },
    {
      "cell_type": "markdown",
      "metadata": {
        "cell_id": "91f1628958704826876f349c8615e376",
        "deepnote_cell_height": 52.390625,
        "deepnote_cell_type": "markdown"
      },
      "source": [
        "Try it (`3 + 2`)"
      ]
    },
    {
      "cell_type": "code",
      "execution_count": null,
      "metadata": {
        "cell_id": "effa25bb73d444d1ab3d188e44541790",
        "deepnote_cell_height": 118.171875,
        "deepnote_cell_type": "code",
        "deepnote_to_be_reexecuted": false,
        "execution_millis": 7,
        "execution_start": 1652166869407,
        "source_hash": "1a2bb36e",
        "tags": [
          "exercise"
        ]
      },
      "outputs": [],
      "source": []
    },
    {
      "cell_type": "markdown",
      "metadata": {
        "cell_id": "84d9cdeb80584c879655d9895470c102",
        "deepnote_cell_height": 52.390625,
        "deepnote_cell_type": "markdown"
      },
      "source": [
        "Try it using the method directly (`(3).__add__(2)`):"
      ]
    },
    {
      "cell_type": "code",
      "execution_count": null,
      "metadata": {
        "cell_id": "233ed4314e004378bf9e28cfd17b3573",
        "deepnote_cell_height": 136.171875,
        "deepnote_cell_type": "code",
        "deepnote_to_be_reexecuted": false,
        "execution_millis": 5,
        "execution_start": 1652166872012,
        "source_hash": "756b7985",
        "tags": [
          "exercise"
        ]
      },
      "outputs": [],
      "source": []
    },
    {
      "cell_type": "markdown",
      "metadata": {
        "cell_id": "7ff4222fd1584f85bddc15161baef150",
        "deepnote_cell_height": 52.390625,
        "deepnote_cell_type": "markdown"
      },
      "source": [
        "Looking at the list of methods in `dir(None)`, would you assume that you use the addition operator with None?"
      ]
    },
    {
      "cell_type": "code",
      "execution_count": null,
      "metadata": {
        "cell_id": "3da27864bd15482b86b0e7ef4df77df8",
        "deepnote_cell_height": 144.1875,
        "deepnote_cell_type": "code",
        "deepnote_to_be_reexecuted": false,
        "execution_millis": 313,
        "execution_start": 1652166884850,
        "source_hash": "2556c663",
        "tags": [
          "exercise"
        ]
      },
      "outputs": [],
      "source": []
    },
    {
      "cell_type": "markdown",
      "metadata": {
        "cell_id": "83b373ce2deb4f189d11e59bf3af650c",
        "deepnote_cell_height": 52.390625,
        "deepnote_cell_type": "markdown"
      },
      "source": [
        "Try it (`None + None`)  What type of error do you get?"
      ]
    },
    {
      "cell_type": "code",
      "execution_count": null,
      "metadata": {
        "cell_id": "a88a5e0ef859459490c101fda9ac15ee",
        "deepnote_cell_height": 144.1875,
        "deepnote_cell_type": "code",
        "deepnote_to_be_reexecuted": false,
        "execution_millis": 16,
        "execution_start": 1652166895020,
        "source_hash": "b4facc8e",
        "tags": [
          "exercise"
        ]
      },
      "outputs": [],
      "source": []
    },
    {
      "cell_type": "markdown",
      "metadata": {
        "cell_id": "0ae2c58ae7de438fae276225af9ae17d",
        "deepnote_cell_height": 52.390625,
        "deepnote_cell_type": "markdown"
      },
      "source": [
        "Try it using the using the method directly (`(None).__add__(None)`). what type of error do you get?"
      ]
    },
    {
      "cell_type": "code",
      "execution_count": null,
      "metadata": {
        "cell_id": "678b230a44da4699b15b1b5c881909f9",
        "deepnote_cell_height": 144.1875,
        "deepnote_cell_type": "code",
        "deepnote_to_be_reexecuted": false,
        "execution_millis": 7,
        "execution_start": 1652166901966,
        "source_hash": "2746a5a3",
        "tags": [
          "exercise"
        ]
      },
      "outputs": [],
      "source": []
    },
    {
      "cell_type": "markdown",
      "metadata": {
        "cell_id": "f40fb6e6b3ce4266878b26951af489fd",
        "deepnote_cell_height": 52.390625,
        "deepnote_cell_type": "markdown"
      },
      "source": [
        "Looking at the list of methods in `dir(str)`, would you assume that you use the addition operator with strings?"
      ]
    },
    {
      "cell_type": "code",
      "execution_count": null,
      "metadata": {
        "cell_id": "3f5d592d929648dc9d6ace6e5d1e15c1",
        "deepnote_cell_height": 118.171875,
        "deepnote_cell_type": "code",
        "deepnote_to_be_reexecuted": false,
        "execution_millis": 0,
        "execution_start": 1652166928892,
        "source_hash": "71a99c8a",
        "tags": [
          "exercise"
        ]
      },
      "outputs": [],
      "source": []
    },
    {
      "cell_type": "markdown",
      "metadata": {
        "cell_id": "fed11a792cd34e88b103e2a3187f2c1c",
        "deepnote_cell_height": 52.390625,
        "deepnote_cell_type": "markdown"
      },
      "source": [
        "Try it: `'Hello' + 'World'`"
      ]
    },
    {
      "cell_type": "code",
      "execution_count": null,
      "metadata": {
        "cell_id": "4262774c857741718cb608894403e971",
        "deepnote_cell_height": 118.171875,
        "deepnote_cell_type": "code",
        "deepnote_to_be_reexecuted": false,
        "execution_millis": 2,
        "execution_start": 1652166937562,
        "source_hash": "f58d1baa",
        "tags": [
          "exercise"
        ]
      },
      "outputs": [],
      "source": []
    },
    {
      "cell_type": "markdown",
      "metadata": {
        "cell_id": "98aa046c5d35438b9c83b6b071b429e7",
        "deepnote_cell_height": 52.390625,
        "deepnote_cell_type": "markdown"
      },
      "source": [
        "Try it using the method directly (`'Hello'.__add__('World')`):"
      ]
    },
    {
      "cell_type": "code",
      "execution_count": null,
      "metadata": {
        "cell_id": "cd6d768ad9784fe28e65c8a9edf26f7a",
        "deepnote_cell_height": 118.171875,
        "deepnote_cell_type": "code",
        "deepnote_to_be_reexecuted": false,
        "execution_millis": 6,
        "execution_start": 1652166945678,
        "source_hash": "4c1a61b0",
        "tags": [
          "exercise"
        ]
      },
      "outputs": [],
      "source": []
    },
    {
      "cell_type": "markdown",
      "metadata": {
        "cell_id": "c389be26a7f24a6fbc3a9e49920c81cc",
        "deepnote_cell_height": 52.390625,
        "deepnote_cell_type": "markdown"
      },
      "source": [
        "Looking at the list of methods in `dir(float)`, would you assume that you use the multiplication operator with floats?"
      ]
    },
    {
      "cell_type": "code",
      "execution_count": null,
      "metadata": {
        "cell_id": "de1a6abe25544211a766ca193f5238a8",
        "deepnote_cell_height": 118.171875,
        "deepnote_cell_type": "code",
        "deepnote_to_be_reexecuted": false,
        "execution_millis": 10,
        "execution_start": 1652166965212,
        "source_hash": "441069fa",
        "tags": [
          "exercise"
        ]
      },
      "outputs": [],
      "source": []
    },
    {
      "cell_type": "markdown",
      "metadata": {
        "cell_id": "ae9ad5a13dc24fda9dc248260bb70d0a",
        "deepnote_cell_height": 52.390625,
        "deepnote_cell_type": "markdown"
      },
      "source": [
        "Try it:"
      ]
    },
    {
      "cell_type": "code",
      "execution_count": null,
      "metadata": {
        "cell_id": "264871bc257046b6a3a0cfdf1418d1a8",
        "deepnote_cell_height": 118.171875,
        "deepnote_cell_type": "code",
        "deepnote_to_be_reexecuted": false,
        "execution_millis": 6,
        "execution_start": 1652166980700,
        "source_hash": "82647b7c",
        "tags": [
          "exercise"
        ]
      },
      "outputs": [],
      "source": []
    },
    {
      "cell_type": "markdown",
      "metadata": {
        "cell_id": "ea991457a99941868d0c9cdc5f3dcc2b",
        "deepnote_cell_height": 52.390625,
        "deepnote_cell_type": "markdown"
      },
      "source": [
        "Try it using the method directly:"
      ]
    },
    {
      "cell_type": "code",
      "execution_count": null,
      "metadata": {
        "cell_id": "ab9ac91e73b84bd1b4445c795352621c",
        "deepnote_cell_height": 118.171875,
        "deepnote_cell_type": "code",
        "deepnote_to_be_reexecuted": false,
        "execution_millis": 10,
        "execution_start": 1652166992567,
        "source_hash": "4567fa87",
        "tags": [
          "exercise"
        ]
      },
      "outputs": [],
      "source": []
    },
    {
      "cell_type": "markdown",
      "metadata": {
        "cell_id": "ec1e67ed40044272b1a52e1c07f9c5d6",
        "deepnote_cell_height": 52.390625,
        "deepnote_cell_type": "markdown"
      },
      "source": [
        "Looking at the list of methods in `dir(str)`, would you assume that you use the multiplication operator with strings?"
      ]
    },
    {
      "cell_type": "code",
      "execution_count": null,
      "metadata": {
        "cell_id": "270c1ca3b2334bb4a69ea8db6d4b0c79",
        "deepnote_cell_height": 118.171875,
        "deepnote_cell_type": "code",
        "deepnote_to_be_reexecuted": false,
        "execution_millis": 2,
        "execution_start": 1652167005722,
        "source_hash": "9a007c4b",
        "tags": [
          "exercise"
        ]
      },
      "outputs": [],
      "source": []
    },
    {
      "cell_type": "markdown",
      "metadata": {
        "cell_id": "2014aa09bdf141f29a10e808a4f7ddb3",
        "deepnote_cell_height": 52.390625,
        "deepnote_cell_type": "markdown"
      },
      "source": [
        "Try it: `'GTC' * 10`"
      ]
    },
    {
      "cell_type": "code",
      "execution_count": null,
      "metadata": {
        "cell_id": "4aa48bdb24b4454f83e3015bebfe0713",
        "deepnote_cell_height": 118.171875,
        "deepnote_cell_type": "code",
        "deepnote_to_be_reexecuted": false,
        "execution_millis": 7,
        "execution_start": 1652167010965,
        "source_hash": "9a5f820c",
        "tags": [
          "exercise"
        ]
      },
      "outputs": [],
      "source": []
    },
    {
      "cell_type": "markdown",
      "metadata": {
        "cell_id": "a65ee0a4f57f4f9cb6764212a32b6d3b",
        "deepnote_cell_height": 52.390625,
        "deepnote_cell_type": "markdown"
      },
      "source": [
        "Try it using the method directly:"
      ]
    },
    {
      "cell_type": "code",
      "execution_count": null,
      "metadata": {
        "cell_id": "5177eebb38e34a018bfeb957f2cd038b",
        "deepnote_cell_height": 118.171875,
        "deepnote_cell_type": "code",
        "deepnote_to_be_reexecuted": false,
        "execution_millis": 17,
        "execution_start": 1652167021879,
        "source_hash": "5a7ac96f",
        "tags": [
          "exercise"
        ]
      },
      "outputs": [],
      "source": []
    },
    {
      "cell_type": "markdown",
      "metadata": {},
      "source": [
        "Try multiplying two strings together. (e.g. `'Hello' * 'World'`  What do you observe? "
      ]
    },
    {
      "cell_type": "code",
      "execution_count": null,
      "metadata": {
        "tags": [
          "exercise"
        ]
      },
      "outputs": [],
      "source": []
    },
    {
      "cell_type": "markdown",
      "metadata": {
        "cell_id": "19edada4adcb442ca2ade0350e6b06c2",
        "deepnote_cell_height": 144.796875,
        "deepnote_cell_type": "markdown",
        "tags": []
      },
      "source": [
        "## Reviewing Terminology\n",
        "\n",
        "**Exercises**\n",
        "\n",
        "Is the following code an example of a used **function**, **method**, or **operator**?"
      ]
    },
    {
      "cell_type": "markdown",
      "metadata": {
        "cell_id": "a983ed96cf934267a69160c563cd3848",
        "deepnote_cell_height": 52.390625,
        "deepnote_cell_type": "markdown",
        "tags": []
      },
      "source": [
        "`sum([1, 2, 3])`"
      ]
    },
    {
      "cell_type": "code",
      "execution_count": null,
      "metadata": {
        "cell_id": "02dd5e9776f44fdabe95c64e282f023a",
        "deepnote_cell_height": 81,
        "deepnote_cell_type": "code",
        "deepnote_to_be_reexecuted": false,
        "execution_millis": 14,
        "execution_start": 1649921270062,
        "source_hash": "c500b8f9",
        "tags": [
          "exercise"
        ]
      },
      "outputs": [],
      "source": []
    },
    {
      "cell_type": "markdown",
      "metadata": {
        "cell_id": "b0903bf4baed42b491a8336182bd3fc6",
        "deepnote_cell_height": 52.390625,
        "deepnote_cell_type": "markdown",
        "tags": []
      },
      "source": [
        "`\n",
        "\"Hello\".count('l')`"
      ]
    },
    {
      "cell_type": "code",
      "execution_count": null,
      "metadata": {
        "cell_id": "eacb3564a36c4fd3945a6c65afa1e2c9",
        "deepnote_cell_height": 81,
        "deepnote_cell_type": "code",
        "deepnote_to_be_reexecuted": false,
        "execution_millis": 8,
        "execution_start": 1649921277659,
        "source_hash": "c500b8f9",
        "tags": [
          "exercise"
        ]
      },
      "outputs": [],
      "source": []
    },
    {
      "cell_type": "markdown",
      "metadata": {
        "cell_id": "7cd599f243ba4923a68d473bd8809740",
        "deepnote_cell_height": 52.390625,
        "deepnote_cell_type": "markdown",
        "tags": []
      },
      "source": [
        "`3 + 5`"
      ]
    },
    {
      "cell_type": "code",
      "execution_count": null,
      "metadata": {
        "cell_id": "d8744b8a5b264e018ad2e9a0de909818",
        "deepnote_cell_height": 81,
        "deepnote_cell_type": "code",
        "deepnote_to_be_reexecuted": false,
        "execution_millis": 0,
        "execution_start": 1649921295966,
        "source_hash": "c500b8f9",
        "tags": [
          "exercise"
        ]
      },
      "outputs": [],
      "source": []
    },
    {
      "cell_type": "markdown",
      "metadata": {
        "cell_id": "1293df7cdda64ef8884f51d5ea5db3d8",
        "deepnote_cell_height": 94.796875,
        "deepnote_cell_type": "markdown",
        "deepnote_to_be_reexecuted": false,
        "execution_millis": 12,
        "execution_start": 1649921314666,
        "source_hash": "aef9cab",
        "tags": []
      },
      "source": [
        "```python\n",
        "import math\n",
        "math.sqrt(72)\n",
        "```"
      ]
    },
    {
      "cell_type": "code",
      "execution_count": null,
      "metadata": {
        "cell_id": "74d130e7c6b04bc083de48455e40fd2c",
        "deepnote_cell_height": 81,
        "deepnote_cell_type": "code",
        "deepnote_to_be_reexecuted": false,
        "execution_millis": 2,
        "execution_start": 1652167033995,
        "source_hash": "2942f67c",
        "tags": [
          "exercise"
        ]
      },
      "outputs": [],
      "source": []
    },
    {
      "cell_type": "markdown",
      "metadata": {
        "cell_id": "93cf25d593394f5eb886cc66386f3e0b",
        "deepnote_cell_height": 52.390625,
        "deepnote_cell_type": "markdown",
        "deepnote_to_be_reexecuted": false,
        "execution_millis": 12,
        "execution_start": 1649921368499,
        "source_hash": "a522061c",
        "tags": []
      },
      "source": [
        "`(72).__mul__(3)`"
      ]
    },
    {
      "cell_type": "code",
      "execution_count": null,
      "metadata": {
        "cell_id": "74a3639f1fd54f7aa80cc6bbd4aeb000",
        "deepnote_cell_height": 81,
        "deepnote_cell_type": "code",
        "deepnote_to_be_reexecuted": false,
        "execution_millis": 3,
        "execution_start": 1652167037500,
        "source_hash": "bca66414",
        "tags": [
          "exercise"
        ]
      },
      "outputs": [],
      "source": []
    },
    {
      "cell_type": "markdown",
      "metadata": {
        "cell_id": "65b0026e954f45a19c1bd3df6afa004e",
        "deepnote_cell_height": 52.390625,
        "deepnote_cell_type": "markdown",
        "tags": []
      },
      "source": [
        "`mul(72, 3)`"
      ]
    },
    {
      "cell_type": "code",
      "execution_count": 1,
      "metadata": {
        "tags": [
          "exercise"
        ]
      },
      "outputs": [],
      "source": []
    }
  ],
  "metadata": {
    "deepnote": {},
    "deepnote_execution_queue": [],
    "deepnote_notebook_id": "bba9c98380ed461b8e487873cd007da0",
    "kernelspec": {
      "display_name": "Python 3.10.4 ('py10')",
      "language": "python",
      "name": "python3"
    },
    "language_info": {
      "codemirror_mode": {
        "name": "ipython",
        "version": 3
      },
      "file_extension": ".py",
      "mimetype": "text/x-python",
      "name": "python",
      "nbconvert_exporter": "python",
      "pygments_lexer": "ipython3",
      "version": "3.10.4"
    },
    "vscode": {
      "interpreter": {
        "hash": "d6852d01271bf8033dbdb7ec364b6f6e89fd52a18c6bf5b4c73e48c86329a8dd"
      }
    }
  },
  "nbformat": 4,
  "nbformat_minor": 4
}