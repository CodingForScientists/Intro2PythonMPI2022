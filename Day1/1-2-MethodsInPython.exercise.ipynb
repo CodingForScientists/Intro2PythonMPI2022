{
  "cells": [
    {
      "cell_type": "markdown",
      "metadata": {
        "cell_id": "00000-7845d921-1012-45bc-86a2-bda8514e63bb",
        "deepnote_cell_type": "markdown",
        "tags": []
      },
      "source": [
        "# Intro to Methods and Polymorphism\n",
        "## With Strings and DNA Sequences"
      ]
    },
    {
      "cell_type": "markdown",
      "metadata": {
        "cell_id": "00001-43f8a1d6-e7b8-4171-90f4-92124c8941b3",
        "deepnote_cell_type": "markdown",
        "tags": []
      },
      "source": [
        "`string` objects in Python represent text.  They can be created in several ways:\n",
        "\n",
        "```python\n",
        ">>> 'Hello'  # with apostrophes (\"single-quotes\")\n",
        "'Hello'\n",
        "\n",
        ">>> \"Hello\"  # with quotation marks (\"double-quotes\")\n",
        "\"Hello\"\n",
        "\n",
        ">>> \"\"\"Hello,     \n",
        "... my name is\n",
        "... Nick\"\"\"   # with triple-double-quotes (a \"docstring\", used for multi-line text)\n",
        "'Hello,\\nmy name is\\nNick'  \n",
        "\n",
        ">>> str(32)  # using the str() function to change into a string\n",
        "'32'\n",
        "```"
      ]
    },
    {
      "cell_type": "markdown",
      "metadata": {
        "cell_id": "00002-b250d3c5-ff38-4c46-8e80-8c10d039b870",
        "deepnote_cell_type": "markdown",
        "tags": []
      },
      "source": [
        "Nucleotide sequences are often represented as strings:\n",
        "\n",
        "```python\n",
        ">>> seq = 'GCATTGGCT'\n",
        "```"
      ]
    },
    {
      "cell_type": "markdown",
      "metadata": {
        "cell_id": "00003-08ad4179-02cc-440c-b42a-5679cd9cfe34",
        "deepnote_cell_type": "markdown",
        "tags": []
      },
      "source": [
        "## Built-In String Operations, Functions, and Methods\n",
        "\n",
        "Modify the dna sequences below in a single line of code to match what's asked for.  Functions and methods that may be used are:\n",
        "\n",
        "### Operations\n",
        "\n",
        "The same operations we've used on numbers and lists work on strings!\n",
        "\n",
        "  - `'GTC' * 3  # Repeats a string N times`\n",
        "  - `'GTC' + 'GTC'  # Concatenates two strings`\n",
        "  - `'GTC'[0]`  \n",
        "  - `'GTC'[-1]`\n",
        "  - `'GTC'[1:]`\n",
        "  - `'GTC'[:-1]`\n",
        "  - `'GTC'[::-1]   # Reverses the sequence`\n",
        "  - `'GTC' == 'GTC'  # If they are the same, then True`\n",
        "  - `'GTC' != 'GTC'  # If they are different, then True`\n",
        "\n",
        "\n",
        "### Built-In Functions for Strings and their Methods\n",
        "\n",
        "Strings also contain their own functions.  Functions inside types are called **\"Methods\"**, and they are a way to automatically put the string into the function.\n",
        "\n",
        "| Function | Method Syntax Equivalent |\n",
        "| :--           |  :---- |\n",
        "| `str.count('GTC', 'A')` |`'GTC'.count('A')` |\n",
        "| `str.upper('GtC')` | `'GtC'.upper()` |\n",
        "| `str.lower('GTc')` |  `'GTc'.lower()` |\n",
        "| `str.isdigit('GTC')` |`'GTC'.isdigit()` |\n",
        "| `str.index('GTC', 'T')` | `'GTC'.index('T')` |\n",
        "| `str.replace('GTC', 'G', 'C')` |  `'GTC'.replace('G', 'C')` |\n",
        "|  `str.split('GTC-CCA', '-')` | `'GTC-CCA'.split('-')` |\n",
        "| `len('GTC')` |  -None- |\n"
      ]
    },
    {
      "cell_type": "markdown",
      "metadata": {
        "cell_id": "00002-fc392076-c4c5-4c65-ace1-951f9ab54146",
        "deepnote_cell_type": "markdown",
        "tags": []
      },
      "source": [
        "**Exercises**"
      ]
    },
    {
      "cell_type": "markdown",
      "metadata": {
        "cell_id": "00007-4c2309f9-6609-45c5-a89e-9868664b5f69",
        "deepnote_cell_type": "markdown",
        "tags": []
      },
      "source": [
        "**Example**: Count the Number of \"G\" in the following sequence:"
      ]
    },
    {
      "cell_type": "code",
      "execution_count": 2,
      "metadata": {
        "cell_id": "00003-582507dc-2266-48b1-a446-34c026e4cdee",
        "deepnote_cell_type": "code",
        "deepnote_to_be_reexecuted": false,
        "execution_millis": 4,
        "execution_start": 1634079040821,
        "source_hash": "41a532a",
        "tags": []
      },
      "outputs": [
        {
          "data": {
            "text/plain": [
              "6"
            ]
          },
          "execution_count": 2,
          "metadata": {},
          "output_type": "execute_result"
        }
      ],
      "source": [
        "seq = \"GTGTCAGTCCCCATGAATCGATAG\"\n",
        "seq.count('G')"
      ]
    },
    {
      "cell_type": "markdown",
      "metadata": {},
      "source": [
        "Count the Number of \"C\" in the following sequence:"
      ]
    },
    {
      "cell_type": "code",
      "execution_count": 4,
      "metadata": {},
      "outputs": [],
      "source": [
        "seq = \"GTGTCAGTCCCCATGAATCGATAG\""
      ]
    },
    {
      "cell_type": "code",
      "execution_count": 5,
      "metadata": {
        "tags": [
          "exercise"
        ]
      },
      "outputs": [],
      "source": []
    },
    {
      "cell_type": "markdown",
      "metadata": {
        "cell_id": "00004-d51b6a81-a526-47a6-a3a1-1a373b6ac4a5",
        "deepnote_cell_type": "markdown",
        "tags": []
      },
      "source": [
        "Count the number of \"AT\" repeats in the following sequence:"
      ]
    },
    {
      "cell_type": "code",
      "execution_count": null,
      "metadata": {
        "cell_id": "00008-077a4e44-89ef-4a27-8034-88626e96f50c",
        "deepnote_cell_type": "code",
        "deepnote_to_be_reexecuted": false,
        "execution_millis": 1,
        "execution_start": 1634079085991,
        "source_hash": "41a532a",
        "tags": []
      },
      "outputs": [],
      "source": [
        "seq = \"GTGTCAGTCCCCATGAATCGATAG\""
      ]
    },
    {
      "cell_type": "code",
      "execution_count": 3,
      "metadata": {
        "tags": [
          "exercise"
        ]
      },
      "outputs": [],
      "source": []
    },
    {
      "cell_type": "markdown",
      "metadata": {
        "cell_id": "00008-25413327-f1e9-40f6-939a-0e9d8f1b5e5e",
        "deepnote_cell_type": "markdown",
        "tags": []
      },
      "source": [
        "Concatenate the following two sequences (i.e. combine them into one sequence)"
      ]
    },
    {
      "cell_type": "code",
      "execution_count": null,
      "metadata": {
        "cell_id": "00010-59d740f3-a38c-41da-9611-1d8b768336a4",
        "deepnote_cell_type": "code",
        "deepnote_to_be_reexecuted": false,
        "execution_millis": 2,
        "execution_start": 1634079160102,
        "source_hash": "e000e2b3",
        "tags": []
      },
      "outputs": [],
      "source": [
        "seq1 = \"GTGTCAGT\"\n",
        "seq2 = \"TGAATCGATAG\""
      ]
    },
    {
      "cell_type": "code",
      "execution_count": 6,
      "metadata": {
        "tags": [
          "exercise"
        ]
      },
      "outputs": [],
      "source": []
    },
    {
      "cell_type": "markdown",
      "metadata": {
        "cell_id": "00011-2ab3529f-0ccb-4f66-8bdc-3ea3f6010ccc",
        "deepnote_cell_type": "markdown",
        "tags": []
      },
      "source": [
        "How long is the following sequence?"
      ]
    },
    {
      "cell_type": "code",
      "execution_count": null,
      "metadata": {
        "cell_id": "00012-e4360748-342a-4d43-880a-e93ed8122d04",
        "deepnote_cell_type": "code",
        "deepnote_to_be_reexecuted": false,
        "execution_millis": 1,
        "execution_start": 1634080856782,
        "source_hash": "41a532a",
        "tags": []
      },
      "outputs": [],
      "source": [
        "seq = \"GTGTCAGTCCCCATGAATCGATAG\""
      ]
    },
    {
      "cell_type": "code",
      "execution_count": 7,
      "metadata": {
        "tags": [
          "exercise"
        ]
      },
      "outputs": [],
      "source": []
    },
    {
      "cell_type": "markdown",
      "metadata": {
        "cell_id": "00013-3eff39fd-3694-4ea8-b469-7338461c05de",
        "deepnote_cell_type": "markdown",
        "tags": []
      },
      "source": [
        "What is the 2nd nucleotide in this sequence?"
      ]
    },
    {
      "cell_type": "code",
      "execution_count": null,
      "metadata": {
        "cell_id": "00014-d9885058-078e-4316-bc75-a3be08a63e66",
        "deepnote_cell_type": "code",
        "deepnote_to_be_reexecuted": false,
        "execution_millis": 1,
        "execution_start": 1634081148579,
        "source_hash": "41a532a",
        "tags": []
      },
      "outputs": [],
      "source": [
        "seq = \"GTGTCAGTCCCCATGAATCGATAG\""
      ]
    },
    {
      "cell_type": "code",
      "execution_count": 10,
      "metadata": {
        "tags": [
          "exercise"
        ]
      },
      "outputs": [],
      "source": []
    },
    {
      "cell_type": "markdown",
      "metadata": {
        "cell_id": "00015-762e255a-0236-47f1-8b05-f2f1ff08ecc4",
        "deepnote_cell_type": "markdown",
        "tags": []
      },
      "source": [
        "What is the 3rd-from-the-last nucleotide in this sequence?"
      ]
    },
    {
      "cell_type": "code",
      "execution_count": null,
      "metadata": {
        "cell_id": "00016-740974fb-b373-443e-9079-25e9a29b1f99",
        "deepnote_cell_type": "code",
        "deepnote_to_be_reexecuted": false,
        "execution_millis": 1,
        "execution_start": 1634081182699,
        "source_hash": "41a532a",
        "tags": []
      },
      "outputs": [],
      "source": [
        "seq = \"GTGTCAGTCCCCATGAATCGATAG\""
      ]
    },
    {
      "cell_type": "code",
      "execution_count": 11,
      "metadata": {
        "tags": [
          "exercise"
        ]
      },
      "outputs": [],
      "source": []
    },
    {
      "cell_type": "markdown",
      "metadata": {
        "cell_id": "00010-cba5a2d8-f65c-4394-946c-4a98eefd7630",
        "deepnote_cell_type": "markdown",
        "tags": []
      },
      "source": [
        "Repeat the following sequence 13 times"
      ]
    },
    {
      "cell_type": "code",
      "execution_count": null,
      "metadata": {
        "cell_id": "00013-93c65027-89e2-4a78-a619-dc5b0daf8f83",
        "deepnote_cell_type": "code",
        "deepnote_to_be_reexecuted": false,
        "execution_millis": 0,
        "execution_start": 1634079205489,
        "source_hash": "e8325bd0",
        "tags": []
      },
      "outputs": [],
      "source": [
        "gc = \"GC\""
      ]
    },
    {
      "cell_type": "code",
      "execution_count": 12,
      "metadata": {
        "tags": [
          "exercise"
        ]
      },
      "outputs": [],
      "source": []
    },
    {
      "cell_type": "markdown",
      "metadata": {
        "cell_id": "00013-0473c5b5-e6a6-4e56-8e4a-54d887bdf5a7",
        "deepnote_cell_type": "markdown",
        "tags": []
      },
      "source": [
        "Replace the incorrect letter with an empty string (i.e. delete the letter)  (Hint: an empty string is just a pair of quotes, like `''` or `\"\"`)"
      ]
    },
    {
      "cell_type": "code",
      "execution_count": null,
      "metadata": {
        "cell_id": "00014-21679293-a7e9-4f78-ab6a-5ed90cec9782",
        "deepnote_cell_type": "code",
        "deepnote_to_be_reexecuted": false,
        "execution_millis": 1,
        "execution_start": 1634079290023,
        "source_hash": "4bf1e4b3",
        "tags": []
      },
      "outputs": [],
      "source": [
        "seq = \"GTGXXGTXCCXCCATGXAATCGXATA\""
      ]
    },
    {
      "cell_type": "code",
      "execution_count": 13,
      "metadata": {
        "tags": [
          "exercise"
        ]
      },
      "outputs": [],
      "source": []
    },
    {
      "cell_type": "markdown",
      "metadata": {
        "cell_id": "00021-8331d446-a336-4950-ab3e-3584761b9945",
        "deepnote_cell_type": "markdown",
        "tags": []
      },
      "source": [
        "Keep only the first six nucleotides in this sequence"
      ]
    },
    {
      "cell_type": "code",
      "execution_count": 15,
      "metadata": {
        "cell_id": "00022-3536ebf8-08f8-4e96-9faf-6a8b5a304013",
        "deepnote_cell_type": "code",
        "deepnote_to_be_reexecuted": false,
        "execution_millis": 5,
        "execution_start": 1634081214827,
        "source_hash": "41a532a",
        "tags": []
      },
      "outputs": [],
      "source": [
        "seq = \"GTGTCAGTCCCCATGAATCGATAG\""
      ]
    },
    {
      "cell_type": "code",
      "execution_count": 16,
      "metadata": {
        "tags": [
          "exercise"
        ]
      },
      "outputs": [],
      "source": []
    },
    {
      "cell_type": "markdown",
      "metadata": {
        "cell_id": "00014-d7405393-4e09-4348-b3eb-73f3d5c508f4",
        "deepnote_cell_type": "markdown",
        "tags": []
      },
      "source": [
        "Standardize the formatting of this sequence by either upper- or lower-casing the letters"
      ]
    },
    {
      "cell_type": "code",
      "execution_count": null,
      "metadata": {
        "cell_id": "00017-9265e569-65b1-4e0e-a7f1-03f600501257",
        "deepnote_cell_type": "code",
        "deepnote_to_be_reexecuted": false,
        "execution_millis": 1,
        "execution_start": 1634079427930,
        "source_hash": "5ceb027e",
        "tags": []
      },
      "outputs": [],
      "source": [
        "seq = \"GtCGAaaCCgTaGcTAgc\""
      ]
    },
    {
      "cell_type": "code",
      "execution_count": 17,
      "metadata": {
        "tags": [
          "exercise"
        ]
      },
      "outputs": [],
      "source": []
    },
    {
      "cell_type": "markdown",
      "metadata": {
        "cell_id": "00017-2115d821-3cf9-4b10-9a11-3b91c7d18d06",
        "deepnote_cell_type": "markdown",
        "tags": []
      },
      "source": [
        "Split the following string around the empty space into a list of sequences (Hint: the string for a space is quotes with a space between them, like `' '` or `\" \"`)"
      ]
    },
    {
      "cell_type": "code",
      "execution_count": null,
      "metadata": {
        "cell_id": "00017-cd7e0ba1-54d1-4833-a336-5be1d6e9d7ec",
        "deepnote_cell_type": "code",
        "deepnote_to_be_reexecuted": false,
        "execution_millis": 1,
        "execution_start": 1634079573701,
        "source_hash": "140b9420",
        "tags": []
      },
      "outputs": [],
      "source": [
        "seqs = \"GTTCGAAAG GACCTGATTATAG AACCGATTTA\""
      ]
    },
    {
      "cell_type": "code",
      "execution_count": 20,
      "metadata": {
        "tags": [
          "exercise"
        ]
      },
      "outputs": [],
      "source": []
    },
    {
      "cell_type": "markdown",
      "metadata": {
        "cell_id": "00027-a018e06b-da15-4a11-9acc-1a09569311bd",
        "deepnote_cell_type": "markdown",
        "tags": []
      },
      "source": [
        "Reverse this sequence"
      ]
    },
    {
      "cell_type": "code",
      "execution_count": null,
      "metadata": {
        "cell_id": "00027-44bc90e1-94c1-4dd5-acb0-6eead8708776",
        "deepnote_cell_type": "code",
        "deepnote_to_be_reexecuted": false,
        "execution_millis": 4,
        "execution_start": 1634082719763,
        "source_hash": "41a532a",
        "tags": []
      },
      "outputs": [],
      "source": [
        "seq = \"GTGTCAGTCCCCATGAATCGATAG\""
      ]
    },
    {
      "cell_type": "code",
      "execution_count": 21,
      "metadata": {
        "tags": [
          "exercise"
        ]
      },
      "outputs": [],
      "source": []
    },
    {
      "cell_type": "markdown",
      "metadata": {
        "cell_id": "00019-ff7565ff-ad94-4e5c-93da-0cfda3494505",
        "deepnote_cell_type": "markdown",
        "tags": []
      },
      "source": [
        "What percentage of strong nucleotides (G and C) are there in this sequence?  (Hint: count the Gs and Cs, then divide by the total number of nucleotides)"
      ]
    },
    {
      "cell_type": "code",
      "execution_count": null,
      "metadata": {
        "cell_id": "00020-a614801b-0e9e-4aec-899e-371d4dab1e91",
        "deepnote_cell_type": "code",
        "deepnote_to_be_reexecuted": false,
        "execution_millis": 3,
        "execution_start": 1634082723387,
        "source_hash": "41a532a",
        "tags": []
      },
      "outputs": [],
      "source": [
        "seq = \"GTGTCAGTCCCCATGAATCGATAG\""
      ]
    },
    {
      "cell_type": "code",
      "execution_count": 22,
      "metadata": {
        "tags": [
          "exercise"
        ]
      },
      "outputs": [],
      "source": []
    },
    {
      "cell_type": "markdown",
      "metadata": {
        "cell_id": "00031-9f1903c4-213b-46ae-870b-3b78d6cb6967",
        "deepnote_cell_type": "markdown",
        "tags": []
      },
      "source": [
        "Is this sequence the same forwards and backwards (i.e. a palindrome)?"
      ]
    },
    {
      "cell_type": "code",
      "execution_count": null,
      "metadata": {
        "cell_id": "00032-e853c1a7-4ed8-4f0a-96f8-01f45a530915",
        "deepnote_cell_type": "code",
        "deepnote_to_be_reexecuted": false,
        "execution_millis": 1,
        "execution_start": 1634083069195,
        "source_hash": "e9788ffd",
        "tags": []
      },
      "outputs": [],
      "source": [
        "seq = \"TCGATCTAGCGCGAATATCGGAGAAGAGGCTATAAGCGCGATCTAGCT\""
      ]
    },
    {
      "cell_type": "code",
      "execution_count": 23,
      "metadata": {
        "tags": [
          "exercise"
        ]
      },
      "outputs": [],
      "source": []
    },
    {
      "cell_type": "markdown",
      "metadata": {
        "cell_id": "00018-839a5e65-599d-476a-ab1c-fe84fc113e9f",
        "deepnote_cell_type": "markdown",
        "tags": []
      },
      "source": [
        "## Text Files\n",
        "\n",
        "### Writing Strings to Files\n",
        "\n",
        "Strings can be saved to text files by making a `File` object with the `open()` function and writing the string to it.  Here are two ways to do it:\n",
        "\n",
        "```python\n",
        "my_file = open('myfile.txt', 'w')  # get a file object open in 'write' mode\n",
        "my_file.write('This is my text')  # call the file.write() method\n",
        "my_file.close()  # call the file.close() method\n",
        "```\n",
        "\n",
        "\n",
        "### Reading Strings from Files\n",
        "\n",
        "Reading works in a similar way\n",
        "\n",
        "```python\n",
        "my_file = open('myfile.txt')\n",
        "text = my_file.read()\n",
        "my_file.close()\n",
        "```\n"
      ]
    },
    {
      "cell_type": "markdown",
      "metadata": {
        "cell_id": "00034-f7dafb88-24f7-4417-97be-30f1d0e06dd3",
        "deepnote_cell_type": "markdown",
        "tags": []
      },
      "source": [
        "**Exercises**:\n",
        "\n",
        "Write the following sequence to a text file named \"sequence.txt\":"
      ]
    },
    {
      "cell_type": "code",
      "execution_count": null,
      "metadata": {
        "cell_id": "00035-fdba6b56-4f40-4bb9-9b4d-0431c64ea010",
        "deepnote_cell_type": "code",
        "tags": []
      },
      "outputs": [],
      "source": [
        "seq = \"GTGTCAGTCCCCATGAATCGATAG\""
      ]
    },
    {
      "cell_type": "code",
      "execution_count": 24,
      "metadata": {
        "tags": [
          "exercise"
        ]
      },
      "outputs": [],
      "source": []
    },
    {
      "cell_type": "markdown",
      "metadata": {
        "cell_id": "00036-b63fba54-258e-4382-b6a8-342d4eb8635c",
        "deepnote_cell_type": "markdown",
        "tags": []
      },
      "source": [
        "Read the sequence from the file back into Python."
      ]
    },
    {
      "cell_type": "code",
      "execution_count": 28,
      "metadata": {
        "cell_id": "00037-fc9d7632-cbd3-4ebf-8532-0b1e82d4c84f",
        "deepnote_cell_type": "code",
        "tags": [
          "parameters",
          "exercise"
        ]
      },
      "outputs": [],
      "source": []
    },
    {
      "cell_type": "markdown",
      "metadata": {
        "cell_id": "00030-84725862-0db5-4314-946d-d1c2e457794c",
        "deepnote_cell_type": "markdown",
        "tags": []
      },
      "source": [
        "### Online Text\n",
        "\n",
        "For getting text data from the internet, we can use the `urllib` package, which contains multiple subpackages for handling web requests and responses.\n",
        "\n",
        "```python\n",
        "from urllib.request import urlopen\n",
        "url = \"https://docs.python-requests.org/en/master/\"\n",
        "data = urlopen(url).read()\n",
        "text = data.decode()\n",
        "```"
      ]
    },
    {
      "cell_type": "markdown",
      "metadata": {
        "cell_id": "00032-ca9af187-e068-4870-ba1c-650da235a862",
        "deepnote_cell_type": "markdown",
        "tags": []
      },
      "source": [
        "**Exercises**"
      ]
    },
    {
      "cell_type": "markdown",
      "metadata": {
        "cell_id": "00033-887069d7-4bd8-4a90-ba05-3e389ecf5e1f",
        "deepnote_cell_type": "markdown",
        "tags": []
      },
      "source": [
        "Roughly how many letters are in William Shakespeare's play \"Romeo and Juliet\"?  Use the following link to the play:"
      ]
    },
    {
      "cell_type": "code",
      "execution_count": 1,
      "metadata": {
        "cell_id": "00035-8cea9996-e0c1-4e00-9666-8854e88dea7c",
        "deepnote_cell_type": "code",
        "deepnote_to_be_reexecuted": false,
        "execution_millis": 142,
        "execution_start": 1634080828800,
        "source_hash": "ba84b533",
        "tags": []
      },
      "outputs": [],
      "source": [
        "url = \"https://raw.githubusercontent.com/cgovella/learning/master/edx-python/case%20studies/gutenverg/Books/English/shakespeare/Romeo%20and%20Juliet.txt\""
      ]
    },
    {
      "cell_type": "code",
      "execution_count": 14,
      "metadata": {
        "tags": [
          "exercise"
        ]
      },
      "outputs": [],
      "source": []
    },
    {
      "cell_type": "markdown",
      "metadata": {
        "cell_id": "00037-2ec7639b-5370-4f67-829a-0e83f2a092fb",
        "deepnote_cell_type": "markdown",
        "tags": []
      },
      "source": [
        "Does the word \"Romeo\" or \"Juliet\" appear more often in the text?"
      ]
    },
    {
      "cell_type": "code",
      "execution_count": 15,
      "metadata": {
        "cell_id": "00038-bbb31d33-f40e-46c1-b5b2-633cdc3aab8b",
        "deepnote_cell_type": "code",
        "tags": [
          "exercise"
        ]
      },
      "outputs": [],
      "source": []
    },
    {
      "cell_type": "markdown",
      "metadata": {
        "cell_id": "00036-4b7eb191-8d0b-4988-9ffa-f42ff5558292",
        "deepnote_cell_type": "markdown",
        "tags": []
      },
      "source": [
        "Write the play into a text file called \"romeo_and_juliet.txt\""
      ]
    },
    {
      "cell_type": "code",
      "execution_count": 34,
      "metadata": {
        "tags": [
          "exercise"
        ]
      },
      "outputs": [],
      "source": []
    }
  ],
  "metadata": {
    "deepnote": {
      "is_reactive": false
    },
    "deepnote_execution_queue": [],
    "deepnote_notebook_id": "e2c9dcf3-b782-4bae-addb-408b3fecdde6",
    "kernelspec": {
      "display_name": "Python 3 (ipykernel)",
      "language": "python",
      "name": "python3"
    },
    "language_info": {
      "codemirror_mode": {
        "name": "ipython",
        "version": 3
      },
      "file_extension": ".py",
      "mimetype": "text/x-python",
      "name": "python",
      "nbconvert_exporter": "python",
      "pygments_lexer": "ipython3",
      "version": "3.9.12"
    },
    "vscode": {
      "interpreter": {
        "hash": "d6852d01271bf8033dbdb7ec364b6f6e89fd52a18c6bf5b4c73e48c86329a8dd"
      }
    }
  },
  "nbformat": 4,
  "nbformat_minor": 4
}