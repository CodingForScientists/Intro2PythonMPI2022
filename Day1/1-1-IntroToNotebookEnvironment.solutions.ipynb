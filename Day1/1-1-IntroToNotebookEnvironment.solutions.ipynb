{
  "cells": [
    {
      "cell_type": "markdown",
      "id": "8008a9ad",
      "metadata": {
        "cell_id": "00001-28a130e7-03d1-4df5-aafc-5389add56fb3",
        "deepnote_cell_type": "markdown",
        "slideshow": {
          "slide_type": "slide"
        }
      },
      "source": [
        "## Exercises: Using Python as a calculator\n",
        "\n",
        "Using the operators in the table below, ask Python to solve these difficult math equations:\n",
        "\n",
        "|Assign to a Variable, | | Add,  | Subract, | Multiply, | Divide, | Power, | Integer Divide, | Remainder after Division | \n",
        "|  :---------------:  | :-: |:---:| :-----: | :------: | :----: | :---: | :------------: | :----------------------: |\n",
        "|         =           | | +   |    -    |    *     |   /    |   **  |       //       |           %              |"
      ]
    },
    {
      "cell_type": "markdown",
      "id": "31e16b76",
      "metadata": {},
      "source": [
        "**Exercises**"
      ]
    },
    {
      "cell_type": "markdown",
      "id": "dc07f880",
      "metadata": {
        "cell_id": "00002-c9c2e749-28f5-4625-8619-46b9a359ffbe",
        "deepnote_cell_type": "markdown",
        "slideshow": {
          "slide_type": "subslide"
        }
      },
      "source": [
        "**Example**: What is two plus three?"
      ]
    },
    {
      "cell_type": "code",
      "execution_count": null,
      "id": "53916175",
      "metadata": {
        "cell_id": "00003-0e53eb7a-7ebd-4c2e-893c-8b23a9857a1b",
        "deepnote_cell_type": "code",
        "deepnote_to_be_reexecuted": false,
        "execution_millis": 5,
        "execution_start": 1628676485443,
        "source_hash": "619fab48"
      },
      "outputs": [
        {
          "data": {
            "text/plain": [
              "5"
            ]
          },
          "execution_count": 2,
          "metadata": {},
          "output_type": "execute_result"
        }
      ],
      "source": [
        "2 + 3"
      ]
    },
    {
      "cell_type": "markdown",
      "id": "8872587f",
      "metadata": {
        "cell_id": "00004-9ec7ee51-60cf-4628-9b6d-470c372c8d8b",
        "deepnote_cell_type": "markdown",
        "slideshow": {
          "slide_type": "fragment"
        }
      },
      "source": [
        "What is two times three?"
      ]
    },
    {
      "cell_type": "code",
      "execution_count": null,
      "id": "1080d6fb",
      "metadata": {
        "cell_id": "00005-84ecdc27-da88-47b3-9d92-ba4304899c99",
        "deepnote_cell_type": "code",
        "deepnote_to_be_reexecuted": false,
        "execution_millis": 8,
        "execution_start": 1628676535816,
        "source_hash": "3380e881",
        "tags": [
          "exercise"
        ]
      },
      "outputs": [
        {
          "data": {
            "text/plain": [
              "6"
            ]
          },
          "execution_count": 4,
          "metadata": {},
          "output_type": "execute_result"
        }
      ],
      "source": [
        "2 * 3"
      ]
    },
    {
      "cell_type": "markdown",
      "id": "af3fc007",
      "metadata": {
        "cell_id": "00006-2032879a-1cfe-4b45-9aa8-5142eddf6c29",
        "deepnote_cell_type": "markdown",
        "slideshow": {
          "slide_type": "fragment"
        }
      },
      "source": [
        "What is two to the third power?"
      ]
    },
    {
      "cell_type": "code",
      "execution_count": null,
      "id": "9a35f0fc",
      "metadata": {
        "cell_id": "00007-a424d9fa-c8f8-4e71-b54b-6c19b808c0d4",
        "deepnote_cell_type": "code",
        "deepnote_to_be_reexecuted": false,
        "execution_millis": 6,
        "execution_start": 1628676549218,
        "source_hash": "9a930071",
        "tags": [
          "exercise"
        ]
      },
      "outputs": [
        {
          "data": {
            "text/plain": [
              "8"
            ]
          },
          "execution_count": 5,
          "metadata": {},
          "output_type": "execute_result"
        }
      ],
      "source": [
        "2 ** 3"
      ]
    },
    {
      "cell_type": "markdown",
      "id": "0e934522",
      "metadata": {
        "cell_id": "00008-2a3f8a83-bd1b-4dac-99e1-1462b4ad495c",
        "deepnote_cell_type": "markdown",
        "slideshow": {
          "slide_type": "subslide"
        }
      },
      "source": [
        "How many (whole) times does 7 go into 100?"
      ]
    },
    {
      "cell_type": "code",
      "execution_count": null,
      "id": "bf6e6ed6",
      "metadata": {
        "cell_id": "00009-da5e527b-c9d9-4152-9754-9b8e5266aa38",
        "deepnote_cell_type": "code",
        "deepnote_to_be_reexecuted": false,
        "execution_millis": 7,
        "execution_start": 1628676580555,
        "source_hash": "fbf46bc3",
        "tags": [
          "exercise"
        ]
      },
      "outputs": [
        {
          "data": {
            "text/plain": [
              "14"
            ]
          },
          "execution_count": 8,
          "metadata": {},
          "output_type": "execute_result"
        }
      ],
      "source": [
        "100 // 7"
      ]
    },
    {
      "cell_type": "markdown",
      "id": "89359a02",
      "metadata": {
        "cell_id": "00010-284670ab-2bfa-486f-b01f-f8c0618137b0",
        "deepnote_cell_type": "markdown"
      },
      "source": [
        "What is the remainder after dividing 3 from 2?"
      ]
    },
    {
      "cell_type": "code",
      "execution_count": null,
      "id": "69ae2add",
      "metadata": {
        "cell_id": "00011-728d2f0f-c91b-407e-ba7e-c206fb9d1eb2",
        "deepnote_cell_type": "code",
        "deepnote_to_be_reexecuted": false,
        "execution_millis": 2,
        "execution_start": 1628676625295,
        "source_hash": "fdb883b5",
        "tags": [
          "exercise"
        ]
      },
      "outputs": [
        {
          "data": {
            "text/plain": [
              "2"
            ]
          },
          "execution_count": 12,
          "metadata": {},
          "output_type": "execute_result"
        }
      ],
      "source": [
        "100 % 7"
      ]
    },
    {
      "cell_type": "markdown",
      "id": "aeef5068",
      "metadata": {
        "cell_id": "00012-d09cf09b-b483-4171-8b15-a7250f17bc0c",
        "deepnote_cell_type": "markdown",
        "slideshow": {
          "slide_type": "slide"
        }
      },
      "source": [
        "# Testing Your Logic\n",
        "## Bools\n",
        "\n",
        "You can also ask Python logical questions (questions that have a \"True\" or \"False\" answer). \n",
        "\n",
        "| \"Is Equal to\" | \"Is Greater than\" | \"Is Greater than or Equal to\"|  \"Is not Equal to\" |\n",
        "|  :----------: |  :----------:     |  :----------: |  :----------: |\n",
        "| ==            |   >               |   >=          |  !=  |\n",
        "\n",
        "Python will return \"True\" if the statement is true, \"False\" if False\n",
        "\n",
        "```python\n",
        ">>> 3 > 2\n",
        "True\n",
        "\n",
        ">>> 3 < 2\n",
        "False\n",
        "\n",
        ">>> 3 == 2\n",
        "False\n",
        "```\n",
        "\n"
      ]
    },
    {
      "cell_type": "markdown",
      "id": "4c6bf91b",
      "metadata": {},
      "source": [
        "**Exercises**\n",
        "\n",
        "Using logical operators, decide if the following assertions are True or False:"
      ]
    },
    {
      "cell_type": "markdown",
      "id": "59044b43",
      "metadata": {
        "cell_id": "00013-9c8f1603-b872-44f4-8c3e-0a84cf5c33e5",
        "deepnote_cell_type": "markdown",
        "slideshow": {
          "slide_type": "subslide"
        }
      },
      "source": [
        "**Example**\n",
        "1. One hundred is bigger than ten."
      ]
    },
    {
      "cell_type": "code",
      "execution_count": null,
      "id": "c79e367b",
      "metadata": {
        "cell_id": "00014-c1c7ccca-d6f8-4966-a012-474215312418",
        "deepnote_cell_type": "code",
        "deepnote_to_be_reexecuted": false,
        "execution_millis": 9,
        "execution_start": 1628676648066,
        "source_hash": "f271e650"
      },
      "outputs": [
        {
          "data": {
            "text/plain": [
              "True"
            ]
          },
          "execution_count": 13,
          "metadata": {},
          "output_type": "execute_result"
        }
      ],
      "source": [
        "100 > 10"
      ]
    },
    {
      "cell_type": "markdown",
      "id": "4fa77e58",
      "metadata": {
        "cell_id": "00015-4ac39b09-79ce-454c-a8be-b9ad3c774659",
        "deepnote_cell_type": "markdown",
        "slideshow": {
          "slide_type": "fragment"
        }
      },
      "source": [
        "2. Thirty squared is not equal to nine-hundred."
      ]
    },
    {
      "cell_type": "code",
      "execution_count": null,
      "id": "fc00dafe",
      "metadata": {
        "cell_id": "00016-4dde3318-22af-4e78-a3f5-0ca5d58c4272",
        "deepnote_cell_type": "code",
        "deepnote_to_be_reexecuted": false,
        "execution_millis": 9,
        "execution_start": 1628676857783,
        "source_hash": "cf99265",
        "tags": [
          "exercise"
        ]
      },
      "outputs": [
        {
          "data": {
            "text/plain": [
              "False"
            ]
          },
          "execution_count": 19,
          "metadata": {},
          "output_type": "execute_result"
        }
      ],
      "source": [
        "30 ** 2 != 900"
      ]
    },
    {
      "cell_type": "markdown",
      "id": "f2233965",
      "metadata": {
        "cell_id": "00017-4fbe8086-3459-4f76-810c-048ca023bb56",
        "deepnote_cell_type": "markdown",
        "slideshow": {
          "slide_type": "fragment"
        }
      },
      "source": [
        "The two equations are equal:  \n",
        "  - 30 - 5 * 2\n",
        "  - 100 / 5"
      ]
    },
    {
      "cell_type": "code",
      "execution_count": 2,
      "id": "9db39031",
      "metadata": {
        "cell_id": "00018-c70f5f0f-dd74-40e2-8b98-df27c94ff0fa",
        "deepnote_cell_type": "code",
        "deepnote_to_be_reexecuted": false,
        "execution_millis": 18,
        "execution_start": 1628676933966,
        "source_hash": "39158234",
        "tags": [
          "exercise"
        ]
      },
      "outputs": [
        {
          "data": {
            "text/plain": [
              "True"
            ]
          },
          "execution_count": 2,
          "metadata": {},
          "output_type": "execute_result"
        }
      ],
      "source": [
        "30 - 5 * 2 == 100 / 5"
      ]
    },
    {
      "cell_type": "markdown",
      "id": "f177cc26",
      "metadata": {
        "cell_id": "00019-a653bbe8-c3af-4de3-bea9-d95af7584599",
        "deepnote_cell_type": "markdown",
        "slideshow": {
          "slide_type": "subslide"
        }
      },
      "source": [
        "4. The sum of the numbers from 1 to 5 are at least 15."
      ]
    },
    {
      "cell_type": "code",
      "execution_count": 4,
      "id": "bafcd03f",
      "metadata": {
        "cell_id": "00020-70b0484e-db88-43f9-99ac-e7083f44c96e",
        "deepnote_cell_type": "code",
        "deepnote_to_be_reexecuted": false,
        "execution_millis": 6,
        "execution_start": 1628677067644,
        "source_hash": "f7ebb3c1",
        "tags": [
          "exercise"
        ]
      },
      "outputs": [
        {
          "data": {
            "text/plain": [
              "15"
            ]
          },
          "execution_count": 4,
          "metadata": {},
          "output_type": "execute_result"
        }
      ],
      "source": [
        "# Option 1:\n",
        "1 + 2 + 3 + 4 + 5 >= 15\n",
        "\n",
        "# Option 2:\n",
        "sum([1, 2, 3, 4, 5])\n",
        "\n",
        "# Option 3:\n",
        "sum(range(1, 6))"
      ]
    },
    {
      "cell_type": "markdown",
      "id": "24726e29",
      "metadata": {
        "cell_id": "00021-ec33bbc4-4134-46c3-9541-d70fa290a2f4",
        "deepnote_cell_type": "markdown",
        "slideshow": {
          "slide_type": "slide"
        }
      },
      "source": [
        "## Python as an Ecosystem of Functions\n",
        "\n",
        "There are millions of functions that can be used in Python.  To access them, you first have to **import** their **packages/modules**.  Then you can specify the functions inside the packages using the following syntax:\n",
        "\n",
        "```python\n",
        "import package\n",
        "output = package.function(input)\n",
        "```\n",
        "\n",
        "To get a list of functions in a package, try using the **dir()** function or press the <TAB> key after the dot (autocompletion feature). .  To learn what the function does, try the **help()** function or put a question mark after the function name.\n",
        "\n",
        "```python\n",
        "import math\n",
        "dir(math)\n",
        "help(math.sqrt)\n",
        "math.sqrt?\n",
        "```\n"
      ]
    },
    {
      "cell_type": "markdown",
      "id": "179e5192",
      "metadata": {
        "cell_id": "00022-81ff59f4-7a41-4d35-a1ea-47e9e16decf4",
        "deepnote_cell_type": "markdown",
        "slideshow": {
          "slide_type": "subslide"
        }
      },
      "source": [
        "**Exercises**:\n",
        "\n",
        "Let's try out the built-in **math** package to do some calculating!"
      ]
    },
    {
      "cell_type": "markdown",
      "id": "c7789754",
      "metadata": {
        "cell_id": "00023-e44ccead-5df4-4dc1-8efc-30260b0a60d1",
        "deepnote_cell_type": "markdown",
        "slideshow": {
          "slide_type": "subslide"
        }
      },
      "source": [
        "**Example**:\n",
        "\n",
        "What is the square root of 72?"
      ]
    },
    {
      "cell_type": "code",
      "execution_count": 1,
      "id": "ce6d0ee4",
      "metadata": {
        "cell_id": "00026-54b4dbdb-1840-4ccf-adda-0c578f8ac4c6",
        "deepnote_cell_type": "code",
        "deepnote_to_be_reexecuted": false,
        "execution_millis": 214,
        "execution_start": 1635931862414,
        "source_hash": "8b4a2089",
        "tags": []
      },
      "outputs": [
        {
          "data": {
            "text/plain": [
              "8.48528137423857"
            ]
          },
          "execution_count": 1,
          "metadata": {},
          "output_type": "execute_result"
        }
      ],
      "source": [
        "import math\n",
        "math.sqrt(72)"
      ]
    },
    {
      "cell_type": "markdown",
      "id": "e5493644",
      "metadata": {
        "cell_id": "00025-1075efa5-3145-4887-82fc-eb1ebb98d12d",
        "deepnote_cell_type": "markdown"
      },
      "source": [
        "What is the log of 20?"
      ]
    },
    {
      "cell_type": "code",
      "execution_count": 2,
      "id": "de51704b",
      "metadata": {
        "cell_id": "00026-233cd08d-3448-43b7-bbd4-163f3f835b53",
        "deepnote_cell_type": "code",
        "deepnote_to_be_reexecuted": false,
        "execution_millis": 7,
        "execution_start": 1628677826851,
        "source_hash": "83e28255",
        "tags": [
          "exercise"
        ]
      },
      "outputs": [
        {
          "data": {
            "text/plain": [
              "2.995732273553991"
            ]
          },
          "execution_count": 2,
          "metadata": {},
          "output_type": "execute_result"
        }
      ],
      "source": [
        "math.log(20)"
      ]
    },
    {
      "cell_type": "markdown",
      "id": "9671c98e",
      "metadata": {
        "cell_id": "00027-84030e28-f2ee-4fee-9934-4238ae86d600",
        "deepnote_cell_type": "markdown",
        "slideshow": {
          "slide_type": "fragment"
        }
      },
      "source": [
        "What is pi?"
      ]
    },
    {
      "cell_type": "code",
      "execution_count": 3,
      "id": "47715f8b",
      "metadata": {
        "cell_id": "00028-d8d0e6ef-394c-4fb2-a125-5a717992b0f8",
        "deepnote_cell_type": "code",
        "deepnote_to_be_reexecuted": false,
        "execution_millis": 9,
        "execution_start": 1628677859761,
        "source_hash": "481ebdf8",
        "tags": [
          "exercise"
        ]
      },
      "outputs": [
        {
          "data": {
            "text/plain": [
              "3.141592653589793"
            ]
          },
          "execution_count": 3,
          "metadata": {},
          "output_type": "execute_result"
        }
      ],
      "source": [
        "math.pi"
      ]
    },
    {
      "cell_type": "markdown",
      "id": "31340208",
      "metadata": {
        "cell_id": "00029-a29c14dd-4cf6-4c4d-abd9-295302417766",
        "deepnote_cell_type": "markdown",
        "slideshow": {
          "slide_type": "fragment"
        }
      },
      "source": [
        "What how many radians are in 360 degrees?"
      ]
    },
    {
      "cell_type": "code",
      "execution_count": 4,
      "id": "d19e822c",
      "metadata": {
        "cell_id": "00030-6bc09dc0-c01f-48a7-a0c2-3accc661139f",
        "deepnote_cell_type": "code",
        "deepnote_to_be_reexecuted": false,
        "execution_millis": 83,
        "execution_start": 1628678356879,
        "source_hash": "cd0b159",
        "tags": [
          "exercise"
        ]
      },
      "outputs": [
        {
          "data": {
            "text/plain": [
              "6.283185307179586"
            ]
          },
          "execution_count": 4,
          "metadata": {},
          "output_type": "execute_result"
        }
      ],
      "source": [
        "math.radians(360)"
      ]
    },
    {
      "cell_type": "markdown",
      "id": "8d0145ec",
      "metadata": {
        "cell_id": "00031-ee66e71a-3c6a-4fd5-8718-51163e0b3bd9",
        "deepnote_cell_type": "markdown"
      },
      "source": [
        "What is the cosine of pi?"
      ]
    },
    {
      "cell_type": "code",
      "execution_count": 5,
      "id": "fae60dbc",
      "metadata": {
        "cell_id": "00032-1e2d86fc-e334-45d2-9dba-8ea9332b9a9a",
        "deepnote_cell_type": "code",
        "tags": [
          "exercise"
        ]
      },
      "outputs": [
        {
          "data": {
            "text/plain": [
              "-1.0"
            ]
          },
          "execution_count": 5,
          "metadata": {},
          "output_type": "execute_result"
        }
      ],
      "source": [
        "math.cos(math.pi)"
      ]
    },
    {
      "cell_type": "markdown",
      "id": "ccddcb04",
      "metadata": {
        "cell_id": "00033-1b212b8d-f850-4c57-b29b-6073e806e8b1",
        "deepnote_cell_type": "markdown"
      },
      "source": [
        "What is the sine of pi?  (and why does the answer look funny?)"
      ]
    },
    {
      "cell_type": "code",
      "execution_count": 6,
      "id": "c224761c",
      "metadata": {
        "cell_id": "00036-1cfe901f-5d78-484a-9e96-311616015145",
        "deepnote_cell_type": "code",
        "deepnote_to_be_reexecuted": false,
        "execution_millis": 13,
        "execution_start": 1628677752873,
        "source_hash": "318c99db",
        "tags": [
          "exercise"
        ]
      },
      "outputs": [
        {
          "data": {
            "text/plain": [
              "1.2246467991473532e-16"
            ]
          },
          "execution_count": 6,
          "metadata": {},
          "output_type": "execute_result"
        }
      ],
      "source": [
        "math.sin(math.pi)"
      ]
    },
    {
      "cell_type": "markdown",
      "id": "aacabbd2",
      "metadata": {
        "cell_id": "00035-5e89f835-3c45-46ed-a591-acd1921040ce",
        "deepnote_cell_type": "markdown",
        "slideshow": {
          "slide_type": "fragment"
        }
      },
      "source": [
        "Pyton has a reputation for being \"batteries included\", meaning it has a big standard library.  Look for names of some more built-in packages online! \n",
        "\n",
        "**Exercise**: Import three different built-in packages that are listed in the documentation for the Python Standard Library: https://docs.python.org/3/library/index.html"
      ]
    },
    {
      "cell_type": "code",
      "execution_count": 8,
      "id": "47800731",
      "metadata": {
        "cell_id": "00041-9c82bd76-e63f-4b0b-b7ca-3aafa9afa46f",
        "deepnote_cell_type": "code",
        "deepnote_to_be_reexecuted": false,
        "execution_millis": 7,
        "execution_start": 1635931042762,
        "source_hash": "30ce0cc9",
        "tags": [
          "exercise"
        ]
      },
      "outputs": [
        {
          "data": {
            "text/plain": [
              "2.5"
            ]
          },
          "execution_count": 8,
          "metadata": {},
          "output_type": "execute_result"
        }
      ],
      "source": [
        "import statistics\n",
        "statistics.mean([1, 2, 3, 4])"
      ]
    },
    {
      "cell_type": "code",
      "execution_count": 12,
      "id": "3defc046",
      "metadata": {
        "cell_id": "00042-ffcb3e88-5be5-41f5-97f0-80fc089f6730",
        "deepnote_cell_type": "code",
        "deepnote_to_be_reexecuted": false,
        "execution_millis": 1,
        "execution_start": 1635931332456,
        "source_hash": "b623e53d",
        "tags": [
          "exercise"
        ]
      },
      "outputs": [
        {
          "data": {
            "text/plain": [
              "('logo.png', <http.client.HTTPMessage at 0x7f00400672b0>)"
            ]
          },
          "execution_count": 12,
          "metadata": {},
          "output_type": "execute_result"
        }
      ],
      "source": [
        "import urllib\n",
        "urllib.request.urlretrieve(\n",
        "    \"https://upload.wikimedia.org/wikipedia/commons/thumb/c/c3/Python-logo-notext.svg/1024px-Python-logo-notext.svg.png\", \n",
        "    'logo.png'\n",
        ")"
      ]
    },
    {
      "cell_type": "code",
      "execution_count": 17,
      "id": "b6cdd9fe",
      "metadata": {
        "cell_id": "00036-ec26cdef-be82-4033-b990-59ded6a41a1c",
        "deepnote_cell_type": "code",
        "deepnote_to_be_reexecuted": false,
        "execution_millis": 2,
        "execution_start": 1635931348056,
        "source_hash": "4e8264ae",
        "tags": [
          "exercise"
        ]
      },
      "outputs": [
        {
          "data": {
            "text/plain": [
              "'/home/nickdg/Projects/CodeTeachingMaterials/topics/1_1_FirstLookAtPython'"
            ]
          },
          "execution_count": 17,
          "metadata": {},
          "output_type": "execute_result"
        }
      ],
      "source": [
        "import os\n",
        "os.getcwd()"
      ]
    },
    {
      "cell_type": "markdown",
      "id": "b9148c31",
      "metadata": {
        "cell_id": "00039-3b855857-7bdd-4a2d-ae82-390416fe17bd",
        "deepnote_cell_type": "markdown",
        "slideshow": {
          "slide_type": "slide"
        }
      },
      "source": [
        "## Aggregating Your Collections into Single Values (Descriptive Statistics)\n",
        "\n",
        "Python can use named **functions** that turn data into something else.  By doing this repeatedly, in sequence, we can build data processing pipelines!\n",
        "\n",
        "Functions in Python have the following syntax:\n",
        "\n",
        "```\n",
        "output = function(input)\n",
        "```\n",
        "\n",
        "First, let's look at some **built-in** functions to get a sense of how they work:  **min()**, **max()**, **sum()**, and **len()**:\n",
        "\n",
        "*Note*: You don't type the three arrows at the beginning of the line, they are only to show where people type code in.\n",
        "\n",
        "```python\n",
        ">>> min([1, 2, 3, 2])\n",
        "1\n",
        "\n",
        ">>> max([1, 2, 3, 2])\n",
        "3\n",
        "\n",
        ">>> sum([1, 2, 3, 2])\n",
        "8\n",
        "\n",
        ">>> len([1, 2, 3, 2])\n",
        "4\n",
        "```"
      ]
    },
    {
      "cell_type": "markdown",
      "id": "2d572b0b",
      "metadata": {
        "cell_id": "00040-12287fb2-904e-42e3-9a2a-e9680f1d07ad",
        "deepnote_cell_type": "markdown",
        "slideshow": {
          "slide_type": "subslide"
        }
      },
      "source": [
        "**Exercises**: \n",
        "Edit the following lines of Python to calculate the answer to the question given, say out loud what you expect Python's answer to be, then run the code to see if you were correct!"
      ]
    },
    {
      "cell_type": "markdown",
      "id": "042758db",
      "metadata": {
        "cell_id": "00041-1533959b-237b-41b7-bc59-c44fe3fd9003",
        "deepnote_cell_type": "markdown",
        "deepnote_to_be_reexecuted": false,
        "execution_millis": 6,
        "execution_start": 1628634580749,
        "source_hash": "1b63e249",
        "tags": []
      },
      "source": [
        "The minimum of this list of numbers:"
      ]
    },
    {
      "cell_type": "code",
      "execution_count": 5,
      "id": "5f443c2b",
      "metadata": {
        "cell_id": "00041-3f2ee283-34d1-4550-8977-05021a8340f4",
        "deepnote_cell_type": "code",
        "slideshow": {
          "slide_type": "fragment"
        }
      },
      "outputs": [
        {
          "data": {
            "text/plain": [
              "[3, 6, 5, 2]"
            ]
          },
          "execution_count": 5,
          "metadata": {},
          "output_type": "execute_result"
        }
      ],
      "source": [
        "[3, 6, 5, 2]"
      ]
    },
    {
      "cell_type": "code",
      "execution_count": 6,
      "id": "0d0d4132",
      "metadata": {
        "tags": [
          "exercise"
        ]
      },
      "outputs": [
        {
          "data": {
            "text/plain": [
              "2"
            ]
          },
          "execution_count": 6,
          "metadata": {},
          "output_type": "execute_result"
        }
      ],
      "source": [
        "min([3, 6, 5, 2])"
      ]
    },
    {
      "cell_type": "markdown",
      "id": "32d765e5",
      "metadata": {
        "cell_id": "00042-17ae09dd-7130-479d-805a-e67ff1b4c903",
        "deepnote_cell_type": "markdown"
      },
      "source": [
        "The maximum of this list of numbers:"
      ]
    },
    {
      "cell_type": "code",
      "execution_count": 8,
      "id": "21add73a",
      "metadata": {
        "cell_id": "00043-650b63d0-77de-4645-b4b8-e613d50dde97",
        "deepnote_cell_type": "code",
        "slideshow": {
          "slide_type": "fragment"
        }
      },
      "outputs": [
        {
          "data": {
            "text/plain": [
              "[3, 6, 5, 2]"
            ]
          },
          "execution_count": 8,
          "metadata": {},
          "output_type": "execute_result"
        }
      ],
      "source": [
        "[3, 6, 5, 2]"
      ]
    },
    {
      "cell_type": "code",
      "execution_count": 18,
      "id": "c9ecadde",
      "metadata": {
        "tags": [
          "exercise"
        ]
      },
      "outputs": [
        {
          "data": {
            "text/plain": [
              "6"
            ]
          },
          "execution_count": 18,
          "metadata": {},
          "output_type": "execute_result"
        }
      ],
      "source": [
        "max([3, 6, 5, 2])"
      ]
    },
    {
      "cell_type": "markdown",
      "id": "0b4e7a46",
      "metadata": {
        "cell_id": "00044-afd677dd-d8e4-4996-aecf-c43effcc020b",
        "deepnote_cell_type": "markdown"
      },
      "source": [
        "The maximum of this list of numbers:"
      ]
    },
    {
      "cell_type": "code",
      "execution_count": null,
      "id": "a51619b9",
      "metadata": {
        "cell_id": "00045-56f488be-58b3-475a-a223-0fe9dce31dc2",
        "deepnote_cell_type": "code",
        "slideshow": {
          "slide_type": "fragment"
        }
      },
      "outputs": [],
      "source": [
        "[1, 2, 3, 4, 5, 6]"
      ]
    },
    {
      "cell_type": "code",
      "execution_count": 19,
      "id": "e6c5f466",
      "metadata": {
        "tags": [
          "exercise"
        ]
      },
      "outputs": [
        {
          "data": {
            "text/plain": [
              "6"
            ]
          },
          "execution_count": 19,
          "metadata": {},
          "output_type": "execute_result"
        }
      ],
      "source": [
        "max([1, 2, 3, 4, 5, 6])"
      ]
    },
    {
      "cell_type": "markdown",
      "id": "5205fb3d",
      "metadata": {
        "cell_id": "00046-667446a0-6554-4498-bdc9-6fe31e883d66",
        "deepnote_cell_type": "markdown"
      },
      "source": [
        "The length of this list of numbers:"
      ]
    },
    {
      "cell_type": "code",
      "execution_count": 7,
      "id": "96e33452",
      "metadata": {
        "cell_id": "00047-42a04f05-4540-4c6e-a8c9-e3ce92bfc467",
        "deepnote_cell_type": "code",
        "slideshow": {
          "slide_type": "subslide"
        }
      },
      "outputs": [
        {
          "data": {
            "text/plain": [
              "[3, 4, 5, 5, 4]"
            ]
          },
          "execution_count": 7,
          "metadata": {},
          "output_type": "execute_result"
        }
      ],
      "source": [
        "[3, 4, 5, 5, 4]"
      ]
    },
    {
      "cell_type": "code",
      "execution_count": 20,
      "id": "eec22e26",
      "metadata": {
        "tags": [
          "exercise"
        ]
      },
      "outputs": [
        {
          "data": {
            "text/plain": [
              "5"
            ]
          },
          "execution_count": 20,
          "metadata": {},
          "output_type": "execute_result"
        }
      ],
      "source": [
        "len([3, 4, 5, 5, 4])"
      ]
    },
    {
      "cell_type": "markdown",
      "id": "9334c9fd",
      "metadata": {
        "cell_id": "00048-bb460f0a-b1ba-47d4-b4c0-321d72654e80",
        "deepnote_cell_type": "markdown"
      },
      "source": [
        "The sum of this list of numbers:"
      ]
    },
    {
      "cell_type": "code",
      "execution_count": null,
      "id": "4869a30f",
      "metadata": {
        "cell_id": "00049-c322d1e1-7268-4624-b6a3-cadc680548f3",
        "deepnote_cell_type": "code"
      },
      "outputs": [],
      "source": [
        "[1, 2, 5, 6]"
      ]
    },
    {
      "cell_type": "code",
      "execution_count": 21,
      "id": "a0a4bb65",
      "metadata": {
        "tags": [
          "exercise"
        ]
      },
      "outputs": [
        {
          "data": {
            "text/plain": [
              "14"
            ]
          },
          "execution_count": 21,
          "metadata": {},
          "output_type": "execute_result"
        }
      ],
      "source": [
        "sum([1, 2, 5, 6])"
      ]
    },
    {
      "cell_type": "markdown",
      "id": "309d4f46",
      "metadata": {
        "cell_id": "00050-bca7fe15-8d47-4942-b6a5-a5d667665638",
        "deepnote_cell_type": "markdown"
      },
      "source": [
        "**Group Discussion**: What should Python return when the code below is run?"
      ]
    },
    {
      "cell_type": "markdown",
      "id": "8bf2349b",
      "metadata": {
        "cell_id": "00051-ef1c50ff-2fa2-4d8d-ba08-25eb86636708",
        "deepnote_cell_type": "markdown",
        "slideshow": {
          "slide_type": "fragment"
        }
      },
      "source": [
        "```python\n",
        "max([min([1, 2]), max([3, 4, 5])])\n",
        "```"
      ]
    },
    {
      "cell_type": "markdown",
      "id": "35f6b58b",
      "metadata": {
        "cell_id": "00053-26cde287-a574-4268-83e3-68234f13b557",
        "deepnote_cell_type": "markdown",
        "slideshow": {
          "slide_type": "subslide"
        }
      },
      "source": [
        "```python\n",
        "min([max((2, 4, 1)), len((2, 4, 1)), min(2, 4, 1)])\n",
        "```"
      ]
    },
    {
      "cell_type": "markdown",
      "id": "632f5a84",
      "metadata": {
        "cell_id": "00054-c7b60842-f714-4a2f-b58b-4bfcf6cfe333",
        "deepnote_cell_type": "markdown"
      },
      "source": [
        "```python\n",
        "len([max((2, 4, 1)), sum((2, 4, 1)), min(2, 4, 1)])\n",
        "```"
      ]
    },
    {
      "cell_type": "markdown",
      "id": "9a5da710",
      "metadata": {
        "cell_id": "00055-b7d851ba-1f6f-47da-b704-cc6c19a61258",
        "deepnote_cell_type": "markdown",
        "tags": []
      },
      "source": [
        "```python\n",
        "sum([max((2, 4, 1)), len((2, 4, 1)), min(2, 4, 1)])\n",
        "```"
      ]
    },
    {
      "cell_type": "markdown",
      "id": "e720cc3d",
      "metadata": {
        "cell_id": "00056-53cfc737-632d-4601-9426-35060c0c1329",
        "deepnote_cell_type": "markdown",
        "tags": []
      },
      "source": []
    }
  ],
  "metadata": {
    "deepnote": {},
    "deepnote_execution_queue": [],
    "deepnote_notebook_id": "0d2bad37-9d08-4356-a38b-52232b275b0f",
    "kernelspec": {
      "display_name": "Python 3 (ipykernel)",
      "language": "python",
      "name": "python3"
    },
    "language_info": {
      "codemirror_mode": {
        "name": "ipython",
        "version": 3
      },
      "file_extension": ".py",
      "mimetype": "text/x-python",
      "name": "python",
      "nbconvert_exporter": "python",
      "pygments_lexer": "ipython3",
      "version": "3.9.12"
    },
    "vscode": {
      "interpreter": {
        "hash": "4053583a5b94002d654b899144bd46215da5e37064ba71140a4b7387da73a050"
      }
    }
  },
  "nbformat": 4,
  "nbformat_minor": 5
}