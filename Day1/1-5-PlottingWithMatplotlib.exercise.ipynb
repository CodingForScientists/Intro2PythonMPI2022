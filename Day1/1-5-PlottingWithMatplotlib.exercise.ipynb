{
  "cells": [
    {
      "cell_type": "code",
      "execution_count": 1,
      "metadata": {},
      "outputs": [
        {
          "name": "stdout",
          "output_type": "stream",
          "text": [
            "Requirement already satisfied: numpy in /home/nickdg/miniconda3/envs/py10/lib/python3.10/site-packages (1.23.3)\n",
            "Requirement already satisfied: matplotlib in /home/nickdg/miniconda3/envs/py10/lib/python3.10/site-packages (3.6.0)\n",
            "Requirement already satisfied: fonttools>=4.22.0 in /home/nickdg/miniconda3/envs/py10/lib/python3.10/site-packages (from matplotlib) (4.37.4)\n",
            "Requirement already satisfied: pillow>=6.2.0 in /home/nickdg/miniconda3/envs/py10/lib/python3.10/site-packages (from matplotlib) (9.2.0)\n",
            "Requirement already satisfied: cycler>=0.10 in /home/nickdg/miniconda3/envs/py10/lib/python3.10/site-packages (from matplotlib) (0.11.0)\n",
            "Requirement already satisfied: kiwisolver>=1.0.1 in /home/nickdg/miniconda3/envs/py10/lib/python3.10/site-packages (from matplotlib) (1.4.4)\n",
            "Requirement already satisfied: contourpy>=1.0.1 in /home/nickdg/miniconda3/envs/py10/lib/python3.10/site-packages (from matplotlib) (1.0.5)\n",
            "Requirement already satisfied: pyparsing>=2.2.1 in /home/nickdg/miniconda3/envs/py10/lib/python3.10/site-packages (from matplotlib) (3.0.9)\n",
            "Requirement already satisfied: python-dateutil>=2.7 in /home/nickdg/miniconda3/envs/py10/lib/python3.10/site-packages (from matplotlib) (2.8.2)\n",
            "Requirement already satisfied: packaging>=20.0 in /home/nickdg/miniconda3/envs/py10/lib/python3.10/site-packages (from matplotlib) (21.3)\n",
            "Requirement already satisfied: six>=1.5 in /home/nickdg/miniconda3/envs/py10/lib/python3.10/site-packages (from python-dateutil>=2.7->matplotlib) (1.16.0)\n"
          ]
        }
      ],
      "source": [
        "%pip install numpy matplotlib"
      ]
    },
    {
      "cell_type": "code",
      "execution_count": 2,
      "metadata": {
        "cell_id": "00000-9c6e665a-8b86-48fc-8e14-1f3c3079e8ed",
        "deepnote_cell_type": "code",
        "deepnote_to_be_reexecuted": false,
        "execution_millis": 5197,
        "execution_start": 1635922041996,
        "source_hash": "eba39436",
        "tags": []
      },
      "outputs": [],
      "source": [
        "import numpy as np\n",
        "import matplotlib.pyplot as plt"
      ]
    },
    {
      "cell_type": "markdown",
      "metadata": {
        "cell_id": "00001-8ca1848f-4ca9-4960-ad8b-4cf990e117e5",
        "deepnote_cell_type": "markdown",
        "deepnote_to_be_reexecuted": false,
        "execution_millis": 5,
        "execution_start": 1635923219886,
        "source_hash": "65ebe991",
        "tags": []
      },
      "source": [
        "# Matplotlib 1: Plotting Data"
      ]
    },
    {
      "cell_type": "markdown",
      "metadata": {
        "cell_id": "00001-a1631ab6-8aff-4727-9fbd-93e102dfd809",
        "deepnote_cell_type": "markdown",
        "tags": []
      },
      "source": [
        "\n",
        "### Thought Experiment\n",
        "\n",
        "How you present your data affects how you perceive your data. \n",
        "\n",
        "For example: what are the pros and cons of the two data representations below?\n",
        "\n",
        "This **Textual** Representation of Data:\n",
        "```\n",
        "[0.5, 0.9, 1.0, 0.7, 0.2, -0.4, -0.9, -1.0, -0.8, -0.3]\n",
        "```\n",
        "This **Graphical** Representation of the Same Data:\n",
        "\n"
      ]
    },
    {
      "cell_type": "code",
      "execution_count": 4,
      "metadata": {},
      "outputs": [
        {
          "data": {
            "image/png": "[encoded data removed]",
            "text/plain": [
              "<Figure size 640x480 with 1 Axes>"
            ]
          },
          "metadata": {},
          "output_type": "display_data"
        }
      ],
      "source": [
        "plt.plot([0.5, 0.9, 1.0, 0.7, 0.2, -0.4, -0.9, -1.0, -0.8, -0.3]);"
      ]
    },
    {
      "cell_type": "markdown",
      "metadata": {
        "cell_id": "00004-492474b3-718d-4ff2-aa75-768efa6b84da",
        "deepnote_cell_type": "markdown",
        "tags": []
      },
      "source": [
        "## Matplotlib: A Plotting Package in Python\n",
        "\n",
        "Matplotlib is one of *many* different options for making plots and charts, but its popularity often makes it the default choice, especially when making charts for paper publications.  It's so popular, that many other plotting packages use Matplotlib to make their plots!  Here's an overview of the plotting ecosystem:\n",
        "\n",
        "<img src=\"https://rougier.github.io/python-visualization-landscape/landscape-colors.png\" width=600></img>\n",
        "\n",
        "The Matplotlib ecosystem is the violet part of that graph.  So many options!  In this workshop, we'll take a look at `matplotlib`, `pandas`, and `seaborn`, but if you are interested in other visual styles or aesthetics, or if you want plots that are interactive, it's worth trying out another plotting library (I can also recommend `plotnine`, `plotly`, and `altair`)."
      ]
    },
    {
      "cell_type": "markdown",
      "metadata": {
        "cell_id": "00005-482a2a35-5ef4-4cf2-a16d-1adbdf8e0cf1",
        "deepnote_cell_type": "markdown",
        "tags": []
      },
      "source": [
        "### Getting Started\n",
        "\n",
        "##### Special Things to Look Out For\n",
        "\n",
        "  - **Line Order Matters**: Pay attention to what happens when code is written in a different order (e.g. data creation before plotting, plotting before labeling)\n",
        "  - **Functions Have Optional Parameters that Change Their Behavior**: Many of the plotting functions will let you modify them by adding a named parameter (e.g. plt.hist(data, bins=20, density=True, cumulative=False)).  "
      ]
    },
    {
      "cell_type": "markdown",
      "metadata": {
        "cell_id": "00006-b0ad1aa8-b4e6-4552-98f4-379b19b1a90f",
        "deepnote_cell_type": "markdown",
        "deepnote_to_be_reexecuted": false,
        "execution_millis": 120,
        "execution_start": 1628640605634,
        "source_hash": "fa3205b4",
        "tags": []
      },
      "source": [
        "In this notebook, we'll explore a few of the basic plots and how to adjust them to be more informative. "
      ]
    },
    {
      "cell_type": "markdown",
      "metadata": {
        "cell_id": "00008-c99cdebf-8e31-435e-9cb1-fcde411a764e",
        "deepnote_cell_type": "markdown",
        "tags": []
      },
      "source": []
    },
    {
      "cell_type": "markdown",
      "metadata": {
        "cell_id": "00008-576cc53f-c8f7-4264-b953-e660d4c71c02",
        "deepnote_cell_type": "markdown",
        "tags": []
      },
      "source": [
        "## Sequential Plots with the plt.plot() function\n",
        "\n",
        "The `plot()` function in Matplotlib is very unique; it can be used to make both line and scatter plots, and tends to be the first function people learn to use.  So let's try it out!\n",
        "\n",
        "  - **`plt.plot(data)`**: Makes a line plot, with the y axis being the values in `data`\n",
        "  - **`plt.plot(data, '.')`**: Makes a point plot, with the y axis being the values in `data`\n",
        "  - **`plt.plot(x, y)`**: Makes a line plot, with the x and y axis matching the values in x and y.  \n",
        "  - **`plt.plot(x, y, '.')`**: Makes a point plot, with the y axis being the values in in x and y\n",
        "    - *Note*: x and y must have the same length.\n"
      ]
    },
    {
      "cell_type": "markdown",
      "metadata": {
        "cell_id": "00010-ed2a0b5a-6a5e-4113-b0b8-ee663e41442b",
        "deepnote_cell_type": "markdown",
        "tags": []
      },
      "source": [
        "**Exercises**"
      ]
    },
    {
      "cell_type": "markdown",
      "metadata": {
        "cell_id": "00010-9c213016-fb39-44da-89c8-95317892f1a7",
        "deepnote_cell_type": "markdown",
        "tags": []
      },
      "source": [
        "**Example:** Make a line plot of this list.  What does the data look like?"
      ]
    },
    {
      "cell_type": "code",
      "execution_count": 3,
      "metadata": {},
      "outputs": [
        {
          "data": {
            "text/plain": [
              "[<matplotlib.lines.Line2D at 0x7f4d760a0580>]"
            ]
          },
          "execution_count": 3,
          "metadata": {},
          "output_type": "execute_result"
        },
        {
          "data": {
            "image/png": "[encoded data removed]",
            "text/plain": [
              "<Figure size 640x480 with 1 Axes>"
            ]
          },
          "metadata": {},
          "output_type": "display_data"
        }
      ],
      "source": [
        "plt.plot([1, 2, 4, 2, 1])"
      ]
    },
    {
      "cell_type": "markdown",
      "metadata": {
        "cell_id": "00012-c8a5857a-0d55-40b1-a2eb-633f4b6c1220",
        "deepnote_cell_type": "markdown",
        "tags": []
      },
      "source": [
        "Make a line plot of this data. What does the data look like?"
      ]
    },
    {
      "cell_type": "code",
      "execution_count": 11,
      "metadata": {
        "cell_id": "00002-531951d5-ffa5-4b44-922a-8b6ab4100bd4",
        "deepnote_cell_type": "code",
        "deepnote_to_be_reexecuted": false,
        "execution_millis": 3,
        "execution_start": 1628641822727,
        "source_hash": "41dc4422",
        "tags": []
      },
      "outputs": [],
      "source": [
        "data = np.sin(np.linspace(0, np.pi * 4, 15))"
      ]
    },
    {
      "cell_type": "code",
      "execution_count": 12,
      "metadata": {
        "tags": [
          "exercise"
        ]
      },
      "outputs": [],
      "source": []
    },
    {
      "cell_type": "markdown",
      "metadata": {
        "cell_id": "00015-e2595ab7-794d-45db-a522-5609684cd9c6",
        "deepnote_cell_type": "markdown",
        "tags": []
      },
      "source": [
        "Make a point plot of this data.  What's different about the image, and why?"
      ]
    },
    {
      "cell_type": "code",
      "execution_count": 13,
      "metadata": {
        "cell_id": "00016-8e09a0b2-aa6e-45c2-a183-cb72ea3fd571",
        "deepnote_cell_type": "code",
        "tags": []
      },
      "outputs": [],
      "source": [
        "data = np.sin(np.linspace(0, np.pi * 4, 200))"
      ]
    },
    {
      "cell_type": "code",
      "execution_count": 14,
      "metadata": {
        "tags": [
          "exercise"
        ]
      },
      "outputs": [],
      "source": []
    },
    {
      "cell_type": "markdown",
      "metadata": {
        "cell_id": "00015-7b482291-75e8-4139-a730-ad48d5a9dad8",
        "deepnote_cell_type": "markdown",
        "tags": []
      },
      "source": [
        "Now make a line plot of this data, specifying both the x and y axis this time.  What is different about this plot?"
      ]
    },
    {
      "cell_type": "code",
      "execution_count": 15,
      "metadata": {},
      "outputs": [],
      "source": [
        "x = np.linspace(0, np.pi * 4, 200)\n",
        "y = np.sin(x)"
      ]
    },
    {
      "cell_type": "code",
      "execution_count": 16,
      "metadata": {
        "cell_id": "00003-f4c17035-97fc-46e3-9a6b-a8fb57698d8f",
        "deepnote_cell_type": "code",
        "deepnote_to_be_reexecuted": false,
        "execution_millis": 2,
        "execution_start": 1628641957376,
        "source_hash": "fa3f738",
        "tags": [
          "exercise"
        ]
      },
      "outputs": [],
      "source": []
    },
    {
      "cell_type": "markdown",
      "metadata": {
        "cell_id": "00019-d86207e7-73a0-4953-8e58-a700141709a6",
        "deepnote_cell_type": "markdown",
        "tags": []
      },
      "source": [
        "Multiple datasets can be included in the same plot, simply by calling `plt.plot()` multiple times.  Put both the following datasets in the same figure by plotting x vs y1, then plotting x vs y2 on the next line:"
      ]
    },
    {
      "cell_type": "code",
      "execution_count": 17,
      "metadata": {
        "cell_id": "00020-a08a847a-8314-42c7-8e0f-8fd9c6b78298",
        "deepnote_cell_type": "code",
        "tags": []
      },
      "outputs": [],
      "source": [
        "x = np.linspace(0, np.pi * 4, 200)\n",
        "y1 = np.sin(x)\n",
        "y2 = np.cos(x)"
      ]
    },
    {
      "cell_type": "code",
      "execution_count": 18,
      "metadata": {
        "tags": [
          "exercise"
        ]
      },
      "outputs": [],
      "source": []
    },
    {
      "cell_type": "markdown",
      "metadata": {
        "cell_id": "00021-0d6d8808-ebfe-4ebb-80b1-f3c4dc1d96b4",
        "deepnote_cell_type": "markdown",
        "deepnote_to_be_reexecuted": false,
        "execution_millis": 32,
        "execution_start": 1635925498984,
        "source_hash": "85f7de7f",
        "tags": []
      },
      "source": [
        "Matplotlib will also automaticaly update the axes to fit all the available data.  Plot each of these pairs of data (x1 vs y1 and x2 vs y2)"
      ]
    },
    {
      "cell_type": "code",
      "execution_count": 36,
      "metadata": {
        "cell_id": "00021-b3ee7cd1-61c8-4cf8-b0fe-f1e2f97538cf",
        "deepnote_cell_type": "code",
        "deepnote_to_be_reexecuted": false,
        "execution_millis": 14,
        "execution_start": 1635925532449,
        "source_hash": "b9729f96",
        "tags": []
      },
      "outputs": [],
      "source": [
        "x1 = np.linspace(0, np.pi * 4, 200)\n",
        "y1 = np.sin(x1)\n",
        "\n",
        "x2 = np.linspace(np.pi * 4, np.pi * 8, 200)\n",
        "y2 = np.sin(x2)"
      ]
    },
    {
      "cell_type": "code",
      "execution_count": 37,
      "metadata": {
        "tags": [
          "exercise"
        ]
      },
      "outputs": [],
      "source": []
    },
    {
      "cell_type": "markdown",
      "metadata": {
        "cell_id": "00017-a733936a-1946-4e8d-a000-d77b0ded147b",
        "deepnote_cell_type": "markdown",
        "tags": []
      },
      "source": [
        "#### Format strings in `plt.plot()`\n",
        "\n",
        "There are actually lots of different marker and line styles that can be used in `plt.plot()` to change how the data looks. Try out these:\n",
        "\n",
        "  - **(Some) Point Markers**: `'.'`, `'o'`, `'v'`, `'^'`, `'<'`, `'s'`, `'h'`, `'D'`, `'|'`, `'_'`\n",
        "\n",
        "  - **(Some) Line Styles**: `'-'`, `'--'`, `'-.'`, `':'`\n",
        "\n",
        "  - **(Some) Colors**: `'b'`, `'g'`, `'c'`, `'r'`, `'m'`, `'y'`, `'k'`, `'w'`\n",
        "\n",
        "They can even be combined.  For example: `plt.plot(data, ':or')` makes a red plot with both circle markers and dotted lines."
      ]
    },
    {
      "cell_type": "markdown",
      "metadata": {
        "cell_id": "00019-55a1bfea-549e-436e-bc9d-0863636628c1",
        "deepnote_cell_type": "markdown",
        "tags": []
      },
      "source": [
        "**Exercises**"
      ]
    },
    {
      "cell_type": "markdown",
      "metadata": {
        "cell_id": "00020-690449ad-db25-4b74-be6c-a21b461c29f5",
        "deepnote_cell_type": "markdown",
        "tags": []
      },
      "source": [
        "Plot this data with a green dashed line"
      ]
    },
    {
      "cell_type": "code",
      "execution_count": 25,
      "metadata": {
        "cell_id": "00024-eba2ed75-1dbd-449a-8b31-a8e4b4e44ac6",
        "deepnote_cell_type": "code",
        "deepnote_to_be_reexecuted": false,
        "execution_millis": 12,
        "execution_start": 1635925418496,
        "source_hash": "3b3aad76",
        "tags": []
      },
      "outputs": [],
      "source": [
        "data = np.log(np.linspace(1, 6, 50))"
      ]
    },
    {
      "cell_type": "code",
      "execution_count": 26,
      "metadata": {
        "tags": [
          "exercise"
        ]
      },
      "outputs": [],
      "source": []
    },
    {
      "cell_type": "markdown",
      "metadata": {
        "cell_id": "00025-6b6df921-42bd-4f44-afd9-e246f7a43ffc",
        "deepnote_cell_type": "markdown",
        "tags": []
      },
      "source": [
        "Plot each line with different markers, linestyles, but the same color:"
      ]
    },
    {
      "cell_type": "code",
      "execution_count": 33,
      "metadata": {
        "cell_id": "00026-43d30adf-ee06-4cca-9533-0b8e8d6e8a8c",
        "deepnote_cell_type": "code",
        "deepnote_to_be_reexecuted": false,
        "execution_millis": 14,
        "execution_start": 1635925562101,
        "source_hash": "b9729f96",
        "tags": []
      },
      "outputs": [],
      "source": [
        "x1 = np.linspace(0, np.pi * 4, 100)\n",
        "y1 = np.sin(x1)\n",
        "\n",
        "x2 = np.linspace(np.pi * 4, np.pi * 8, 100)\n",
        "y2 = np.sin(x2)"
      ]
    },
    {
      "cell_type": "code",
      "execution_count": 35,
      "metadata": {
        "tags": [
          "exercise"
        ]
      },
      "outputs": [],
      "source": []
    },
    {
      "cell_type": "markdown",
      "metadata": {
        "cell_id": "00012-af5d9444-a8fa-4529-a0ac-4a28487fb433",
        "deepnote_cell_type": "markdown",
        "tags": []
      },
      "source": [
        "## Labeling Your Data: Adding Text\n",
        "\n",
        "Let's add some text to our plots, so people understand what the plots represent!\n",
        "\n",
        "  - **`plt.title(\"My Title\")`**: Adds a title to the current plot\n",
        "  - **`plt.xlabel(\"X\")`**:  Adds a label to the x axis\n",
        "  - **`plt.ylabel(\"Y\")`**: Adds a label to the y axis\n",
        "  - **`plt.plot(data, label=\"My label\"); plt.legend()`**:  Labels the plotted data and makes a legend with the labels.\n",
        "    - *Note*: Normally this is done on seperate lines of code.\n",
        "  - **`plt.xticks(locations, labels)`**: Sets which axis tick labels are used and where.\n",
        "  - **`plt.yticks(locations, labels)`**: Sets which axis tick labels are used and where.\n",
        "\n",
        "\n",
        "Example: You can combine them together and label everything!"
      ]
    },
    {
      "cell_type": "code",
      "execution_count": 48,
      "metadata": {
        "cell_id": "00013-9cfe2b4a-1fe7-40e4-999d-85307ffc0bbd",
        "deepnote_cell_type": "code",
        "deepnote_to_be_reexecuted": false,
        "execution_millis": 187,
        "execution_start": 1628641491707,
        "source_hash": "2578e329",
        "tags": []
      },
      "outputs": [
        {
          "data": {
            "image/png": "[encoded data removed]",
            "text/plain": [
              "<Figure size 640x480 with 1 Axes>"
            ]
          },
          "metadata": {},
          "output_type": "display_data"
        }
      ],
      "source": [
        "plt.plot([1, 2, 4, 8, 16], label=\"Powers of 2\")\n",
        "plt.plot([1, 3, 9, 27], label=\"Powers of 3\")\n",
        "plt.title(\"Comparing Powers of Integers\")\n",
        "plt.xlabel(\"X\")\n",
        "plt.ylabel(\"Y\", rotation=45)\n",
        "plt.legend();\n",
        "plt.xticks([0, 1, 2, 3, 4], ['First', 'Second', 'Third', 'Fourth', 'Fifth']);\n",
        "plt.yticks([0, 2, 4, 8, 16, 32]);"
      ]
    },
    {
      "cell_type": "markdown",
      "metadata": {
        "cell_id": "00019-69f20208-6a6d-4f78-a6fa-658f3d46dd74",
        "deepnote_cell_type": "markdown",
        "tags": []
      },
      "source": [
        "**Exercises**"
      ]
    },
    {
      "cell_type": "markdown",
      "metadata": {
        "cell_id": "00020-3576602d-a183-4df0-ac09-0fe9123bf660",
        "deepnote_cell_type": "markdown",
        "tags": []
      },
      "source": [
        "Make a line plot of this data and add the title \"Sin of X\":"
      ]
    },
    {
      "cell_type": "code",
      "execution_count": 51,
      "metadata": {
        "cell_id": "00004-b0186e25-e07a-4e53-b501-498c86049656",
        "deepnote_cell_type": "code",
        "deepnote_to_be_reexecuted": false,
        "execution_millis": 5,
        "execution_start": 1628642138201,
        "source_hash": "de251caf",
        "tags": []
      },
      "outputs": [],
      "source": [
        "x = np.linspace(0, np.pi * 10, 100)\n",
        "data = np.sin(x);"
      ]
    },
    {
      "cell_type": "code",
      "execution_count": 52,
      "metadata": {
        "tags": [
          "exercise"
        ]
      },
      "outputs": [],
      "source": []
    },
    {
      "cell_type": "markdown",
      "metadata": {
        "cell_id": "00022-1be01d7b-436f-476c-95e7-68641eb05ec3",
        "deepnote_cell_type": "markdown",
        "tags": []
      },
      "source": [
        "Make a line plot of the data and label the Y axis \"Sin of X\":"
      ]
    },
    {
      "cell_type": "code",
      "execution_count": null,
      "metadata": {
        "cell_id": "00004-eb9379ab-6c79-4e7d-834d-c210c81dec46",
        "deepnote_cell_type": "code",
        "deepnote_to_be_reexecuted": false,
        "execution_millis": 2,
        "execution_start": 1628642162783,
        "source_hash": "de251caf",
        "tags": []
      },
      "outputs": [],
      "source": [
        "x = np.linspace(0, np.pi * 10, 200)\n",
        "data = np.sin(x)"
      ]
    },
    {
      "cell_type": "code",
      "execution_count": 53,
      "metadata": {
        "tags": [
          "exercise"
        ]
      },
      "outputs": [],
      "source": []
    },
    {
      "cell_type": "markdown",
      "metadata": {
        "cell_id": "00024-e1510497-7c48-4251-be79-6986f1307458",
        "deepnote_cell_type": "markdown",
        "tags": []
      },
      "source": [
        "Make a line plot of this data and put the label \"Sin of X\" in a legend (Note: look carefully at the example in the explanation above, the *label* doesn't go where you might expect):"
      ]
    },
    {
      "cell_type": "code",
      "execution_count": 56,
      "metadata": {},
      "outputs": [],
      "source": [
        "x = np.linspace(0, np.pi * 10, 200)\n",
        "data = np.sin(x)"
      ]
    },
    {
      "cell_type": "code",
      "execution_count": 57,
      "metadata": {
        "cell_id": "00005-31a23430-0366-4231-a2f0-a7abdc98fe45",
        "deepnote_cell_type": "code",
        "deepnote_to_be_reexecuted": false,
        "execution_millis": 2,
        "execution_start": 1628642257396,
        "source_hash": "de251caf",
        "tags": [
          "exercise"
        ]
      },
      "outputs": [],
      "source": []
    },
    {
      "cell_type": "markdown",
      "metadata": {
        "cell_id": "00026-55c82fc2-0451-4fb6-96c7-71844a2efe87",
        "deepnote_cell_type": "markdown",
        "tags": []
      },
      "source": [
        "Make a line plot of each of these datasets and put the labels \"Sin of X\" and \"Cos of X\" in a legend:"
      ]
    },
    {
      "cell_type": "code",
      "execution_count": null,
      "metadata": {
        "cell_id": "00006-9c04588b-8244-43e7-92d6-8a459829fe5d",
        "deepnote_cell_type": "code",
        "deepnote_to_be_reexecuted": false,
        "execution_millis": 6,
        "execution_start": 1628642259673,
        "source_hash": "a98096",
        "tags": []
      },
      "outputs": [],
      "source": [
        "x = np.linspace(0, np.pi * 4, 200)\n",
        "data1 = np.sin(x)\n",
        "data2 = np.cos(x)"
      ]
    },
    {
      "cell_type": "code",
      "execution_count": 59,
      "metadata": {
        "tags": [
          "exercise"
        ]
      },
      "outputs": [],
      "source": []
    },
    {
      "cell_type": "markdown",
      "metadata": {},
      "source": [
        "## Subplots\n",
        "\n",
        "For subplots (small plots inside a larger figure), four more functions become useful:\n",
        "\n",
        "| Function | Description | Example |\n",
        "| :-- | :-- | :-- |\n",
        "| `plt.figure(figsize=(width, height))` | Make a figure with a given size | `plt.figure(figsize=(4, 5))` |\n",
        "| `plt.subplot(nrows, ncols, current)` | Make a subplot somewhere in a given grid | `plt.subplot(2, 3, 5)` |\n",
        "| `plt.suptitle(title)` | Make a \"super\" title for the whole figure | `plt.suptitle(\"The title\")` |\n",
        "| `plt.tight_layout()` | Adjust the layout so there is enough room that the subplots don't overlap | `plt.tight_layout()` |\n"
      ]
    },
    {
      "cell_type": "markdown",
      "metadata": {},
      "source": [
        "Example: Three columns of plots (a grid that is 1 x 3)"
      ]
    },
    {
      "cell_type": "code",
      "execution_count": 4,
      "metadata": {},
      "outputs": [
        {
          "data": {
            "text/plain": [
              "[<matplotlib.lines.Line2D at 0x7f67f1b98ee0>]"
            ]
          },
          "execution_count": 4,
          "metadata": {},
          "output_type": "execute_result"
        },
        {
          "data": {
            "image/png": "[encoded data removed]",
            "text/plain": [
              "<Figure size 640x480 with 3 Axes>"
            ]
          },
          "metadata": {},
          "output_type": "display_data"
        }
      ],
      "source": [
        "plt.subplot(1, 3, 1)\n",
        "plt.plot([1, 2, 3, 4])\n",
        "\n",
        "plt.subplot(1, 3, 2)\n",
        "plt.plot([4, 3, 2, 1])\n",
        "\n",
        "plt.subplot(1, 3, 3)\n",
        "plt.plot([4, 3, 2, 1, 2, 3, 4])"
      ]
    },
    {
      "cell_type": "markdown",
      "metadata": {},
      "source": [
        "Example: Three rows of plots: (a grid that is 3 x 1)"
      ]
    },
    {
      "cell_type": "code",
      "execution_count": 7,
      "metadata": {},
      "outputs": [
        {
          "data": {
            "text/plain": [
              "Text(0.5, 0, 'The data')"
            ]
          },
          "execution_count": 7,
          "metadata": {},
          "output_type": "execute_result"
        },
        {
          "data": {
            "image/png": "[encoded data removed]",
            "text/plain": [
              "<Figure size 640x480 with 3 Axes>"
            ]
          },
          "metadata": {},
          "output_type": "display_data"
        }
      ],
      "source": [
        "plt.subplot(3, 1, 1)\n",
        "plt.plot([1, 2, 3, 4])\n",
        "plt.xlabel('The data')\n",
        "\n",
        "plt.subplot(3, 1, 2)\n",
        "plt.plot([4, 3, 2, 1])\n",
        "plt.xlabel('The data')\n",
        "\n",
        "plt.subplot(3, 1, 3)\n",
        "plt.plot([4, 3, 2, 1, 2, 3, 4])\n",
        "plt.xlabel('The data')"
      ]
    },
    {
      "cell_type": "markdown",
      "metadata": {},
      "source": [
        "Example: Resizing the figure dimensions with `plt.figure(figsize=(width, height))` at the beginning to make things more pretty, then adjusting the spacing at the end to make room for all the labels and things with `plt.tight_layout()`"
      ]
    },
    {
      "cell_type": "code",
      "execution_count": 18,
      "metadata": {},
      "outputs": [
        {
          "data": {
            "image/png": "[encoded data removed]",
            "text/plain": [
              "<Figure size 300x600 with 3 Axes>"
            ]
          },
          "metadata": {},
          "output_type": "display_data"
        }
      ],
      "source": [
        "plt.figure(figsize=(3, 6))\n",
        "plt.suptitle(\"Three lines\")\n",
        "\n",
        "plt.subplot(3, 1, 1)\n",
        "plt.plot([1, 2, 3, 4])\n",
        "plt.title(\"Line 1\")\n",
        "plt.xlabel('The data')\n",
        "\n",
        "plt.subplot(3, 1, 2)\n",
        "plt.plot([4, 3, 2, 1])\n",
        "plt.title(\"Line 2\")\n",
        "plt.xlabel('The data')\n",
        "\n",
        "plt.subplot(3, 1, 3)\n",
        "plt.plot([4, 3, 2, 1, 2, 3, 4])\n",
        "plt.title(\"Line 3\")\n",
        "plt.xlabel('The data')\n",
        "\n",
        "plt.tight_layout()"
      ]
    },
    {
      "cell_type": "markdown",
      "metadata": {},
      "source": [
        "**Exercises**"
      ]
    },
    {
      "cell_type": "markdown",
      "metadata": {},
      "source": [
        "Plot the following into a 2 x 2 grid of subplots, labeling each of the axes with the variable names:\n",
        "  - x1 vs y1\n",
        "  - x1 vs y3\n",
        "  - x2 vs y2\n",
        "  - x2 vs y4\n",
        "\n"
      ]
    },
    {
      "cell_type": "code",
      "execution_count": 14,
      "metadata": {},
      "outputs": [],
      "source": [
        "x1 = np.linspace(0, np.pi * 4, 200)\n",
        "y1 = np.sin(x1)\n",
        "\n",
        "x2 = np.linspace(np.pi * 4, np.pi * 8, 200)\n",
        "y2 = np.sin(x2)\n",
        "\n",
        "y3 = np.cos(x1)\n",
        "y4 = np.cos(x2)"
      ]
    },
    {
      "cell_type": "code",
      "execution_count": 16,
      "metadata": {
        "tags": [
          "exercise"
        ]
      },
      "outputs": [],
      "source": []
    },
    {
      "cell_type": "markdown",
      "metadata": {
        "cell_id": "00008-2c98d792-5c0d-4cf1-b6e9-b2d60555458d",
        "deepnote_cell_type": "markdown",
        "deepnote_to_be_reexecuted": false,
        "execution_millis": 1,
        "execution_start": 1628642356601,
        "source_hash": "b623e53d",
        "tags": []
      },
      "source": [
        "## Histograms\n",
        "\n",
        "When you have a lot of data, often you just want to know how much data you have and around what values your data is clustered (the data's \"distribution\").  This is where histograms come in; on the x axis, they show the values in your data, and on the y axis, how often those values (grouped together in \"bins\") occured in your dataset.\n",
        "\n",
        "  - **`plt.hist(data)`**: Make a histogram of the data\n",
        "  - **`plt.hist(data, bins=20)`**: Make a histogram of the data, specifying the number of bins\n",
        "  - **`plt.hist(data, density=True)`**: Make a probability distribution of the data (normalizes the y axis)\n",
        "  - **`plt.hist(data, cumulative=True)`**: Make a cumulative histogram of the data\n",
        "  - **`plt.hist(data, label=\"My data\"); plt.legend()`**: label the data and put the label in a legend.\n",
        "  - **`plt.hist(data, alpha=0.5)`**: Specify how opaque (i.e. how not-transparent) the plot is, from 0-1.\n",
        "  "
      ]
    },
    {
      "cell_type": "markdown",
      "metadata": {
        "cell_id": "00029-8f014214-88d3-409e-832f-f3f850421a7d",
        "deepnote_cell_type": "markdown",
        "tags": []
      },
      "source": [
        "**Exercises**"
      ]
    },
    {
      "cell_type": "markdown",
      "metadata": {
        "cell_id": "00030-98191f8b-e692-4c6f-9e1c-8bab644886f2",
        "deepnote_cell_type": "markdown",
        "tags": []
      },
      "source": [
        "Make a histogram of this data.  Looking at the plot, how would you describe the data's distribution (min, max, average, shape)?"
      ]
    },
    {
      "cell_type": "code",
      "execution_count": null,
      "metadata": {
        "cell_id": "00009-260cf856-7ac5-47d1-a97e-7cfb818ceeb8",
        "deepnote_cell_type": "code",
        "deepnote_to_be_reexecuted": false,
        "execution_millis": 1,
        "execution_start": 1628643134429,
        "source_hash": "34811bd6",
        "tags": []
      },
      "outputs": [],
      "source": [
        "n_data_points = 20\n",
        "data = np.random.random(size=n_data_points)"
      ]
    },
    {
      "cell_type": "code",
      "execution_count": 60,
      "metadata": {
        "tags": [
          "exercise"
        ]
      },
      "outputs": [],
      "source": []
    },
    {
      "cell_type": "markdown",
      "metadata": {
        "cell_id": "00032-a16a96fc-b1be-4868-9047-ca9da73ede11",
        "deepnote_cell_type": "markdown",
        "tags": []
      },
      "source": [
        "Make a histogram of this data.  Looking at the plot, how would you describe the data's distribution (min, max, average, shape)?"
      ]
    },
    {
      "cell_type": "code",
      "execution_count": null,
      "metadata": {
        "cell_id": "00033-404e0b6b-798b-42a7-97ff-9413204ef76b",
        "deepnote_cell_type": "code",
        "tags": []
      },
      "outputs": [],
      "source": [
        "n_data_points = 200\n",
        "data = np.random.random(size=n_data_points)"
      ]
    },
    {
      "cell_type": "code",
      "execution_count": 61,
      "metadata": {
        "tags": [
          "exercise"
        ]
      },
      "outputs": [],
      "source": []
    },
    {
      "cell_type": "markdown",
      "metadata": {
        "cell_id": "00034-b0d79bde-58a4-4337-9b5e-eb1af5ea5f02",
        "deepnote_cell_type": "markdown",
        "tags": []
      },
      "source": [
        "Make a histogram of this data. Looking at the plot, how would you describe the data's distribution (min, max, average, shape)?"
      ]
    },
    {
      "cell_type": "code",
      "execution_count": null,
      "metadata": {
        "cell_id": "00035-840ef369-1966-4f74-aded-91ab5035d7bd",
        "deepnote_cell_type": "code",
        "tags": []
      },
      "outputs": [],
      "source": [
        "n_data_points = 2000\n",
        "data = np.random.random(size=n_data_points)"
      ]
    },
    {
      "cell_type": "code",
      "execution_count": 62,
      "metadata": {
        "tags": [
          "exercise"
        ]
      },
      "outputs": [],
      "source": []
    },
    {
      "cell_type": "markdown",
      "metadata": {
        "cell_id": "00036-d08013d0-c23d-40ad-91f0-2bfb655440e4",
        "deepnote_cell_type": "markdown",
        "tags": []
      },
      "source": [
        "Make a histogram of this data. Looking at the plot, how would you describe the data's distribution (min, max, average, shape)?"
      ]
    },
    {
      "cell_type": "code",
      "execution_count": null,
      "metadata": {
        "cell_id": "00010-3ff24bb6-5d9b-4733-9d1b-9c2bdaa47c09",
        "deepnote_cell_type": "code",
        "deepnote_to_be_reexecuted": false,
        "execution_millis": 1,
        "execution_start": 1628643190537,
        "source_hash": "3913e196",
        "tags": []
      },
      "outputs": [],
      "source": [
        "n_data_points = 2000\n",
        "data = np.random.normal(size=n_data_points)"
      ]
    },
    {
      "cell_type": "code",
      "execution_count": 63,
      "metadata": {
        "tags": [
          "exercise"
        ]
      },
      "outputs": [],
      "source": []
    },
    {
      "cell_type": "markdown",
      "metadata": {
        "cell_id": "00038-aff62152-73c7-46a4-baae-0a94c1e184e4",
        "deepnote_cell_type": "markdown",
        "tags": []
      },
      "source": [
        "The quality of a histogram is based on:\n",
        "  1. The total amount of data\n",
        "  2. The distribution of the data\n",
        "  3. How many bins are used\n",
        "\n",
        "Make a histogram of this data, setting the number of bins (`plt.hist(data, bins=100)`) to each of the requested numbers.  Study the plots as you make them and discuss whether the number of bins is set too high or too low for this dataset."
      ]
    },
    {
      "cell_type": "code",
      "execution_count": null,
      "metadata": {
        "cell_id": "00039-eece4e14-38ec-4fa6-878d-73573f002a21",
        "deepnote_cell_type": "code",
        "deepnote_to_be_reexecuted": false,
        "execution_millis": 1,
        "execution_start": 1628643363561,
        "source_hash": "3913e196",
        "tags": []
      },
      "outputs": [],
      "source": [
        "n_data_points = 2000\n",
        "data = np.random.normal(size=n_data_points)"
      ]
    },
    {
      "cell_type": "markdown",
      "metadata": {},
      "source": [
        "100 bins:"
      ]
    },
    {
      "cell_type": "code",
      "execution_count": 64,
      "metadata": {
        "tags": [
          "exercise"
        ]
      },
      "outputs": [],
      "source": []
    },
    {
      "cell_type": "markdown",
      "metadata": {},
      "source": [
        "20 bins:"
      ]
    },
    {
      "cell_type": "code",
      "execution_count": 65,
      "metadata": {
        "tags": [
          "exercise"
        ]
      },
      "outputs": [],
      "source": []
    },
    {
      "cell_type": "markdown",
      "metadata": {},
      "source": [
        "10 bins:"
      ]
    },
    {
      "cell_type": "code",
      "execution_count": 66,
      "metadata": {
        "tags": [
          "exercise"
        ]
      },
      "outputs": [],
      "source": []
    },
    {
      "cell_type": "markdown",
      "metadata": {},
      "source": [
        "5 bins:"
      ]
    },
    {
      "cell_type": "code",
      "execution_count": 67,
      "metadata": {
        "tags": [
          "exercise"
        ]
      },
      "outputs": [],
      "source": []
    },
    {
      "cell_type": "markdown",
      "metadata": {},
      "source": [
        "**Discussion:** What would you say is the \"ideal\" number of bins for this dataset?"
      ]
    },
    {
      "cell_type": "markdown",
      "metadata": {
        "cell_id": "00038-6d726b15-d9fe-4088-b353-e56fb6d38ae5",
        "deepnote_cell_type": "markdown",
        "tags": []
      },
      "source": [
        "Make a histogram of this data with normalized Y values (a probability density, `density=True`).  What is different about this, compared to the histogram above?"
      ]
    },
    {
      "cell_type": "code",
      "execution_count": null,
      "metadata": {
        "cell_id": "00010-48b00a7e-e26b-4550-8fab-84c4d26cfef7",
        "deepnote_cell_type": "code",
        "deepnote_to_be_reexecuted": false,
        "execution_millis": 4,
        "execution_start": 1628643228204,
        "source_hash": "748b0836",
        "tags": []
      },
      "outputs": [],
      "source": [
        "n_data_points = 200\n",
        "data = np.random.normal(size=n_data_points)"
      ]
    },
    {
      "cell_type": "code",
      "execution_count": 70,
      "metadata": {
        "tags": [
          "exercise"
        ]
      },
      "outputs": [],
      "source": []
    },
    {
      "cell_type": "markdown",
      "metadata": {
        "cell_id": "00040-2d2af260-4ba3-434c-8828-4476f10976e2",
        "deepnote_cell_type": "markdown",
        "tags": []
      },
      "source": [
        "Make a cumulative histogram of this data. What is different about this, compared to the histogram above?"
      ]
    },
    {
      "cell_type": "code",
      "execution_count": 71,
      "metadata": {
        "cell_id": "00013-6d01110d-902a-4276-9ee7-e7742b78297a",
        "deepnote_cell_type": "code",
        "deepnote_to_be_reexecuted": false,
        "execution_millis": 0,
        "execution_start": 1635925624234,
        "source_hash": "748b0836",
        "tags": []
      },
      "outputs": [],
      "source": [
        "n_data_points = 200\n",
        "data = np.random.normal(size=n_data_points)"
      ]
    },
    {
      "cell_type": "code",
      "execution_count": 72,
      "metadata": {
        "tags": [
          "exercise"
        ]
      },
      "outputs": [],
      "source": []
    },
    {
      "cell_type": "markdown",
      "metadata": {
        "cell_id": "00044-338e89b4-3290-4999-bb64-a451c4f67a53",
        "deepnote_cell_type": "markdown",
        "tags": []
      },
      "source": [
        "Make two histograms, one for each of the two datasets below.  Label the data in a legend, and make the data more transparent for easier viewing (e.g. `alpha=0.4`)."
      ]
    },
    {
      "cell_type": "code",
      "execution_count": null,
      "metadata": {
        "cell_id": "00014-f4312501-11f8-4fa9-9c11-35911f838534",
        "deepnote_cell_type": "code",
        "deepnote_to_be_reexecuted": false,
        "execution_millis": 0,
        "execution_start": 1628643429442,
        "source_hash": "5b298406",
        "tags": []
      },
      "outputs": [],
      "source": [
        "n_data_points = 200\n",
        "data1 = np.random.normal(0, 1, size=n_data_points)\n",
        "data2 = np.random.normal(2, 0.5, size=n_data_points)"
      ]
    },
    {
      "cell_type": "code",
      "execution_count": 75,
      "metadata": {
        "tags": [
          "exercise"
        ]
      },
      "outputs": [],
      "source": []
    }
  ],
  "metadata": {
    "deepnote": {
      "is_reactive": false
    },
    "deepnote_execution_queue": [],
    "deepnote_notebook_id": "4415560d-362e-4631-ba6f-42143f731ed3",
    "kernelspec": {
      "display_name": "Python 3 (ipykernel)",
      "language": "python",
      "name": "python3"
    },
    "language_info": {
      "codemirror_mode": {
        "name": "ipython",
        "version": 3
      },
      "file_extension": ".py",
      "mimetype": "text/x-python",
      "name": "python",
      "nbconvert_exporter": "python",
      "pygments_lexer": "ipython3",
      "version": "3.10.4"
    },
    "vscode": {
      "interpreter": {
        "hash": "d6852d01271bf8033dbdb7ec364b6f6e89fd52a18c6bf5b4c73e48c86329a8dd"
      }
    }
  },
  "nbformat": 4,
  "nbformat_minor": 4
}