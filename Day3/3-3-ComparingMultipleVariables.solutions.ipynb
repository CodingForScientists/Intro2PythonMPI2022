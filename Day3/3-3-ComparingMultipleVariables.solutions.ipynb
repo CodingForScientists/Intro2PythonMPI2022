{
  "cells": [
    {
      "cell_type": "code",
      "execution_count": 97,
      "id": "7438b378",
      "metadata": {
        "tags": []
      },
      "outputs": [
        {
          "name": "stdout",
          "output_type": "stream",
          "text": [
            "Requirement already satisfied: numpy in /home/nickdg/miniconda3/lib/python3.9/site-packages (1.23.3)\n",
            "Requirement already satisfied: scipy in /home/nickdg/miniconda3/lib/python3.9/site-packages (1.9.1)\n",
            "Note: you may need to restart the kernel to use updated packages.\n"
          ]
        }
      ],
      "source": [
        "%pip install numpy scipy;"
      ]
    },
    {
      "cell_type": "code",
      "execution_count": 1,
      "id": "050439d6",
      "metadata": {
        "cell_id": "00007-c41041df-aa03-4b5f-808e-68b79b41952b",
        "deepnote_cell_type": "code",
        "deepnote_to_be_reexecuted": false,
        "execution_millis": 4,
        "execution_start": 1636618509664,
        "source_hash": "fb7cc69d",
        "tags": []
      },
      "outputs": [],
      "source": [
        "import numpy as np\n",
        "import matplotlib.pyplot as plt\n",
        "from scipy import stats"
      ]
    },
    {
      "cell_type": "markdown",
      "id": "8769dd0f",
      "metadata": {
        "cell_id": "00007-cd4f75ec-03f0-4143-a914-e14ba3feff58",
        "deepnote_cell_type": "markdown",
        "tags": []
      },
      "source": [
        "**Exercises** let's do some analysis on some fake data to get a feel for these two statistics tools."
      ]
    },
    {
      "cell_type": "markdown",
      "id": "838e762d",
      "metadata": {
        "cell_id": "00005-d9203f16-7bbf-45ba-88e1-ad09099e7f62",
        "deepnote_cell_type": "markdown",
        "deepnote_to_be_reexecuted": false,
        "execution_millis": 42,
        "execution_start": 1636618898586,
        "source_hash": "8ddf4792",
        "tags": []
      },
      "source": [
        "Generate the Data: Run the code below to create the dataset `data`."
      ]
    },
    {
      "cell_type": "code",
      "execution_count": 2,
      "id": "94ff3c3a",
      "metadata": {
        "cell_id": "00005-3bfe7d22-ac1b-4281-8239-9840b84be665",
        "deepnote_cell_type": "code",
        "deepnote_to_be_reexecuted": false,
        "execution_millis": 157,
        "execution_start": 1636618872868,
        "source_hash": "30d6b9bd",
        "tags": []
      },
      "outputs": [
        {
          "data": {
            "text/plain": [
              "array([[ 0.49671415,  1.66564877,  1.43846658,  0.20087931],\n",
              "       [-0.1382643 , -0.0257763 ,  0.87136828, -0.3753961 ],\n",
              "       [ 0.64768854,  0.2675282 ,  0.58435172,  0.22642154],\n",
              "       [ 1.52302986, -1.22474819,  0.3988963 ,  1.08378853],\n",
              "       [-0.23415337, -0.34438272, -0.77852199, -0.27164821],\n",
              "       [-0.23413696,  0.31092259, -0.01984421, -0.16288895],\n",
              "       [ 1.57921282, -0.95099358,  0.23936123,  1.36481079],\n",
              "       [ 0.76743473,  0.57569802,  1.75712223,  0.76814131],\n",
              "       [-0.46947439, -0.40063869,  1.04361829, -0.59714718],\n",
              "       [ 0.54256004, -0.09169375, -1.06304016,  0.21353609],\n",
              "       [-0.46341769, -0.40170661,  1.02408397, -0.59113857],\n",
              "       [-0.46572975,  2.05227818,  0.31491772, -0.35812244],\n",
              "       [ 0.24196227,  0.18650278,  0.023078  ,  0.03479706],\n",
              "       [-1.91328024, -0.85771093,  1.31167629, -1.80035151],\n",
              "       [-1.72491783,  1.02254491,  1.73099952, -2.44886685],\n",
              "       [-0.56228753, -1.02084365,  1.63128012, -0.59790703],\n",
              "       [-1.01283112,  0.4088636 , -0.13921752, -1.19542171],\n",
              "       [ 0.31424733, -1.75967012,  0.39078762,  0.05444586],\n",
              "       [-0.90802408, -1.12818605,  1.03126343, -1.08967192],\n",
              "       [-1.4123037 ,  0.39686124,  1.67554513, -2.00981748]])"
            ]
          },
          "execution_count": 2,
          "metadata": {},
          "output_type": "execute_result"
        }
      ],
      "source": [
        "rnd = np.random.RandomState(seed=42)  # Makes sure the pseudorandom number generators reproduce the same data for us all.\n",
        "\n",
        "variables = ['a', 'b', 'c', 'd']\n",
        "data_a = rnd.normal(0, 1, size=20)\n",
        "data_b = rnd.normal(0.2, 1, size=20)\n",
        "data_c = rnd.normal(0.7, 1, size=20)\n",
        "data_d = (data_a - 0.2) + rnd.normal(0, 0.2, size=20)\n",
        "\n",
        "data = np.array([data_a, data_b, data_c, data_d]).T\n",
        "data"
      ]
    },
    {
      "cell_type": "markdown",
      "id": "0f09507d",
      "metadata": {},
      "source": [
        "## Visualize the Data\n",
        "\n",
        "What do these four variables look like, when compared against each other?  Let's take a look using three types of plots and matplotlib:\n",
        "\n",
        "| Plot type | Function | Example Code |\n",
        "| :--  | :-- | :-- |\n",
        "| **Box Plot** | `plt.boxplot()` | `plt.boxplot([x, y, z])` |\n",
        "| **Violin Plot** | `plt.violin()` | `plt.violin([x, y, z])` |\n",
        "| **Label X Tick Marks**| `plt.xticks(locations, labels)`  | `plt.xticks([1, 2], ['a', 'b'])` |"
      ]
    },
    {
      "cell_type": "markdown",
      "id": "e661e700",
      "metadata": {},
      "source": [
        "**Exercises**"
      ]
    },
    {
      "cell_type": "markdown",
      "id": "5da19d20",
      "metadata": {},
      "source": [
        "Make a Violin Plot of the four columns of `data`.  Label the X axis with the variable names \"a\", \"b\", \"c\", and \"d\" for each of the four datasets."
      ]
    },
    {
      "cell_type": "code",
      "execution_count": null,
      "id": "f07e98d0",
      "metadata": {
        "tags": [
          "exercise"
        ]
      },
      "outputs": [],
      "source": [
        "plt.violinplot([data[:, 0], data[:, 1], data[:, 2], data[:, 3]])\n",
        "plt.xticks([1, 2, 3, 4], ['a', 'b', 'c', 'd']);"
      ]
    },
    {
      "cell_type": "markdown",
      "id": "0dc33b31",
      "metadata": {},
      "source": [
        "Make a Box Plot of the four columns of `data`. Label the X axis with the variable names \"a\", \"b\", \"c\", and \"d\" for each of the four datasets."
      ]
    },
    {
      "cell_type": "code",
      "execution_count": null,
      "id": "df9dbb10",
      "metadata": {
        "tags": [
          "exercise"
        ]
      },
      "outputs": [],
      "source": [
        "plt.boxplot([data[:, 0], data[:, 1], data[:, 2], data[:, 3]], labels=['a', 'b', 'c', 'd']);"
      ]
    },
    {
      "cell_type": "markdown",
      "id": "b259782a",
      "metadata": {},
      "source": [
        "Note: sometimes we have to creative in order to create visualizations; below is an example of a strip plot, which is for viewing and comparing every data point between variables"
      ]
    },
    {
      "cell_type": "code",
      "execution_count": 49,
      "id": "d49d684e-4607-41ff-862e-3b85479d88f3",
      "metadata": {
        "tags": []
      },
      "outputs": [
        {
          "data": {
            "image/png": "[encoded data removed]",
            "text/plain": [
              "<Figure size 640x480 with 1 Axes>"
            ]
          },
          "metadata": {},
          "output_type": "display_data"
        }
      ],
      "source": [
        "n = data[:, 0].size\n",
        "plt.scatter(x = [1] * n + rnd.uniform(-.3, .3, n), y = data[:, 0]);\n",
        "plt.hlines(np.mean(data[:, 0]), 1 - .3, 1 + .3, linestyles='dotted', colors='black');\n",
        "\n",
        "plt.scatter(x = [2] * n + rnd.uniform(-.3, .3, n), y = data[:, 1]);\n",
        "plt.hlines(np.mean(data[:, 1]), 2 - .3, 2 + .3, linestyles='dotted', colors='black');\n",
        "\n",
        "plt.scatter(x = [3] * n + rnd.uniform(-.3, .3, n), y = data[:, 2]);\n",
        "plt.hlines(np.mean(data[:, 2]), 3 - .3, 3 + .3, linestyles='dotted', colors='black');\n",
        "\n",
        "plt.scatter(x = [4] * n + rnd.uniform(-.3, .3, n), y = data[:, 3]);\n",
        "plt.hlines(np.mean(data[:, 3]), 4 - .3, 4 + .3, linestyles='dotted', colors='black');\n",
        "\n",
        "plt.xticks([1, 2, 3, 4], ['a', 'b', 'c', 'd']);"
      ]
    },
    {
      "cell_type": "markdown",
      "id": "00a82745-3f7b-47a6-aa11-2dca7fcbddbf",
      "metadata": {},
      "source": [
        "**Discussion**: Which of the three plots above do you find most interesting?  What information do you get from each of them?"
      ]
    },
    {
      "cell_type": "markdown",
      "id": "f011e52f",
      "metadata": {
        "cell_id": "00006-7ecfd47a-9742-49cd-ab32-67732ccc818b",
        "deepnote_cell_type": "markdown",
        "tags": []
      },
      "source": [
        "### Doing T-Tests with the Scipy.Stats\n",
        "\n",
        "[**Scipy.Stats**](https://docs.scipy.org/doc/scipy/reference/stats.html) has all the stats functions you know and love from statistics class.  Like all the functions in the [scipy](https://docs.scipy.org/doc/scipy/getting_started.html) package, it is fully-compatible with Numpy.\n",
        "\n",
        "\n",
        "T-tests compare the means of two samples of data generated from a normally-distributed population and compute the probability that they have the same mean. When the p-value is very low, it tells us that the two data samples must have come from different populations.  Both packages have functions for t-tests! \n",
        "\n",
        "\n",
        "| Test, | `scipy.stats` Function, | \n",
        "| :---: | :---: |\n",
        "| One-Sampled T-Test | [**stats.ttest_1samp(x, 0)**](https://docs.scipy.org/doc/scipy/reference/generated/scipy.stats.ttest_1samp.html#scipy.stats.ttest_1samp) | \n",
        "| Independent T-Test | [**stats.ttest_ind(x, y)**](https://docs.scipy.org/doc/scipy/reference/generated/scipy.stats.ttest_ind.html#scipy.stats.ttest_ind)\n",
        "| Paired T-test | [**stats.ttest_rel(x, y)**](https://docs.scipy.org/doc/scipy/reference/generated/scipy.stats.ttest_rel.html#scipy.stats.ttest_rel)\n"
      ]
    },
    {
      "cell_type": "markdown",
      "id": "1abc28b7",
      "metadata": {},
      "source": [
        "**Exercises**"
      ]
    },
    {
      "cell_type": "markdown",
      "id": "2818f8db",
      "metadata": {},
      "source": [
        "**A vs 0, One-Sampled T-Test**: Is the mean of the normally-distributed population that the the dataset A is generated from unlikely to be zero?"
      ]
    },
    {
      "cell_type": "markdown",
      "id": "32ba344d",
      "metadata": {},
      "source": [
        "*Example*:"
      ]
    },
    {
      "cell_type": "code",
      "execution_count": 50,
      "id": "38d8a523",
      "metadata": {},
      "outputs": [
        {
          "data": {
            "text/plain": [
              "Ttest_1sampResult(statistic=-0.797966433655592, pvalue=0.43475058842710046)"
            ]
          },
          "execution_count": 50,
          "metadata": {},
          "output_type": "execute_result"
        }
      ],
      "source": [
        "stats.ttest_1samp(data[:, 0], 0)"
      ]
    },
    {
      "cell_type": "markdown",
      "id": "1834ea70",
      "metadata": {},
      "source": [
        "**B vs 1, One-Sampled T-Test**: Is the mean of the normally-distributed population that the the dataset B is generated from unlikely to be one?"
      ]
    },
    {
      "cell_type": "code",
      "execution_count": 51,
      "id": "dba8de00",
      "metadata": {
        "tags": [
          "exercise"
        ]
      },
      "outputs": [
        {
          "data": {
            "text/plain": [
              "Ttest_1sampResult(statistic=-4.924581626018964, pvalue=9.410444261361524e-05)"
            ]
          },
          "execution_count": 51,
          "metadata": {},
          "output_type": "execute_result"
        }
      ],
      "source": [
        "stats.ttest_1samp(data[:, 1], 1)"
      ]
    },
    {
      "cell_type": "markdown",
      "id": "67930529",
      "metadata": {},
      "source": [
        "**A vs B, Independent Samples T-Test**: Is the mean of the normally-distributed population that the the dataset `A` is generated from unlikely to be the same as the mean of the normally-distributed population that the the dataset `B` is generated from?"
      ]
    },
    {
      "cell_type": "code",
      "execution_count": 52,
      "id": "6eab913e",
      "metadata": {
        "cell_id": "00010-a8f4e43c-d3f9-4e70-abb6-f549c9c520f1",
        "deepnote_cell_type": "code",
        "tags": [
          "exercise"
        ]
      },
      "outputs": [
        {
          "data": {
            "text/plain": [
              "Ttest_indResult(statistic=-0.34548496872508355, pvalue=0.7316350980688235)"
            ]
          },
          "execution_count": 52,
          "metadata": {},
          "output_type": "execute_result"
        }
      ],
      "source": [
        "stats.ttest_ind(data[:, 0], data[:, 1])"
      ]
    },
    {
      "cell_type": "markdown",
      "id": "21e7c886",
      "metadata": {},
      "source": [
        "**A vs C, Independent Samples T-Test**: Is the mean of the normally-distributed population that the the dataset `A` is generated from unlikely to be the same as the mean of the normally-distributed population that the the dataset `C` is generated from?"
      ]
    },
    {
      "cell_type": "code",
      "execution_count": 53,
      "id": "facc6a4e",
      "metadata": {
        "cell_id": "00012-016e5e09-0b1b-4160-8a49-be6fe6944c0e",
        "deepnote_cell_type": "code",
        "tags": [
          "exercise"
        ]
      },
      "outputs": [
        {
          "data": {
            "text/plain": [
              "Ttest_indResult(statistic=-2.990400096331035, pvalue=0.004868348606416014)"
            ]
          },
          "execution_count": 53,
          "metadata": {},
          "output_type": "execute_result"
        }
      ],
      "source": [
        "stats.ttest_ind(data[:, 0], data[:, 2])"
      ]
    },
    {
      "cell_type": "markdown",
      "id": "c7f48a4c",
      "metadata": {
        "cell_id": "00014-1acad45d-9edc-4327-9d4a-a75100f221a6",
        "deepnote_cell_type": "markdown",
        "tags": []
      },
      "source": [
        "**A vs C, Paired Samples T-Test (a.k.a Relative Samples T-Test)**: Is the mean of the differences between each pair of samples in generated from the two normally-distributed populations `A` and `C`  unlikely to be 0?"
      ]
    },
    {
      "cell_type": "code",
      "execution_count": 54,
      "id": "e4d32f58",
      "metadata": {
        "cell_id": "00016-6a05d799-a83b-41f3-a512-49483da423bf",
        "deepnote_cell_type": "code",
        "tags": [
          "exercise"
        ]
      },
      "outputs": [
        {
          "data": {
            "text/plain": [
              "Ttest_relResult(statistic=-2.5719051374033515, pvalue=0.018669862069265977)"
            ]
          },
          "execution_count": 54,
          "metadata": {},
          "output_type": "execute_result"
        }
      ],
      "source": [
        "stats.ttest_rel(data[:, 0], data[:, 2])"
      ]
    },
    {
      "cell_type": "markdown",
      "id": "f4d2e3ee",
      "metadata": {
        "cell_id": "00017-72ede8ff-a028-4ad9-af67-d9ee5dd2ec58",
        "deepnote_cell_type": "markdown",
        "tags": []
      },
      "source": [
        "**A vs D, Paired Samples T-Test**: Is the mean of the differences between each pair of samples in generated from the two normally-distributed populations `A` and `D`  unlikely to be 0?"
      ]
    },
    {
      "cell_type": "code",
      "execution_count": 55,
      "id": "5ac05915",
      "metadata": {
        "cell_id": "00018-2ab8bfa9-071d-40e5-bc18-c18a90223066",
        "deepnote_cell_type": "code",
        "tags": [
          "exercise"
        ]
      },
      "outputs": [
        {
          "data": {
            "text/plain": [
              "Ttest_relResult(statistic=-2.5719051374033515, pvalue=0.018669862069265977)"
            ]
          },
          "execution_count": 55,
          "metadata": {},
          "output_type": "execute_result"
        }
      ],
      "source": [
        "stats.ttest_rel(data[:, 0], data[:, 2])"
      ]
    },
    {
      "cell_type": "markdown",
      "id": "eccefafd-c68a-4ef1-abe5-711389555025",
      "metadata": {},
      "source": [
        "### Extra: Thinking about the Data as a Representative Sample Using Bootstrappng: Inferential Statistics and the Law of Large Numbers\n",
        "\n",
        "If you have enough data that your sample roughly approximates the distribution of the population it draws from (a.k.a. \"The Law of Large Numbers\"), then we can use that data to put error bars on any statistic we compute from it, simply by sampling again from our data (essentially \"repeating\" our experiment, treating our sample as a stand-in for the population it draws from), calculating the statistic for each replication, and looking at the distribution of statistics.  This general approach to inferential statistics is called \"bootstrapping\".\n",
        "\n",
        "With Numpy, you can do most boostrapping using only three steps: \n",
        "\n",
        "  1. **Resample from your dataset**: Select randomly from a dataset, making N experiments of the same size as the original.  Use as many reps as you want: more is better.\n",
        "  \n",
        "  `boots = np.random.choice(a, size=(len(a), NReps), replace=True)` \n",
        "  \n",
        "  2. **Calculate the statistic for every replication**: What was the mean, or std, or median, for those experiments?  \n",
        "  \n",
        "  `aggs = np.mean(boots, axis=0)`\n",
        "  \n",
        "  3. **Calculate the 95% Confidence Interval**:  What was your range of values that you calculated?  Getting the values at the 2.5 and 97.5 percentiles of those statistics will do the trick.  If you are plotting your data, these two values are the lower and upper bounds of the error bars in the plot.\n",
        "  \n",
        "  `ci = np.percentile(aggs, [2.5, 97.5])`"
      ]
    },
    {
      "cell_type": "markdown",
      "id": "63a2d6db-8e86-475e-8e8d-2573eb4d0c81",
      "metadata": {},
      "source": [
        "**Exercises**: Use bootstrapping with Numpy to calculate the N% confidence intervals of the requested statistic for each dataset:"
      ]
    },
    {
      "cell_type": "markdown",
      "id": "dbbb2044-4673-4ce2-a4f6-cf55c01bc61b",
      "metadata": {},
      "source": [
        "Example: Estimate the 90% CI of the median of `data_a`:"
      ]
    },
    {
      "cell_type": "code",
      "execution_count": 76,
      "id": "7cb08033-596a-449e-a721-61e9f926e880",
      "metadata": {},
      "outputs": [
        {
          "data": {
            "text/plain": [
              "array([-0.46947439,  0.31424733])"
            ]
          },
          "execution_count": 76,
          "metadata": {},
          "output_type": "execute_result"
        }
      ],
      "source": [
        "boots = np.random.choice(data_a, size=(len(data_a), 10000))\n",
        "aggs = np.median(boots, axis=0)\n",
        "ci = np.percentile(aggs, [5, 95])\n",
        "ci"
      ]
    },
    {
      "cell_type": "markdown",
      "id": "fedd5072-9e2d-4ddd-9c42-22721c09713e",
      "metadata": {},
      "source": [
        "Estimate the 95% CI of the mean of `data_b`:"
      ]
    },
    {
      "cell_type": "code",
      "execution_count": 87,
      "id": "de9071c7-43a8-4c84-be53-052827657afd",
      "metadata": {
        "tags": [
          "exercise"
        ]
      },
      "outputs": [
        {
          "data": {
            "text/plain": [
              "array([-0.62970877,  0.35389191])"
            ]
          },
          "execution_count": 87,
          "metadata": {},
          "output_type": "execute_result"
        }
      ],
      "source": [
        "boots = np.random.choice(data_b, size=(len(data_b), 10000))\n",
        "aggs = np.median(boots, axis=0)\n",
        "ci = np.percentile(aggs, [2.5, 97.5])\n",
        "ci"
      ]
    },
    {
      "cell_type": "markdown",
      "id": "3c7e7f54-a396-421d-92e0-3fb78ce17287",
      "metadata": {},
      "source": [
        "Estimate the 99% CI of the standard deviation of `data_c`:"
      ]
    },
    {
      "cell_type": "code",
      "execution_count": 88,
      "id": "3e3124a4-a8db-40d4-8845-0c52c9b9d41f",
      "metadata": {
        "tags": [
          "exercise"
        ]
      },
      "outputs": [
        {
          "data": {
            "text/plain": [
              "array([0.10975851, 1.37507143])"
            ]
          },
          "execution_count": 88,
          "metadata": {},
          "output_type": "execute_result"
        }
      ],
      "source": [
        "boots = np.random.choice(data_c, size=(len(data_c), 10000))\n",
        "aggs = np.median(boots, axis=0)\n",
        "ci = np.percentile(aggs, [.5, 99.5])\n",
        "ci"
      ]
    },
    {
      "cell_type": "markdown",
      "id": "988f6dd2-8e41-42c6-b7b2-8d93a490257a",
      "metadata": {},
      "source": [
        "Estimate the 50% CI of the mean of `data_d`:"
      ]
    },
    {
      "cell_type": "code",
      "execution_count": 89,
      "id": "25dc87c4-6e23-4a9b-a603-0d47429dbb89",
      "metadata": {},
      "outputs": [
        {
          "data": {
            "text/plain": [
              "array([-0.3753961 , -0.16288895])"
            ]
          },
          "execution_count": 89,
          "metadata": {},
          "output_type": "execute_result"
        }
      ],
      "source": [
        "boots = np.random.choice(data_d, size=(len(data_d), 10000))\n",
        "aggs = np.median(boots, axis=0)\n",
        "ci = np.percentile(aggs, [25, 75])\n",
        "ci"
      ]
    },
    {
      "cell_type": "markdown",
      "id": "8b942428-363e-4b34-a05c-9a3a6b3acc97",
      "metadata": {},
      "source": [
        "#### Using `scipy.stats.bootstrap()` to make bootstrapping simpler:\n",
        "\n",
        "With a single function in `scipy.stats`, we can do the whole analysis! Let's try the same exercises, this time using `scipy.stats.bootstrap()`"
      ]
    },
    {
      "cell_type": "markdown",
      "id": "b6dde276-dd1b-42f3-ae5d-6a68c3874989",
      "metadata": {},
      "source": [
        "Example: Estimate the 90% CI of the median of `data_a`:"
      ]
    },
    {
      "cell_type": "code",
      "execution_count": 93,
      "id": "56342c8b-4fdc-493c-b8b0-d60620b7f88f",
      "metadata": {},
      "outputs": [
        {
          "data": {
            "text/plain": [
              "BootstrapResult(confidence_interval=ConfidenceInterval(low=-0.5158809575879624, high=0.278104802080654), standard_error=0.2692778252650704)"
            ]
          },
          "execution_count": 93,
          "metadata": {},
          "output_type": "execute_result"
        }
      ],
      "source": [
        "stats.bootstrap((data_a,), np.median, confidence_level=.90, n_resamples=10000)"
      ]
    },
    {
      "cell_type": "markdown",
      "id": "bd7a0a7e-fa07-429e-9948-b37a16ed1e4a",
      "metadata": {},
      "source": [
        "Estimate the 95% CI of the mean of `data_b`:"
      ]
    },
    {
      "cell_type": "code",
      "execution_count": 94,
      "id": "03aaf886-d6a3-4d9a-8d10-a9f6e4779d0d",
      "metadata": {
        "tags": [
          "exercise"
        ]
      },
      "outputs": [
        {
          "data": {
            "text/plain": [
              "BootstrapResult(confidence_interval=ConfidenceInterval(low=-0.4453378510799528, high=0.3874059613317263), standard_error=0.21116216116688888)"
            ]
          },
          "execution_count": 94,
          "metadata": {},
          "output_type": "execute_result"
        }
      ],
      "source": [
        "stats.bootstrap((data_b,), np.mean, confidence_level=.95, n_resamples=10000)"
      ]
    },
    {
      "cell_type": "markdown",
      "id": "d63cac9f-c842-4c43-aa32-f343bd974cb4",
      "metadata": {},
      "source": [
        "Estimate the 99% CI of the standard deviation of `data_c`:"
      ]
    },
    {
      "cell_type": "code",
      "execution_count": 95,
      "id": "acbab88e-0f06-473a-b881-ebc8e8dbe111",
      "metadata": {
        "tags": [
          "exercise"
        ]
      },
      "outputs": [
        {
          "data": {
            "text/plain": [
              "BootstrapResult(confidence_interval=ConfidenceInterval(low=0.5766702394411095, high=1.1042224717353886), standard_error=0.1073321387006091)"
            ]
          },
          "execution_count": 95,
          "metadata": {},
          "output_type": "execute_result"
        }
      ],
      "source": [
        "stats.bootstrap((data_c,), np.std, confidence_level=.99, n_resamples=10000)"
      ]
    },
    {
      "cell_type": "markdown",
      "id": "d0cbc3ad-b3d6-4e5c-9e7f-1b71422aa70b",
      "metadata": {},
      "source": [
        "Estimate the 50% CI of the mean of `data_d`:"
      ]
    },
    {
      "cell_type": "code",
      "execution_count": 96,
      "id": "c2c4e321-91df-4ac3-bf0e-df4461e7b20c",
      "metadata": {},
      "outputs": [
        {
          "data": {
            "text/plain": [
              "BootstrapResult(confidence_interval=ConfidenceInterval(low=-0.528675660772405, high=-0.2409217250823727), standard_error=0.21374644363936499)"
            ]
          },
          "execution_count": 96,
          "metadata": {},
          "output_type": "execute_result"
        }
      ],
      "source": [
        "stats.bootstrap((data_d,), np.mean, confidence_level=.50, n_resamples=10000)"
      ]
    },
    {
      "cell_type": "markdown",
      "id": "8f0821e6-3810-4048-b70d-92e1b3102655",
      "metadata": {},
      "source": [
        "#### Extra Extra: Plotting Errorbars using `plt.errorbar()`\n",
        "\n",
        "Use Matplotlib's `plt.errorbar()` functoin to put errorbars on barplots sohwing the means of `data_a`, `data_b`, `data_c`, and `data_d` and their confidence intervals (note: you'll have to calculate the confidence intervals yourself)."
      ]
    },
    {
      "cell_type": "code",
      "execution_count": 85,
      "id": "e9b51b4d-5767-4083-bb07-a5e04d1fc2a0",
      "metadata": {
        "tags": [
          "exercise"
        ]
      },
      "outputs": [
        {
          "data": {
            "image/png": "[encoded data removed]",
            "text/plain": [
              "<Figure size 640x480 with 1 Axes>"
            ]
          },
          "metadata": {},
          "output_type": "display_data"
        }
      ],
      "source": [
        "plt.bar(['a'], [np.mean(data_a)]);\n",
        "plt.errorbar(\n",
        "    [0], \n",
        "    np.mean(data_a), \n",
        "    yerr=[[np.mean(data_a) - ci[0]], [ci[1]  - np.mean(data_a)]], \n",
        "    capsize=10\n",
        ");"
      ]
    }
  ],
  "metadata": {
    "colab": {
      "name": "20_Stats_With_Pingouin.ipynb",
      "provenance": []
    },
    "deepnote": {},
    "deepnote_execution_queue": [],
    "deepnote_notebook_id": "2622f8ad-4a8a-45f5-9f7f-6e1d67bd04f0",
    "kernelspec": {
      "display_name": "Python 3 (ipykernel)",
      "language": "python",
      "name": "python3"
    },
    "language_info": {
      "codemirror_mode": {
        "name": "ipython",
        "version": 3
      },
      "file_extension": ".py",
      "mimetype": "text/x-python",
      "name": "python",
      "nbconvert_exporter": "python",
      "pygments_lexer": "ipython3",
      "version": "3.9.12"
    },
    "vscode": {
      "interpreter": {
        "hash": "d6852d01271bf8033dbdb7ec364b6f6e89fd52a18c6bf5b4c73e48c86329a8dd"
      }
    }
  },
  "nbformat": 4,
  "nbformat_minor": 5
}