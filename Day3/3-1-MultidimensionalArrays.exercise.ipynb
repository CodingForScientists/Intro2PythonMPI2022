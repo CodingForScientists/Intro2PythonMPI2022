{
  "cells": [
    {
      "cell_type": "code",
      "execution_count": 79,
      "id": "729d935f",
      "metadata": {},
      "outputs": [
        {
          "name": "stdout",
          "output_type": "stream",
          "text": [
            "Requirement already satisfied: numpy in /home/nickdg/miniconda3/envs/py10/lib/python3.10/site-packages (1.23.3)\n",
            "Requirement already satisfied: matplotlib in /home/nickdg/miniconda3/envs/py10/lib/python3.10/site-packages (3.6.0)\n",
            "Requirement already satisfied: Pillow in /home/nickdg/miniconda3/envs/py10/lib/python3.10/site-packages (9.2.0)\n",
            "Requirement already satisfied: cycler>=0.10 in /home/nickdg/miniconda3/envs/py10/lib/python3.10/site-packages (from matplotlib) (0.11.0)\n",
            "Requirement already satisfied: packaging>=20.0 in /home/nickdg/miniconda3/envs/py10/lib/python3.10/site-packages (from matplotlib) (21.3)\n",
            "Requirement already satisfied: fonttools>=4.22.0 in /home/nickdg/miniconda3/envs/py10/lib/python3.10/site-packages (from matplotlib) (4.37.4)\n",
            "Requirement already satisfied: pyparsing>=2.2.1 in /home/nickdg/miniconda3/envs/py10/lib/python3.10/site-packages (from matplotlib) (3.0.9)\n",
            "Requirement already satisfied: python-dateutil>=2.7 in /home/nickdg/miniconda3/envs/py10/lib/python3.10/site-packages (from matplotlib) (2.8.2)\n",
            "Requirement already satisfied: kiwisolver>=1.0.1 in /home/nickdg/miniconda3/envs/py10/lib/python3.10/site-packages (from matplotlib) (1.4.4)\n",
            "Requirement already satisfied: contourpy>=1.0.1 in /home/nickdg/miniconda3/envs/py10/lib/python3.10/site-packages (from matplotlib) (1.0.5)\n",
            "Requirement already satisfied: six>=1.5 in /home/nickdg/miniconda3/envs/py10/lib/python3.10/site-packages (from python-dateutil>=2.7->matplotlib) (1.16.0)\n"
          ]
        }
      ],
      "source": [
        "%pip install numpy"
      ]
    },
    {
      "cell_type": "code",
      "execution_count": 1,
      "id": "bddba77e",
      "metadata": {
        "cell_id": "00000-6f12dfe2-3197-47ff-b294-649882e3441a",
        "deepnote_cell_type": "code",
        "deepnote_to_be_reexecuted": false,
        "execution_millis": 0,
        "execution_start": 1628757011735,
        "id": "apparent-optimum",
        "source_hash": "c2602aa8"
      },
      "outputs": [],
      "source": [
        "import numpy as np"
      ]
    },
    {
      "cell_type": "markdown",
      "id": "dea3226b",
      "metadata": {
        "cell_id": "00001-28755d24-92e9-4fa8-82a5-c28490f21d2f",
        "deepnote_cell_type": "markdown",
        "id": "promotional-inside"
      },
      "source": [
        "## Multidimensional Arrays with Numpy\n",
        "\n",
        "\n",
        "Numpy arrays can be multidimensional: they can be squares, cubes, hypercubes, etc!  When choosing datastructures, Arrays are best chosen when all of the values in the structure represent the same variable.\n",
        "\n",
        "With multidimensional arrays, everything is pretty much the same as the 1-dimensional case, with the addition of a few options for specifiying which order the dimensions should be in, and which dimension an operation should operate on."
      ]
    },
    {
      "cell_type": "markdown",
      "id": "d0e80970",
      "metadata": {
        "cell_id": "00002-3eefc9f1-4fcc-4ac6-ad7c-4e67d4cd90e1",
        "deepnote_cell_type": "markdown",
        "id": "little-bunch"
      },
      "source": [
        "### Creating Multidimensional Arrays\n",
        "\n",
        "Most of the array-generation functions have a **shape** or **size** optional argument in them.  If you provide a tuple with a new shape specifying the number of elements along each dimension (e.g. (5, 3) will produce a matrix with 5 rows and 3 columns), it will give you something multidimensional!\n",
        "\n",
        "```python\n",
        ">>> data = np.random.randint(1, 10, size=(4, 5))\n",
        ">>> data\n",
        "array([[9, 7, 4, 2, 3],\n",
        "       [3, 6, 7, 4, 8],\n",
        "       [3, 6, 8, 7, 3],\n",
        "       [6, 9, 4, 2, 2]])\n",
        "```\n",
        "\n",
        "| Method | Function | Description | Example |\n",
        "| :-- | :-- | :-- | :-- | \n",
        "| **`arr.shape`** | `np.shape(arr)` | Gets the shape of an array  | `arr.shape` |\n",
        "| **`arr.reshape(shape)`** | `np.reshape(arr, shape)` | Makes an array with a new shape. | `arr.reshape(3, 10)` |\n",
        "| **`arr.flatten()`** |  | Makes an array one-dimensional | `arr.flatten()` |\n",
        "| **`arr[:, None]`** |  | Add an empty column dimension | `arr[:, None]` |\n",
        "| **`arr[None, :]`** |  | Add an empty row dimension | `arr[None, :]` |\n"
      ]
    },
    {
      "cell_type": "markdown",
      "id": "26c891e7",
      "metadata": {
        "cell_id": "00003-67600b12-32a6-452e-9db9-ec5d88033c3b",
        "deepnote_cell_type": "markdown",
        "id": "designing-flexibility"
      },
      "source": [
        "**Exercises**"
      ]
    },
    {
      "cell_type": "markdown",
      "id": "dd294532",
      "metadata": {},
      "source": [
        "*Example*: Make this list of lists of integers into a two-dimensional array:"
      ]
    },
    {
      "cell_type": "code",
      "execution_count": 2,
      "id": "3068f6f7",
      "metadata": {},
      "outputs": [
        {
          "data": {
            "text/plain": [
              "[[1, 2, 3], [4, 5, 6]]"
            ]
          },
          "execution_count": 2,
          "metadata": {},
          "output_type": "execute_result"
        }
      ],
      "source": [
        "data = [[1, 2, 3], [4, 5, 6]]\n",
        "data"
      ]
    },
    {
      "cell_type": "code",
      "execution_count": 3,
      "id": "0b27969a",
      "metadata": {},
      "outputs": [
        {
          "data": {
            "text/plain": [
              "array([[1, 2, 3],\n",
              "       [4, 5, 6]])"
            ]
          },
          "execution_count": 3,
          "metadata": {},
          "output_type": "execute_result"
        }
      ],
      "source": [
        "arr = np.array(data)\n",
        "arr"
      ]
    },
    {
      "cell_type": "markdown",
      "id": "04ee3827",
      "metadata": {},
      "source": [
        "Make this list of lists of floats into a two-dimensional array:"
      ]
    },
    {
      "cell_type": "code",
      "execution_count": 4,
      "id": "236fd8bb",
      "metadata": {},
      "outputs": [],
      "source": [
        "data = [[1.1, 10.2], [-3.2, -3.4], [2.7, 100.1]]"
      ]
    },
    {
      "cell_type": "code",
      "execution_count": 5,
      "id": "6024497f",
      "metadata": {
        "tags": [
          "exercise"
        ]
      },
      "outputs": [],
      "source": []
    },
    {
      "cell_type": "markdown",
      "id": "d494f9c0-5694-465f-a7b4-0fbe4af50b70",
      "metadata": {},
      "source": [
        "*Example*: Generate a 4 x 5 array of random integers between 10 and 20 using **`np.random.randint`**"
      ]
    },
    {
      "cell_type": "code",
      "execution_count": 3,
      "id": "65b7afda-8046-4745-a764-023aae48b20c",
      "metadata": {},
      "outputs": [
        {
          "data": {
            "text/plain": [
              "array([[20, 18, 19, 20, 13],\n",
              "       [10, 18, 15, 20, 14],\n",
              "       [10, 16, 19, 15, 16],\n",
              "       [17, 12, 14, 18, 20]])"
            ]
          },
          "execution_count": 3,
          "metadata": {},
          "output_type": "execute_result"
        }
      ],
      "source": [
        "np.random.randint(10, 21, size=(4, 5))"
      ]
    },
    {
      "cell_type": "markdown",
      "id": "3ff3ab95",
      "metadata": {
        "cell_id": "00004-fc37327d-39b5-47d2-9212-4b49c19493ad",
        "deepnote_cell_type": "markdown",
        "id": "outstanding-thumbnail"
      },
      "source": [
        "Generate a 3 x 10 array of random integers between 1 and 4 using **`np.random.randint`**"
      ]
    },
    {
      "cell_type": "code",
      "execution_count": 4,
      "id": "e948f0ed",
      "metadata": {
        "cell_id": "00005-7d7981d4-4b4a-42f2-8a4c-bcba1f9b0aa9",
        "deepnote_cell_type": "code",
        "deepnote_to_be_reexecuted": false,
        "execution_millis": 0,
        "execution_start": 1628718090740,
        "id": "interior-broadcast",
        "outputId": "b4066b75-590e-4c17-e916-7a2769c75e4b",
        "source_hash": "b623e53d",
        "tags": [
          "exercise"
        ]
      },
      "outputs": [],
      "source": []
    },
    {
      "cell_type": "markdown",
      "id": "9b0b4c2b",
      "metadata": {
        "cell_id": "00006-5acc74e9-7bbe-4c18-a69c-23a6b2e8ce9c",
        "deepnote_cell_type": "markdown",
        "id": "external-sixth"
      },
      "source": [
        "Make a flat array with all the values between 0 and 11, and then reshape it into a 3 x 4 matrix using **`array.reshape()`**"
      ]
    },
    {
      "cell_type": "code",
      "execution_count": 7,
      "id": "e3a5b82b",
      "metadata": {
        "cell_id": "00007-9b856015-d6c5-49a6-8925-0c62934a26c9",
        "deepnote_cell_type": "code",
        "deepnote_to_be_reexecuted": false,
        "execution_millis": 1,
        "execution_start": 1628718194089,
        "id": "induced-calibration",
        "outputId": "ac8537aa-21bb-4691-ca5c-a9856a3cb234",
        "source_hash": "aa76e70b",
        "tags": [
          "exercise"
        ]
      },
      "outputs": [],
      "source": []
    },
    {
      "cell_type": "markdown",
      "id": "10114bbc",
      "metadata": {
        "cell_id": "00008-79a902e0-dd64-4386-87d4-9e8bb8f37b0c",
        "deepnote_cell_type": "markdown",
        "id": "fifth-integrity"
      },
      "source": [
        "...Reshape the previous array into a 4 x 3 matrix..."
      ]
    },
    {
      "cell_type": "code",
      "execution_count": 8,
      "id": "5590960e",
      "metadata": {
        "cell_id": "00009-babeeeb7-9957-4218-9cc4-8d86ac683723",
        "deepnote_cell_type": "code",
        "id": "radio-concentrate",
        "tags": [
          "exercise"
        ]
      },
      "outputs": [],
      "source": []
    },
    {
      "cell_type": "markdown",
      "id": "42e685e2",
      "metadata": {
        "cell_id": "00010-783bfd53-791c-431b-89f8-6f1904e62725",
        "deepnote_cell_type": "markdown",
        "id": "protective-person"
      },
      "source": [
        "...Reshape that array into a 2 x 6 matrix..."
      ]
    },
    {
      "cell_type": "code",
      "execution_count": 9,
      "id": "6742a117",
      "metadata": {
        "cell_id": "00011-01313b81-dd1a-4e26-b433-9b5c2b959dc8",
        "deepnote_cell_type": "code",
        "id": "necessary-collect",
        "tags": [
          "exercise"
        ]
      },
      "outputs": [],
      "source": []
    },
    {
      "cell_type": "markdown",
      "id": "137640c2",
      "metadata": {
        "cell_id": "00012-26f00f3d-85f3-4a6a-8431-d827f6239dd1",
        "deepnote_cell_type": "markdown",
        "id": "going-flexibility"
      },
      "source": [
        "...Then flatten it."
      ]
    },
    {
      "cell_type": "code",
      "execution_count": 10,
      "id": "a9ba30a1",
      "metadata": {
        "cell_id": "00013-5b6288ec-d09b-4f23-9117-7354dca1f1bc",
        "deepnote_cell_type": "code",
        "id": "loaded-husband",
        "tags": [
          "exercise"
        ]
      },
      "outputs": [],
      "source": []
    },
    {
      "cell_type": "markdown",
      "id": "b8328c24",
      "metadata": {
        "cell_id": "00016-00e5f4f0-17c9-43cf-b7c4-0fe2177c2680",
        "deepnote_cell_type": "markdown",
        "id": "consolidated-ridge"
      },
      "source": [
        "### Reordering Dimensions\n",
        "| Method | Function | Description | Example |\n",
        "| :-- | :-- | :-- | :-- |\n",
        "| **`arr.T`** |  | Transpose an array | `arr.T` |\n",
        "| **`arr.transpose()`** | `np.transpose(arr)` | Transpose an array | `arr.transpose()` |\n",
        "| **`arr.swapaxes(dim1, dim2)`** | `np.swapaxes(dim1, dim2)` | Transpose an array  | `arr.swapaxes(0, 1)` |\n",
        "\n",
        "\n"
      ]
    },
    {
      "cell_type": "markdown",
      "id": "6fa1a94a",
      "metadata": {},
      "source": [
        "**Exercises**\n",
        "Use each of the four above transpose functions on the following array **x**."
      ]
    },
    {
      "cell_type": "code",
      "execution_count": 4,
      "id": "7706e190",
      "metadata": {
        "cell_id": "00017-2dc43469-9101-4971-bd7b-885d7b736e33",
        "deepnote_cell_type": "code",
        "deepnote_to_be_reexecuted": false,
        "execution_millis": 6,
        "execution_start": 1628718272428,
        "id": "standard-standard",
        "outputId": "dd386ae6-8878-433e-d607-a9a54841c828",
        "source_hash": "65ca1984"
      },
      "outputs": [
        {
          "data": {
            "text/plain": [
              "array([[0, 1, 2],\n",
              "       [3, 4, 5]])"
            ]
          },
          "execution_count": 4,
          "metadata": {},
          "output_type": "execute_result"
        }
      ],
      "source": [
        "x = np.arange(6).reshape(2, 3)\n",
        "x"
      ]
    },
    {
      "cell_type": "code",
      "execution_count": 18,
      "id": "89c7ed8a",
      "metadata": {
        "cell_id": "00018-893d0bd0-8593-4cd3-9cf5-ce52ebdd6593",
        "deepnote_cell_type": "code",
        "tags": [
          "exercise"
        ]
      },
      "outputs": [],
      "source": []
    },
    {
      "cell_type": "code",
      "execution_count": 19,
      "id": "a39d9d42",
      "metadata": {
        "cell_id": "00019-d534e0cf-18cb-4e7c-8e8f-1452c05d1904",
        "deepnote_cell_type": "code",
        "tags": [
          "exercise"
        ]
      },
      "outputs": [],
      "source": []
    },
    {
      "cell_type": "code",
      "execution_count": 20,
      "id": "7a02e5ee",
      "metadata": {
        "cell_id": "00020-4d1a13c9-284a-48e9-a1e1-d8cf446b8c6d",
        "deepnote_cell_type": "code",
        "tags": [
          "exercise"
        ]
      },
      "outputs": [],
      "source": []
    },
    {
      "cell_type": "code",
      "execution_count": 21,
      "id": "966e96ec",
      "metadata": {
        "cell_id": "00021-f160e147-ced7-4d8a-9ed0-c12b9620a1fa",
        "deepnote_cell_type": "code",
        "tags": [
          "exercise"
        ]
      },
      "outputs": [],
      "source": []
    },
    {
      "cell_type": "markdown",
      "id": "2c05632c",
      "metadata": {
        "cell_id": "00025-9dba183e-462b-4d8f-9d27-8405dd02b4d9",
        "deepnote_cell_type": "markdown",
        "id": "enormous-chinese"
      },
      "source": [
        "### Aggregating Across Axes\n",
        "\n",
        "| Function | Method |\n",
        "| :---  | :--- |\n",
        "| `np.mean(x, axis=0)` | `x.mean(axis=0)` |\n",
        "| `np.std(x, axis=0)`  | `x.std(axis=0)`  |\n",
        "| `np.median(x, axis=0)` | *(No median method)* |\n",
        "\n",
        "Almost all of the Numpy aggregation functions have an **axis** option, which lets you limit the operation to just that axis.  \n",
        "\n",
        "For example, to get the mean of all columns:\n",
        "\n",
        "```python\n",
        ">>> array = np.arange(12).reshape(3, 4)\n",
        ">>> array.mean(axis=0)\n",
        "array([4., 5., 6., 7.])\n",
        "```\n",
        "\n",
        "And the mean of the rows:\n",
        "\n",
        "```python\n",
        ">>> array.mean(axis=1)\n",
        "array([1.5, 5.5, 9.5])\n",
        "```\n",
        "\n",
        "Notice that the number of dimensions goes down by default whenever you aggregate across the axis.  If you'd like to keep the dimensions the same, you can also use the **keepdims=True** option:\n",
        "\n",
        "```python\n",
        ">>> array.mean(axis=1, keepdims=True)\n",
        "array([[1.5],\n",
        "       [5.5],\n",
        "       [9.5]])\n",
        "```"
      ]
    },
    {
      "cell_type": "markdown",
      "id": "c13466eb",
      "metadata": {
        "cell_id": "00026-f7371ded-9660-4dfb-8245-c98c5c9e94b0",
        "deepnote_cell_type": "markdown",
        "id": "natural-necklace"
      },
      "source": [
        "**Exercises**: Try it out for yourself, with the provided array `data`:"
      ]
    },
    {
      "cell_type": "code",
      "execution_count": 3,
      "id": "6f7715ed",
      "metadata": {
        "cell_id": "00027-f2b70d99-58bc-4c49-bc8f-a2c942da5935",
        "deepnote_cell_type": "code",
        "id": "employed-satellite",
        "outputId": "e1c7a15b-c658-4236-abf3-3dd04634d161"
      },
      "outputs": [
        {
          "data": {
            "text/plain": [
              "array([[  6,  30, 700],\n",
              "       [  4,  60, 900],\n",
              "       [  2,  60, 700],\n",
              "       [  4,  30, 700],\n",
              "       [  7,  20, 500]])"
            ]
          },
          "execution_count": 3,
          "metadata": {},
          "output_type": "execute_result"
        }
      ],
      "source": [
        "np.random.seed(42)\n",
        "data = np.random.randint(0, 10, size=(5, 3)) * [1, 10, 100]\n",
        "data"
      ]
    },
    {
      "cell_type": "markdown",
      "id": "c68d4d04",
      "metadata": {
        "cell_id": "00028-76fa3abe-6c04-4b21-a51c-ef063f39c0b2",
        "deepnote_cell_type": "markdown",
        "id": "ceramic-romania"
      },
      "source": [
        "*Example*: What is the mean of each column?"
      ]
    },
    {
      "cell_type": "code",
      "execution_count": 23,
      "id": "1ebf8983",
      "metadata": {
        "cell_id": "00029-e13e9ca0-4f3d-483f-92ce-66ca3943369a",
        "deepnote_cell_type": "code",
        "id": "japanese-desperate"
      },
      "outputs": [
        {
          "data": {
            "text/plain": [
              "array([  4.6,  40. , 700. ])"
            ]
          },
          "execution_count": 23,
          "metadata": {},
          "output_type": "execute_result"
        }
      ],
      "source": [
        "data.mean(axis=0)"
      ]
    },
    {
      "cell_type": "markdown",
      "id": "7b3b65e5",
      "metadata": {
        "cell_id": "00030-41ea0348-2969-41ca-a660-8d679481d007",
        "deepnote_cell_type": "markdown",
        "id": "systematic-italic"
      },
      "source": [
        "What is the standard deviation of each row?"
      ]
    },
    {
      "cell_type": "code",
      "execution_count": 24,
      "id": "9cb90768",
      "metadata": {
        "cell_id": "00029-5365bea6-c6f6-4840-9e86-9c6543ca11a5",
        "deepnote_cell_type": "code",
        "tags": [
          "exercise"
        ]
      },
      "outputs": [],
      "source": []
    },
    {
      "cell_type": "markdown",
      "id": "972cfc5f",
      "metadata": {
        "cell_id": "00030-8782b592-3000-40ee-afad-9e06542ea77a",
        "deepnote_cell_type": "markdown",
        "tags": []
      },
      "source": [
        "What is the maximum of each column?"
      ]
    },
    {
      "cell_type": "code",
      "execution_count": 25,
      "id": "1f2b4dab",
      "metadata": {
        "cell_id": "00031-1ae7e746-89e8-42e0-aa0f-732adb82d1f8",
        "deepnote_cell_type": "code",
        "tags": [
          "exercise"
        ]
      },
      "outputs": [],
      "source": []
    },
    {
      "cell_type": "markdown",
      "id": "eac7fa3b",
      "metadata": {
        "cell_id": "00032-a16c3ae8-2c98-46ef-aab7-86fa2cf46302",
        "deepnote_cell_type": "markdown",
        "id": "brief-recruitment"
      },
      "source": [
        "What is the mean of each column's median?"
      ]
    },
    {
      "cell_type": "code",
      "execution_count": 26,
      "id": "7724315f",
      "metadata": {
        "cell_id": "00033-a9650749-b9bd-4cac-a033-c0dfb05377cf",
        "deepnote_cell_type": "code",
        "id": "institutional-advertising",
        "tags": [
          "exercise"
        ]
      },
      "outputs": [],
      "source": []
    },
    {
      "cell_type": "markdown",
      "id": "6b875833",
      "metadata": {},
      "source": [
        "What is the standard deviation of all the numbers in the matrix?"
      ]
    },
    {
      "cell_type": "code",
      "execution_count": 4,
      "id": "73e237f0",
      "metadata": {
        "tags": [
          "exercise"
        ]
      },
      "outputs": [],
      "source": []
    },
    {
      "cell_type": "markdown",
      "id": "d4ee10da",
      "metadata": {},
      "source": [
        "What is the maximum of each row?"
      ]
    },
    {
      "cell_type": "code",
      "execution_count": 6,
      "id": "78641d32",
      "metadata": {
        "tags": [
          "exercise"
        ]
      },
      "outputs": [],
      "source": []
    },
    {
      "cell_type": "markdown",
      "id": "1ff69d2b",
      "metadata": {},
      "source": [
        "## Extra Credit: Building Matrices from Existing Arrays\n",
        "\n",
        "Numpy has a staggering number of functions specifically made just for concatenating arrays together, and it's possible to use most of them to get the same result. Here are a few we'll try:\n",
        "\n",
        "| Function | Description |\n",
        "| :-- | :-- |\n",
        "| `np.stack(a, b)` | concatenates two arrays, adding a new axis to the resulting matrix | \n",
        "| `np.column_stack(a, b)` | concatenates two 1D arrays, making each a column in the new matrix |\n",
        "| `np.row_stack(a, b)` | concatenates two 1D arrays, making each a row in the new matrix |\n",
        "| `np.concatenate((a, b))` | concatenates N arrays along an existing axis |\n",
        "| `np.append((a, b))` | concatenates N arrays, extending out an existing axis |\n",
        "\n",
        "Note that each of these functions:\n",
        "  - **Expects Either Two Arrays or One Tuple of Arrays**:\n",
        "  - **Has Different Default Axis Behaviors**: You can override them with the classic `axis=0` or `axis=1` to get a different result.\n",
        "  - **May or May Not Create a New Dimension in the Result**: You can quickly add a new dimension to an array by either:\n",
        "    - *Putting it in a list, for numpy to change into an array*: e.g. `np.concatenate(([aa], [bb]))`\n",
        "    - *Indexing None on a dimension to have numpy create one*: e.g. `aa[:, None]` or `aa[None, :]`\n",
        "  - **Transposing in Numpy is Computationally Free**: \n",
        "\n"
      ]
    },
    {
      "cell_type": "markdown",
      "id": "237f057f",
      "metadata": {},
      "source": [
        "\n",
        "**Exercises**:  Using the two 1D arrays `aa` and `bb`, concatenate them together using only the requested function to get the requested matrix shape.  Reminder, you may have to use some of the tricks above to get some of these functions to work)\n",
        "Let's try these functions out, working around each of their default behaviors to get the result we want.\n"
      ]
    },
    {
      "cell_type": "code",
      "execution_count": 7,
      "id": "653eeb32",
      "metadata": {},
      "outputs": [],
      "source": [
        "aa = np.arange(5)\n",
        "bb = np.arange(10, 15)"
      ]
    },
    {
      "cell_type": "markdown",
      "id": "2b820b72",
      "metadata": {},
      "source": [
        "Use `np.stack()` to make a (2 x 5) matrix from `aa` and `bb`"
      ]
    },
    {
      "cell_type": "code",
      "execution_count": 8,
      "id": "696f24f6",
      "metadata": {
        "tags": [
          "exercise"
        ]
      },
      "outputs": [],
      "source": []
    },
    {
      "cell_type": "markdown",
      "id": "aa4e19d4",
      "metadata": {},
      "source": [
        "Use `np.stack()` to make a (5 x 2) matrix from `aa` and `bb`"
      ]
    },
    {
      "cell_type": "code",
      "execution_count": 24,
      "id": "2fa29d96",
      "metadata": {
        "tags": [
          "exercise"
        ]
      },
      "outputs": [],
      "source": []
    },
    {
      "cell_type": "markdown",
      "id": "df9cf9bb",
      "metadata": {},
      "source": [
        "Use `np.column_stack()` to make a (2 x 5) matrix from `aa` and `bb`"
      ]
    },
    {
      "cell_type": "code",
      "execution_count": 9,
      "id": "9fcc81f4",
      "metadata": {
        "tags": [
          "exercise"
        ]
      },
      "outputs": [],
      "source": []
    },
    {
      "cell_type": "markdown",
      "id": "b50bb9fd",
      "metadata": {},
      "source": [
        "Use `np.column_stack()` to make a (5 x 2) matrix from `aa` and `bb`"
      ]
    },
    {
      "cell_type": "code",
      "execution_count": 27,
      "id": "df6bd265",
      "metadata": {
        "tags": [
          "exercise"
        ]
      },
      "outputs": [],
      "source": []
    },
    {
      "cell_type": "markdown",
      "id": "22bdc642",
      "metadata": {},
      "source": [
        "Use `np.row_stack()` to make a (2 x 5) matrix from `aa` and `bb`"
      ]
    },
    {
      "cell_type": "code",
      "execution_count": 10,
      "id": "f918bf27",
      "metadata": {
        "tags": [
          "exercise"
        ]
      },
      "outputs": [],
      "source": []
    },
    {
      "cell_type": "markdown",
      "id": "a902bb80",
      "metadata": {},
      "source": [
        "Use `np.row_stack()` to make a (5 x 2) matrix from `aa` and `bb`"
      ]
    },
    {
      "cell_type": "code",
      "execution_count": 29,
      "id": "50ce3772",
      "metadata": {
        "tags": [
          "exercise"
        ]
      },
      "outputs": [],
      "source": []
    },
    {
      "cell_type": "markdown",
      "id": "c469e4ff",
      "metadata": {},
      "source": [
        "Use `np.concatenate()` to make a (2 x 5) matrix from `aa` and `bb`"
      ]
    },
    {
      "cell_type": "code",
      "execution_count": 21,
      "id": "6bdc156b",
      "metadata": {
        "tags": [
          "exercise"
        ]
      },
      "outputs": [],
      "source": []
    },
    {
      "cell_type": "markdown",
      "id": "173d437e",
      "metadata": {},
      "source": [
        "Use `np.concatenate()` to make a (5 x 2) matrix from `aa` and `bb`"
      ]
    },
    {
      "cell_type": "code",
      "execution_count": 35,
      "id": "d7458e94",
      "metadata": {
        "tags": [
          "exercise"
        ]
      },
      "outputs": [],
      "source": []
    },
    {
      "cell_type": "markdown",
      "id": "fc25269d",
      "metadata": {},
      "source": [
        "Use `np.append()` to make a (2 x 5) matrix from `aa` and `bb`"
      ]
    },
    {
      "cell_type": "code",
      "execution_count": 20,
      "id": "a4587355",
      "metadata": {
        "tags": [
          "exercise"
        ]
      },
      "outputs": [],
      "source": []
    },
    {
      "cell_type": "markdown",
      "id": "1775e63b",
      "metadata": {},
      "source": [
        "Use `np.append()` to make a (5 x 2) matrix from `aa` and `bb`"
      ]
    },
    {
      "cell_type": "code",
      "execution_count": 36,
      "id": "4ad695ba",
      "metadata": {
        "tags": [
          "exercise"
        ]
      },
      "outputs": [],
      "source": []
    }
  ],
  "metadata": {
    "colab": {
      "name": "7 Matrices.ipynb",
      "provenance": []
    },
    "deepnote": {},
    "deepnote_execution_queue": [],
    "deepnote_notebook_id": "776c1343-7289-4e1f-b01e-69594abe4d98",
    "kernelspec": {
      "display_name": "Python 3 (ipykernel)",
      "language": "python",
      "name": "python3"
    },
    "language_info": {
      "codemirror_mode": {
        "name": "ipython",
        "version": 3
      },
      "file_extension": ".py",
      "mimetype": "text/x-python",
      "name": "python",
      "nbconvert_exporter": "python",
      "pygments_lexer": "ipython3",
      "version": "3.10.4"
    },
    "vscode": {
      "interpreter": {
        "hash": "d6852d01271bf8033dbdb7ec364b6f6e89fd52a18c6bf5b4c73e48c86329a8dd"
      }
    }
  },
  "nbformat": 4,
  "nbformat_minor": 5
}