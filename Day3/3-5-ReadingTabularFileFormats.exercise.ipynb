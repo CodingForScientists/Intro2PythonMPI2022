{
  "cells": [
    {
      "cell_type": "code",
      "execution_count": 1,
      "id": "098c0a7f",
      "metadata": {},
      "outputs": [
        {
          "name": "stdout",
          "output_type": "stream",
          "text": [
            "Requirement already satisfied: matplotlib in /home/nickdg/miniconda3/envs/py10/lib/python3.10/site-packages (3.6.0)\n",
            "Requirement already satisfied: numpy in /home/nickdg/miniconda3/envs/py10/lib/python3.10/site-packages (1.23.3)\n",
            "Requirement already satisfied: openpyxl in /home/nickdg/miniconda3/envs/py10/lib/python3.10/site-packages (3.0.10)\n",
            "Requirement already satisfied: pandas in /home/nickdg/miniconda3/envs/py10/lib/python3.10/site-packages (1.5.0)\n",
            "Requirement already satisfied: pyparsing>=2.2.1 in /home/nickdg/miniconda3/envs/py10/lib/python3.10/site-packages (from matplotlib) (3.0.9)\n",
            "Requirement already satisfied: kiwisolver>=1.0.1 in /home/nickdg/miniconda3/envs/py10/lib/python3.10/site-packages (from matplotlib) (1.4.4)\n",
            "Requirement already satisfied: pillow>=6.2.0 in /home/nickdg/miniconda3/envs/py10/lib/python3.10/site-packages (from matplotlib) (9.2.0)\n",
            "Requirement already satisfied: cycler>=0.10 in /home/nickdg/miniconda3/envs/py10/lib/python3.10/site-packages (from matplotlib) (0.11.0)\n",
            "Requirement already satisfied: python-dateutil>=2.7 in /home/nickdg/miniconda3/envs/py10/lib/python3.10/site-packages (from matplotlib) (2.8.2)\n",
            "Requirement already satisfied: fonttools>=4.22.0 in /home/nickdg/miniconda3/envs/py10/lib/python3.10/site-packages (from matplotlib) (4.37.4)\n",
            "Requirement already satisfied: packaging>=20.0 in /home/nickdg/miniconda3/envs/py10/lib/python3.10/site-packages (from matplotlib) (21.3)\n",
            "Requirement already satisfied: contourpy>=1.0.1 in /home/nickdg/miniconda3/envs/py10/lib/python3.10/site-packages (from matplotlib) (1.0.5)\n",
            "Requirement already satisfied: et-xmlfile in /home/nickdg/miniconda3/envs/py10/lib/python3.10/site-packages (from openpyxl) (1.1.0)\n",
            "Requirement already satisfied: pytz>=2020.1 in /home/nickdg/miniconda3/envs/py10/lib/python3.10/site-packages (from pandas) (2022.4)\n",
            "Requirement already satisfied: six>=1.5 in /home/nickdg/miniconda3/envs/py10/lib/python3.10/site-packages (from python-dateutil>=2.7->matplotlib) (1.16.0)\n"
          ]
        }
      ],
      "source": [
        "%pip install matplotlib numpy openpyxl pandas"
      ]
    },
    {
      "cell_type": "code",
      "execution_count": 1,
      "id": "8bc87377",
      "metadata": {
        "cell_id": "00001-ab73f6f2-fbaa-44ba-b772-f759f2690375",
        "deepnote_cell_type": "code",
        "deepnote_to_be_reexecuted": false,
        "execution_millis": 566,
        "execution_start": 1636318342345,
        "id": "exclusive-defeat",
        "source_hash": "472fc53"
      },
      "outputs": [],
      "source": [
        "import numpy as np\n",
        "import matplotlib.pyplot as plt\n",
        "import pandas as pd"
      ]
    },
    {
      "cell_type": "markdown",
      "id": "1b2c8ecb",
      "metadata": {
        "cell_id": "00004-44ac6f6a-3dbe-4ee0-95a1-06033662b76d",
        "deepnote_cell_type": "markdown",
        "id": "metropolitan-madagascar"
      },
      "source": [
        "# Pandas DataFrames"
      ]
    },
    {
      "cell_type": "markdown",
      "id": "e92c5af1",
      "metadata": {
        "cell_id": "00005-cc1771f3-d987-4ecb-b8af-4f986f49d656",
        "deepnote_cell_type": "markdown",
        "id": "legendary-filing"
      },
      "source": [
        "## What is a DataFrame?\n",
        "\n",
        "A DataFrame, simply put, is a **Table** of data.  It is a structure that contains multiple rows, each row containing the same labelled collection of data types.  A **DataFrame** is a table with named rows (called the \"index\"). For example, a DataFrame might look like this:\n",
        "\n",
        "| (index) | Name | Age | Height | LikesIceCream |\n",
        "| :---: | :--: | :--: | :--: | :--: |\n",
        "| 0     | \"Nick\" | 22 | 3.4 | True |\n",
        "| 1     | \"Jenn\" | 55 | 1.2 | True |\n",
        "| 2     | \"Joe\"  | 25 | 2.2 | True |\n",
        "\n",
        "Because each row contains the same data, DataFrames can also be thought of as a collection of same-length columns!\n",
        "\n",
        "**Pandas** is a Python package that has a DataFrame class.  Using either the **DataFrame** class constructor or one of Pandas' many **read_()** functions, you can make your own DataFrame from a variety of sources.  "
      ]
    },
    {
      "cell_type": "markdown",
      "id": "27564a23",
      "metadata": {
        "cell_id": "00006-b30cc3eb-945c-4407-82d7-469b1ef80864",
        "deepnote_cell_type": "markdown",
        "id": "outstanding-resolution"
      },
      "source": [
        "## Making DataFrames Directly\n",
        "\n",
        "### Examples of Different Ways\n",
        "\n",
        "#### From a List of Dicts\n",
        "\n",
        "Dicts are named collections.  If you have many of the same dicts in a list, the DataFrame constructor can convert it to a Dataframe:"
      ]
    },
    {
      "cell_type": "code",
      "execution_count": 6,
      "id": "6d9633a4",
      "metadata": {
        "cell_id": "00007-591c1df5-145e-4f46-bada-1c38ed46ed6d",
        "deepnote_cell_type": "code",
        "deepnote_to_be_reexecuted": false,
        "execution_millis": 12,
        "execution_start": 1636318561352,
        "id": "speaking-beatles",
        "outputId": "efd56fc7-9b41-44fe-a919-1dd9c3f6945c",
        "source_hash": "76511c9d"
      },
      "outputs": [
        {
          "data": {
            "text/html": [
              "<div>\n",
              "<style scoped>\n",
              "    .dataframe tbody tr th:only-of-type {\n",
              "        vertical-align: middle;\n",
              "    }\n",
              "\n",
              "    .dataframe tbody tr th {\n",
              "        vertical-align: top;\n",
              "    }\n",
              "\n",
              "    .dataframe thead th {\n",
              "        text-align: right;\n",
              "    }\n",
              "</style>\n",
              "<table border=\"1\" class=\"dataframe\">\n",
              "  <thead>\n",
              "    <tr style=\"text-align: right;\">\n",
              "      <th></th>\n",
              "      <th>Name</th>\n",
              "      <th>Age</th>\n",
              "      <th>Height</th>\n",
              "      <th>Weight</th>\n",
              "    </tr>\n",
              "  </thead>\n",
              "  <tbody>\n",
              "    <tr>\n",
              "      <th>0</th>\n",
              "      <td>Nick</td>\n",
              "      <td>31</td>\n",
              "      <td>2.9</td>\n",
              "      <td>20.0</td>\n",
              "    </tr>\n",
              "    <tr>\n",
              "      <th>1</th>\n",
              "      <td>Jenn</td>\n",
              "      <td>55</td>\n",
              "      <td>1.2</td>\n",
              "      <td>NaN</td>\n",
              "    </tr>\n",
              "    <tr>\n",
              "      <th>2</th>\n",
              "      <td>Joe</td>\n",
              "      <td>25</td>\n",
              "      <td>1.2</td>\n",
              "      <td>NaN</td>\n",
              "    </tr>\n",
              "  </tbody>\n",
              "</table>\n",
              "</div>"
            ],
            "text/plain": [
              "   Name  Age  Height  Weight\n",
              "0  Nick   31     2.9    20.0\n",
              "1  Jenn   55     1.2     NaN\n",
              "2   Joe   25     1.2     NaN"
            ]
          },
          "execution_count": 6,
          "metadata": {},
          "output_type": "execute_result"
        }
      ],
      "source": [
        "friends = [\n",
        "    {'Name': \"Nick\", \"Age\": 31, \"Height\": 2.9, \"Weight\": 20},\n",
        "    {'Name': \"Jenn\", \"Age\": 55, \"Height\": 1.2},\n",
        "    {\"Name\": \"Joe\", \"Height\": 1.2, \"Age\": 25, },\n",
        "]\n",
        "pd.DataFrame(friends)"
      ]
    },
    {
      "cell_type": "markdown",
      "id": "3848bae4",
      "metadata": {
        "cell_id": "00008-0aac322b-2e86-43c5-b23e-f9c8c2049411",
        "deepnote_cell_type": "markdown",
        "id": "working-night"
      },
      "source": [
        "#### From a Dict of Lists"
      ]
    },
    {
      "cell_type": "code",
      "execution_count": 7,
      "id": "a2a7c5c8",
      "metadata": {
        "cell_id": "00009-01094bc3-c18b-4b56-a649-88ba0f2daa50",
        "deepnote_cell_type": "code",
        "deepnote_to_be_reexecuted": false,
        "execution_millis": 15,
        "execution_start": 1636318568867,
        "id": "unexpected-client",
        "outputId": "b8368c60-bc1a-4073-da77-a7dc57aead08",
        "source_hash": "4fd51953"
      },
      "outputs": [
        {
          "data": {
            "text/html": [
              "<div>\n",
              "<style scoped>\n",
              "    .dataframe tbody tr th:only-of-type {\n",
              "        vertical-align: middle;\n",
              "    }\n",
              "\n",
              "    .dataframe tbody tr th {\n",
              "        vertical-align: top;\n",
              "    }\n",
              "\n",
              "    .dataframe thead th {\n",
              "        text-align: right;\n",
              "    }\n",
              "</style>\n",
              "<table border=\"1\" class=\"dataframe\">\n",
              "  <thead>\n",
              "    <tr style=\"text-align: right;\">\n",
              "      <th></th>\n",
              "      <th>Name</th>\n",
              "      <th>Age</th>\n",
              "      <th>Height</th>\n",
              "    </tr>\n",
              "  </thead>\n",
              "  <tbody>\n",
              "    <tr>\n",
              "      <th>0</th>\n",
              "      <td>Nick</td>\n",
              "      <td>31</td>\n",
              "      <td>2.9</td>\n",
              "    </tr>\n",
              "    <tr>\n",
              "      <th>1</th>\n",
              "      <td>Jenn</td>\n",
              "      <td>55</td>\n",
              "      <td>1.2</td>\n",
              "    </tr>\n",
              "    <tr>\n",
              "      <th>2</th>\n",
              "      <td>Joe</td>\n",
              "      <td>25</td>\n",
              "      <td>1.2</td>\n",
              "    </tr>\n",
              "  </tbody>\n",
              "</table>\n",
              "</div>"
            ],
            "text/plain": [
              "   Name  Age  Height\n",
              "0  Nick   31     2.9\n",
              "1  Jenn   55     1.2\n",
              "2   Joe   25     1.2"
            ]
          },
          "execution_count": 7,
          "metadata": {},
          "output_type": "execute_result"
        }
      ],
      "source": [
        "df = pd.DataFrame({\n",
        "    'Name': ['Nick', 'Jenn', 'Joe'], \n",
        "    'Age': [31, 55, 25], \n",
        "    'Height': [2.9, 1.2, 1.2],\n",
        "})\n",
        "df"
      ]
    },
    {
      "cell_type": "markdown",
      "id": "4d0f778f",
      "metadata": {
        "cell_id": "00010-ec69183b-5ac8-4dd0-a0db-8997e66b8c69",
        "deepnote_cell_type": "markdown",
        "id": "tutorial-internship"
      },
      "source": [
        "#### From a List of Lists\n",
        "\n",
        "if you have a collection of same-length sequences, you essentially have a rectangular data structure already!  All that's needed is to add some column labels."
      ]
    },
    {
      "cell_type": "code",
      "execution_count": 8,
      "id": "4223039e",
      "metadata": {
        "cell_id": "00011-e5073bfd-bedb-48d1-8cd0-870b146b932e",
        "deepnote_cell_type": "code",
        "deepnote_to_be_reexecuted": false,
        "execution_millis": 1,
        "execution_start": 1636318575992,
        "id": "finished-figure",
        "outputId": "90a107ee-fdcf-4116-d1c0-55f9ce7626ad",
        "source_hash": "ba91c925"
      },
      "outputs": [
        {
          "data": {
            "text/html": [
              "<div>\n",
              "<style scoped>\n",
              "    .dataframe tbody tr th:only-of-type {\n",
              "        vertical-align: middle;\n",
              "    }\n",
              "\n",
              "    .dataframe tbody tr th {\n",
              "        vertical-align: top;\n",
              "    }\n",
              "\n",
              "    .dataframe thead th {\n",
              "        text-align: right;\n",
              "    }\n",
              "</style>\n",
              "<table border=\"1\" class=\"dataframe\">\n",
              "  <thead>\n",
              "    <tr style=\"text-align: right;\">\n",
              "      <th></th>\n",
              "      <th>Name</th>\n",
              "      <th>Age</th>\n",
              "      <th>Height</th>\n",
              "    </tr>\n",
              "  </thead>\n",
              "  <tbody>\n",
              "    <tr>\n",
              "      <th>0</th>\n",
              "      <td>Nick</td>\n",
              "      <td>31</td>\n",
              "      <td>2.9</td>\n",
              "    </tr>\n",
              "    <tr>\n",
              "      <th>1</th>\n",
              "      <td>Jenn</td>\n",
              "      <td>55</td>\n",
              "      <td>1.2</td>\n",
              "    </tr>\n",
              "    <tr>\n",
              "      <th>2</th>\n",
              "      <td>Joe</td>\n",
              "      <td>25</td>\n",
              "      <td>1.2</td>\n",
              "    </tr>\n",
              "  </tbody>\n",
              "</table>\n",
              "</div>"
            ],
            "text/plain": [
              "   Name  Age  Height\n",
              "0  Nick   31     2.9\n",
              "1  Jenn   55     1.2\n",
              "2   Joe   25     1.2"
            ]
          },
          "execution_count": 8,
          "metadata": {},
          "output_type": "execute_result"
        }
      ],
      "source": [
        "friends = [\n",
        "    ['Nick', 31, 2.9],\n",
        "    ['Jenn', 55, 1.2],\n",
        "    ['Joe',  25, 1.2],\n",
        "]\n",
        "pd.DataFrame(friends, columns=[\"Name\", \"Age\", \"Height\"])"
      ]
    },
    {
      "cell_type": "markdown",
      "id": "44b259df",
      "metadata": {
        "cell_id": "00012-3e9a1df7-f070-4c43-8d02-bb6dcda3854a",
        "deepnote_cell_type": "markdown",
        "id": "incoming-bathroom"
      },
      "source": [
        "#### From an empty DataFrame\n",
        "If you prefer, you can also add columns one at a time, starting with an empty DataFrame:"
      ]
    },
    {
      "cell_type": "code",
      "execution_count": 9,
      "id": "217787e2",
      "metadata": {
        "cell_id": "00013-c76cae6a-71b9-4aa2-a258-ec84f448d0d9",
        "deepnote_cell_type": "code",
        "deepnote_to_be_reexecuted": false,
        "execution_millis": 4,
        "execution_start": 1636318586715,
        "id": "beautiful-makeup",
        "outputId": "6e934d88-12b5-40e5-c139-f1d8bf2c05cf",
        "source_hash": "59a558dd"
      },
      "outputs": [
        {
          "data": {
            "text/html": [
              "<div>\n",
              "<style scoped>\n",
              "    .dataframe tbody tr th:only-of-type {\n",
              "        vertical-align: middle;\n",
              "    }\n",
              "\n",
              "    .dataframe tbody tr th {\n",
              "        vertical-align: top;\n",
              "    }\n",
              "\n",
              "    .dataframe thead th {\n",
              "        text-align: right;\n",
              "    }\n",
              "</style>\n",
              "<table border=\"1\" class=\"dataframe\">\n",
              "  <thead>\n",
              "    <tr style=\"text-align: right;\">\n",
              "      <th></th>\n",
              "      <th>Name</th>\n",
              "      <th>Age</th>\n",
              "      <th>Height</th>\n",
              "    </tr>\n",
              "  </thead>\n",
              "  <tbody>\n",
              "    <tr>\n",
              "      <th>0</th>\n",
              "      <td>Nick</td>\n",
              "      <td>31</td>\n",
              "      <td>2.9</td>\n",
              "    </tr>\n",
              "    <tr>\n",
              "      <th>1</th>\n",
              "      <td>Jenn</td>\n",
              "      <td>55</td>\n",
              "      <td>1.2</td>\n",
              "    </tr>\n",
              "    <tr>\n",
              "      <th>2</th>\n",
              "      <td>Joe</td>\n",
              "      <td>25</td>\n",
              "      <td>1.2</td>\n",
              "    </tr>\n",
              "  </tbody>\n",
              "</table>\n",
              "</div>"
            ],
            "text/plain": [
              "   Name  Age  Height\n",
              "0  Nick   31     2.9\n",
              "1  Jenn   55     1.2\n",
              "2   Joe   25     1.2"
            ]
          },
          "execution_count": 9,
          "metadata": {},
          "output_type": "execute_result"
        }
      ],
      "source": [
        "df = pd.DataFrame()\n",
        "df['Name'] = ['Nick', 'Jenn', 'Joe']\n",
        "df['Age'] = [31, 55, 25]\n",
        "df['Height'] = [2.9, 1.2, 1.2]\n",
        "df"
      ]
    },
    {
      "cell_type": "markdown",
      "id": "67ed9034",
      "metadata": {
        "cell_id": "00014-8b55fa8f-9ac2-4340-bffc-3b059093469b",
        "deepnote_cell_type": "markdown",
        "id": "editorial-assumption"
      },
      "source": [
        "**Exercises**: Making DataFrames from Scratch\n",
        "\n",
        "Please use Pandas to recreate the table here as a Dataframe using one of the approaches detailed above:\n",
        "\n",
        "| Year | Product | Cost |\n",
        "| :--: | :----:  | :--: |\n",
        "| 2015 | Apples  | 0.35 |\n",
        "| 2016 | Apples  | 0.45 |\n",
        "| 2015 | Bananas | 0.75 |\n",
        "| 2016 | Bananas | 1.10 |"
      ]
    },
    {
      "cell_type": "code",
      "execution_count": 36,
      "id": "e31ad0a1",
      "metadata": {
        "tags": [
          "exercise"
        ]
      },
      "outputs": [],
      "source": []
    },
    {
      "cell_type": "markdown",
      "id": "89544e89",
      "metadata": {
        "cell_id": "00016-e4ac26f0-5973-4f70-8d90-215891749e7f",
        "deepnote_cell_type": "markdown",
        "id": "established-identity"
      },
      "source": [
        "*(3-minute Discussion)*: Which approach did you choose?  What did you like about it?"
      ]
    },
    {
      "cell_type": "markdown",
      "id": "e8293fd8",
      "metadata": {
        "cell_id": "00017-4febcbde-dc4f-4ce0-b360-41a1bccaf772",
        "deepnote_cell_type": "markdown",
        "id": "affected-veteran"
      },
      "source": [
        "### Reading Data from Files into a DataFrame\n",
        "\n",
        "\n",
        "| File Format | File Extension | `read_xxx()` function | Dataframe Write Method | \n",
        "| :--:  | :--: | :--: | :--: |\n",
        "| Comma-Seperated Values      | .csv           | `pd.read_csv()` | `df.to_csv()` |\n",
        "| Tab-seperated Values       | .tsv, .tabular, .csv | `pd.read_csv(sep='\\t')`, `pd.read_table()` | `df.to_csv(sep='\\t')` `df.to_table()` |\n",
        "| Excel Spreadsheet           |  .xls | `pd.read_excel()`                    | `df.to_excel()`  |\n",
        "| Excel Spreadsheet 2010      | .xlsx | `pd.read_excel(engine='openpyxl')`   | `df.to_excel(engine='openpyxl')` |\n",
        "| JSON                        | .json | `pd.read_json()`                     | `df.to_json()` |\n",
        "| Tables in a Web Page (HTML) | .html | `pd.read_html()[0]`                  | `df.to_html()` |\n",
        "| HDF5 | .hdf5, .h5, | `pd.read_hdf5()` |  `df.to_hdf5()` |"
      ]
    },
    {
      "cell_type": "code",
      "execution_count": 37,
      "id": "0c754888",
      "metadata": {
        "cell_id": "00018-38cd54c9-a579-4d0c-9fe1-fbc33f88064f",
        "deepnote_cell_type": "code",
        "id": "necessary-converter"
      },
      "outputs": [],
      "source": [
        "import pandas as pd"
      ]
    },
    {
      "cell_type": "markdown",
      "id": "5db36bf6",
      "metadata": {
        "cell_id": "00019-df6eb991-fa78-4f34-9a8e-2988fb8b3d33",
        "deepnote_cell_type": "markdown",
        "id": "incredible-traveler"
      },
      "source": [
        "### Understanding Different File Formats\n"
      ]
    },
    {
      "cell_type": "markdown",
      "id": "3cc67bc3",
      "metadata": {},
      "source": [
        "\n",
        "**Exercises**: \"Roundtripping\" write-read\n",
        "\n",
        "run the code below to download the Titanic passengers dataset, and transform it into different file formats\n",
        "\n",
        "*Note*: Yep, that's right, you can supply a web url and pandas reads it like a normal file!"
      ]
    },
    {
      "cell_type": "code",
      "execution_count": 38,
      "id": "00d22fe6",
      "metadata": {
        "cell_id": "00020-3f4a1352-2d01-4b33-971d-48adcced2670",
        "deepnote_cell_type": "code",
        "deepnote_to_be_reexecuted": false,
        "execution_millis": 47,
        "execution_start": 1636318852820,
        "id": "collaborative-worcester",
        "outputId": "bf88e3fd-4ea0-481f-d3a9-c3354cc2ac44",
        "source_hash": "cd699004"
      },
      "outputs": [
        {
          "data": {
            "text/html": [
              "<div>\n",
              "<style scoped>\n",
              "    .dataframe tbody tr th:only-of-type {\n",
              "        vertical-align: middle;\n",
              "    }\n",
              "\n",
              "    .dataframe tbody tr th {\n",
              "        vertical-align: top;\n",
              "    }\n",
              "\n",
              "    .dataframe thead th {\n",
              "        text-align: right;\n",
              "    }\n",
              "</style>\n",
              "<table border=\"1\" class=\"dataframe\">\n",
              "  <thead>\n",
              "    <tr style=\"text-align: right;\">\n",
              "      <th></th>\n",
              "      <th>survived</th>\n",
              "      <th>pclass</th>\n",
              "      <th>sex</th>\n",
              "      <th>age</th>\n",
              "      <th>sibsp</th>\n",
              "      <th>parch</th>\n",
              "      <th>fare</th>\n",
              "      <th>embarked</th>\n",
              "      <th>class</th>\n",
              "      <th>who</th>\n",
              "      <th>adult_male</th>\n",
              "      <th>deck</th>\n",
              "      <th>embark_town</th>\n",
              "      <th>alive</th>\n",
              "      <th>alone</th>\n",
              "    </tr>\n",
              "  </thead>\n",
              "  <tbody>\n",
              "    <tr>\n",
              "      <th>0</th>\n",
              "      <td>0</td>\n",
              "      <td>3</td>\n",
              "      <td>male</td>\n",
              "      <td>22.0</td>\n",
              "      <td>1</td>\n",
              "      <td>0</td>\n",
              "      <td>7.2500</td>\n",
              "      <td>S</td>\n",
              "      <td>Third</td>\n",
              "      <td>man</td>\n",
              "      <td>True</td>\n",
              "      <td>NaN</td>\n",
              "      <td>Southampton</td>\n",
              "      <td>no</td>\n",
              "      <td>False</td>\n",
              "    </tr>\n",
              "    <tr>\n",
              "      <th>1</th>\n",
              "      <td>1</td>\n",
              "      <td>1</td>\n",
              "      <td>female</td>\n",
              "      <td>38.0</td>\n",
              "      <td>1</td>\n",
              "      <td>0</td>\n",
              "      <td>71.2833</td>\n",
              "      <td>C</td>\n",
              "      <td>First</td>\n",
              "      <td>woman</td>\n",
              "      <td>False</td>\n",
              "      <td>C</td>\n",
              "      <td>Cherbourg</td>\n",
              "      <td>yes</td>\n",
              "      <td>False</td>\n",
              "    </tr>\n",
              "    <tr>\n",
              "      <th>2</th>\n",
              "      <td>1</td>\n",
              "      <td>3</td>\n",
              "      <td>female</td>\n",
              "      <td>26.0</td>\n",
              "      <td>0</td>\n",
              "      <td>0</td>\n",
              "      <td>7.9250</td>\n",
              "      <td>S</td>\n",
              "      <td>Third</td>\n",
              "      <td>woman</td>\n",
              "      <td>False</td>\n",
              "      <td>NaN</td>\n",
              "      <td>Southampton</td>\n",
              "      <td>yes</td>\n",
              "      <td>True</td>\n",
              "    </tr>\n",
              "    <tr>\n",
              "      <th>3</th>\n",
              "      <td>1</td>\n",
              "      <td>1</td>\n",
              "      <td>female</td>\n",
              "      <td>35.0</td>\n",
              "      <td>1</td>\n",
              "      <td>0</td>\n",
              "      <td>53.1000</td>\n",
              "      <td>S</td>\n",
              "      <td>First</td>\n",
              "      <td>woman</td>\n",
              "      <td>False</td>\n",
              "      <td>C</td>\n",
              "      <td>Southampton</td>\n",
              "      <td>yes</td>\n",
              "      <td>False</td>\n",
              "    </tr>\n",
              "    <tr>\n",
              "      <th>4</th>\n",
              "      <td>0</td>\n",
              "      <td>3</td>\n",
              "      <td>male</td>\n",
              "      <td>35.0</td>\n",
              "      <td>0</td>\n",
              "      <td>0</td>\n",
              "      <td>8.0500</td>\n",
              "      <td>S</td>\n",
              "      <td>Third</td>\n",
              "      <td>man</td>\n",
              "      <td>True</td>\n",
              "      <td>NaN</td>\n",
              "      <td>Southampton</td>\n",
              "      <td>no</td>\n",
              "      <td>True</td>\n",
              "    </tr>\n",
              "  </tbody>\n",
              "</table>\n",
              "</div>"
            ],
            "text/plain": [
              "   survived  pclass     sex   age  sibsp  parch     fare embarked  class  \\\n",
              "0         0       3    male  22.0      1      0   7.2500        S  Third   \n",
              "1         1       1  female  38.0      1      0  71.2833        C  First   \n",
              "2         1       3  female  26.0      0      0   7.9250        S  Third   \n",
              "3         1       1  female  35.0      1      0  53.1000        S  First   \n",
              "4         0       3    male  35.0      0      0   8.0500        S  Third   \n",
              "\n",
              "     who  adult_male deck  embark_town alive  alone  \n",
              "0    man        True  NaN  Southampton    no  False  \n",
              "1  woman       False    C    Cherbourg   yes  False  \n",
              "2  woman       False  NaN  Southampton   yes   True  \n",
              "3  woman       False    C  Southampton   yes  False  \n",
              "4    man        True  NaN  Southampton    no   True  "
            ]
          },
          "execution_count": 38,
          "metadata": {},
          "output_type": "execute_result"
        }
      ],
      "source": [
        "url = 'https://raw.githubusercontent.com/mwaskom/seaborn-data/master/titanic.csv'\n",
        "df = pd.read_csv(url)\n",
        "df[:5]"
      ]
    },
    {
      "cell_type": "markdown",
      "id": "6b2b32a9",
      "metadata": {
        "cell_id": "00018-ee68a483-fa8c-427f-b472-78c397c9a4f0",
        "deepnote_cell_type": "markdown",
        "tags": []
      },
      "source": [
        "Now run the code below to save the file to a comma-seperated file using the `DataFrame.to_csv()` method, then use a text editor to examine the file that was saved on the computer.  How is the file structured?"
      ]
    },
    {
      "cell_type": "code",
      "execution_count": 47,
      "id": "072fbb39",
      "metadata": {
        "cell_id": "00021-1c9572d8-dddd-4072-85e7-b3bbd9e9d20e",
        "deepnote_cell_type": "code",
        "id": "acute-member"
      },
      "outputs": [],
      "source": [
        "df.to_csv(\"titanic2001.csv\", index=False)"
      ]
    },
    {
      "cell_type": "markdown",
      "id": "f75c7999",
      "metadata": {},
      "source": [
        "Now read the file back into Pyhton using the `pd.read_csv()` function:"
      ]
    },
    {
      "cell_type": "code",
      "execution_count": 48,
      "id": "8d020421",
      "metadata": {
        "tags": [
          "exercise"
        ]
      },
      "outputs": [],
      "source": []
    },
    {
      "cell_type": "markdown",
      "id": "057ff0a1",
      "metadata": {
        "cell_id": "00028-0b9d73f6-c77a-4e7b-a52b-5aa41c9bf2b5",
        "deepnote_cell_type": "markdown",
        "id": "latest-annotation"
      },
      "source": [
        "**JSON**"
      ]
    },
    {
      "cell_type": "markdown",
      "id": "c4e0797c",
      "metadata": {
        "cell_id": "00029-53d3c2cc-c877-44f3-b53d-ed2426c82f16",
        "deepnote_cell_type": "markdown",
        "id": "silver-secretariat"
      },
      "source": [
        "Save the dataframe to a JSON file using the `df.to_json()` method."
      ]
    },
    {
      "cell_type": "code",
      "execution_count": 56,
      "id": "9ac7f5f7",
      "metadata": {
        "cell_id": "00030-427a4dd0-ba27-4588-9b6f-8717884de822",
        "deepnote_cell_type": "code",
        "deepnote_to_be_reexecuted": false,
        "execution_millis": 0,
        "execution_start": 1636319001749,
        "id": "illegal-update",
        "source_hash": "b623e53d",
        "tags": [
          "exercise"
        ]
      },
      "outputs": [],
      "source": []
    },
    {
      "cell_type": "markdown",
      "id": "93bfb854",
      "metadata": {
        "cell_id": "00031-a8694743-4063-47a8-987d-5eae2666a666",
        "deepnote_cell_type": "markdown",
        "id": "signed-design"
      },
      "source": [
        "Read the JSON file into Pandas again, using the `pd.read_json()` method."
      ]
    },
    {
      "cell_type": "code",
      "execution_count": 57,
      "id": "8b0b5227",
      "metadata": {
        "cell_id": "00032-a85e45ed-4edc-4058-9b9f-5ed5b618021f",
        "deepnote_cell_type": "code",
        "id": "mounted-peoples",
        "tags": [
          "exercise"
        ]
      },
      "outputs": [],
      "source": []
    },
    {
      "cell_type": "markdown",
      "id": "36ef34af",
      "metadata": {
        "cell_id": "00033-c615e5c7-7fe9-49a0-9cf1-bd322c95608b",
        "deepnote_cell_type": "markdown",
        "id": "global-coalition"
      },
      "source": [
        "Open the JSON file in a text editor.  What does it look like?  In what ways is it different from the CSV file?"
      ]
    },
    {
      "cell_type": "markdown",
      "id": "0a4c6c0b",
      "metadata": {
        "cell_id": "00034-5519fe28-e4ab-463a-a352-612e07300929",
        "deepnote_cell_type": "markdown",
        "id": "varied-liabilities"
      },
      "source": [
        "**HTML**"
      ]
    },
    {
      "cell_type": "markdown",
      "id": "b4673999",
      "metadata": {
        "cell_id": "00035-a7a70588-3dce-4398-86bd-59038dabb7df",
        "deepnote_cell_type": "markdown",
        "id": "concerned-sheffield"
      },
      "source": [
        "Save the dataframe to a HTML file, using the `df.to_html()` method."
      ]
    },
    {
      "cell_type": "code",
      "execution_count": 49,
      "id": "316f43db",
      "metadata": {
        "cell_id": "00036-3defd7db-e0cf-4a36-a39a-a08ac294932c",
        "deepnote_cell_type": "code",
        "deepnote_to_be_reexecuted": false,
        "execution_millis": 3,
        "execution_start": 1636319045967,
        "id": "known-correction",
        "source_hash": "b623e53d",
        "tags": [
          "exercise"
        ]
      },
      "outputs": [],
      "source": []
    },
    {
      "cell_type": "markdown",
      "id": "c8132d0e",
      "metadata": {
        "cell_id": "00037-1820e6ca-4c79-4f97-bcb3-b474cb3f3aef",
        "deepnote_cell_type": "markdown",
        "id": "developed-depth"
      },
      "source": [
        "Read the HTML file into Pandas again, using the `pd.read_html()` function.  \n",
        "\n",
        "*Note*: Because HTML files can contain multiple dataframes, you'll get a `list` of dataframes instaead of just one.  Just add `[0]` onto the end of the line to get the first dataframe, and it will look the same as before."
      ]
    },
    {
      "cell_type": "code",
      "execution_count": 52,
      "id": "51bc4699",
      "metadata": {
        "cell_id": "00038-2247b564-c971-46b0-8f59-66b107e11a1c",
        "deepnote_cell_type": "code",
        "deepnote_to_be_reexecuted": false,
        "execution_millis": 1,
        "execution_start": 1636319052477,
        "id": "early-fusion",
        "outputId": "795f4378-e430-4959-84cf-a168f66d9bd1",
        "source_hash": "b623e53d",
        "tags": [
          "exercise"
        ]
      },
      "outputs": [],
      "source": []
    },
    {
      "cell_type": "markdown",
      "id": "3a844d5f",
      "metadata": {
        "cell_id": "00042-eb7569a7-be38-4324-86aa-431880d771ad",
        "deepnote_cell_type": "markdown",
        "id": "aggregate-questionnaire"
      },
      "source": [
        "Try opening the file with a text editor, then with a web browser (e.g. Chrome, Firefox, etc).  What does the file look like in each case?"
      ]
    },
    {
      "cell_type": "markdown",
      "id": "8e10d6a3",
      "metadata": {
        "cell_id": "00044-a7a1da2f-50fc-4779-8b9c-a07d7c609b15",
        "deepnote_cell_type": "markdown",
        "id": "lined-trace"
      },
      "source": [
        "**Excel**"
      ]
    },
    {
      "cell_type": "markdown",
      "id": "f52edbe9",
      "metadata": {
        "cell_id": "00045-5097cc33-04c2-4dc8-8d2e-fe365a4cffde",
        "deepnote_cell_type": "markdown",
        "id": "neutral-senator"
      },
      "source": [
        "Note: Because XLS and XLSX are proprietary formats, you may need to install a couple extra packages for this to work \n",
        "\n",
        "`%pip install openpyxl`"
      ]
    },
    {
      "cell_type": "markdown",
      "id": "23b12e85",
      "metadata": {
        "cell_id": "00047-15c37d8f-65da-413e-a517-f9988e48429a",
        "deepnote_cell_type": "markdown",
        "id": "negative-input"
      },
      "source": [
        "Save the dataframe to an Excel file.  `DataFrame.to_excel(engine='openpyxl')`"
      ]
    },
    {
      "cell_type": "code",
      "execution_count": 54,
      "id": "7599f3d7",
      "metadata": {
        "cell_id": "00048-6cb3709e-9419-4a6a-8f4c-e31bb93f6ccc",
        "deepnote_cell_type": "code",
        "deepnote_to_be_reexecuted": false,
        "execution_millis": 1,
        "execution_start": 1636319143192,
        "id": "municipal-dancing",
        "source_hash": "b623e53d",
        "tags": [
          "exercise"
        ]
      },
      "outputs": [],
      "source": []
    },
    {
      "cell_type": "markdown",
      "id": "975343e7",
      "metadata": {
        "cell_id": "00049-f836e579-a00a-4f22-9c59-647719e7bfd7",
        "deepnote_cell_type": "markdown",
        "id": "talented-letter"
      },
      "source": [
        "Read the Excel file into Pandas again, using the `pd.read_excel(engine='openpyxl')` function"
      ]
    },
    {
      "cell_type": "code",
      "execution_count": 55,
      "id": "dcef5561",
      "metadata": {
        "cell_id": "00050-aeab11f9-4d97-4e0e-a34c-406707b54695",
        "deepnote_cell_type": "code",
        "id": "essential-diagnosis",
        "tags": [
          "exercise"
        ]
      },
      "outputs": [],
      "source": []
    },
    {
      "cell_type": "markdown",
      "id": "5eb6bed4",
      "metadata": {
        "cell_id": "00051-16a74386-fc71-4287-b53a-05c491bf4f01",
        "deepnote_cell_type": "markdown",
        "id": "racial-reduction"
      },
      "source": [
        "Open the file in a text editor.  What does the file it look like?  Does it even open?"
      ]
    },
    {
      "cell_type": "markdown",
      "id": "5f053e60",
      "metadata": {
        "cell_id": "00057-49a6c365-8733-4f18-8d71-ea52ed35f8f1",
        "deepnote_cell_type": "markdown",
        "id": "cross-frontier"
      },
      "source": [
        "Open it in your spreadsheet program.  What does it look like?"
      ]
    }
  ],
  "metadata": {
    "colab": {
      "name": "12_DataFrame_Creation.ipynb",
      "provenance": []
    },
    "deepnote": {},
    "deepnote_execution_queue": [],
    "deepnote_notebook_id": "46d4e0e5-b75f-43ef-8b97-cdec857f3c04",
    "kernelspec": {
      "display_name": "Python 3 (ipykernel)",
      "language": "python",
      "name": "python3"
    },
    "language_info": {
      "codemirror_mode": {
        "name": "ipython",
        "version": 3
      },
      "file_extension": ".py",
      "mimetype": "text/x-python",
      "name": "python",
      "nbconvert_exporter": "python",
      "pygments_lexer": "ipython3",
      "version": "3.10.4"
    },
    "vscode": {
      "interpreter": {
        "hash": "d6852d01271bf8033dbdb7ec364b6f6e89fd52a18c6bf5b4c73e48c86329a8dd"
      }
    }
  },
  "nbformat": 4,
  "nbformat_minor": 5
}