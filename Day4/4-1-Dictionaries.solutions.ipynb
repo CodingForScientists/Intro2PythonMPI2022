{
  "cells": [
    {
      "cell_type": "markdown",
      "metadata": {
        "cell_id": "00001-c8b7162c-b006-4596-91f9-fa526dd0de54",
        "deepnote_cell_type": "markdown",
        "tags": []
      },
      "source": [
        "# Dictionaries \n",
        "## (a.k.a. `Dicts`)\n",
        "\n",
        "Making `Dicts`:\n",
        "| Code | Output | Description |\n",
        "| :--  | :--    | :---        |\n",
        "| `x = {'a': 3, 'b': 4}` | `{'a': 3, 'b': 4}`  | Make a `dict` using curly braces and colons |\n",
        "| `dict([('a', 3), ('b', 4)])` | `{'a': 3, 'b': 4}` | Transform a list of pairs of data into a `dict` |\n",
        "\n",
        ".\n",
        "\n",
        "Some Dict Methods:\n",
        "| Function Syntax | Method Syntax | Example Output | Description |\n",
        "| :---  | :--- | :--- | :--- |\n",
        "| `dict.__getitem__(x, 'a')` | `x['a']` | Gets the value from the requested key |\n",
        "| `dict.__setitem__(s, 'c', 10)` | `x['c'] = 10` | Adds a new item to the dict by Setting a new key-value pair |\n",
        "| `dict.keys(x)` | `x.keys()` | `dict_keys(['a', 'b'])` | The keys of the dictionary (these are like the \"indices\" of the dict) |\n",
        "| `dict.values(x)` | `x.values()` | `dict_values([3, 4])` | The values of the dictionary (the data you can extract from the dict) |\n",
        "| `dict.items(x)`  | `x.items()` | `dict_items([('a', 3), ('b', 4)])` | The item pairs in the dictionary |\n",
        "\n",
        ".\n",
        "\n",
        "Special Trick: Inverting a Dict (Needed sometimes when you want to look up the value from a dict)\n",
        "\n",
        "```python\n",
        ">>> x\n",
        "{'a': 3, 'b': 4}\n",
        "\n",
        ">>> y = {value: key for key, value in x.items()}  # called a 'dict comprehension'\n",
        ">>> y\n",
        "{3: 'a', 4: 'b'}\n",
        "```\n"
      ]
    },
    {
      "cell_type": "markdown",
      "metadata": {
        "cell_id": "00001-f79eb6d6-4fc0-4820-9279-06bb64f06729",
        "deepnote_cell_type": "markdown",
        "tags": []
      },
      "source": [
        "**Exercises**: Let's explore some dictionaries and get a feel for them."
      ]
    },
    {
      "cell_type": "markdown",
      "metadata": {},
      "source": [
        "Make a `birthdays` dictionary for your three friends John, Bernice, and Ivan, so that you can look up their names and get their birthday:\n",
        "  - John's birthday is Jan. 4th\n",
        "  - Bernice's birthday is May 25th\n",
        "  - Ivan's birthday is Dec. 12th"
      ]
    },
    {
      "cell_type": "code",
      "execution_count": 2,
      "metadata": {
        "tags": [
          "exercise"
        ]
      },
      "outputs": [
        {
          "data": {
            "text/plain": [
              "{'John': 'Jan. 4th', 'Bernice': 'May 25th', 'Ivan': 'Dec. 12th'}"
            ]
          },
          "execution_count": 2,
          "metadata": {},
          "output_type": "execute_result"
        }
      ],
      "source": [
        "birthdays = {'John': 'Dec. 1st', 'Luke': 'May 4th', 'Emma': 'July 23rd'}\n",
        "birthdays"
      ]
    },
    {
      "cell_type": "markdown",
      "metadata": {},
      "source": [
        "Use the `birthdays` dict above to do the exercises."
      ]
    },
    {
      "cell_type": "markdown",
      "metadata": {},
      "source": [
        "What is John's birthday?"
      ]
    },
    {
      "cell_type": "code",
      "execution_count": 3,
      "metadata": {
        "tags": [
          "exercise"
        ]
      },
      "outputs": [
        {
          "data": {
            "text/plain": [
              "'Jan. 4th'"
            ]
          },
          "execution_count": 3,
          "metadata": {},
          "output_type": "execute_result"
        }
      ],
      "source": [
        "birthdays['John']"
      ]
    },
    {
      "cell_type": "markdown",
      "metadata": {},
      "source": [
        "What is Bernice's birthday?"
      ]
    },
    {
      "cell_type": "code",
      "execution_count": 4,
      "metadata": {
        "tags": [
          "exercise"
        ]
      },
      "outputs": [
        {
          "data": {
            "text/plain": [
              "'May 25th'"
            ]
          },
          "execution_count": 4,
          "metadata": {},
          "output_type": "execute_result"
        }
      ],
      "source": [
        "birthdays['Bernice']"
      ]
    },
    {
      "cell_type": "markdown",
      "metadata": {},
      "source": [
        "Whose birthday is on Dec. 12th? (Tip: after trying it out and getting a `KeyError` which means that the key you are searching for doesn't exist, check the table above for how to invert a dict in order to make a dict with the keys and values flipped.  If this seems too challenging, just skip this exercise):"
      ]
    },
    {
      "cell_type": "code",
      "execution_count": 8,
      "metadata": {
        "tags": [
          "exercise"
        ]
      },
      "outputs": [
        {
          "data": {
            "text/plain": [
              "'Ivan'"
            ]
          },
          "execution_count": 8,
          "metadata": {},
          "output_type": "execute_result"
        }
      ],
      "source": [
        "friends = {value: key for key, value in birthdays.items()}\n",
        "friends['Dec. 12th']"
      ]
    },
    {
      "cell_type": "markdown",
      "metadata": {
        "cell_id": "00002-daede3e3-f2ff-4f36-a400-8461c8fae4e7",
        "deepnote_cell_type": "markdown",
        "tags": []
      },
      "source": [
        "What are the `values` in the birthdays dict?"
      ]
    },
    {
      "cell_type": "code",
      "execution_count": 9,
      "metadata": {
        "tags": [
          "exercise"
        ]
      },
      "outputs": [
        {
          "data": {
            "text/plain": [
              "dict_values(['Jan. 4th', 'May 25th', 'Dec. 12th'])"
            ]
          },
          "execution_count": 9,
          "metadata": {},
          "output_type": "execute_result"
        }
      ],
      "source": [
        "birthdays.values()"
      ]
    },
    {
      "cell_type": "markdown",
      "metadata": {
        "cell_id": "00004-121dd86c-09c5-45c3-8187-5daed60bca2d",
        "deepnote_cell_type": "markdown",
        "tags": []
      },
      "source": [
        "What are the `keys` in the birthdays dict?"
      ]
    },
    {
      "cell_type": "code",
      "execution_count": 10,
      "metadata": {
        "cell_id": "00004-e4f95858-9c3d-4865-9fbe-64070fdd0420",
        "deepnote_cell_type": "code",
        "deepnote_to_be_reexecuted": false,
        "execution_millis": 1,
        "execution_start": 1634212157832,
        "source_hash": "4c0051d4",
        "tags": [
          "exercise"
        ]
      },
      "outputs": [
        {
          "data": {
            "text/plain": [
              "dict_keys(['John', 'Bernice', 'Ivan'])"
            ]
          },
          "execution_count": 10,
          "metadata": {},
          "output_type": "execute_result"
        }
      ],
      "source": [
        "birthdays.keys()"
      ]
    },
    {
      "cell_type": "markdown",
      "metadata": {
        "cell_id": "00006-b3a9b407-190b-4475-8a1a-27d23fb3e8c5",
        "deepnote_cell_type": "markdown",
        "tags": []
      },
      "source": [
        "What are the `items` in the birthdays dict?"
      ]
    },
    {
      "cell_type": "code",
      "execution_count": 11,
      "metadata": {
        "cell_id": "00005-8bca3064-8493-4be7-9afa-fc23bf0d6325",
        "deepnote_cell_type": "code",
        "deepnote_to_be_reexecuted": false,
        "execution_millis": 1,
        "execution_start": 1634211977207,
        "source_hash": "4c0051d4",
        "tags": [
          "exercise"
        ]
      },
      "outputs": [
        {
          "data": {
            "text/plain": [
              "dict_items([('John', 'Jan. 4th'), ('Bernice', 'May 25th'), ('Ivan', 'Dec. 12th')])"
            ]
          },
          "execution_count": 11,
          "metadata": {},
          "output_type": "execute_result"
        }
      ],
      "source": [
        "birthdays.items()"
      ]
    },
    {
      "cell_type": "markdown",
      "metadata": {
        "cell_id": "00008-8ce9796a-0269-4b9c-b4f1-f4350733d973",
        "deepnote_cell_type": "markdown",
        "tags": []
      },
      "source": [
        "Make a dict from this list of tuples:"
      ]
    },
    {
      "cell_type": "code",
      "execution_count": 13,
      "metadata": {
        "cell_id": "00006-a669e6ee-c488-49d9-ba0a-aa13cc3f2c28",
        "deepnote_cell_type": "code",
        "deepnote_to_be_reexecuted": false,
        "execution_millis": 3,
        "execution_start": 1635335328020,
        "source_hash": "8186ff01",
        "tags": []
      },
      "outputs": [],
      "source": [
        "brightnesses = [\n",
        "    ('red', 65), \n",
        "    ('green', 3), \n",
        "    ('blue', 10),\n",
        "]"
      ]
    },
    {
      "cell_type": "code",
      "execution_count": 14,
      "metadata": {
        "tags": [
          "exercise"
        ]
      },
      "outputs": [
        {
          "data": {
            "text/plain": [
              "{'red': 65, 'green': 3, 'blue': 10}"
            ]
          },
          "execution_count": 14,
          "metadata": {},
          "output_type": "execute_result"
        }
      ],
      "source": [
        "dict(brightnesses)"
      ]
    },
    {
      "cell_type": "markdown",
      "metadata": {
        "cell_id": "00017-1e4c4022-9fa0-474d-b89c-ef7ed147cee7",
        "deepnote_cell_type": "markdown",
        "tags": []
      },
      "source": [
        "Starting with an empty `dict`, add the rest of the kindergartners' favorite colors one at a time.\n",
        "\n",
        "  - Amy loves yellow\n",
        "  - James adores red\n",
        "  - Julia worships beige\n",
        "  - Johnny likes green\n",
        "\n",
        "Below I've started the code already; just add the rest!"
      ]
    },
    {
      "cell_type": "code",
      "execution_count": 18,
      "metadata": {
        "cell_id": "00015-02fdf27b-1810-4bc6-aa7a-ffb831523a5b",
        "deepnote_cell_type": "code",
        "deepnote_to_be_reexecuted": false,
        "execution_millis": 10,
        "execution_start": 1636317076732,
        "source_hash": "421fdd79",
        "tags": []
      },
      "outputs": [
        {
          "data": {
            "text/plain": [
              "{'Amy': 'yellow'}"
            ]
          },
          "execution_count": 18,
          "metadata": {},
          "output_type": "execute_result"
        }
      ],
      "source": [
        "favorite_colors = {}\n",
        "favorite_colors['Amy'] = 'yellow'\n",
        "\n",
        "favorite_colors"
      ]
    },
    {
      "cell_type": "code",
      "execution_count": 22,
      "metadata": {
        "tags": [
          "exercise"
        ]
      },
      "outputs": [
        {
          "data": {
            "text/plain": [
              "{'Amy': 'yellow', 'James': 'red', 'Julia': 'beige', 'Johnny': 'green'}"
            ]
          },
          "execution_count": 22,
          "metadata": {},
          "output_type": "execute_result"
        }
      ],
      "source": [
        "favorite_colors = {}\n",
        "favorite_colors['Amy'] = 'yellow'\n",
        "favorite_colors['James'] = 'red'\n",
        "favorite_colors['Julia'] = 'beige'\n",
        "favorite_colors['Johnny'] = 'green'\n",
        "favorite_colors"
      ]
    },
    {
      "cell_type": "markdown",
      "metadata": {
        "cell_id": "00027-f318248b-8f6e-481f-a283-4593a2172cf5",
        "deepnote_cell_type": "markdown",
        "tags": []
      },
      "source": [
        "## Analysing Data stored in Dicts\n",
        "\n",
        "The challenge with analyzing `dict` data is that dicts are not \"sequences\", and neither are `dict_keys()` or `dict_values()`, so before putting them into a statistics function we should first turn `dict_values()` into a `list` using the `list()` function. For example:\n",
        "\n",
        "```python\n",
        ">>> data = {'x': 1, 'y': 2}\n",
        "\n",
        ">>> data.values()\n",
        "dict_values([1, 2])\n",
        "\n",
        ">>> list(data.values())\n",
        "[1, 2]\n",
        "\n",
        ">>> np.mean(list(data.values()))\n",
        "1.5\n",
        "```\n",
        "\n",
        "Useful Functions for the below Exercises:\n",
        "\n",
        "| Function | Example | Description |\n",
        "| :----  | :----   | :---- |\n",
        "| `len()` | `len(the_dict)` | The total number of items |\n",
        "| `np.mean()` | `np.mean(list(the_dict.values())` | The mean of the dict's values |\n",
        "| `np.min()` | `np.min(list(the_dict.values()))` | The minimum of the dict's values |"
      ]
    },
    {
      "cell_type": "markdown",
      "metadata": {
        "cell_id": "00023-6798155b-8e03-48b5-a2cd-7946f39d2e57",
        "deepnote_cell_type": "markdown",
        "tags": []
      },
      "source": [
        "**Exercises**: Let's get some practice querying dicts and calculating some statistics on dicts using Numpy."
      ]
    },
    {
      "cell_type": "code",
      "execution_count": 23,
      "metadata": {
        "cell_id": "00024-87cec780-9706-4172-a9c0-823efcd94796",
        "deepnote_cell_type": "code",
        "deepnote_to_be_reexecuted": false,
        "execution_millis": 0,
        "execution_start": 1636319325919,
        "source_hash": "c2602aa8",
        "tags": []
      },
      "outputs": [],
      "source": [
        "import numpy as np"
      ]
    },
    {
      "cell_type": "markdown",
      "metadata": {
        "cell_id": "00026-13fb674f-bb5e-432d-bfcd-6066805e4070",
        "deepnote_cell_type": "markdown",
        "tags": []
      },
      "source": [
        "Using the following dict, calculate what was the average hours of sleep that our friends got last night:"
      ]
    },
    {
      "cell_type": "code",
      "execution_count": 24,
      "metadata": {
        "cell_id": "00024-30849f61-26af-4168-90e1-a07f4a10ad1a",
        "deepnote_cell_type": "code",
        "deepnote_to_be_reexecuted": false,
        "execution_millis": 2,
        "execution_start": 1636319330240,
        "source_hash": "bf569e30",
        "tags": []
      },
      "outputs": [],
      "source": [
        "hours_of_sleep = {'Jason': 5, 'Kimberly': 9, 'Billy': 7, 'Trini': 6, 'Zack': 8}"
      ]
    },
    {
      "cell_type": "code",
      "execution_count": 27,
      "metadata": {
        "tags": [
          "exercise"
        ]
      },
      "outputs": [
        {
          "data": {
            "text/plain": [
              "7.0"
            ]
          },
          "execution_count": 27,
          "metadata": {},
          "output_type": "execute_result"
        }
      ],
      "source": [
        "np.mean(list(hours_of_sleep.values()))"
      ]
    },
    {
      "cell_type": "markdown",
      "metadata": {
        "cell_id": "00027-e8d9b705-342c-471c-8373-6d0b89a5861e",
        "deepnote_cell_type": "markdown",
        "tags": []
      },
      "source": [
        "How many total people in the following dataset were in our sleep study?"
      ]
    },
    {
      "cell_type": "code",
      "execution_count": null,
      "metadata": {
        "cell_id": "00027-6aac0e95-30ed-4a20-8e90-bed1829f7627",
        "deepnote_cell_type": "code",
        "deepnote_to_be_reexecuted": false,
        "execution_millis": 9,
        "execution_start": 1636319332198,
        "source_hash": "bf569e30",
        "tags": []
      },
      "outputs": [],
      "source": [
        "hours_of_sleep = {'Jason': 5, 'Kimberly': 9, 'Billy': 7, 'Trini': 6, 'Zack': 8}"
      ]
    },
    {
      "cell_type": "code",
      "execution_count": 30,
      "metadata": {
        "tags": [
          "exercise"
        ]
      },
      "outputs": [
        {
          "data": {
            "text/plain": [
              "2"
            ]
          },
          "execution_count": 30,
          "metadata": {},
          "output_type": "execute_result"
        }
      ],
      "source": [
        "len(hours_of_sleep)"
      ]
    },
    {
      "cell_type": "markdown",
      "metadata": {
        "cell_id": "00029-b25de3f9-f8d8-49b2-8a95-6179cfaccc51",
        "deepnote_cell_type": "markdown",
        "tags": []
      },
      "source": [
        "What was the average amount of sleep on day 2 in the following dataset?"
      ]
    },
    {
      "cell_type": "code",
      "execution_count": 31,
      "metadata": {
        "cell_id": "00030-852c161f-615b-43e1-b00f-0161179d8c39",
        "deepnote_cell_type": "code",
        "deepnote_to_be_reexecuted": false,
        "execution_millis": 1,
        "execution_start": 1636319347265,
        "source_hash": "e2797174",
        "tags": []
      },
      "outputs": [],
      "source": [
        "hours_of_sleep = {\n",
        "    'Day1': [5, 7, 3, 3, 4, 6, 8, 9],\n",
        "    'Day2': [5, 7, 8, 5, 6, 7, 8, 4],\n",
        "}"
      ]
    },
    {
      "cell_type": "code",
      "execution_count": 33,
      "metadata": {
        "tags": [
          "exercise"
        ]
      },
      "outputs": [
        {
          "data": {
            "text/plain": [
              "6.25"
            ]
          },
          "execution_count": 33,
          "metadata": {},
          "output_type": "execute_result"
        }
      ],
      "source": [
        "np.mean(hours_of_sleep['Day2'])"
      ]
    },
    {
      "cell_type": "markdown",
      "metadata": {
        "cell_id": "00031-33eacd9e-1011-4822-8f26-6f8259d783a0",
        "deepnote_cell_type": "markdown",
        "tags": []
      },
      "source": [
        "Use the following dataset to answer the questions below\n",
        "\n",
        "*Tip*: you can index multiple times (e.g. `data['Monday']['Morning']` or `data['Monday'].keys()`)"
      ]
    },
    {
      "cell_type": "code",
      "execution_count": 42,
      "metadata": {
        "cell_id": "00032-9098bf00-fdff-44db-9fe0-354dc322e214",
        "deepnote_cell_type": "code",
        "deepnote_to_be_reexecuted": false,
        "execution_millis": 4,
        "execution_start": 1636319353226,
        "source_hash": "2fd6ccfa",
        "tags": []
      },
      "outputs": [],
      "source": [
        "hours_of_sleep = {\n",
        "    'Day1': {'Jason': 5, 'Kimberly': 9, 'Billy': 7, 'Trini': 6, 'Zack': 8},\n",
        "    'Day2': {'Billy': 10, 'Kimberly': 7, 'Trini': 7, 'Jason': 4},\n",
        "    'Day3': {'Trini': 8, 'Zack': 6, 'Jason': 9, 'Billy': 9},\n",
        "}"
      ]
    },
    {
      "cell_type": "markdown",
      "metadata": {},
      "source": [
        "*Example*: How many hours of sleep did Trini get on Day 2?"
      ]
    },
    {
      "cell_type": "code",
      "execution_count": 44,
      "metadata": {},
      "outputs": [
        {
          "data": {
            "text/plain": [
              "7"
            ]
          },
          "execution_count": 44,
          "metadata": {},
          "output_type": "execute_result"
        }
      ],
      "source": [
        "hours_of_sleep['Day2']['Trini']"
      ]
    },
    {
      "cell_type": "markdown",
      "metadata": {},
      "source": [
        "How many hours of sleep did Billy get on Day 1?"
      ]
    },
    {
      "cell_type": "code",
      "execution_count": 45,
      "metadata": {
        "tags": [
          "exercise"
        ]
      },
      "outputs": [
        {
          "data": {
            "text/plain": [
              "7"
            ]
          },
          "execution_count": 45,
          "metadata": {},
          "output_type": "execute_result"
        }
      ],
      "source": [
        "hours_of_sleep['Day1']['Billy']"
      ]
    },
    {
      "cell_type": "markdown",
      "metadata": {},
      "source": [
        "How much sleep did Zack get on Day 3?"
      ]
    },
    {
      "cell_type": "code",
      "execution_count": 46,
      "metadata": {
        "tags": [
          "exercise"
        ]
      },
      "outputs": [
        {
          "data": {
            "text/plain": [
              "6"
            ]
          },
          "execution_count": 46,
          "metadata": {},
          "output_type": "execute_result"
        }
      ],
      "source": [
        "hours_of_sleep['Day3']['Zack']"
      ]
    },
    {
      "cell_type": "markdown",
      "metadata": {},
      "source": [
        "How many people were in the study on Day 1?"
      ]
    },
    {
      "cell_type": "code",
      "execution_count": 47,
      "metadata": {
        "tags": [
          "exercise"
        ]
      },
      "outputs": [
        {
          "data": {
            "text/plain": [
              "5"
            ]
          },
          "execution_count": 47,
          "metadata": {},
          "output_type": "execute_result"
        }
      ],
      "source": [
        "len(hours_of_sleep['Day1'])"
      ]
    },
    {
      "cell_type": "markdown",
      "metadata": {},
      "source": [
        "How many people were still in the study on Day 3?"
      ]
    },
    {
      "cell_type": "code",
      "execution_count": 48,
      "metadata": {
        "tags": [
          "exercise"
        ]
      },
      "outputs": [
        {
          "data": {
            "text/plain": [
              "4"
            ]
          },
          "execution_count": 48,
          "metadata": {},
          "output_type": "execute_result"
        }
      ],
      "source": [
        "len(hours_of_sleep['Day3'])"
      ]
    },
    {
      "cell_type": "markdown",
      "metadata": {},
      "source": [
        "Was the average amount of sleep higher on day one or day three?"
      ]
    },
    {
      "cell_type": "code",
      "execution_count": 49,
      "metadata": {
        "tags": [
          "exercise"
        ]
      },
      "outputs": [
        {
          "data": {
            "text/plain": [
              "(7.0, 8.0)"
            ]
          },
          "execution_count": 49,
          "metadata": {},
          "output_type": "execute_result"
        }
      ],
      "source": [
        "day1 = np.mean(list(hours_of_sleep['Day1'].values()))\n",
        "day3 = np.mean(list(hours_of_sleep['Day3'].values()))\n",
        "day1, day3"
      ]
    },
    {
      "cell_type": "markdown",
      "metadata": {
        "cell_id": "00023-df0832d5-d55b-4336-9039-5525858452cd",
        "deepnote_cell_type": "markdown",
        "tags": []
      },
      "source": [
        "# Extra Credit\n",
        "\n",
        "## JSON: a Popular Text File Format for Storing basic Dicts and Lists\n",
        "\n",
        "\n",
        "### Writing Dicts and Lists into JSON Files\n",
        "\n",
        "```python\n",
        "import json, pathlib\n",
        "data = {'a': 3, 'b': 4}\n",
        "text = json.dumps(data, indent=4)  # turn our dict into json-formatted text.\n",
        "pathlib.Path('data.json').write_text(text)  # Save the text into a file.\n",
        "```\n",
        "\n",
        "### Reading JSON Files into Dicts and Lists\n",
        "\n",
        "```python\n",
        "text = pathlib.Path('data.json').read_text()  # read all the text in the file to and assign it to a string.\n",
        "data = json.loads(text)  # convert the json-formatted text into a dict\n",
        "```\n",
        "\n"
      ]
    },
    {
      "cell_type": "markdown",
      "metadata": {
        "cell_id": "00041-6c8f9cb8-c337-4239-a308-e8dc20a249ef",
        "deepnote_cell_type": "markdown",
        "tags": []
      },
      "source": [
        "**Exercises**"
      ]
    },
    {
      "cell_type": "markdown",
      "metadata": {
        "cell_id": "00023-0005be77-efd0-4329-9231-4a48b35d4d0c",
        "deepnote_cell_type": "markdown",
        "tags": []
      },
      "source": [
        "Save the following dict to `sleep_study.json`"
      ]
    },
    {
      "cell_type": "code",
      "execution_count": null,
      "metadata": {
        "cell_id": "00044-543e2863-21b6-49e4-9804-1c1d1a68ba0b",
        "deepnote_cell_type": "code",
        "tags": []
      },
      "outputs": [],
      "source": [
        "hours_of_sleep = {\n",
        "    'Day1': {'Jason': 5, 'Kimberly': 9, 'Billy': 7, 'Trini': 6, 'Zack': 8},\n",
        "    'Day2': {'Billy': 10, 'Kimberly': 7, 'Trini': 7, 'Zack': 9, 'Jason': 4},\n",
        "    'Day3': {'Trini': 8, 'Zack': 6, 'Jason': 9, 'Billy': 9, 'Kimberly': 6},\n",
        "}"
      ]
    },
    {
      "cell_type": "code",
      "execution_count": 52,
      "metadata": {
        "cell_id": "00045-e3a0f940-3544-4af0-b583-019d42b6f9c8",
        "deepnote_cell_type": "code",
        "tags": [
          "exercise"
        ]
      },
      "outputs": [
        {
          "data": {
            "text/plain": [
              "327"
            ]
          },
          "execution_count": 52,
          "metadata": {},
          "output_type": "execute_result"
        }
      ],
      "source": [
        "import json, pathlib\n",
        "\n",
        "text = json.dumps(hours_of_sleep, indent=4)\n",
        "pathlib.Path('sleep_study.ignore.json').write_text(text)\n"
      ]
    },
    {
      "cell_type": "markdown",
      "metadata": {
        "cell_id": "00045-5a1f844c-e5a0-4610-98b8-9a5f6c94763c",
        "deepnote_cell_type": "markdown",
        "tags": []
      },
      "source": [
        "Read the `sleep_study.json` file to a python variable and print it."
      ]
    },
    {
      "cell_type": "code",
      "execution_count": 53,
      "metadata": {
        "cell_id": "00045-41496a89-3d3b-4d49-ab24-aed0fb7d997a",
        "deepnote_cell_type": "code",
        "tags": [
          "exercise"
        ]
      },
      "outputs": [
        {
          "data": {
            "text/plain": [
              "{'Day1': {'Jason': 5, 'Kimberly': 9, 'Billy': 7, 'Trini': 6, 'Zack': 8},\n",
              " 'Day2': {'Billy': 10, 'Kimberly': 7, 'Trini': 7, 'Jason': 4},\n",
              " 'Day3': {'Trini': 8, 'Zack': 6, 'Jason': 9, 'Billy': 9}}"
            ]
          },
          "execution_count": 53,
          "metadata": {},
          "output_type": "execute_result"
        }
      ],
      "source": [
        "text = pathlib.Path('sleep_study.ignore.json').read_text()\n",
        "data = json.loads(text)\n",
        "data"
      ]
    }
  ],
  "metadata": {
    "deepnote": {
      "is_reactive": false
    },
    "deepnote_execution_queue": [],
    "deepnote_notebook_id": "125ddd91-b676-4a39-9b9c-6a9dbafec010",
    "kernelspec": {
      "display_name": "Python 3 (ipykernel)",
      "language": "python",
      "name": "python3"
    },
    "language_info": {
      "codemirror_mode": {
        "name": "ipython",
        "version": 3
      },
      "file_extension": ".py",
      "mimetype": "text/x-python",
      "name": "python",
      "nbconvert_exporter": "python",
      "pygments_lexer": "ipython3",
      "version": "3.9.12"
    },
    "vscode": {
      "interpreter": {
        "hash": "4053583a5b94002d654b899144bd46215da5e37064ba71140a4b7387da73a050"
      }
    }
  },
  "nbformat": 4,
  "nbformat_minor": 4
}