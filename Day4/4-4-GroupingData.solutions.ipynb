{
  "cells": [
    {
      "cell_type": "code",
      "execution_count": 1,
      "id": "dd97d00b",
      "metadata": {},
      "outputs": [
        {
          "name": "stdout",
          "output_type": "stream",
          "text": [
            "Requirement already satisfied: matplotlib in /home/nickdg/miniconda3/lib/python3.9/site-packages (3.6.0)\n",
            "Requirement already satisfied: numpy in /home/nickdg/miniconda3/lib/python3.9/site-packages (1.23.3)\n",
            "Requirement already satisfied: pandas in /home/nickdg/miniconda3/lib/python3.9/site-packages (1.4.4)\n",
            "Requirement already satisfied: seaborn in /home/nickdg/miniconda3/lib/python3.9/site-packages (0.12.0)\n",
            "Requirement already satisfied: pillow>=6.2.0 in /home/nickdg/miniconda3/lib/python3.9/site-packages (from matplotlib) (9.2.0)\n",
            "Requirement already satisfied: cycler>=0.10 in /home/nickdg/miniconda3/lib/python3.9/site-packages (from matplotlib) (0.11.0)\n",
            "Requirement already satisfied: packaging>=20.0 in /home/nickdg/miniconda3/lib/python3.9/site-packages (from matplotlib) (21.3)\n",
            "Requirement already satisfied: kiwisolver>=1.0.1 in /home/nickdg/miniconda3/lib/python3.9/site-packages (from matplotlib) (1.4.4)\n",
            "Requirement already satisfied: fonttools>=4.22.0 in /home/nickdg/miniconda3/lib/python3.9/site-packages (from matplotlib) (4.37.2)\n",
            "Requirement already satisfied: contourpy>=1.0.1 in /home/nickdg/miniconda3/lib/python3.9/site-packages (from matplotlib) (1.0.5)\n",
            "Requirement already satisfied: python-dateutil>=2.7 in /home/nickdg/miniconda3/lib/python3.9/site-packages (from matplotlib) (2.8.2)\n",
            "Requirement already satisfied: pyparsing>=2.2.1 in /home/nickdg/miniconda3/lib/python3.9/site-packages (from matplotlib) (3.0.9)\n",
            "Requirement already satisfied: pytz>=2020.1 in /home/nickdg/miniconda3/lib/python3.9/site-packages (from pandas) (2022.2.1)\n",
            "Requirement already satisfied: six>=1.5 in /home/nickdg/miniconda3/lib/python3.9/site-packages (from python-dateutil>=2.7->matplotlib) (1.16.0)\n"
          ]
        }
      ],
      "source": [
        "%pip install matplotlib numpy pandas seaborn"
      ]
    },
    {
      "cell_type": "code",
      "execution_count": 1,
      "id": "a4c401c0",
      "metadata": {
        "cell_id": "00000-89fff6f0-8997-4f4b-ad02-c07eca537b8c",
        "deepnote_cell_type": "code",
        "deepnote_to_be_reexecuted": false,
        "execution_millis": 0,
        "execution_start": 1628779729427,
        "id": "bottom-declaration",
        "source_hash": "9b82ee11"
      },
      "outputs": [],
      "source": [
        "import pandas as pd\n",
        "import numpy as np\n",
        "import matplotlib.pyplot as plt\n",
        "import seaborn as sns"
      ]
    },
    {
      "cell_type": "markdown",
      "id": "8594550b",
      "metadata": {
        "cell_id": "00001-67135b01-0908-4314-8790-12bc177ab833",
        "deepnote_cell_type": "markdown",
        "id": "lonely-grounds"
      },
      "source": [
        "## GroupBy Operations: Applying Aggregations to Groups of Data\n",
        "\n",
        "Usually, you don't just want to get a single metric from a dataset--you want to compare that metric between differnt subgroups of your data. For example, you want the mean **monthly** temperature, or the maximum firing rate of **each neuron**, or the total income of **each country**, and so on.\n",
        "\n",
        "The **groupby()** method lets you specify that an operation will be done on each *same-valued* row for a given column.  For example, to ask for the mean temperature by month:\n",
        "\n",
        "```python\n",
        ">>> df.groupby('month').temperature.mean()\n",
        "```\n",
        "\n",
        "To get the maxiumum firing rate of each neuron:\n",
        "\n",
        "```python\n",
        ">>> df.groupby('neuron_id').firing_rate.max()\n",
        "```\n",
        "\n",
        "You can also group by as many columns as you like, getting as many groups as unique combinations between the columns:\n",
        "\n",
        "```python\n",
        ">>> df.groupby(['year', 'month']).temperature.mean()\n",
        "```\n",
        "\n",
        "Groupby objects are **lazy**, meaning they don't start calculating anything until they know the full pipeline.  This approach is called the **\"Split-Apply-Combine\"** workflow.  You can get more info on it here: https://pandas.pydata.org/pandas-docs/stable/user_guide/groupby.html\n"
      ]
    },
    {
      "cell_type": "markdown",
      "id": "d55f200b",
      "metadata": {
        "cell_id": "00002-bb667ec7-7d98-41ae-b659-d3a840fa47c5",
        "deepnote_cell_type": "markdown",
        "id": "egyptian-might"
      },
      "source": [
        "**Exercises**: Let's try this out on the Titanic Dataset!"
      ]
    },
    {
      "cell_type": "markdown",
      "id": "53666f08",
      "metadata": {},
      "source": [
        "Run the code below to get the titanic dataset"
      ]
    },
    {
      "cell_type": "code",
      "execution_count": 2,
      "id": "e13d583e",
      "metadata": {
        "cell_id": "00004-108e40db-fc94-4010-8f5c-ef6aa84b7db7",
        "deepnote_cell_type": "code",
        "deepnote_to_be_reexecuted": false,
        "execution_millis": 332,
        "execution_start": 1628780016775,
        "source_hash": "eafaeb76",
        "tags": []
      },
      "outputs": [
        {
          "data": {
            "text/html": [
              "<div>\n",
              "<style scoped>\n",
              "    .dataframe tbody tr th:only-of-type {\n",
              "        vertical-align: middle;\n",
              "    }\n",
              "\n",
              "    .dataframe tbody tr th {\n",
              "        vertical-align: top;\n",
              "    }\n",
              "\n",
              "    .dataframe thead th {\n",
              "        text-align: right;\n",
              "    }\n",
              "</style>\n",
              "<table border=\"1\" class=\"dataframe\">\n",
              "  <thead>\n",
              "    <tr style=\"text-align: right;\">\n",
              "      <th></th>\n",
              "      <th>survived</th>\n",
              "      <th>pclass</th>\n",
              "      <th>sex</th>\n",
              "      <th>age</th>\n",
              "      <th>sibsp</th>\n",
              "      <th>parch</th>\n",
              "      <th>fare</th>\n",
              "      <th>embarked</th>\n",
              "      <th>class</th>\n",
              "      <th>who</th>\n",
              "      <th>adult_male</th>\n",
              "      <th>deck</th>\n",
              "      <th>embark_town</th>\n",
              "      <th>alive</th>\n",
              "      <th>alone</th>\n",
              "    </tr>\n",
              "  </thead>\n",
              "  <tbody>\n",
              "    <tr>\n",
              "      <th>0</th>\n",
              "      <td>0</td>\n",
              "      <td>3</td>\n",
              "      <td>male</td>\n",
              "      <td>22.0</td>\n",
              "      <td>1</td>\n",
              "      <td>0</td>\n",
              "      <td>7.2500</td>\n",
              "      <td>S</td>\n",
              "      <td>Third</td>\n",
              "      <td>man</td>\n",
              "      <td>True</td>\n",
              "      <td>NaN</td>\n",
              "      <td>Southampton</td>\n",
              "      <td>no</td>\n",
              "      <td>False</td>\n",
              "    </tr>\n",
              "    <tr>\n",
              "      <th>1</th>\n",
              "      <td>1</td>\n",
              "      <td>1</td>\n",
              "      <td>female</td>\n",
              "      <td>38.0</td>\n",
              "      <td>1</td>\n",
              "      <td>0</td>\n",
              "      <td>71.2833</td>\n",
              "      <td>C</td>\n",
              "      <td>First</td>\n",
              "      <td>woman</td>\n",
              "      <td>False</td>\n",
              "      <td>C</td>\n",
              "      <td>Cherbourg</td>\n",
              "      <td>yes</td>\n",
              "      <td>False</td>\n",
              "    </tr>\n",
              "    <tr>\n",
              "      <th>2</th>\n",
              "      <td>1</td>\n",
              "      <td>3</td>\n",
              "      <td>female</td>\n",
              "      <td>26.0</td>\n",
              "      <td>0</td>\n",
              "      <td>0</td>\n",
              "      <td>7.9250</td>\n",
              "      <td>S</td>\n",
              "      <td>Third</td>\n",
              "      <td>woman</td>\n",
              "      <td>False</td>\n",
              "      <td>NaN</td>\n",
              "      <td>Southampton</td>\n",
              "      <td>yes</td>\n",
              "      <td>True</td>\n",
              "    </tr>\n",
              "    <tr>\n",
              "      <th>3</th>\n",
              "      <td>1</td>\n",
              "      <td>1</td>\n",
              "      <td>female</td>\n",
              "      <td>35.0</td>\n",
              "      <td>1</td>\n",
              "      <td>0</td>\n",
              "      <td>53.1000</td>\n",
              "      <td>S</td>\n",
              "      <td>First</td>\n",
              "      <td>woman</td>\n",
              "      <td>False</td>\n",
              "      <td>C</td>\n",
              "      <td>Southampton</td>\n",
              "      <td>yes</td>\n",
              "      <td>False</td>\n",
              "    </tr>\n",
              "    <tr>\n",
              "      <th>4</th>\n",
              "      <td>0</td>\n",
              "      <td>3</td>\n",
              "      <td>male</td>\n",
              "      <td>35.0</td>\n",
              "      <td>0</td>\n",
              "      <td>0</td>\n",
              "      <td>8.0500</td>\n",
              "      <td>S</td>\n",
              "      <td>Third</td>\n",
              "      <td>man</td>\n",
              "      <td>True</td>\n",
              "      <td>NaN</td>\n",
              "      <td>Southampton</td>\n",
              "      <td>no</td>\n",
              "      <td>True</td>\n",
              "    </tr>\n",
              "  </tbody>\n",
              "</table>\n",
              "</div>"
            ],
            "text/plain": [
              "   survived  pclass     sex   age  sibsp  parch     fare embarked  class  \\\n",
              "0         0       3    male  22.0      1      0   7.2500        S  Third   \n",
              "1         1       1  female  38.0      1      0  71.2833        C  First   \n",
              "2         1       3  female  26.0      0      0   7.9250        S  Third   \n",
              "3         1       1  female  35.0      1      0  53.1000        S  First   \n",
              "4         0       3    male  35.0      0      0   8.0500        S  Third   \n",
              "\n",
              "     who  adult_male deck  embark_town alive  alone  \n",
              "0    man        True  NaN  Southampton    no  False  \n",
              "1  woman       False    C    Cherbourg   yes  False  \n",
              "2  woman       False  NaN  Southampton   yes   True  \n",
              "3  woman       False    C  Southampton   yes  False  \n",
              "4    man        True  NaN  Southampton    no   True  "
            ]
          },
          "execution_count": 2,
          "metadata": {},
          "output_type": "execute_result"
        }
      ],
      "source": [
        "df = pd.read_csv('https://raw.githubusercontent.com/mwaskom/seaborn-data/master/titanic.csv')\n",
        "df.head()"
      ]
    },
    {
      "cell_type": "markdown",
      "id": "aba75bea",
      "metadata": {
        "cell_id": "00004-cae997ee-9bfd-4969-9bf9-9fc7e18fd824",
        "deepnote_cell_type": "markdown",
        "id": "exterior-bankruptcy"
      },
      "source": [
        "Example: What was the mean age, grouped by class?"
      ]
    },
    {
      "cell_type": "code",
      "execution_count": 4,
      "id": "10453969",
      "metadata": {
        "cell_id": "00005-893f995b-1408-4d17-ad00-3519ccaf11df",
        "deepnote_cell_type": "code",
        "deepnote_to_be_reexecuted": false,
        "execution_millis": 5,
        "execution_start": 1636321029796,
        "id": "bound-buyer",
        "outputId": "76cc4311-1146-4f69-9109-6777bc2786e6",
        "source_hash": "b623e53d"
      },
      "outputs": [
        {
          "data": {
            "text/plain": [
              "class\n",
              "First     38.233441\n",
              "Second    29.877630\n",
              "Third     25.140620\n",
              "Name: age, dtype: float64"
            ]
          },
          "execution_count": 4,
          "metadata": {},
          "output_type": "execute_result"
        }
      ],
      "source": [
        "df.groupby('class').age.mean()"
      ]
    },
    {
      "cell_type": "markdown",
      "id": "3451f120",
      "metadata": {
        "cell_id": "00006-8f7cc31c-6150-434a-9c48-d2b2b6f351d7",
        "deepnote_cell_type": "markdown",
        "id": "foster-hudson"
      },
      "source": [
        "What was the median ticket fare for each class?"
      ]
    },
    {
      "cell_type": "code",
      "execution_count": 5,
      "id": "8c377474",
      "metadata": {
        "cell_id": "00007-2f38ccc7-7465-416a-b919-065fd1b7ad28",
        "deepnote_cell_type": "code",
        "deepnote_to_be_reexecuted": false,
        "execution_millis": 9,
        "execution_start": 1636321034088,
        "id": "nominated-precipitation",
        "source_hash": "b623e53d",
        "tags": [
          "exercise"
        ]
      },
      "outputs": [
        {
          "data": {
            "text/plain": [
              "class\n",
              "First     60.2875\n",
              "Second    14.2500\n",
              "Third      8.0500\n",
              "Name: fare, dtype: float64"
            ]
          },
          "execution_count": 5,
          "metadata": {},
          "output_type": "execute_result"
        }
      ],
      "source": [
        "df.groupby('class').fare.median()"
      ]
    },
    {
      "cell_type": "markdown",
      "id": "839e2fb9",
      "metadata": {
        "cell_id": "00008-7cd35a7a-8538-474f-9b4c-786101854b80",
        "deepnote_cell_type": "markdown",
        "id": "framed-proposal"
      },
      "source": [
        "What was the survival rate for each class?"
      ]
    },
    {
      "cell_type": "code",
      "execution_count": 6,
      "id": "93c184ea",
      "metadata": {
        "cell_id": "00009-4d461090-5f12-4978-8ac9-5ed2847413c9",
        "deepnote_cell_type": "code",
        "deepnote_to_be_reexecuted": false,
        "execution_millis": 4,
        "execution_start": 1636321043050,
        "id": "behind-people",
        "source_hash": "b623e53d",
        "tags": [
          "exercise"
        ]
      },
      "outputs": [
        {
          "data": {
            "text/plain": [
              "class\n",
              "First     0.629630\n",
              "Second    0.472826\n",
              "Third     0.242363\n",
              "Name: survived, dtype: float64"
            ]
          },
          "execution_count": 6,
          "metadata": {},
          "output_type": "execute_result"
        }
      ],
      "source": [
        "df.groupby('class').survived.mean()"
      ]
    },
    {
      "cell_type": "markdown",
      "id": "c7407c0f",
      "metadata": {
        "cell_id": "00010-65c445aa-f87b-460a-b272-9165563df188",
        "deepnote_cell_type": "markdown",
        "id": "eligible-income"
      },
      "source": [
        "What was the survival rate for each sex?"
      ]
    },
    {
      "cell_type": "code",
      "execution_count": 7,
      "id": "83938996",
      "metadata": {
        "cell_id": "00011-16c87ac8-a3a5-4268-9490-441ba938347d",
        "deepnote_cell_type": "code",
        "deepnote_to_be_reexecuted": false,
        "execution_millis": 7,
        "execution_start": 1636321046669,
        "id": "covered-prisoner",
        "source_hash": "b623e53d",
        "tags": [
          "exercise"
        ]
      },
      "outputs": [
        {
          "data": {
            "text/plain": [
              "sex\n",
              "female    0.742038\n",
              "male      0.188908\n",
              "Name: survived, dtype: float64"
            ]
          },
          "execution_count": 7,
          "metadata": {},
          "output_type": "execute_result"
        }
      ],
      "source": [
        "df.groupby('sex').survived.mean()"
      ]
    },
    {
      "cell_type": "markdown",
      "id": "0677213e",
      "metadata": {
        "cell_id": "00012-7986e60b-367b-4225-9745-b264e01f97fb",
        "deepnote_cell_type": "markdown",
        "id": "banner-armor"
      },
      "source": [
        "What was the survival rate, broken down by both sex and class?"
      ]
    },
    {
      "cell_type": "code",
      "execution_count": 9,
      "id": "94517b02",
      "metadata": {
        "cell_id": "00013-5b0c77a8-f432-44bc-9287-f53edfd9354f",
        "deepnote_cell_type": "code",
        "deepnote_to_be_reexecuted": false,
        "execution_millis": 4,
        "execution_start": 1636321053521,
        "id": "utility-cholesterol",
        "source_hash": "b623e53d",
        "tags": [
          "exercise"
        ]
      },
      "outputs": [
        {
          "data": {
            "text/plain": [
              "class   sex   \n",
              "First   female    0.968085\n",
              "        male      0.368852\n",
              "Second  female    0.921053\n",
              "        male      0.157407\n",
              "Third   female    0.500000\n",
              "        male      0.135447\n",
              "Name: survived, dtype: float64"
            ]
          },
          "execution_count": 9,
          "metadata": {},
          "output_type": "execute_result"
        }
      ],
      "source": [
        "df.groupby(['class', 'sex']).survived.mean()"
      ]
    },
    {
      "cell_type": "markdown",
      "id": "4680ec43",
      "metadata": {
        "cell_id": "00014-a7947e5f-17a6-48de-80d7-7a733a79e5eb",
        "deepnote_cell_type": "markdown",
        "id": "extreme-baptist"
      },
      "source": [
        "Which class tended to travel alone more often?  Did it matter where they were embarking from?"
      ]
    },
    {
      "cell_type": "code",
      "execution_count": 12,
      "id": "3fe6efd7",
      "metadata": {
        "cell_id": "00015-29334945-c604-4f2d-95ed-5c64f586407f",
        "deepnote_cell_type": "code",
        "deepnote_to_be_reexecuted": false,
        "execution_millis": 2,
        "execution_start": 1636321058910,
        "id": "intelligent-withdrawal",
        "source_hash": "b623e53d",
        "tags": [
          "exercise"
        ]
      },
      "outputs": [
        {
          "data": {
            "text/plain": [
              "embark_town  class \n",
              "Cherbourg    First     0.482353\n",
              "             Second    0.352941\n",
              "             Third     0.575758\n",
              "Queenstown   First     0.000000\n",
              "             Second    1.000000\n",
              "             Third     0.750000\n",
              "Southampton  First     0.519685\n",
              "             Second    0.579268\n",
              "             Third     0.657224\n",
              "Name: alone, dtype: float64"
            ]
          },
          "execution_count": 12,
          "metadata": {},
          "output_type": "execute_result"
        }
      ],
      "source": [
        "df.groupby(['embark_town', 'class']).alone.mean()"
      ]
    },
    {
      "cell_type": "markdown",
      "id": "ea92fd18",
      "metadata": {
        "cell_id": "00016-1ccc8d0a-10ea-40ae-bad2-8718249b53e9",
        "deepnote_cell_type": "markdown",
        "id": "unlike-spirit"
      },
      "source": [
        "What was the median ticket fare for each embarking town?"
      ]
    },
    {
      "cell_type": "code",
      "execution_count": 14,
      "id": "65a39abf",
      "metadata": {
        "cell_id": "00017-14abed27-9f4f-4671-9c23-6c552ebf7c98",
        "deepnote_cell_type": "code",
        "deepnote_to_be_reexecuted": false,
        "execution_millis": 2,
        "execution_start": 1636321063104,
        "id": "vocational-ethernet",
        "source_hash": "b623e53d",
        "tags": [
          "exercise"
        ]
      },
      "outputs": [
        {
          "data": {
            "text/plain": [
              "embark_town\n",
              "Cherbourg      29.70\n",
              "Queenstown      7.75\n",
              "Southampton    13.00\n",
              "Name: fare, dtype: float64"
            ]
          },
          "execution_count": 14,
          "metadata": {},
          "output_type": "execute_result"
        }
      ],
      "source": [
        "df.groupby('embark_town').fare.median()"
      ]
    },
    {
      "cell_type": "markdown",
      "id": "4cb86790",
      "metadata": {
        "cell_id": "00018-8e6c0c91-7c3a-4ce7-9f33-7f0cbdde6ee2",
        "deepnote_cell_type": "markdown",
        "id": "interested-multimedia"
      },
      "source": [
        "What was the median age of the survivors vs non-survivors, when sex is considered as a factor?"
      ]
    },
    {
      "cell_type": "code",
      "execution_count": 15,
      "id": "1b825d1f",
      "metadata": {
        "cell_id": "00019-bffd7454-823c-433f-bc6a-e9d5eeaae99a",
        "deepnote_cell_type": "code",
        "deepnote_to_be_reexecuted": false,
        "execution_millis": 6,
        "execution_start": 1636321068245,
        "id": "stylish-trash",
        "source_hash": "b623e53d",
        "tags": [
          "exercise"
        ]
      },
      "outputs": [
        {
          "data": {
            "text/plain": [
              "survived  sex   \n",
              "0         female    24.5\n",
              "          male      29.0\n",
              "1         female    28.0\n",
              "          male      28.0\n",
              "Name: age, dtype: float64"
            ]
          },
          "execution_count": 15,
          "metadata": {},
          "output_type": "execute_result"
        }
      ],
      "source": [
        "df.groupby(['survived', 'sex']).age.median()"
      ]
    },
    {
      "cell_type": "markdown",
      "id": "0af5779a",
      "metadata": {
        "cell_id": "00020-f4cf0b48-1292-4c2d-9e6e-83651df6c88f",
        "deepnote_cell_type": "markdown",
        "id": "municipal-convert"
      },
      "source": [
        "## Plotting with Seaborn\n",
        "\n",
        "Seaborn is a data visualization library that uses Pandas Dataframes to produce statitistical plots; in other words, it takes Dataframes and does Groupby automatically for you\n",
        "\n",
        "(https://seaborn.pydata.org/examples/index.html)\n",
        "\n",
        "Most of its functions have a similar interface:\n",
        "\n",
        "```python\n",
        "import seaborn as sns\n",
        "sns.catplot(data=df, x=\"ColName\", y=\"ColName\", hue=\"ColName\", row=\"ColName\", col=\"ColName\", kind=\"bar\")\n",
        "# kind can be \"point\", \"bar\", \"violin\", \"box\", \"boxen\", \"count\", \"strip\", \"swarm\"\n",
        "```"
      ]
    },
    {
      "cell_type": "markdown",
      "id": "931b707d",
      "metadata": {
        "cell_id": "00021-4be5f1c9-65c4-4955-be89-66a5bab7b69e",
        "deepnote_cell_type": "markdown",
        "id": "surface-radar"
      },
      "source": [
        "**Exercises**: Instead of making text tables, let's try out seaborn's **catplot** function to makde plots that compare one or more \"categorical\" variables to a \"quantitative\" variable.  "
      ]
    },
    {
      "cell_type": "markdown",
      "id": "3b3a5096",
      "metadata": {
        "cell_id": "00024-828aca6b-ef67-4ffa-b292-7b190b2f60fa",
        "deepnote_cell_type": "markdown",
        "id": "armed-quilt"
      },
      "source": [
        "**Example**: What was the average age of the people in each class?"
      ]
    },
    {
      "cell_type": "code",
      "execution_count": 20,
      "id": "bf60f713",
      "metadata": {
        "cell_id": "00025-67a89be6-2fd6-43a8-badc-80fc41b9ffdd",
        "deepnote_cell_type": "code",
        "deepnote_to_be_reexecuted": false,
        "execution_millis": 8,
        "execution_start": 1636321121351,
        "id": "executed-wright",
        "outputId": "283e1b15-79e1-4e20-9daf-0cdf65748fbc",
        "source_hash": "b623e53d"
      },
      "outputs": [
        {
          "data": {
            "image/png": "[encoded data removed]",
            "text/plain": [
              "<Figure size 500x500 with 1 Axes>"
            ]
          },
          "metadata": {},
          "output_type": "display_data"
        }
      ],
      "source": [
        "class_order = ['Third', 'Second', 'First']\n",
        "sns.catplot(data=df, x=\"class\", y='age', order=class_order, kind='bar');  # kind= can be \"point\", \"bar\", \"violin\", \"box\", \"boxen\", \"count\", \"strip\", \"swarm\""
      ]
    },
    {
      "cell_type": "markdown",
      "id": "4ed3a43d",
      "metadata": {
        "cell_id": "00026-07eeca36-7fcc-47dd-8e3f-89b7ee25c1e7",
        "deepnote_cell_type": "markdown",
        "id": "southwest-falls"
      },
      "source": [
        "What was the average ticket fare for each class?"
      ]
    },
    {
      "cell_type": "code",
      "execution_count": 27,
      "id": "2bd7d73e",
      "metadata": {
        "cell_id": "00027-8e2b31b7-518b-401d-9b46-6cc943d0b952",
        "deepnote_cell_type": "code",
        "deepnote_to_be_reexecuted": false,
        "execution_millis": 1,
        "execution_start": 1636321133381,
        "id": "hydraulic-collaboration",
        "source_hash": "b31fd813",
        "tags": [
          "exercise"
        ]
      },
      "outputs": [
        {
          "data": {
            "image/png": "[encoded data removed]",
            "text/plain": [
              "<Figure size 500x500 with 1 Axes>"
            ]
          },
          "metadata": {},
          "output_type": "display_data"
        }
      ],
      "source": [
        "sns.catplot(data=df, x='class', y='fare', order=class_order, kind='bar', estimator=np.median);\n"
      ]
    },
    {
      "cell_type": "markdown",
      "id": "6756e238",
      "metadata": {
        "cell_id": "00028-07296f52-98ae-4295-a3ec-4c5777926b95",
        "deepnote_cell_type": "markdown",
        "id": "biblical-translator"
      },
      "source": [
        "What was the average survival rate for each class?"
      ]
    },
    {
      "cell_type": "code",
      "execution_count": 30,
      "id": "f5a2565e",
      "metadata": {
        "cell_id": "00029-c14d954b-c772-465d-b792-0c521168cab4",
        "deepnote_cell_type": "code",
        "deepnote_to_be_reexecuted": false,
        "execution_millis": 11,
        "execution_start": 1636321138864,
        "id": "asian-relevance",
        "source_hash": "b623e53d",
        "tags": [
          "exercise"
        ]
      },
      "outputs": [
        {
          "data": {
            "image/png": "[encoded data removed]",
            "text/plain": [
              "<Figure size 500x500 with 1 Axes>"
            ]
          },
          "metadata": {},
          "output_type": "display_data"
        }
      ],
      "source": [
        "sns.catplot(data=df, x='class', order=class_order, y='survived', kind='bar');"
      ]
    },
    {
      "cell_type": "markdown",
      "id": "f5eff747",
      "metadata": {
        "cell_id": "00032-d61e5534-dfc8-4f81-a9a5-d27bacd30259",
        "deepnote_cell_type": "markdown",
        "id": "defined-commission"
      },
      "source": [
        "What was the average survival rate, broken down by both sex and class? (hint: `hue=`, `row=`, `col=`)"
      ]
    },
    {
      "cell_type": "code",
      "execution_count": 33,
      "id": "8924c695",
      "metadata": {
        "cell_id": "00033-444e70e0-b3cb-46e0-9396-87664e0de3ab",
        "deepnote_cell_type": "code",
        "deepnote_to_be_reexecuted": false,
        "execution_millis": 8,
        "execution_start": 1636321151646,
        "id": "rational-updating",
        "source_hash": "b623e53d",
        "tags": [
          "exercise"
        ]
      },
      "outputs": [
        {
          "data": {
            "image/png": "[encoded data removed]",
            "text/plain": [
              "<Figure size 598x500 with 1 Axes>"
            ]
          },
          "metadata": {},
          "output_type": "display_data"
        }
      ],
      "source": [
        "sns.catplot(data=df, x='class', y='survived', order=class_order, hue='sex', kind='bar');"
      ]
    },
    {
      "cell_type": "markdown",
      "id": "bb18d85d",
      "metadata": {
        "cell_id": "00034-9c113c63-84f7-439d-b65c-dfb788a70f30",
        "deepnote_cell_type": "markdown",
        "id": "extreme-express"
      },
      "source": [
        "Which class tended to travel alone more often?  Did it matter where they were embarking from?  What if sex was also factored in?"
      ]
    },
    {
      "cell_type": "code",
      "execution_count": 36,
      "id": "3b9d5448",
      "metadata": {
        "cell_id": "00035-e9eee321-a4fd-4009-8dd2-005d1af0676d",
        "deepnote_cell_type": "code",
        "deepnote_to_be_reexecuted": false,
        "execution_millis": 16,
        "execution_start": 1636321155152,
        "id": "ultimate-romance",
        "source_hash": "b31fd813",
        "tags": [
          "exercise"
        ]
      },
      "outputs": [
        {
          "data": {
            "image/png": "[encoded data removed]",
            "text/plain": [
              "<Figure size 1144x500 with 2 Axes>"
            ]
          },
          "metadata": {},
          "output_type": "display_data"
        }
      ],
      "source": [
        "sns.catplot(data=df, x='class', y='alone', order=class_order, hue='embark_town', col='sex', kind='bar');\n"
      ]
    }
  ],
  "metadata": {
    "colab": {
      "name": "14_Groupby_Seaborn.ipynb",
      "provenance": []
    },
    "deepnote": {},
    "deepnote_execution_queue": [],
    "deepnote_notebook_id": "200028b5-d356-42c7-bd8a-c23539b7340c",
    "kernelspec": {
      "display_name": "Python 3 (ipykernel)",
      "language": "python",
      "name": "python3"
    },
    "language_info": {
      "codemirror_mode": {
        "name": "ipython",
        "version": 3
      },
      "file_extension": ".py",
      "mimetype": "text/x-python",
      "name": "python",
      "nbconvert_exporter": "python",
      "pygments_lexer": "ipython3",
      "version": "3.10.4"
    },
    "vscode": {
      "interpreter": {
        "hash": "4053583a5b94002d654b899144bd46215da5e37064ba71140a4b7387da73a050"
      }
    }
  },
  "nbformat": 4,
  "nbformat_minor": 5
}