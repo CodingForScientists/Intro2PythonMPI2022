{
  "cells": [
    {
      "cell_type": "code",
      "execution_count": 1,
      "metadata": {},
      "outputs": [
        {
          "name": "stdout",
          "output_type": "stream",
          "text": [
            "Requirement already satisfied: pandas in /home/nickdg/miniconda3/envs/py10/lib/python3.10/site-packages (1.5.0)\n",
            "Requirement already satisfied: python-dateutil>=2.8.1 in /home/nickdg/miniconda3/envs/py10/lib/python3.10/site-packages (from pandas) (2.8.2)\n",
            "Requirement already satisfied: pytz>=2020.1 in /home/nickdg/miniconda3/envs/py10/lib/python3.10/site-packages (from pandas) (2022.4)\n",
            "Requirement already satisfied: numpy>=1.21.0 in /home/nickdg/miniconda3/envs/py10/lib/python3.10/site-packages (from pandas) (1.23.3)\n",
            "Requirement already satisfied: six>=1.5 in /home/nickdg/miniconda3/envs/py10/lib/python3.10/site-packages (from python-dateutil>=2.8.1->pandas) (1.16.0)\n"
          ]
        }
      ],
      "source": [
        "%pip install pandas"
      ]
    },
    {
      "cell_type": "code",
      "execution_count": 1,
      "metadata": {
        "cell_id": "00000-4c6e354d-ac3a-4999-9b97-66fc8103c165",
        "deepnote_cell_type": "code",
        "deepnote_to_be_reexecuted": false,
        "execution_millis": 1,
        "execution_start": 1636621174814,
        "id": "DSaWnDKbVNLb",
        "source_hash": "9b82ee11"
      },
      "outputs": [],
      "source": [
        "import pandas as pd"
      ]
    },
    {
      "cell_type": "markdown",
      "metadata": {
        "cell_id": "00001-70dcdbbd-ec22-4f42-8598-a79e023be470",
        "deepnote_cell_type": "markdown",
        "id": "zOhmpg5tVNLd"
      },
      "source": [
        "## DataFrame vs 2D Array, Rows and Columns\n",
        "\n",
        "A key difference between Numpy and Pandas are in what index information they assume you'll use to query and organize the data in their data structures:\n",
        "\n",
        "|           |        | Ordered | Named |\n",
        "| :--:      | :--:   | :--:    | :-:   |\n",
        "| Array     | Rows   | \u2714\ufe0f       |       |\n",
        "| Array     | Columns| \u2714\ufe0f       |       |\n",
        "| DataFrame | Rows   | \u2714\ufe0f       | \u2714\ufe0f     |\n",
        "| DataFrame | Columns|         | \u2714\ufe0f     |\n",
        "\n",
        "This reliance on named indices makes it straightforward to work with Pandas data **relationally**, thinking of each row as a specific Record with named Fields. "
      ]
    },
    {
      "cell_type": "markdown",
      "metadata": {
        "cell_id": "00002-081de098-b42d-4464-b909-29b176b632b2",
        "deepnote_cell_type": "markdown",
        "id": "obJY9jPyVNLg"
      },
      "source": [
        "### Indexing Rows"
      ]
    },
    {
      "cell_type": "markdown",
      "metadata": {
        "cell_id": "00003-102e1a8c-7319-406f-b4df-53730258b102",
        "deepnote_cell_type": "markdown",
        "id": "QdO6D3o8VNLh"
      },
      "source": [
        "Because DataFrame rows are both ordered and named, they can be indexed using either approach, and even both!  Column operations tend to be name-specific:\n",
        "\n",
        "| Axis        | Ordered Index | Named Index    | Ordered Slice    | Named Slice              |  NamedOrdered Slice     |\n",
        "| :--   | :--    | :--     | :--       | :--        | :--  |\n",
        "| **Rows**    | `df.iloc[0]`  | `df.loc['John']` | `df.iloc[0:2]` or `df[0:2]`   | `df.loc[['Jim', 'John']]`  |  `df.loc['Jim':'Jenny']` or `df['Jim':'Jenny']` |\n",
        "| **Columns** |        |  `df['Q1']` or `df.Q1` |  |  `df[['Q1', 'Q4']]` |    |\n",
        "\n",
        "**Note**: Square brackets, not round brackets are used after `df.loc` and `df.iloc`."
      ]
    },
    {
      "cell_type": "markdown",
      "metadata": {
        "cell_id": "00004-4d7a3640-9d16-4167-9599-7bcb7629ba84",
        "deepnote_cell_type": "markdown",
        "id": "iwH2hd-eVNLi"
      },
      "source": [
        "### The Titanic Dataset"
      ]
    },
    {
      "cell_type": "code",
      "execution_count": 2,
      "metadata": {
        "cell_id": "00005-f7d1eb5f-c2e9-4885-9289-f6659ce3183c",
        "deepnote_cell_type": "code",
        "deepnote_to_be_reexecuted": false,
        "execution_millis": 401,
        "execution_start": 1636621180385,
        "id": "b0FEHRxRVNLi",
        "outputId": "c35d301c-6546-40c7-aaf9-0d0c51a17aba",
        "source_hash": "eafaeb76"
      },
      "outputs": [
        {
          "data": {
            "text/html": [
              "<div>\n",
              "<style scoped>\n",
              "    .dataframe tbody tr th:only-of-type {\n",
              "        vertical-align: middle;\n",
              "    }\n",
              "\n",
              "    .dataframe tbody tr th {\n",
              "        vertical-align: top;\n",
              "    }\n",
              "\n",
              "    .dataframe thead th {\n",
              "        text-align: right;\n",
              "    }\n",
              "</style>\n",
              "<table border=\"1\" class=\"dataframe\">\n",
              "  <thead>\n",
              "    <tr style=\"text-align: right;\">\n",
              "      <th></th>\n",
              "      <th>survived</th>\n",
              "      <th>pclass</th>\n",
              "      <th>sex</th>\n",
              "      <th>age</th>\n",
              "      <th>sibsp</th>\n",
              "      <th>parch</th>\n",
              "      <th>fare</th>\n",
              "      <th>embarked</th>\n",
              "      <th>class</th>\n",
              "      <th>who</th>\n",
              "      <th>adult_male</th>\n",
              "      <th>deck</th>\n",
              "      <th>embark_town</th>\n",
              "      <th>alive</th>\n",
              "      <th>alone</th>\n",
              "    </tr>\n",
              "  </thead>\n",
              "  <tbody>\n",
              "    <tr>\n",
              "      <th>0</th>\n",
              "      <td>0</td>\n",
              "      <td>3</td>\n",
              "      <td>male</td>\n",
              "      <td>22.0</td>\n",
              "      <td>1</td>\n",
              "      <td>0</td>\n",
              "      <td>7.2500</td>\n",
              "      <td>S</td>\n",
              "      <td>Third</td>\n",
              "      <td>man</td>\n",
              "      <td>True</td>\n",
              "      <td>NaN</td>\n",
              "      <td>Southampton</td>\n",
              "      <td>no</td>\n",
              "      <td>False</td>\n",
              "    </tr>\n",
              "    <tr>\n",
              "      <th>1</th>\n",
              "      <td>1</td>\n",
              "      <td>1</td>\n",
              "      <td>female</td>\n",
              "      <td>38.0</td>\n",
              "      <td>1</td>\n",
              "      <td>0</td>\n",
              "      <td>71.2833</td>\n",
              "      <td>C</td>\n",
              "      <td>First</td>\n",
              "      <td>woman</td>\n",
              "      <td>False</td>\n",
              "      <td>C</td>\n",
              "      <td>Cherbourg</td>\n",
              "      <td>yes</td>\n",
              "      <td>False</td>\n",
              "    </tr>\n",
              "    <tr>\n",
              "      <th>2</th>\n",
              "      <td>1</td>\n",
              "      <td>3</td>\n",
              "      <td>female</td>\n",
              "      <td>26.0</td>\n",
              "      <td>0</td>\n",
              "      <td>0</td>\n",
              "      <td>7.9250</td>\n",
              "      <td>S</td>\n",
              "      <td>Third</td>\n",
              "      <td>woman</td>\n",
              "      <td>False</td>\n",
              "      <td>NaN</td>\n",
              "      <td>Southampton</td>\n",
              "      <td>yes</td>\n",
              "      <td>True</td>\n",
              "    </tr>\n",
              "    <tr>\n",
              "      <th>3</th>\n",
              "      <td>1</td>\n",
              "      <td>1</td>\n",
              "      <td>female</td>\n",
              "      <td>35.0</td>\n",
              "      <td>1</td>\n",
              "      <td>0</td>\n",
              "      <td>53.1000</td>\n",
              "      <td>S</td>\n",
              "      <td>First</td>\n",
              "      <td>woman</td>\n",
              "      <td>False</td>\n",
              "      <td>C</td>\n",
              "      <td>Southampton</td>\n",
              "      <td>yes</td>\n",
              "      <td>False</td>\n",
              "    </tr>\n",
              "    <tr>\n",
              "      <th>4</th>\n",
              "      <td>0</td>\n",
              "      <td>3</td>\n",
              "      <td>male</td>\n",
              "      <td>35.0</td>\n",
              "      <td>0</td>\n",
              "      <td>0</td>\n",
              "      <td>8.0500</td>\n",
              "      <td>S</td>\n",
              "      <td>Third</td>\n",
              "      <td>man</td>\n",
              "      <td>True</td>\n",
              "      <td>NaN</td>\n",
              "      <td>Southampton</td>\n",
              "      <td>no</td>\n",
              "      <td>True</td>\n",
              "    </tr>\n",
              "  </tbody>\n",
              "</table>\n",
              "</div>"
            ],
            "text/plain": [
              "   survived  pclass     sex   age  sibsp  parch     fare embarked  class  \\\n",
              "0         0       3    male  22.0      1      0   7.2500        S  Third   \n",
              "1         1       1  female  38.0      1      0  71.2833        C  First   \n",
              "2         1       3  female  26.0      0      0   7.9250        S  Third   \n",
              "3         1       1  female  35.0      1      0  53.1000        S  First   \n",
              "4         0       3    male  35.0      0      0   8.0500        S  Third   \n",
              "\n",
              "     who  adult_male deck  embark_town alive  alone  \n",
              "0    man        True  NaN  Southampton    no  False  \n",
              "1  woman       False    C    Cherbourg   yes  False  \n",
              "2  woman       False  NaN  Southampton   yes   True  \n",
              "3  woman       False    C  Southampton   yes  False  \n",
              "4    man        True  NaN  Southampton    no   True  "
            ]
          },
          "execution_count": 2,
          "metadata": {},
          "output_type": "execute_result"
        }
      ],
      "source": [
        "url = 'https://raw.githubusercontent.com/mwaskom/seaborn-data/master/titanic.csv'\n",
        "df = pd.read_csv(url)\n",
        "df.head()"
      ]
    },
    {
      "cell_type": "markdown",
      "metadata": {
        "cell_id": "00008-62d57341-5aaf-4314-b62d-c4e26c8deefe",
        "deepnote_cell_type": "markdown",
        "id": "0ZXsP9evVNLn"
      },
      "source": [
        "**Exercises**: Let's experiment with selecting columns and rows of DataFrames in Pandas using the Titanic dataset:"
      ]
    },
    {
      "cell_type": "markdown",
      "metadata": {},
      "source": [
        "**Example**: Select the 'embarked' column:"
      ]
    },
    {
      "cell_type": "code",
      "execution_count": 3,
      "metadata": {},
      "outputs": [
        {
          "data": {
            "text/plain": [
              "0      S\n",
              "1      C\n",
              "2      S\n",
              "3      S\n",
              "4      S\n",
              "      ..\n",
              "886    S\n",
              "887    S\n",
              "888    S\n",
              "889    C\n",
              "890    Q\n",
              "Name: embarked, Length: 891, dtype: object"
            ]
          },
          "execution_count": 3,
          "metadata": {},
          "output_type": "execute_result"
        }
      ],
      "source": [
        "df['embarked']"
      ]
    },
    {
      "cell_type": "markdown",
      "metadata": {
        "cell_id": "00009-9b9e0945-2053-4436-b8df-6197d2bcca3c",
        "deepnote_cell_type": "markdown",
        "id": "6b520EzfVNLo"
      },
      "source": [
        "Select the \"age\" column"
      ]
    },
    {
      "cell_type": "code",
      "execution_count": 4,
      "metadata": {
        "cell_id": "00010-2db13e02-ed9d-4195-a996-5287cabdb2b6",
        "deepnote_cell_type": "code",
        "id": "G1SfhsBJVNLo",
        "tags": [
          "exercise"
        ]
      },
      "outputs": [
        {
          "data": {
            "text/plain": [
              "0      22.0\n",
              "1      38.0\n",
              "2      26.0\n",
              "3      35.0\n",
              "4      35.0\n",
              "       ... \n",
              "886    27.0\n",
              "887    19.0\n",
              "888     NaN\n",
              "889    26.0\n",
              "890    32.0\n",
              "Name: age, Length: 891, dtype: float64"
            ]
          },
          "execution_count": 4,
          "metadata": {},
          "output_type": "execute_result"
        }
      ],
      "source": [
        "df['age']"
      ]
    },
    {
      "cell_type": "markdown",
      "metadata": {
        "cell_id": "00011-264d660f-acbf-4c73-a5dd-5925caaef1c6",
        "deepnote_cell_type": "markdown",
        "id": "QoIF6vHBVNLp"
      },
      "source": [
        "Get rows 10-16"
      ]
    },
    {
      "cell_type": "code",
      "execution_count": 6,
      "metadata": {
        "cell_id": "00012-c459fdfd-22df-4aca-9ffd-fa2dca197043",
        "deepnote_cell_type": "code",
        "id": "ALCI1zlFVNLp",
        "tags": [
          "exercise"
        ]
      },
      "outputs": [
        {
          "data": {
            "text/html": [
              "<div>\n",
              "<style scoped>\n",
              "    .dataframe tbody tr th:only-of-type {\n",
              "        vertical-align: middle;\n",
              "    }\n",
              "\n",
              "    .dataframe tbody tr th {\n",
              "        vertical-align: top;\n",
              "    }\n",
              "\n",
              "    .dataframe thead th {\n",
              "        text-align: right;\n",
              "    }\n",
              "</style>\n",
              "<table border=\"1\" class=\"dataframe\">\n",
              "  <thead>\n",
              "    <tr style=\"text-align: right;\">\n",
              "      <th></th>\n",
              "      <th>survived</th>\n",
              "      <th>pclass</th>\n",
              "      <th>sex</th>\n",
              "      <th>age</th>\n",
              "      <th>sibsp</th>\n",
              "      <th>parch</th>\n",
              "      <th>fare</th>\n",
              "      <th>embarked</th>\n",
              "      <th>class</th>\n",
              "      <th>who</th>\n",
              "      <th>adult_male</th>\n",
              "      <th>deck</th>\n",
              "      <th>embark_town</th>\n",
              "      <th>alive</th>\n",
              "      <th>alone</th>\n",
              "    </tr>\n",
              "  </thead>\n",
              "  <tbody>\n",
              "    <tr>\n",
              "      <th>10</th>\n",
              "      <td>1</td>\n",
              "      <td>3</td>\n",
              "      <td>female</td>\n",
              "      <td>4.0</td>\n",
              "      <td>1</td>\n",
              "      <td>1</td>\n",
              "      <td>16.7000</td>\n",
              "      <td>S</td>\n",
              "      <td>Third</td>\n",
              "      <td>child</td>\n",
              "      <td>False</td>\n",
              "      <td>G</td>\n",
              "      <td>Southampton</td>\n",
              "      <td>yes</td>\n",
              "      <td>False</td>\n",
              "    </tr>\n",
              "    <tr>\n",
              "      <th>11</th>\n",
              "      <td>1</td>\n",
              "      <td>1</td>\n",
              "      <td>female</td>\n",
              "      <td>58.0</td>\n",
              "      <td>0</td>\n",
              "      <td>0</td>\n",
              "      <td>26.5500</td>\n",
              "      <td>S</td>\n",
              "      <td>First</td>\n",
              "      <td>woman</td>\n",
              "      <td>False</td>\n",
              "      <td>C</td>\n",
              "      <td>Southampton</td>\n",
              "      <td>yes</td>\n",
              "      <td>True</td>\n",
              "    </tr>\n",
              "    <tr>\n",
              "      <th>12</th>\n",
              "      <td>0</td>\n",
              "      <td>3</td>\n",
              "      <td>male</td>\n",
              "      <td>20.0</td>\n",
              "      <td>0</td>\n",
              "      <td>0</td>\n",
              "      <td>8.0500</td>\n",
              "      <td>S</td>\n",
              "      <td>Third</td>\n",
              "      <td>man</td>\n",
              "      <td>True</td>\n",
              "      <td>NaN</td>\n",
              "      <td>Southampton</td>\n",
              "      <td>no</td>\n",
              "      <td>True</td>\n",
              "    </tr>\n",
              "    <tr>\n",
              "      <th>13</th>\n",
              "      <td>0</td>\n",
              "      <td>3</td>\n",
              "      <td>male</td>\n",
              "      <td>39.0</td>\n",
              "      <td>1</td>\n",
              "      <td>5</td>\n",
              "      <td>31.2750</td>\n",
              "      <td>S</td>\n",
              "      <td>Third</td>\n",
              "      <td>man</td>\n",
              "      <td>True</td>\n",
              "      <td>NaN</td>\n",
              "      <td>Southampton</td>\n",
              "      <td>no</td>\n",
              "      <td>False</td>\n",
              "    </tr>\n",
              "    <tr>\n",
              "      <th>14</th>\n",
              "      <td>0</td>\n",
              "      <td>3</td>\n",
              "      <td>female</td>\n",
              "      <td>14.0</td>\n",
              "      <td>0</td>\n",
              "      <td>0</td>\n",
              "      <td>7.8542</td>\n",
              "      <td>S</td>\n",
              "      <td>Third</td>\n",
              "      <td>child</td>\n",
              "      <td>False</td>\n",
              "      <td>NaN</td>\n",
              "      <td>Southampton</td>\n",
              "      <td>no</td>\n",
              "      <td>True</td>\n",
              "    </tr>\n",
              "    <tr>\n",
              "      <th>15</th>\n",
              "      <td>1</td>\n",
              "      <td>2</td>\n",
              "      <td>female</td>\n",
              "      <td>55.0</td>\n",
              "      <td>0</td>\n",
              "      <td>0</td>\n",
              "      <td>16.0000</td>\n",
              "      <td>S</td>\n",
              "      <td>Second</td>\n",
              "      <td>woman</td>\n",
              "      <td>False</td>\n",
              "      <td>NaN</td>\n",
              "      <td>Southampton</td>\n",
              "      <td>yes</td>\n",
              "      <td>True</td>\n",
              "    </tr>\n",
              "    <tr>\n",
              "      <th>16</th>\n",
              "      <td>0</td>\n",
              "      <td>3</td>\n",
              "      <td>male</td>\n",
              "      <td>2.0</td>\n",
              "      <td>4</td>\n",
              "      <td>1</td>\n",
              "      <td>29.1250</td>\n",
              "      <td>Q</td>\n",
              "      <td>Third</td>\n",
              "      <td>child</td>\n",
              "      <td>False</td>\n",
              "      <td>NaN</td>\n",
              "      <td>Queenstown</td>\n",
              "      <td>no</td>\n",
              "      <td>False</td>\n",
              "    </tr>\n",
              "  </tbody>\n",
              "</table>\n",
              "</div>"
            ],
            "text/plain": [
              "    survived  pclass     sex   age  sibsp  parch     fare embarked   class  \\\n",
              "10         1       3  female   4.0      1      1  16.7000        S   Third   \n",
              "11         1       1  female  58.0      0      0  26.5500        S   First   \n",
              "12         0       3    male  20.0      0      0   8.0500        S   Third   \n",
              "13         0       3    male  39.0      1      5  31.2750        S   Third   \n",
              "14         0       3  female  14.0      0      0   7.8542        S   Third   \n",
              "15         1       2  female  55.0      0      0  16.0000        S  Second   \n",
              "16         0       3    male   2.0      4      1  29.1250        Q   Third   \n",
              "\n",
              "      who  adult_male deck  embark_town alive  alone  \n",
              "10  child       False    G  Southampton   yes  False  \n",
              "11  woman       False    C  Southampton   yes   True  \n",
              "12    man        True  NaN  Southampton    no   True  \n",
              "13    man        True  NaN  Southampton    no  False  \n",
              "14  child       False  NaN  Southampton    no   True  \n",
              "15  woman       False  NaN  Southampton   yes   True  \n",
              "16  child       False  NaN   Queenstown    no  False  "
            ]
          },
          "execution_count": 6,
          "metadata": {},
          "output_type": "execute_result"
        }
      ],
      "source": [
        "df[10:17]"
      ]
    },
    {
      "cell_type": "markdown",
      "metadata": {
        "cell_id": "00013-a5ab2322-13c5-4780-9c0d-fa4c4acc687e",
        "deepnote_cell_type": "markdown",
        "id": "jeTNNGFNVNLp"
      },
      "source": [
        "Select the first 5 rows of the \"sex\" column"
      ]
    },
    {
      "cell_type": "code",
      "execution_count": 8,
      "metadata": {
        "cell_id": "00014-f41d4c28-a4fe-4067-af68-05097fb25cdf",
        "deepnote_cell_type": "code",
        "id": "wqakB5mYVNLq",
        "tags": [
          "exercise"
        ]
      },
      "outputs": [
        {
          "data": {
            "text/plain": [
              "0      male\n",
              "1    female\n",
              "2    female\n",
              "3    female\n",
              "4      male\n",
              "Name: sex, dtype: object"
            ]
          },
          "execution_count": 8,
          "metadata": {},
          "output_type": "execute_result"
        }
      ],
      "source": [
        "df.sex[:5]"
      ]
    },
    {
      "cell_type": "markdown",
      "metadata": {
        "cell_id": "00015-be269f21-dcd1-4d09-8dc3-46a53047e7d9",
        "deepnote_cell_type": "markdown",
        "id": "zBJrv5HAVNLq"
      },
      "source": [
        "Select the \"fare\" column"
      ]
    },
    {
      "cell_type": "code",
      "execution_count": 9,
      "metadata": {
        "cell_id": "00016-237bef14-0084-4630-b535-bdfc41496457",
        "deepnote_cell_type": "code",
        "id": "mFHxf41ZVNLq",
        "tags": [
          "exercise"
        ]
      },
      "outputs": [
        {
          "data": {
            "text/plain": [
              "0       7.2500\n",
              "1      71.2833\n",
              "2       7.9250\n",
              "3      53.1000\n",
              "4       8.0500\n",
              "        ...   \n",
              "886    13.0000\n",
              "887    30.0000\n",
              "888    23.4500\n",
              "889    30.0000\n",
              "890     7.7500\n",
              "Name: fare, Length: 891, dtype: float64"
            ]
          },
          "execution_count": 9,
          "metadata": {},
          "output_type": "execute_result"
        }
      ],
      "source": [
        "df.fare"
      ]
    },
    {
      "cell_type": "markdown",
      "metadata": {
        "cell_id": "00019-e29c760c-1345-440b-867a-1ef92249e028",
        "deepnote_cell_type": "markdown",
        "id": "60O1o5_XVNLr"
      },
      "source": [
        "Select the \"survived\" and \"age\" columns:"
      ]
    },
    {
      "cell_type": "code",
      "execution_count": 10,
      "metadata": {
        "cell_id": "00020-2e5d6436-5272-463d-80fc-e2807bdebf0e",
        "deepnote_cell_type": "code",
        "id": "gwj0xZG3VNLr",
        "tags": [
          "exercise"
        ]
      },
      "outputs": [
        {
          "data": {
            "text/html": [
              "<div>\n",
              "<style scoped>\n",
              "    .dataframe tbody tr th:only-of-type {\n",
              "        vertical-align: middle;\n",
              "    }\n",
              "\n",
              "    .dataframe tbody tr th {\n",
              "        vertical-align: top;\n",
              "    }\n",
              "\n",
              "    .dataframe thead th {\n",
              "        text-align: right;\n",
              "    }\n",
              "</style>\n",
              "<table border=\"1\" class=\"dataframe\">\n",
              "  <thead>\n",
              "    <tr style=\"text-align: right;\">\n",
              "      <th></th>\n",
              "      <th>survived</th>\n",
              "      <th>age</th>\n",
              "    </tr>\n",
              "  </thead>\n",
              "  <tbody>\n",
              "    <tr>\n",
              "      <th>0</th>\n",
              "      <td>0</td>\n",
              "      <td>22.0</td>\n",
              "    </tr>\n",
              "    <tr>\n",
              "      <th>1</th>\n",
              "      <td>1</td>\n",
              "      <td>38.0</td>\n",
              "    </tr>\n",
              "    <tr>\n",
              "      <th>2</th>\n",
              "      <td>1</td>\n",
              "      <td>26.0</td>\n",
              "    </tr>\n",
              "    <tr>\n",
              "      <th>3</th>\n",
              "      <td>1</td>\n",
              "      <td>35.0</td>\n",
              "    </tr>\n",
              "    <tr>\n",
              "      <th>4</th>\n",
              "      <td>0</td>\n",
              "      <td>35.0</td>\n",
              "    </tr>\n",
              "    <tr>\n",
              "      <th>...</th>\n",
              "      <td>...</td>\n",
              "      <td>...</td>\n",
              "    </tr>\n",
              "    <tr>\n",
              "      <th>886</th>\n",
              "      <td>0</td>\n",
              "      <td>27.0</td>\n",
              "    </tr>\n",
              "    <tr>\n",
              "      <th>887</th>\n",
              "      <td>1</td>\n",
              "      <td>19.0</td>\n",
              "    </tr>\n",
              "    <tr>\n",
              "      <th>888</th>\n",
              "      <td>0</td>\n",
              "      <td>NaN</td>\n",
              "    </tr>\n",
              "    <tr>\n",
              "      <th>889</th>\n",
              "      <td>1</td>\n",
              "      <td>26.0</td>\n",
              "    </tr>\n",
              "    <tr>\n",
              "      <th>890</th>\n",
              "      <td>0</td>\n",
              "      <td>32.0</td>\n",
              "    </tr>\n",
              "  </tbody>\n",
              "</table>\n",
              "<p>891 rows \u00d7 2 columns</p>\n",
              "</div>"
            ],
            "text/plain": [
              "     survived   age\n",
              "0           0  22.0\n",
              "1           1  38.0\n",
              "2           1  26.0\n",
              "3           1  35.0\n",
              "4           0  35.0\n",
              "..        ...   ...\n",
              "886         0  27.0\n",
              "887         1  19.0\n",
              "888         0   NaN\n",
              "889         1  26.0\n",
              "890         0  32.0\n",
              "\n",
              "[891 rows x 2 columns]"
            ]
          },
          "execution_count": 10,
          "metadata": {},
          "output_type": "execute_result"
        }
      ],
      "source": [
        "df[['survived', 'age']]"
      ]
    },
    {
      "cell_type": "markdown",
      "metadata": {
        "cell_id": "00021-72827c90-977d-4bf1-9366-168d7abe25e1",
        "deepnote_cell_type": "markdown",
        "id": "NEZqY4WGVNLr"
      },
      "source": [
        "Select the last 3 rows of the \"alive\" column"
      ]
    },
    {
      "cell_type": "code",
      "execution_count": 11,
      "metadata": {
        "cell_id": "00022-2ece1b6c-176c-40d3-92db-f7ee806d6017",
        "deepnote_cell_type": "code",
        "id": "jWeteI0MVNLr",
        "tags": [
          "exercise"
        ]
      },
      "outputs": [
        {
          "data": {
            "text/plain": [
              "888     no\n",
              "889    yes\n",
              "890     no\n",
              "Name: alive, dtype: object"
            ]
          },
          "execution_count": 11,
          "metadata": {},
          "output_type": "execute_result"
        }
      ],
      "source": [
        "df[-3:]['alive']"
      ]
    },
    {
      "cell_type": "markdown",
      "metadata": {
        "cell_id": "00023-212fd4fe-8f23-459e-a184-8f3db0c96ec4",
        "deepnote_cell_type": "markdown",
        "id": "jVBhLEjOVNLs"
      },
      "source": [
        "Select rows 5-10 of the \"class\" column"
      ]
    },
    {
      "cell_type": "code",
      "execution_count": 13,
      "metadata": {
        "cell_id": "00024-eeb73b41-35f5-48ae-91bb-a048ac949913",
        "deepnote_cell_type": "code",
        "id": "nzInh-krVNLs",
        "tags": [
          "exercise"
        ]
      },
      "outputs": [
        {
          "data": {
            "text/plain": [
              "5      Third\n",
              "6      First\n",
              "7      Third\n",
              "8      Third\n",
              "9     Second\n",
              "10     Third\n",
              "Name: class, dtype: object"
            ]
          },
          "execution_count": 13,
          "metadata": {},
          "output_type": "execute_result"
        }
      ],
      "source": [
        "df['class'].loc[5:10]"
      ]
    },
    {
      "cell_type": "markdown",
      "metadata": {
        "cell_id": "00025-ada6585e-1395-4fb4-b904-6274bee060ae",
        "deepnote_cell_type": "markdown",
        "id": "dHlYw6ZWVNLs"
      },
      "source": [
        "## Summarizing / Aggregating Data in DataFrames\n",
        "\n",
        "Pandas also supplies many different aggregation functions as methods:\n",
        "\n",
        "```python\n",
        "df.mean()\n",
        "df['Column'].mean()\n",
        "```\n",
        "\n",
        "**Examples**:  mean, median, max, min, count, value_counts, unique"
      ]
    },
    {
      "cell_type": "markdown",
      "metadata": {
        "cell_id": "00026-23056ade-0371-4506-ab3c-a60bd0e42c65",
        "deepnote_cell_type": "markdown",
        "id": "o1iO7lzuVNLs"
      },
      "source": [
        "**Exercises**"
      ]
    },
    {
      "cell_type": "markdown",
      "metadata": {
        "cell_id": "00027-de4a0caf-9470-4c2d-a276-dde01afb97a3",
        "deepnote_cell_type": "markdown",
        "id": "0VBQev7hVNLs"
      },
      "source": [
        "**Example**: What is the mean ticket fare that the passengers paid on the titanic?"
      ]
    },
    {
      "cell_type": "code",
      "execution_count": 14,
      "metadata": {
        "cell_id": "00028-e6d026fa-5079-40e8-95d6-bbd5a4d6f840",
        "deepnote_cell_type": "code",
        "id": "unagaEqUVNLs",
        "tags": []
      },
      "outputs": [
        {
          "data": {
            "text/plain": [
              "32.204207968574636"
            ]
          },
          "execution_count": 14,
          "metadata": {},
          "output_type": "execute_result"
        }
      ],
      "source": [
        "df.fare.mean()"
      ]
    },
    {
      "cell_type": "markdown",
      "metadata": {
        "cell_id": "00029-d7457913-c6e6-42e5-8188-93e85ee9983a",
        "deepnote_cell_type": "markdown",
        "id": "vTI8ITsjVNLs"
      },
      "source": [
        "What is the median ticket fare that the passengers paid on the titanic? "
      ]
    },
    {
      "cell_type": "code",
      "execution_count": 15,
      "metadata": {
        "cell_id": "00030-d05542e0-68d7-48eb-b190-d5ac86071709",
        "deepnote_cell_type": "code",
        "id": "ZnXNgY7mVNLt",
        "tags": [
          "exercise"
        ]
      },
      "outputs": [
        {
          "data": {
            "text/plain": [
              "14.4542"
            ]
          },
          "execution_count": 15,
          "metadata": {},
          "output_type": "execute_result"
        }
      ],
      "source": [
        "df.fare.median()"
      ]
    },
    {
      "cell_type": "markdown",
      "metadata": {},
      "source": [
        "How old was the oldest person on the titanic?"
      ]
    },
    {
      "cell_type": "code",
      "execution_count": 18,
      "metadata": {
        "tags": [
          "exercise"
        ]
      },
      "outputs": [
        {
          "data": {
            "text/plain": [
              "80.0"
            ]
          },
          "execution_count": 18,
          "metadata": {},
          "output_type": "execute_result"
        }
      ],
      "source": [
        "df.age.max()"
      ]
    },
    {
      "cell_type": "markdown",
      "metadata": {},
      "source": [
        "What was the lowest fare paid on the titanic?"
      ]
    },
    {
      "cell_type": "code",
      "execution_count": 20,
      "metadata": {
        "tags": [
          "exercise"
        ]
      },
      "outputs": [
        {
          "data": {
            "text/plain": [
              "0.0"
            ]
          },
          "execution_count": 20,
          "metadata": {},
          "output_type": "execute_result"
        }
      ],
      "source": [
        "df.fare.min()"
      ]
    },
    {
      "cell_type": "markdown",
      "metadata": {
        "cell_id": "00035-d242263c-f975-4de8-8e9f-98864aad3991",
        "deepnote_cell_type": "markdown",
        "id": "ClFIf2d1VNLt"
      },
      "source": [
        "What proportion of the passengers were alone on the titanic? (Hint: df.mean())"
      ]
    },
    {
      "cell_type": "code",
      "execution_count": 23,
      "metadata": {
        "tags": [
          "exercise"
        ]
      },
      "outputs": [
        {
          "data": {
            "text/plain": [
              "0.6026936026936027"
            ]
          },
          "execution_count": 23,
          "metadata": {},
          "output_type": "execute_result"
        }
      ],
      "source": [
        "df.alone.mean()"
      ]
    },
    {
      "cell_type": "markdown",
      "metadata": {
        "cell_id": "00037-3344c69a-137d-4770-980d-8b21ca2ed744",
        "deepnote_cell_type": "markdown",
        "id": "N31AcQmZVNLt"
      },
      "source": [
        "What were the different (e.g. *unique*) classes on the titanic?"
      ]
    },
    {
      "cell_type": "code",
      "execution_count": 25,
      "metadata": {
        "cell_id": "00038-b876fbc7-583d-4767-aec2-cbd1bb18e770",
        "deepnote_cell_type": "code",
        "id": "HwY9KWMBVNLu",
        "tags": [
          "exercise"
        ]
      },
      "outputs": [
        {
          "data": {
            "text/plain": [
              "array(['Third', 'First', 'Second'], dtype=object)"
            ]
          },
          "execution_count": 25,
          "metadata": {},
          "output_type": "execute_result"
        }
      ],
      "source": [
        "df['class'].unique()"
      ]
    },
    {
      "cell_type": "markdown",
      "metadata": {
        "cell_id": "00039-bdcdc2c1-2094-4662-a667-da4426789afc",
        "deepnote_cell_type": "markdown",
        "id": "uiqQbVwKVNLu"
      },
      "source": [
        "How many men and women are in the dataset? (hint: df.value_counts())"
      ]
    },
    {
      "cell_type": "code",
      "execution_count": 26,
      "metadata": {
        "cell_id": "00040-ee846c18-a077-4241-a3ad-fa2c9628e7a6",
        "deepnote_cell_type": "code",
        "id": "6lmvbvSJVNLu",
        "tags": [
          "exercise"
        ]
      },
      "outputs": [
        {
          "data": {
            "text/plain": [
              "male      577\n",
              "female    314\n",
              "Name: sex, dtype: int64"
            ]
          },
          "execution_count": 26,
          "metadata": {},
          "output_type": "execute_result"
        }
      ],
      "source": [
        "df.sex.value_counts()"
      ]
    },
    {
      "cell_type": "markdown",
      "metadata": {
        "cell_id": "00041-9428d0f5-e1a7-499c-9507-d57027aa934d",
        "deepnote_cell_type": "markdown",
        "id": "wHsrJEvGVNLu"
      },
      "source": [
        "How many passengers are sitting in each class?"
      ]
    },
    {
      "cell_type": "code",
      "execution_count": 27,
      "metadata": {
        "cell_id": "00042-e5b963a3-dc64-456e-9d6d-2133d6ff4986",
        "deepnote_cell_type": "code",
        "id": "0rR9HN0fVNLu",
        "tags": [
          "exercise"
        ]
      },
      "outputs": [
        {
          "data": {
            "text/plain": [
              "Third     491\n",
              "First     216\n",
              "Second    184\n",
              "Name: class, dtype: int64"
            ]
          },
          "execution_count": 27,
          "metadata": {},
          "output_type": "execute_result"
        }
      ],
      "source": [
        "df['class'].value_counts()"
      ]
    },
    {
      "cell_type": "markdown",
      "metadata": {
        "cell_id": "00043-5be3dcb9-4ab7-4072-b23d-7817b40ea1f0",
        "deepnote_cell_type": "markdown",
        "id": "L9LHdQC6VNLx"
      },
      "source": [
        "How many passengers of each sex are sitting in each class? (hint: value_counts() on multiple columns)"
      ]
    },
    {
      "cell_type": "code",
      "execution_count": 30,
      "metadata": {
        "tags": [
          "exercise"
        ]
      },
      "outputs": [
        {
          "data": {
            "text/plain": [
              "sex     class \n",
              "male    Third     347\n",
              "female  Third     144\n",
              "male    First     122\n",
              "        Second    108\n",
              "female  First      94\n",
              "        Second     76\n",
              "dtype: int64"
            ]
          },
          "execution_count": 30,
          "metadata": {},
          "output_type": "execute_result"
        }
      ],
      "source": [
        "df[['sex', 'class']].value_counts()"
      ]
    },
    {
      "cell_type": "markdown",
      "metadata": {
        "cell_id": "00045-4ebe62a2-a091-413d-a71b-aa4e57fa8d30",
        "deepnote_cell_type": "markdown",
        "id": "dGEymFo-VNLy"
      },
      "source": [
        "## Transforming Data: Broadcasting Element-Wise Operations\n",
        "\n",
        "Any transformation function can be performed on each element of a column, or even all columns of a DataFrame.  Here are several options for this approach:\n",
        "\n",
        "Numpy-like Operator syntax with Broadcasting:\n",
        "```python\n",
        "df['Column1'] * 100\n",
        "```\n",
        "\n",
        "Functions-style syntax:\n",
        "```python\n",
        "np.sqrt(df['Column1'])\n",
        "```\n",
        "\n",
        "Special broadcasted-version of different classes' Methods:\n",
        "```python\n",
        "df['Column1'].str.upper()\n",
        "```\n"
      ]
    },
    {
      "cell_type": "markdown",
      "metadata": {
        "cell_id": "00046-aaf19b4d-600c-4662-bcd7-a23b0a29b6c3",
        "deepnote_cell_type": "markdown",
        "id": "crs8LwRGVNLy"
      },
      "source": [
        "****Exercises****: Let's try some of these on the titanic data:"
      ]
    },
    {
      "cell_type": "markdown",
      "metadata": {
        "cell_id": "00048-f3ce37d2-9a99-42b8-b70b-05e348abd0a0",
        "deepnote_cell_type": "markdown",
        "tags": []
      },
      "source": [
        "**Example**: Make a new column called \"OnTitanic\", with all of the values set to True"
      ]
    },
    {
      "cell_type": "code",
      "execution_count": 36,
      "metadata": {
        "cell_id": "00049-7c703c41-1c01-4761-ae7c-734cd6d9b675",
        "deepnote_cell_type": "code",
        "tags": []
      },
      "outputs": [
        {
          "data": {
            "text/html": [
              "<div>\n",
              "<style scoped>\n",
              "    .dataframe tbody tr th:only-of-type {\n",
              "        vertical-align: middle;\n",
              "    }\n",
              "\n",
              "    .dataframe tbody tr th {\n",
              "        vertical-align: top;\n",
              "    }\n",
              "\n",
              "    .dataframe thead th {\n",
              "        text-align: right;\n",
              "    }\n",
              "</style>\n",
              "<table border=\"1\" class=\"dataframe\">\n",
              "  <thead>\n",
              "    <tr style=\"text-align: right;\">\n",
              "      <th></th>\n",
              "      <th>survived</th>\n",
              "      <th>pclass</th>\n",
              "      <th>sex</th>\n",
              "      <th>age</th>\n",
              "      <th>sibsp</th>\n",
              "      <th>parch</th>\n",
              "      <th>fare</th>\n",
              "      <th>embarked</th>\n",
              "      <th>class</th>\n",
              "      <th>who</th>\n",
              "      <th>adult_male</th>\n",
              "      <th>deck</th>\n",
              "      <th>embark_town</th>\n",
              "      <th>alive</th>\n",
              "      <th>alone</th>\n",
              "      <th>OnTitanic</th>\n",
              "    </tr>\n",
              "  </thead>\n",
              "  <tbody>\n",
              "    <tr>\n",
              "      <th>0</th>\n",
              "      <td>0</td>\n",
              "      <td>3</td>\n",
              "      <td>male</td>\n",
              "      <td>22.0</td>\n",
              "      <td>1</td>\n",
              "      <td>0</td>\n",
              "      <td>7.2500</td>\n",
              "      <td>S</td>\n",
              "      <td>Third</td>\n",
              "      <td>man</td>\n",
              "      <td>True</td>\n",
              "      <td>NaN</td>\n",
              "      <td>Southampton</td>\n",
              "      <td>no</td>\n",
              "      <td>False</td>\n",
              "      <td>True</td>\n",
              "    </tr>\n",
              "    <tr>\n",
              "      <th>1</th>\n",
              "      <td>1</td>\n",
              "      <td>1</td>\n",
              "      <td>female</td>\n",
              "      <td>38.0</td>\n",
              "      <td>1</td>\n",
              "      <td>0</td>\n",
              "      <td>71.2833</td>\n",
              "      <td>C</td>\n",
              "      <td>First</td>\n",
              "      <td>woman</td>\n",
              "      <td>False</td>\n",
              "      <td>C</td>\n",
              "      <td>Cherbourg</td>\n",
              "      <td>yes</td>\n",
              "      <td>False</td>\n",
              "      <td>True</td>\n",
              "    </tr>\n",
              "    <tr>\n",
              "      <th>2</th>\n",
              "      <td>1</td>\n",
              "      <td>3</td>\n",
              "      <td>female</td>\n",
              "      <td>26.0</td>\n",
              "      <td>0</td>\n",
              "      <td>0</td>\n",
              "      <td>7.9250</td>\n",
              "      <td>S</td>\n",
              "      <td>Third</td>\n",
              "      <td>woman</td>\n",
              "      <td>False</td>\n",
              "      <td>NaN</td>\n",
              "      <td>Southampton</td>\n",
              "      <td>yes</td>\n",
              "      <td>True</td>\n",
              "      <td>True</td>\n",
              "    </tr>\n",
              "  </tbody>\n",
              "</table>\n",
              "</div>"
            ],
            "text/plain": [
              "   survived  pclass     sex   age  sibsp  parch     fare embarked  class  \\\n",
              "0         0       3    male  22.0      1      0   7.2500        S  Third   \n",
              "1         1       1  female  38.0      1      0  71.2833        C  First   \n",
              "2         1       3  female  26.0      0      0   7.9250        S  Third   \n",
              "\n",
              "     who  adult_male deck  embark_town alive  alone  OnTitanic  \n",
              "0    man        True  NaN  Southampton    no  False       True  \n",
              "1  woman       False    C    Cherbourg   yes  False       True  \n",
              "2  woman       False  NaN  Southampton   yes   True       True  "
            ]
          },
          "execution_count": 36,
          "metadata": {},
          "output_type": "execute_result"
        }
      ],
      "source": [
        "df['OnTitanic'] = True\n",
        "df[:3]"
      ]
    },
    {
      "cell_type": "markdown",
      "metadata": {
        "cell_id": "00048-f5c942f7-1c73-4e07-88a1-68a2c5c7907c",
        "deepnote_cell_type": "markdown",
        "id": "VZ_B7wqjVNLy"
      },
      "source": [
        "Make a new column called \"isAdult\", with True values if they were 18 or older and False if not."
      ]
    },
    {
      "cell_type": "code",
      "execution_count": 37,
      "metadata": {
        "cell_id": "00049-07e082b9-a4d8-441b-b64e-95ebd6e4b153",
        "deepnote_cell_type": "code",
        "id": "qXBtIKy6VNLz",
        "tags": [
          "exercise"
        ]
      },
      "outputs": [
        {
          "data": {
            "text/html": [
              "<div>\n",
              "<style scoped>\n",
              "    .dataframe tbody tr th:only-of-type {\n",
              "        vertical-align: middle;\n",
              "    }\n",
              "\n",
              "    .dataframe tbody tr th {\n",
              "        vertical-align: top;\n",
              "    }\n",
              "\n",
              "    .dataframe thead th {\n",
              "        text-align: right;\n",
              "    }\n",
              "</style>\n",
              "<table border=\"1\" class=\"dataframe\">\n",
              "  <thead>\n",
              "    <tr style=\"text-align: right;\">\n",
              "      <th></th>\n",
              "      <th>survived</th>\n",
              "      <th>pclass</th>\n",
              "      <th>sex</th>\n",
              "      <th>age</th>\n",
              "      <th>sibsp</th>\n",
              "      <th>parch</th>\n",
              "      <th>fare</th>\n",
              "      <th>embarked</th>\n",
              "      <th>class</th>\n",
              "      <th>who</th>\n",
              "      <th>adult_male</th>\n",
              "      <th>deck</th>\n",
              "      <th>embark_town</th>\n",
              "      <th>alive</th>\n",
              "      <th>alone</th>\n",
              "      <th>OnTitanic</th>\n",
              "      <th>isAdult</th>\n",
              "    </tr>\n",
              "  </thead>\n",
              "  <tbody>\n",
              "    <tr>\n",
              "      <th>0</th>\n",
              "      <td>0</td>\n",
              "      <td>3</td>\n",
              "      <td>male</td>\n",
              "      <td>22.0</td>\n",
              "      <td>1</td>\n",
              "      <td>0</td>\n",
              "      <td>7.2500</td>\n",
              "      <td>S</td>\n",
              "      <td>Third</td>\n",
              "      <td>man</td>\n",
              "      <td>True</td>\n",
              "      <td>NaN</td>\n",
              "      <td>Southampton</td>\n",
              "      <td>no</td>\n",
              "      <td>False</td>\n",
              "      <td>True</td>\n",
              "      <td>True</td>\n",
              "    </tr>\n",
              "    <tr>\n",
              "      <th>1</th>\n",
              "      <td>1</td>\n",
              "      <td>1</td>\n",
              "      <td>female</td>\n",
              "      <td>38.0</td>\n",
              "      <td>1</td>\n",
              "      <td>0</td>\n",
              "      <td>71.2833</td>\n",
              "      <td>C</td>\n",
              "      <td>First</td>\n",
              "      <td>woman</td>\n",
              "      <td>False</td>\n",
              "      <td>C</td>\n",
              "      <td>Cherbourg</td>\n",
              "      <td>yes</td>\n",
              "      <td>False</td>\n",
              "      <td>True</td>\n",
              "      <td>True</td>\n",
              "    </tr>\n",
              "    <tr>\n",
              "      <th>2</th>\n",
              "      <td>1</td>\n",
              "      <td>3</td>\n",
              "      <td>female</td>\n",
              "      <td>26.0</td>\n",
              "      <td>0</td>\n",
              "      <td>0</td>\n",
              "      <td>7.9250</td>\n",
              "      <td>S</td>\n",
              "      <td>Third</td>\n",
              "      <td>woman</td>\n",
              "      <td>False</td>\n",
              "      <td>NaN</td>\n",
              "      <td>Southampton</td>\n",
              "      <td>yes</td>\n",
              "      <td>True</td>\n",
              "      <td>True</td>\n",
              "      <td>True</td>\n",
              "    </tr>\n",
              "  </tbody>\n",
              "</table>\n",
              "</div>"
            ],
            "text/plain": [
              "   survived  pclass     sex   age  sibsp  parch     fare embarked  class  \\\n",
              "0         0       3    male  22.0      1      0   7.2500        S  Third   \n",
              "1         1       1  female  38.0      1      0  71.2833        C  First   \n",
              "2         1       3  female  26.0      0      0   7.9250        S  Third   \n",
              "\n",
              "     who  adult_male deck  embark_town alive  alone  OnTitanic  isAdult  \n",
              "0    man        True  NaN  Southampton    no  False       True     True  \n",
              "1  woman       False    C    Cherbourg   yes  False       True     True  \n",
              "2  woman       False  NaN  Southampton   yes   True       True     True  "
            ]
          },
          "execution_count": 37,
          "metadata": {},
          "output_type": "execute_result"
        }
      ],
      "source": [
        "df['isAdult'] = df['age'] >= 18\n",
        "df[:3]"
      ]
    },
    {
      "cell_type": "markdown",
      "metadata": {
        "cell_id": "00050-9f18383c-0746-4200-9e58-46ae295d4152",
        "deepnote_cell_type": "markdown",
        "id": "Fht6mBybVNLz"
      },
      "source": [
        "Get everyone's age if they were still alive today (hint: Titanic sunk in 1912)\n",
        "\n",
        "If a person was 10 when they were on the titanic, in 2022 they would be 120."
      ]
    },
    {
      "cell_type": "code",
      "execution_count": 38,
      "metadata": {
        "cell_id": "00051-1e0fd7a5-3df1-4249-afc5-c223184a5499",
        "deepnote_cell_type": "code",
        "id": "gpUzRRW7VNLz",
        "tags": [
          "exercise"
        ]
      },
      "outputs": [
        {
          "data": {
            "text/html": [
              "<div>\n",
              "<style scoped>\n",
              "    .dataframe tbody tr th:only-of-type {\n",
              "        vertical-align: middle;\n",
              "    }\n",
              "\n",
              "    .dataframe tbody tr th {\n",
              "        vertical-align: top;\n",
              "    }\n",
              "\n",
              "    .dataframe thead th {\n",
              "        text-align: right;\n",
              "    }\n",
              "</style>\n",
              "<table border=\"1\" class=\"dataframe\">\n",
              "  <thead>\n",
              "    <tr style=\"text-align: right;\">\n",
              "      <th></th>\n",
              "      <th>survived</th>\n",
              "      <th>pclass</th>\n",
              "      <th>sex</th>\n",
              "      <th>age</th>\n",
              "      <th>sibsp</th>\n",
              "      <th>parch</th>\n",
              "      <th>fare</th>\n",
              "      <th>embarked</th>\n",
              "      <th>class</th>\n",
              "      <th>who</th>\n",
              "      <th>adult_male</th>\n",
              "      <th>deck</th>\n",
              "      <th>embark_town</th>\n",
              "      <th>alive</th>\n",
              "      <th>alone</th>\n",
              "      <th>OnTitanic</th>\n",
              "      <th>isAdult</th>\n",
              "      <th>TodaysAge</th>\n",
              "    </tr>\n",
              "  </thead>\n",
              "  <tbody>\n",
              "    <tr>\n",
              "      <th>0</th>\n",
              "      <td>0</td>\n",
              "      <td>3</td>\n",
              "      <td>male</td>\n",
              "      <td>22.0</td>\n",
              "      <td>1</td>\n",
              "      <td>0</td>\n",
              "      <td>7.2500</td>\n",
              "      <td>S</td>\n",
              "      <td>Third</td>\n",
              "      <td>man</td>\n",
              "      <td>True</td>\n",
              "      <td>NaN</td>\n",
              "      <td>Southampton</td>\n",
              "      <td>no</td>\n",
              "      <td>False</td>\n",
              "      <td>True</td>\n",
              "      <td>True</td>\n",
              "      <td>132.0</td>\n",
              "    </tr>\n",
              "    <tr>\n",
              "      <th>1</th>\n",
              "      <td>1</td>\n",
              "      <td>1</td>\n",
              "      <td>female</td>\n",
              "      <td>38.0</td>\n",
              "      <td>1</td>\n",
              "      <td>0</td>\n",
              "      <td>71.2833</td>\n",
              "      <td>C</td>\n",
              "      <td>First</td>\n",
              "      <td>woman</td>\n",
              "      <td>False</td>\n",
              "      <td>C</td>\n",
              "      <td>Cherbourg</td>\n",
              "      <td>yes</td>\n",
              "      <td>False</td>\n",
              "      <td>True</td>\n",
              "      <td>True</td>\n",
              "      <td>148.0</td>\n",
              "    </tr>\n",
              "    <tr>\n",
              "      <th>2</th>\n",
              "      <td>1</td>\n",
              "      <td>3</td>\n",
              "      <td>female</td>\n",
              "      <td>26.0</td>\n",
              "      <td>0</td>\n",
              "      <td>0</td>\n",
              "      <td>7.9250</td>\n",
              "      <td>S</td>\n",
              "      <td>Third</td>\n",
              "      <td>woman</td>\n",
              "      <td>False</td>\n",
              "      <td>NaN</td>\n",
              "      <td>Southampton</td>\n",
              "      <td>yes</td>\n",
              "      <td>True</td>\n",
              "      <td>True</td>\n",
              "      <td>True</td>\n",
              "      <td>136.0</td>\n",
              "    </tr>\n",
              "  </tbody>\n",
              "</table>\n",
              "</div>"
            ],
            "text/plain": [
              "   survived  pclass     sex   age  sibsp  parch     fare embarked  class  \\\n",
              "0         0       3    male  22.0      1      0   7.2500        S  Third   \n",
              "1         1       1  female  38.0      1      0  71.2833        C  First   \n",
              "2         1       3  female  26.0      0      0   7.9250        S  Third   \n",
              "\n",
              "     who  adult_male deck  embark_town alive  alone  OnTitanic  isAdult  \\\n",
              "0    man        True  NaN  Southampton    no  False       True     True   \n",
              "1  woman       False    C    Cherbourg   yes  False       True     True   \n",
              "2  woman       False  NaN  Southampton   yes   True       True     True   \n",
              "\n",
              "   TodaysAge  \n",
              "0      132.0  \n",
              "1      148.0  \n",
              "2      136.0  "
            ]
          },
          "execution_count": 38,
          "metadata": {},
          "output_type": "execute_result"
        }
      ],
      "source": [
        "df['TodaysAge'] = df.age + (2022 - 1912)\n",
        "df[:3]"
      ]
    },
    {
      "cell_type": "markdown",
      "metadata": {
        "cell_id": "00052-1bc12004-c767-4e3d-990d-7b4af5f3317a",
        "deepnote_cell_type": "markdown",
        "id": "ftDGzqP6VNLz"
      },
      "source": [
        "Make a column called \"not_survived\", the opposite of the \"survived\" column.\n"
      ]
    },
    {
      "cell_type": "code",
      "execution_count": 39,
      "metadata": {
        "cell_id": "00053-25996c14-4332-4cdf-a193-77aeceaa6aca",
        "deepnote_cell_type": "code",
        "id": "4nOITBAFVNLz",
        "tags": [
          "exercise"
        ]
      },
      "outputs": [
        {
          "data": {
            "text/html": [
              "<div>\n",
              "<style scoped>\n",
              "    .dataframe tbody tr th:only-of-type {\n",
              "        vertical-align: middle;\n",
              "    }\n",
              "\n",
              "    .dataframe tbody tr th {\n",
              "        vertical-align: top;\n",
              "    }\n",
              "\n",
              "    .dataframe thead th {\n",
              "        text-align: right;\n",
              "    }\n",
              "</style>\n",
              "<table border=\"1\" class=\"dataframe\">\n",
              "  <thead>\n",
              "    <tr style=\"text-align: right;\">\n",
              "      <th></th>\n",
              "      <th>survived</th>\n",
              "      <th>pclass</th>\n",
              "      <th>sex</th>\n",
              "      <th>age</th>\n",
              "      <th>sibsp</th>\n",
              "      <th>parch</th>\n",
              "      <th>fare</th>\n",
              "      <th>embarked</th>\n",
              "      <th>class</th>\n",
              "      <th>who</th>\n",
              "      <th>adult_male</th>\n",
              "      <th>deck</th>\n",
              "      <th>embark_town</th>\n",
              "      <th>alive</th>\n",
              "      <th>alone</th>\n",
              "      <th>OnTitanic</th>\n",
              "      <th>isAdult</th>\n",
              "      <th>TodaysAge</th>\n",
              "      <th>not_survived</th>\n",
              "    </tr>\n",
              "  </thead>\n",
              "  <tbody>\n",
              "    <tr>\n",
              "      <th>0</th>\n",
              "      <td>0</td>\n",
              "      <td>3</td>\n",
              "      <td>male</td>\n",
              "      <td>22.0</td>\n",
              "      <td>1</td>\n",
              "      <td>0</td>\n",
              "      <td>7.2500</td>\n",
              "      <td>S</td>\n",
              "      <td>Third</td>\n",
              "      <td>man</td>\n",
              "      <td>True</td>\n",
              "      <td>NaN</td>\n",
              "      <td>Southampton</td>\n",
              "      <td>no</td>\n",
              "      <td>False</td>\n",
              "      <td>True</td>\n",
              "      <td>True</td>\n",
              "      <td>132.0</td>\n",
              "      <td>True</td>\n",
              "    </tr>\n",
              "    <tr>\n",
              "      <th>1</th>\n",
              "      <td>1</td>\n",
              "      <td>1</td>\n",
              "      <td>female</td>\n",
              "      <td>38.0</td>\n",
              "      <td>1</td>\n",
              "      <td>0</td>\n",
              "      <td>71.2833</td>\n",
              "      <td>C</td>\n",
              "      <td>First</td>\n",
              "      <td>woman</td>\n",
              "      <td>False</td>\n",
              "      <td>C</td>\n",
              "      <td>Cherbourg</td>\n",
              "      <td>yes</td>\n",
              "      <td>False</td>\n",
              "      <td>True</td>\n",
              "      <td>True</td>\n",
              "      <td>148.0</td>\n",
              "      <td>False</td>\n",
              "    </tr>\n",
              "    <tr>\n",
              "      <th>2</th>\n",
              "      <td>1</td>\n",
              "      <td>3</td>\n",
              "      <td>female</td>\n",
              "      <td>26.0</td>\n",
              "      <td>0</td>\n",
              "      <td>0</td>\n",
              "      <td>7.9250</td>\n",
              "      <td>S</td>\n",
              "      <td>Third</td>\n",
              "      <td>woman</td>\n",
              "      <td>False</td>\n",
              "      <td>NaN</td>\n",
              "      <td>Southampton</td>\n",
              "      <td>yes</td>\n",
              "      <td>True</td>\n",
              "      <td>True</td>\n",
              "      <td>True</td>\n",
              "      <td>136.0</td>\n",
              "      <td>False</td>\n",
              "    </tr>\n",
              "  </tbody>\n",
              "</table>\n",
              "</div>"
            ],
            "text/plain": [
              "   survived  pclass     sex   age  sibsp  parch     fare embarked  class  \\\n",
              "0         0       3    male  22.0      1      0   7.2500        S  Third   \n",
              "1         1       1  female  38.0      1      0  71.2833        C  First   \n",
              "2         1       3  female  26.0      0      0   7.9250        S  Third   \n",
              "\n",
              "     who  adult_male deck  embark_town alive  alone  OnTitanic  isAdult  \\\n",
              "0    man        True  NaN  Southampton    no  False       True     True   \n",
              "1  woman       False    C    Cherbourg   yes  False       True     True   \n",
              "2  woman       False  NaN  Southampton   yes   True       True     True   \n",
              "\n",
              "   TodaysAge  not_survived  \n",
              "0      132.0          True  \n",
              "1      148.0         False  \n",
              "2      136.0         False  "
            ]
          },
          "execution_count": 39,
          "metadata": {},
          "output_type": "execute_result"
        }
      ],
      "source": [
        "df['not_survived'] = df.survived == False\n",
        "df[:3]"
      ]
    },
    {
      "cell_type": "markdown",
      "metadata": {
        "cell_id": "00054-b8fb8ade-11ac-472a-a582-26a9fb2bd836",
        "deepnote_cell_type": "markdown",
        "id": "Cp1w_dXzVNLz"
      },
      "source": [
        "Make a Column called \"Adjusted Fare\", with the cost of a ticket in today's money:  (See https://www.in2013dollars.com/uk/inflation/1912?amount=1 for the conversion rate)"
      ]
    },
    {
      "cell_type": "code",
      "execution_count": 40,
      "metadata": {
        "cell_id": "00055-d77bbb8e-9d28-4306-8547-402586d82295",
        "deepnote_cell_type": "code",
        "id": "WULrCYWeVNLz",
        "tags": [
          "exercise"
        ]
      },
      "outputs": [
        {
          "data": {
            "text/html": [
              "<div>\n",
              "<style scoped>\n",
              "    .dataframe tbody tr th:only-of-type {\n",
              "        vertical-align: middle;\n",
              "    }\n",
              "\n",
              "    .dataframe tbody tr th {\n",
              "        vertical-align: top;\n",
              "    }\n",
              "\n",
              "    .dataframe thead th {\n",
              "        text-align: right;\n",
              "    }\n",
              "</style>\n",
              "<table border=\"1\" class=\"dataframe\">\n",
              "  <thead>\n",
              "    <tr style=\"text-align: right;\">\n",
              "      <th></th>\n",
              "      <th>survived</th>\n",
              "      <th>pclass</th>\n",
              "      <th>sex</th>\n",
              "      <th>age</th>\n",
              "      <th>sibsp</th>\n",
              "      <th>parch</th>\n",
              "      <th>fare</th>\n",
              "      <th>embarked</th>\n",
              "      <th>class</th>\n",
              "      <th>who</th>\n",
              "      <th>adult_male</th>\n",
              "      <th>deck</th>\n",
              "      <th>embark_town</th>\n",
              "      <th>alive</th>\n",
              "      <th>alone</th>\n",
              "      <th>OnTitanic</th>\n",
              "      <th>isAdult</th>\n",
              "      <th>TodaysAge</th>\n",
              "      <th>not_survived</th>\n",
              "      <th>Adjusted Fare</th>\n",
              "    </tr>\n",
              "  </thead>\n",
              "  <tbody>\n",
              "    <tr>\n",
              "      <th>0</th>\n",
              "      <td>0</td>\n",
              "      <td>3</td>\n",
              "      <td>male</td>\n",
              "      <td>22.0</td>\n",
              "      <td>1</td>\n",
              "      <td>0</td>\n",
              "      <td>7.2500</td>\n",
              "      <td>S</td>\n",
              "      <td>Third</td>\n",
              "      <td>man</td>\n",
              "      <td>True</td>\n",
              "      <td>NaN</td>\n",
              "      <td>Southampton</td>\n",
              "      <td>no</td>\n",
              "      <td>False</td>\n",
              "      <td>True</td>\n",
              "      <td>True</td>\n",
              "      <td>132.0</td>\n",
              "      <td>True</td>\n",
              "      <td>920.7500</td>\n",
              "    </tr>\n",
              "    <tr>\n",
              "      <th>1</th>\n",
              "      <td>1</td>\n",
              "      <td>1</td>\n",
              "      <td>female</td>\n",
              "      <td>38.0</td>\n",
              "      <td>1</td>\n",
              "      <td>0</td>\n",
              "      <td>71.2833</td>\n",
              "      <td>C</td>\n",
              "      <td>First</td>\n",
              "      <td>woman</td>\n",
              "      <td>False</td>\n",
              "      <td>C</td>\n",
              "      <td>Cherbourg</td>\n",
              "      <td>yes</td>\n",
              "      <td>False</td>\n",
              "      <td>True</td>\n",
              "      <td>True</td>\n",
              "      <td>148.0</td>\n",
              "      <td>False</td>\n",
              "      <td>9052.9791</td>\n",
              "    </tr>\n",
              "    <tr>\n",
              "      <th>2</th>\n",
              "      <td>1</td>\n",
              "      <td>3</td>\n",
              "      <td>female</td>\n",
              "      <td>26.0</td>\n",
              "      <td>0</td>\n",
              "      <td>0</td>\n",
              "      <td>7.9250</td>\n",
              "      <td>S</td>\n",
              "      <td>Third</td>\n",
              "      <td>woman</td>\n",
              "      <td>False</td>\n",
              "      <td>NaN</td>\n",
              "      <td>Southampton</td>\n",
              "      <td>yes</td>\n",
              "      <td>True</td>\n",
              "      <td>True</td>\n",
              "      <td>True</td>\n",
              "      <td>136.0</td>\n",
              "      <td>False</td>\n",
              "      <td>1006.4750</td>\n",
              "    </tr>\n",
              "  </tbody>\n",
              "</table>\n",
              "</div>"
            ],
            "text/plain": [
              "   survived  pclass     sex   age  sibsp  parch     fare embarked  class  \\\n",
              "0         0       3    male  22.0      1      0   7.2500        S  Third   \n",
              "1         1       1  female  38.0      1      0  71.2833        C  First   \n",
              "2         1       3  female  26.0      0      0   7.9250        S  Third   \n",
              "\n",
              "     who  adult_male deck  embark_town alive  alone  OnTitanic  isAdult  \\\n",
              "0    man        True  NaN  Southampton    no  False       True     True   \n",
              "1  woman       False    C    Cherbourg   yes  False       True     True   \n",
              "2  woman       False  NaN  Southampton   yes   True       True     True   \n",
              "\n",
              "   TodaysAge  not_survived  Adjusted Fare  \n",
              "0      132.0          True       920.7500  \n",
              "1      148.0         False      9052.9791  \n",
              "2      136.0         False      1006.4750  "
            ]
          },
          "execution_count": 40,
          "metadata": {},
          "output_type": "execute_result"
        }
      ],
      "source": [
        "df['Adjusted Fare'] = 127 * df.fare\n",
        "df[:3]"
      ]
    },
    {
      "cell_type": "markdown",
      "metadata": {
        "cell_id": "00056-5e44558b-e854-4e28-8bf9-c91e91fe06e6",
        "deepnote_cell_type": "markdown",
        "id": "HI970hW6VNLz"
      },
      "source": [
        "## Querying/Filtering Data\n",
        "\n",
        "To get rows based on their value, Pandas supports both Numpy's logical indexing for filtering rows and an SQL-like query string.  For example, to get all the rows of a dataframe that is positive for Column1:\n",
        "\n",
        "```python\n",
        "positive_rows = df['Column1'] > 0\n",
        "df[positive_rows]\n",
        "```\n",
        "\n",
        "Often, this is done in a single line:\n",
        "\n",
        "```python\n",
        "df[df['Column1'] > 0]\n",
        "```\n"
      ]
    },
    {
      "cell_type": "markdown",
      "metadata": {
        "cell_id": "00057-b6a58b53-d512-42cd-a2b2-9b8f524e2dff",
        "deepnote_cell_type": "markdown",
        "id": "Dm3kXTRjVNL0"
      },
      "source": [
        "**Exercises**\n",
        "Let's go back to the Titanic dataset and do some data querying:"
      ]
    },
    {
      "cell_type": "markdown",
      "metadata": {
        "cell_id": "00060-b8e40ce7-0158-478a-b16b-29a33116a19d",
        "deepnote_cell_type": "markdown",
        "id": "0t-L239fVNL0"
      },
      "source": [
        "**Example**: Did the oldest passenger on the Titanic survive?"
      ]
    },
    {
      "cell_type": "code",
      "execution_count": 43,
      "metadata": {
        "cell_id": "00061-39c430ac-b04a-4853-bc68-6beefd530572",
        "deepnote_cell_type": "code",
        "id": "yU_ikQTEVNL0"
      },
      "outputs": [
        {
          "data": {
            "text/plain": [
              "630    1\n",
              "Name: survived, dtype: int64"
            ]
          },
          "execution_count": 43,
          "metadata": {},
          "output_type": "execute_result"
        }
      ],
      "source": [
        "df[df.age == df['age'].max()].survived"
      ]
    },
    {
      "cell_type": "markdown",
      "metadata": {
        "cell_id": "00062-54094d7e-3a77-4055-a77c-f917cb77d115",
        "deepnote_cell_type": "markdown",
        "id": "lp5aJHN1VNL0"
      },
      "source": [
        "Where did the youngest passenger on the Titanic embark from?"
      ]
    },
    {
      "cell_type": "code",
      "execution_count": 47,
      "metadata": {
        "cell_id": "00063-c059612b-686e-4069-9557-ea44acff0f95",
        "deepnote_cell_type": "code",
        "id": "wsrbrn9eVNL0",
        "tags": [
          "exercise"
        ]
      },
      "outputs": [
        {
          "data": {
            "text/plain": [
              "803    Cherbourg\n",
              "Name: embark_town, dtype: object"
            ]
          },
          "execution_count": 47,
          "metadata": {},
          "output_type": "execute_result"
        }
      ],
      "source": [
        "df[df.age == df['age'].min()].embark_town"
      ]
    },
    {
      "cell_type": "markdown",
      "metadata": {
        "cell_id": "00064-c35a805b-6a02-438a-8508-ec69e2ff37d8",
        "deepnote_cell_type": "markdown",
        "id": "ooDOh-Y7VNL0"
      },
      "source": [
        "How many passengers on the Titanic embarked from Cherbourg? (use len() to count the number of rows)"
      ]
    },
    {
      "cell_type": "code",
      "execution_count": 49,
      "metadata": {
        "cell_id": "00064-40675dc5-33ee-4178-a61b-6a027b57b891",
        "deepnote_cell_type": "code",
        "deepnote_to_be_reexecuted": false,
        "execution_millis": 2,
        "execution_start": 1628721072727,
        "source_hash": "b623e53d",
        "tags": [
          "exercise"
        ]
      },
      "outputs": [
        {
          "data": {
            "text/plain": [
              "168"
            ]
          },
          "execution_count": 49,
          "metadata": {},
          "output_type": "execute_result"
        }
      ],
      "source": [
        "len(df[df.embark_town == 'Cherbourg'])"
      ]
    },
    {
      "cell_type": "markdown",
      "metadata": {
        "cell_id": "00065-43e6a2e1-0889-4fe4-9627-cd1916fde87d",
        "deepnote_cell_type": "markdown",
        "id": "CBFNsBbIVNL0"
      },
      "source": [
        "What is mean ticket fare for the 1st class?"
      ]
    },
    {
      "cell_type": "code",
      "execution_count": 53,
      "metadata": {
        "cell_id": "00066-ac202154-8537-4031-a211-660909100c88",
        "deepnote_cell_type": "code",
        "deepnote_to_be_reexecuted": false,
        "execution_millis": 3,
        "execution_start": 1628721075442,
        "id": "-IvOaLEHVNL1",
        "outputId": "c9814d62-0221-45af-dc0a-e7fd0c254224",
        "source_hash": "b623e53d",
        "tags": [
          "exercise"
        ]
      },
      "outputs": [
        {
          "data": {
            "text/plain": [
              "84.1546875"
            ]
          },
          "execution_count": 53,
          "metadata": {},
          "output_type": "execute_result"
        }
      ],
      "source": [
        "df[df['class'] == 'First'].fare.mean()"
      ]
    },
    {
      "cell_type": "markdown",
      "metadata": {
        "cell_id": "00067-0f0b4792-a77f-4e7e-8aac-4762489a1c81",
        "deepnote_cell_type": "markdown",
        "id": "CmSMwI2FVNL1"
      },
      "source": [
        " The 2nd?"
      ]
    },
    {
      "cell_type": "code",
      "execution_count": 54,
      "metadata": {
        "cell_id": "00068-90f70d96-ccc4-4342-b063-808ec2653a47",
        "deepnote_cell_type": "code",
        "deepnote_to_be_reexecuted": false,
        "execution_millis": 2,
        "execution_start": 1628721082196,
        "id": "jfr0864LVNL1",
        "outputId": "8cfe76bf-d93f-432e-e91a-6de1565131af",
        "source_hash": "b623e53d",
        "tags": [
          "exercise"
        ]
      },
      "outputs": [
        {
          "data": {
            "text/plain": [
              "20.662183152173913"
            ]
          },
          "execution_count": 54,
          "metadata": {},
          "output_type": "execute_result"
        }
      ],
      "source": [
        "df[df['class'] == 'Second'].fare.mean()"
      ]
    },
    {
      "cell_type": "markdown",
      "metadata": {
        "cell_id": "00069-09f2c441-4044-4081-be11-f36c1a165671",
        "deepnote_cell_type": "markdown",
        "id": "EKN21bdoVNL1"
      },
      "source": [
        "The 3rd?"
      ]
    },
    {
      "cell_type": "code",
      "execution_count": 55,
      "metadata": {
        "cell_id": "00070-11f5c2ca-b37c-4547-a2de-b95f81f5085a",
        "deepnote_cell_type": "code",
        "deepnote_to_be_reexecuted": false,
        "execution_millis": 1,
        "execution_start": 1628721157401,
        "id": "PKdF3IeOVNL1",
        "outputId": "093aea27-99ba-4b98-cfe5-f64ff9e863ab",
        "source_hash": "b623e53d",
        "tags": [
          "exercise"
        ]
      },
      "outputs": [
        {
          "data": {
            "text/plain": [
              "13.675550101832993"
            ]
          },
          "execution_count": 55,
          "metadata": {},
          "output_type": "execute_result"
        }
      ],
      "source": [
        "df[df['class'] == 'Third'].fare.mean()"
      ]
    },
    {
      "cell_type": "markdown",
      "metadata": {
        "cell_id": "00078-ad59b4bc-c6fd-4bdc-bb97-4ce875d6d6f5",
        "deepnote_cell_type": "markdown",
        "id": "DP8FEKyZVNL3"
      },
      "source": [
        "How many total people survived from Southampton?"
      ]
    },
    {
      "cell_type": "code",
      "execution_count": 60,
      "metadata": {
        "cell_id": "00079-28272ab5-2933-4041-b260-bbb8d0864e24",
        "deepnote_cell_type": "code",
        "id": "9zzgkz2YVNL3",
        "tags": [
          "exercise"
        ]
      },
      "outputs": [
        {
          "data": {
            "text/plain": [
              "217"
            ]
          },
          "execution_count": 60,
          "metadata": {},
          "output_type": "execute_result"
        }
      ],
      "source": [
        "df[df['embark_town'] == 'Southampton'].survived.sum()"
      ]
    },
    {
      "cell_type": "markdown",
      "metadata": {
        "cell_id": "00080-27368171-51f3-4f91-8c36-e6a77ca8f616",
        "deepnote_cell_type": "markdown",
        "id": "Hw5QdqLoVNL3"
      },
      "source": [
        "From Cherbourg?"
      ]
    },
    {
      "cell_type": "code",
      "execution_count": 61,
      "metadata": {
        "cell_id": "00081-cf4c7a89-ac89-4e73-a753-07c800ef93f8",
        "deepnote_cell_type": "code",
        "id": "VxOYWpbfVNL3",
        "tags": [
          "exercise"
        ]
      },
      "outputs": [
        {
          "data": {
            "text/plain": [
              "93"
            ]
          },
          "execution_count": 61,
          "metadata": {},
          "output_type": "execute_result"
        }
      ],
      "source": [
        "df[df['embark_town'] == 'Cherbourg'].survived.sum()"
      ]
    },
    {
      "cell_type": "markdown",
      "metadata": {
        "cell_id": "00082-47096120-b54d-4a61-beaf-12b671258c63",
        "deepnote_cell_type": "markdown",
        "id": "52-3Z99_VNL3"
      },
      "source": [
        "How many people from Southampton had first class tickets? (Hint: `(True) & (True)`)"
      ]
    },
    {
      "cell_type": "code",
      "execution_count": 74,
      "metadata": {
        "cell_id": "00083-94d6d5b1-d317-4b4d-9e28-7d2ab44b0bc0",
        "deepnote_cell_type": "code",
        "id": "EDbryKr6VNL3",
        "tags": [
          "exercise"
        ]
      },
      "outputs": [
        {
          "data": {
            "text/plain": [
              "127"
            ]
          },
          "execution_count": 74,
          "metadata": {},
          "output_type": "execute_result"
        }
      ],
      "source": [
        "len(df[(df['embark_town'] == 'Southampton') & (df['class'] == 'First')])"
      ]
    }
  ],
  "metadata": {
    "anaconda-cloud": {},
    "colab": {
      "name": "13_Indexing_DataFrames.ipynb",
      "provenance": []
    },
    "deepnote": {},
    "deepnote_execution_queue": [],
    "deepnote_notebook_id": "9b56c80f-b2f4-4d62-be72-3d41ccebf960",
    "kernelspec": {
      "display_name": "Python 3 (ipykernel)",
      "language": "python",
      "name": "python3"
    },
    "language_info": {
      "codemirror_mode": {
        "name": "ipython",
        "version": 3
      },
      "file_extension": ".py",
      "mimetype": "text/x-python",
      "name": "python",
      "nbconvert_exporter": "python",
      "pygments_lexer": "ipython3",
      "version": "3.10.4"
    },
    "metadata": {
      "interpreter": {
        "hash": "96aaef06ee4620efb4426efa9d33cf4f7340991f4df94558c663a28125b37508"
      }
    },
    "vscode": {
      "interpreter": {
        "hash": "d6852d01271bf8033dbdb7ec364b6f6e89fd52a18c6bf5b4c73e48c86329a8dd"
      }
    }
  },
  "nbformat": 4,
  "nbformat_minor": 4
}