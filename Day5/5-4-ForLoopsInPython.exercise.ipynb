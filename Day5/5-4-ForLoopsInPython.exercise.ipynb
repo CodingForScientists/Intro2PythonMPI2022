{
  "cells": [
    {
      "cell_type": "markdown",
      "metadata": {
        "cell_id": "e87478b1ec0d4605b0d78f584a0a9d44",
        "deepnote_cell_height": 649.734375,
        "deepnote_cell_type": "markdown",
        "tags": []
      },
      "source": [
        "# Loops: Describing How to Repeat Steps in a Program\n",
        "\n",
        "Programming languages require three essential features, two of which we've covered so far:\n",
        "\n",
        "   - [x] Conditional Flow (covered so far with `if-else`)\n",
        "   - [x] Loops  (covered so far with `while`)\n",
        "   - [ ] Abstraction (next time with `functions`)\n",
        "\n",
        "So, why learn `for` loops, if we already have a way to do loops?  Well, because `while` loops tend to be challenging to reason about, buggy, and difficult to break down into small, manageable parts. `for` loops(specifically, a \"For-Each\" loop), on the other hand, are helpful for writing loop code that is concise and self-explanatory.\n",
        "\n",
        "```\n",
        "# While Loop Example                               # For Loop Example\n",
        "i = 0                                               \n",
        "names = ['Nick', 'Yiwen', 'Adrian']                 names = ['Nick', 'Yiwen', 'Adrian']\n",
        "while i < len(names):                               for name in names:\n",
        "    name = names[i]                                     print(name)\n",
        "    print(name)\n",
        "```\n",
        "\n"
      ]
    },
    {
      "cell_type": "markdown",
      "metadata": {
        "cell_id": "6133f2f575014330abc5543bfe8f4574",
        "deepnote_cell_height": 276.6875,
        "deepnote_cell_type": "markdown",
        "tags": []
      },
      "source": [
        "## For Loops:\n",
        "\n",
        "Like R and Matlab, Python makes it straightford repeat commands \"For-Each\" element in a data collection.  For example, to print each element in a list:\n",
        "\n",
        "```python\n",
        "names = ['Ted', 'Roy', 'Keeley']\n",
        "for name in names:\n",
        "   print(name)\n",
        "# prints \"Ted\" then \"Roy\" then \"Keeley\"\n",
        "```\n",
        ".\n",
        "\n"
      ]
    },
    {
      "cell_type": "markdown",
      "metadata": {
        "cell_id": "86a960b1ead240a0846a328c1db40651",
        "deepnote_cell_height": 52.34375,
        "deepnote_cell_type": "markdown",
        "tags": []
      },
      "source": [
        "**Exercises**"
      ]
    },
    {
      "cell_type": "markdown",
      "metadata": {
        "cell_id": "0621e92f2eb24a00b3f28eb51af2cba8",
        "deepnote_cell_height": 52.34375,
        "deepnote_cell_type": "markdown",
        "tags": []
      },
      "source": [
        "Print each number plus 100."
      ]
    },
    {
      "cell_type": "code",
      "execution_count": null,
      "metadata": {
        "cell_id": "a35814697af74b5e8dae013d916e50b5",
        "deepnote_cell_height": 187.34375,
        "deepnote_cell_type": "code",
        "deepnote_to_be_reexecuted": false,
        "execution_millis": 7,
        "execution_start": 1653639686507,
        "source_hash": "3ef37248",
        "tags": []
      },
      "outputs": [
        {
          "name": "stdout",
          "output_type": "stream",
          "text": [
            "105\n",
            "103\n",
            "101\n"
          ]
        }
      ],
      "source": [
        "nums = [5, 3, 1]\n",
        "for num in nums:\n",
        "    print(num + 100)"
      ]
    },
    {
      "cell_type": "markdown",
      "metadata": {
        "cell_id": "226a8e31da0044f68ac16f0dc6ca36e6",
        "deepnote_cell_height": 74.734375,
        "deepnote_cell_type": "markdown",
        "tags": []
      },
      "source": [
        "Print 10 times each number in the list \n",
        "For example, `[2, 4]` should print `20` then `40`."
      ]
    },
    {
      "cell_type": "code",
      "execution_count": null,
      "metadata": {
        "cell_id": "e93fd129d5974042a6b90de60dcba8f5",
        "deepnote_cell_height": 80.953125,
        "deepnote_cell_type": "code",
        "deepnote_to_be_reexecuted": false,
        "execution_millis": 11,
        "execution_start": 1634192534154,
        "source_hash": "5b10538f",
        "tags": []
      },
      "outputs": [],
      "source": [
        "nums = [4, 8, 10, 5]"
      ]
    },
    {
      "cell_type": "code",
      "execution_count": null,
      "metadata": {
        "tags": [
          "exercise"
        ]
      },
      "outputs": [],
      "source": []
    },
    {
      "cell_type": "markdown",
      "metadata": {
        "cell_id": "e583b7a219434b8b8747e255fade6bab",
        "deepnote_cell_height": 52.34375,
        "deepnote_cell_type": "markdown",
        "tags": []
      },
      "source": [
        "Print the first letter of each name in the list"
      ]
    },
    {
      "cell_type": "code",
      "execution_count": null,
      "metadata": {
        "cell_id": "92803495dd0f40cea1afc908c13421de",
        "deepnote_cell_height": 80.953125,
        "deepnote_cell_type": "code",
        "deepnote_to_be_reexecuted": false,
        "execution_millis": 3,
        "execution_start": 1634192558128,
        "source_hash": "3d0d6b91",
        "tags": []
      },
      "outputs": [],
      "source": [
        "names = [\"John\", \"Harry\", \"Moe\", \"Luke\"]"
      ]
    },
    {
      "cell_type": "code",
      "execution_count": null,
      "metadata": {
        "tags": [
          "exercise"
        ]
      },
      "outputs": [],
      "source": []
    },
    {
      "cell_type": "markdown",
      "metadata": {
        "cell_id": "e1c8d7198363406b95344acb95a9aaa2",
        "deepnote_cell_height": 52.34375,
        "deepnote_cell_type": "markdown",
        "tags": []
      },
      "source": [
        "Print the file extension of each file in the list (Tip: `os.path.splitext()`)"
      ]
    },
    {
      "cell_type": "code",
      "execution_count": null,
      "metadata": {
        "cell_id": "2894dae148a8457d9896b88fcc9e12ca",
        "deepnote_cell_height": 98.953125,
        "deepnote_cell_type": "code",
        "deepnote_to_be_reexecuted": false,
        "execution_millis": 4,
        "execution_start": 1634192751322,
        "source_hash": "8b821e2c",
        "tags": []
      },
      "outputs": [],
      "source": [
        "filenames = ['virus.fasta', 'birthday.jpg', 'hospital.csv', 'letter.pdf']\n"
      ]
    },
    {
      "cell_type": "code",
      "execution_count": null,
      "metadata": {
        "tags": [
          "exercise"
        ]
      },
      "outputs": [],
      "source": []
    },
    {
      "cell_type": "markdown",
      "metadata": {
        "cell_id": "423b462a71324ae088c0592f4691fb86",
        "deepnote_cell_height": 52.34375,
        "deepnote_cell_type": "markdown"
      },
      "source": [
        "Print each positive number in the list."
      ]
    },
    {
      "cell_type": "code",
      "execution_count": null,
      "metadata": {
        "cell_id": "3f74e6b9a8684d28bf6c49f14bda48d3",
        "deepnote_cell_height": 83.953125,
        "deepnote_cell_type": "code"
      },
      "outputs": [],
      "source": [
        "nums = [5, 2, 4, -1, -5, 8, 9, 1, -6, 3, 7]\n"
      ]
    },
    {
      "cell_type": "code",
      "execution_count": null,
      "metadata": {
        "tags": [
          "exercise"
        ]
      },
      "outputs": [],
      "source": []
    },
    {
      "cell_type": "markdown",
      "metadata": {
        "cell_id": "d48a1bad848144b89dca3fa8cf112cc7",
        "deepnote_cell_height": 125.109375,
        "deepnote_cell_type": "markdown"
      },
      "source": [
        "Inside the 'Parent' folder, create each of the folders in the list\n",
        "\n",
        "(Tip: put forward slashes between the folder names, e.g. `Parent/Child`)\n",
        "\n",
        "(Tip: `os.makedirs(exist_ok=True)`)"
      ]
    },
    {
      "cell_type": "code",
      "execution_count": null,
      "metadata": {
        "cell_id": "2d907fd7538c46d4aaa6bd1148800ed8",
        "deepnote_cell_height": 116.953125,
        "deepnote_cell_type": "code",
        "deepnote_to_be_reexecuted": false,
        "execution_millis": 4,
        "execution_start": 1654153908005,
        "source_hash": "b503dd67"
      },
      "outputs": [],
      "source": [
        "parent = \"Parent\"\n",
        "child_folder_names = ['a', 'b', 'c', 'd']\n"
      ]
    },
    {
      "cell_type": "code",
      "execution_count": null,
      "metadata": {
        "cell_id": "8fc66b224e5348cd8e351e817ef5e622",
        "deepnote_cell_height": 65.953125,
        "deepnote_cell_type": "code",
        "tags": [
          "exercise"
        ]
      },
      "outputs": [],
      "source": []
    },
    {
      "cell_type": "markdown",
      "metadata": {
        "cell_id": "345a7a6c0c7b4ec1b710c1669833daef",
        "deepnote_cell_height": 133.5,
        "deepnote_cell_type": "markdown"
      },
      "source": [
        "Run the following code to generate some random folder and files  using the `os` and `glob` packages, then process them below:\n",
        "\n",
        "Useful functions: `os.listdir()`, `os.walk()`, `os.getcwd()`, `glob.glob()`, `open(filename).read()`, `open(filename).readlines()`"
      ]
    },
    {
      "cell_type": "code",
      "execution_count": null,
      "metadata": {
        "cell_id": "6b31054fece34e9faf48ece0599228bb",
        "deepnote_cell_height": 335.953125,
        "deepnote_cell_type": "code"
      },
      "outputs": [],
      "source": [
        "import os, random\n",
        "parent_folder = 'ExampleProject'\n",
        "folders = ['scripts', 'data/raw', 'data/processed', 'data/final']\n",
        "for folder in folders:\n",
        "    os.makedirs(parent_folder + '/' + folder, exist_ok=True)\n",
        "data_nums = [1, 2, 4, 5, 6]\n",
        "for num in data_nums:\n",
        "    data_file = open(parent_folder + f'/data/raw/dataset{num}.txt', 'w')\n",
        "    data_file.write(f\"{random.randint(1, 101)}\\n\")\n",
        "    data_file.write(f\"{random.randint(1, 101)}\\n\")\n",
        "    data_file.write(f\"{random.randint(1, 101)}\\n\")\n",
        "    data_file.close()\n",
        "readme_file = open(parent_folder + '/README.md', 'w')\n",
        "readme_file.write('# Example Project\\n\\nWelcome to the Project!\\n')\n",
        "readme_file.close()\n"
      ]
    },
    {
      "cell_type": "markdown",
      "metadata": {
        "cell_id": "b27a6b0f052b4fd1a00323aafb1d3dd9",
        "deepnote_cell_height": 52.34375,
        "deepnote_cell_type": "markdown"
      },
      "source": [
        "In the ExampleProject folder, how many folders and files are there in total?"
      ]
    },
    {
      "cell_type": "code",
      "execution_count": null,
      "metadata": {
        "cell_id": "e0bcf64a4908403d83348e0493ce992b",
        "deepnote_cell_height": 65.953125,
        "deepnote_cell_type": "code",
        "tags": [
          "exercise"
        ]
      },
      "outputs": [],
      "source": []
    },
    {
      "cell_type": "markdown",
      "metadata": {
        "cell_id": "b4f324a558ee4b4f9da17798e351bf76",
        "deepnote_cell_height": 52.34375,
        "deepnote_cell_type": "markdown"
      },
      "source": [
        "In the ExampleProject/data/raw folder, how many data files are there?"
      ]
    },
    {
      "cell_type": "code",
      "execution_count": null,
      "metadata": {
        "cell_id": "058558d22a80481c9a8601916c231b8b",
        "deepnote_cell_height": 65.953125,
        "deepnote_cell_type": "code",
        "tags": [
          "exercise"
        ]
      },
      "outputs": [],
      "source": []
    },
    {
      "cell_type": "markdown",
      "metadata": {
        "cell_id": "a8c976f0046b469a82190ffbb6c34410",
        "deepnote_cell_height": 74.734375,
        "deepnote_cell_type": "markdown"
      },
      "source": [
        "Open each of the data files in the data/raw folder. What is the sum of the numbers in each file?"
      ]
    },
    {
      "cell_type": "code",
      "execution_count": null,
      "metadata": {
        "cell_id": "118bcdc06c6143aa9c29c9216ce3ff51",
        "deepnote_cell_height": 65.953125,
        "deepnote_cell_type": "code",
        "tags": [
          "exercise"
        ]
      },
      "outputs": [],
      "source": []
    },
    {
      "cell_type": "markdown",
      "metadata": {
        "cell_id": "ec7d608abec64512b425eb2bf3c1a803",
        "deepnote_cell_height": 69.953125,
        "deepnote_cell_type": "markdown",
        "tags": []
      },
      "source": [
        "## List-Append Loop Pattern"
      ]
    },
    {
      "cell_type": "markdown",
      "metadata": {
        "cell_id": "8c63c75ea18b44a19d316f09bf8bd726",
        "deepnote_cell_height": 175.921875,
        "deepnote_cell_type": "markdown",
        "tags": []
      },
      "source": [
        "This can also be used to create new data collections.  For example:\n",
        "\n",
        "```python\n",
        "old_names = ['ted', 'roy', 'keeley']\n",
        "new_names = []\n",
        "for name in old_names:\n",
        "   new_names.append(name.title())\n",
        "```"
      ]
    },
    {
      "cell_type": "markdown",
      "metadata": {
        "cell_id": "3295c14ec6e2462f9fa0c84d1c542d75",
        "deepnote_cell_height": 52.34375,
        "deepnote_cell_type": "markdown",
        "tags": []
      },
      "source": [
        "**Exercises**"
      ]
    },
    {
      "cell_type": "markdown",
      "metadata": {
        "cell_id": "61f102ff813946f4be51535b7ce522c0",
        "deepnote_cell_height": 52.34375,
        "deepnote_cell_type": "markdown",
        "tags": []
      },
      "source": [
        "Make a list with the first codon of each sequence"
      ]
    },
    {
      "cell_type": "code",
      "execution_count": null,
      "metadata": {
        "cell_id": "c9191906729649559cb04e18f103e1ee",
        "deepnote_cell_height": 116.953125,
        "deepnote_cell_type": "code",
        "deepnote_to_be_reexecuted": false,
        "execution_millis": 1,
        "execution_start": 1654160822830,
        "source_hash": "6d164d09",
        "tags": []
      },
      "outputs": [],
      "source": [
        "seqs = [\"GTAATCG\", \"GTACCAAA\", \"GGTAGTACCAC\"]"
      ]
    },
    {
      "cell_type": "code",
      "execution_count": null,
      "metadata": {
        "tags": [
          "exercise"
        ]
      },
      "outputs": [],
      "source": []
    },
    {
      "cell_type": "markdown",
      "metadata": {
        "cell_id": "5dc5b087a0264d7da773e43bd13fb931",
        "deepnote_cell_height": 52.34375,
        "deepnote_cell_type": "markdown",
        "tags": []
      },
      "source": [
        "Clean up the data.  Make a list with that formats each sequence the same way."
      ]
    },
    {
      "cell_type": "code",
      "execution_count": null,
      "metadata": {},
      "outputs": [],
      "source": [
        "seqs = [\"GTAATCG\", \"gtaccaaa\", \"GGtAGtACCaC\"]"
      ]
    },
    {
      "cell_type": "code",
      "execution_count": null,
      "metadata": {
        "cell_id": "3f0c8d5b602d44cf9ffeff15cbeeaeea",
        "deepnote_cell_height": 316.125,
        "deepnote_cell_type": "code",
        "deepnote_output_heights": [
          21.1875
        ],
        "deepnote_to_be_reexecuted": false,
        "execution_millis": 17,
        "execution_start": 1654161293882,
        "source_hash": "3a47d1c5",
        "tags": [
          "exercise"
        ]
      },
      "outputs": [],
      "source": []
    },
    {
      "cell_type": "markdown",
      "metadata": {
        "cell_id": "eedf196fca0340c093b84dc6a2a2adc9",
        "deepnote_cell_height": 52.34375,
        "deepnote_cell_type": "markdown",
        "tags": []
      },
      "source": [
        "Make a list of the number of A in each sequence"
      ]
    },
    {
      "cell_type": "code",
      "execution_count": null,
      "metadata": {
        "cell_id": "319b76b6e9234ecc839e777bfe4ba1a0",
        "deepnote_cell_height": 80.953125,
        "deepnote_cell_type": "code",
        "deepnote_to_be_reexecuted": false,
        "execution_millis": 2,
        "execution_start": 1654160542355,
        "source_hash": "b623e53d",
        "tags": [
          "exercise"
        ]
      },
      "outputs": [],
      "source": []
    },
    {
      "cell_type": "markdown",
      "metadata": {
        "cell_id": "142e67f35fcf4e968b3c411818bd8585",
        "deepnote_cell_height": 52.34375,
        "deepnote_cell_type": "markdown",
        "tags": []
      },
      "source": [
        "Make a list sequences from the list of sequences combinations.\n"
      ]
    },
    {
      "cell_type": "code",
      "execution_count": 1,
      "metadata": {
        "cell_id": "891c4966907249dcbb0a64473ccdf1e6",
        "deepnote_cell_height": 144.125,
        "deepnote_cell_type": "code",
        "deepnote_output_heights": [
          21.1875
        ],
        "deepnote_to_be_reexecuted": false,
        "execution_millis": 24,
        "execution_start": 1654161531605,
        "owner_user_id": "c7a9f7f2-eddd-41d5-be7d-5159ad6417bb",
        "source_hash": "5668ad21",
        "tags": []
      },
      "outputs": [],
      "source": [
        "seqs = ['GCAGA GATATC', 'GGTAAAA ACTAGA GGTATA', 'GGTAA']"
      ]
    },
    {
      "cell_type": "code",
      "execution_count": null,
      "metadata": {
        "tags": [
          "exercise"
        ]
      },
      "outputs": [],
      "source": []
    },
    {
      "cell_type": "markdown",
      "metadata": {
        "cell_id": "1df34f920b764c018d9727b736f1e12a",
        "deepnote_cell_height": 730.953125,
        "deepnote_cell_type": "markdown",
        "tags": []
      },
      "source": [
        "## Sequence-Unpacking Loop Pattern\n",
        "\n",
        "Loops are also useful when you have a collection of collections (e.g. a list of lists).\n",
        "When it's a collection of same-length sequences, you can break apart each sequence inside the loop and work with it:\n",
        "\n",
        "```python\n",
        "pairs = [[4, 5], [7, 8], [2, 9]]\n",
        "sums = []\n",
        "for pair in pairs:\n",
        "    first = pair[0]\n",
        "    second = pair[1]\n",
        "    sums.append(first + second)\n",
        "```\n",
        ".\n",
        "\n",
        "This is so common, that python provides some syntactic sugar (i.e. a shortcut) for breaking known-length sequences apart, called **\"Unpacking\"**\n",
        ".\n",
        "\n",
        "```python\n",
        "pairs = [[4, 5], [7, 8], [2, 9]]\n",
        "sums = []\n",
        "for pair in pairs:\n",
        "    first, second = pair\n",
        "    sums.append(first + second)\n",
        "```\n",
        ".\n",
        "\n",
        "This can even be done in the header of the for-loop!\n",
        "\n",
        "```python\n",
        "pairs = [[4, 5], [7, 8], [2, 9]]\n",
        "sums = []\n",
        "for first, second in pairs:\n",
        "    sums.append(first + second)\n",
        "```"
      ]
    },
    {
      "cell_type": "markdown",
      "metadata": {
        "cell_id": "69b295907ecf49d8bf007482b01eba1c",
        "deepnote_cell_height": 52.34375,
        "deepnote_cell_type": "markdown",
        "tags": []
      },
      "source": [
        "**Exercises**"
      ]
    },
    {
      "cell_type": "markdown",
      "metadata": {
        "cell_id": "1cabeb95dff44deba020056d29ee6985",
        "deepnote_cell_height": 52.34375,
        "deepnote_cell_type": "markdown",
        "tags": []
      },
      "source": [
        "Make a list of the sum of each number pair"
      ]
    },
    {
      "cell_type": "code",
      "execution_count": null,
      "metadata": {
        "cell_id": "f8fbd735bc8c415ea3abcad878fd5ee6",
        "deepnote_cell_height": 80.953125,
        "deepnote_cell_type": "code",
        "deepnote_to_be_reexecuted": false,
        "execution_millis": 0,
        "execution_start": 1634193665675,
        "source_hash": "2c8eda3e",
        "tags": []
      },
      "outputs": [],
      "source": [
        "pairs = [[4, 7], [7, 2], [10, 2], [5, 9]]"
      ]
    },
    {
      "cell_type": "code",
      "execution_count": null,
      "metadata": {
        "tags": [
          "exercise"
        ]
      },
      "outputs": [],
      "source": []
    },
    {
      "cell_type": "markdown",
      "metadata": {
        "cell_id": "f4bde44ec29547dd8ff92e90ed3703ae",
        "deepnote_cell_height": 52.34375,
        "deepnote_cell_type": "markdown",
        "tags": []
      },
      "source": [
        "Write each sequence to its corresponding a file"
      ]
    },
    {
      "cell_type": "code",
      "execution_count": null,
      "metadata": {
        "cell_id": "0c6566e48298492a81ab312d1bef9f57",
        "deepnote_cell_height": 152.953125,
        "deepnote_cell_type": "code",
        "deepnote_to_be_reexecuted": false,
        "execution_millis": 9,
        "execution_start": 1634193800852,
        "source_hash": "1e246064",
        "tags": []
      },
      "outputs": [],
      "source": [
        "dataset = [\n",
        "    ('seq1.txt', 'GACCAGTA'),\n",
        "    ('seqA.txt', 'GGAGAGTATAC'),\n",
        "    ('myseq.txt', 'GTTTAAC'),\n",
        "]"
      ]
    },
    {
      "cell_type": "code",
      "execution_count": null,
      "metadata": {
        "tags": [
          "exercise"
        ]
      },
      "outputs": [],
      "source": []
    },
    {
      "cell_type": "markdown",
      "metadata": {
        "cell_id": "1753d188921344cd8f778d57681cff80",
        "deepnote_cell_height": 97.109375,
        "deepnote_cell_type": "markdown",
        "tags": []
      },
      "source": [
        "Make a list of Trues and Falses, saying whether the first sequence (the wild-type) in each triplet has more G's than both the second and third sequence in the triplet (the two experimental sequences)"
      ]
    },
    {
      "cell_type": "code",
      "execution_count": null,
      "metadata": {
        "cell_id": "f497276a335c4f378fd42dade610f048",
        "deepnote_cell_height": 188.953125,
        "deepnote_cell_type": "code",
        "deepnote_to_be_reexecuted": false,
        "execution_millis": 3,
        "execution_start": 1634194257070,
        "source_hash": "f2e588d",
        "tags": []
      },
      "outputs": [],
      "source": [
        "seq_collections = [\n",
        "    ('GACAGGAGATTA', 'GACCAGATA', 'GCCAGAGGATAA'),\n",
        "    ('gacccatagag', 'CAGATAcaga', 'GAGGAACCaca'),\n",
        "    ('ACCAGATA', 'GAGAAAGACCA', 'CCAGAGATATTA'),\n",
        "    ('AGGGACCCCA', 'CGCCCACCACCG', 'CCCATTATC'),\n",
        "]\n"
      ]
    },
    {
      "cell_type": "code",
      "execution_count": null,
      "metadata": {
        "tags": [
          "exercise"
        ]
      },
      "outputs": [],
      "source": []
    }
  ],
  "metadata": {
    "deepnote": {
      "is_reactive": false
    },
    "deepnote_execution_queue": [],
    "deepnote_notebook_id": "db0d2ab26654474ea3e8d0428297f04b",
    "kernelspec": {
      "display_name": "Python 3 (ipykernel)",
      "language": "python",
      "name": "python3"
    },
    "language_info": {
      "codemirror_mode": {
        "name": "ipython",
        "version": 3
      },
      "file_extension": ".py",
      "mimetype": "text/x-python",
      "name": "python",
      "nbconvert_exporter": "python",
      "pygments_lexer": "ipython3",
      "version": "3.10.4"
    },
    "vscode": {
      "interpreter": {
        "hash": "d6852d01271bf8033dbdb7ec364b6f6e89fd52a18c6bf5b4c73e48c86329a8dd"
      }
    }
  },
  "nbformat": 4,
  "nbformat_minor": 4
}