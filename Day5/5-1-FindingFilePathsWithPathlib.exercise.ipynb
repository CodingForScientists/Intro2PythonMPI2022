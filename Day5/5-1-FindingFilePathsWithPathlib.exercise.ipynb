{
  "cells": [
    {
      "cell_type": "code",
      "execution_count": 1,
      "metadata": {},
      "outputs": [],
      "source": [
        "from pathlib import Path"
      ]
    },
    {
      "cell_type": "markdown",
      "metadata": {},
      "source": [
        "Run the code below to generate the data for this notebook:"
      ]
    },
    {
      "cell_type": "code",
      "execution_count": 7,
      "metadata": {},
      "outputs": [],
      "source": []
    },
    {
      "cell_type": "markdown",
      "metadata": {},
      "source": [
        "# Working with File Paths\n",
        "\n",
        "There's a lot of information in a file path; it's more than just a string!  For example, in the following path we might want to learn the following|\n",
        "\n",
        "`C|\\\\Users\\Nick\\Documents\\Photos\\greece.jpg`, `../Desktop/Photos`, and `/usr/nickdg/desktop/data/mouse.ome.tif`\n",
        "\n",
        "  - Whether the path is an **absolute** path on the filesystem or is **relative** to the current working directory,\n",
        "  \n",
        "   - What drive the data is on,\n",
        "   \n",
        "   - What directory or directories the file is inside,\n",
        "   \n",
        "   - Whether a file or folder is listed,\n",
        "   \n",
        "   - What the file's name is ,\n",
        "   \n",
        "   - What the file's extension is,\n",
        "   \n",
        "   - Whether the file exists on our computer or not.\n",
        "   \n",
        "... and so on.  If we want to extract this data, we could do some fancy coding to figure it out from the string itself, but there's no need--the built-in `pathlib.Path` type has a lot of helper methods to get this information.\n"
      ]
    },
    {
      "cell_type": "markdown",
      "metadata": {},
      "source": [
        "## Dessecting File Paths into components using the PathLib package\n",
        "\n",
        "These methods are taken from the pathlib documentation: https://docs.python.org/3/library/pathlib.html\n",
        "\n",
        "**`Path` Attributes: Get the Drive, Directory, Name, Extension, etc  **\n",
        "\n",
        "| Path method | Description |\n",
        "| :---  | :--- |\n",
        "| `Path.name` | Filename, without the directory | \n",
        "| `Path.stem` | Directory, without the Filename |\n",
        "| `Path.parent`| Parent Directory |\n",
        "| `Path.suffix`| File extension (str) |\n",
        "| `Path.suffixes`| List of File extensions (List of str) |\n",
        "| `Path.parts`| Split the path string into a list of string |\n",
        "| `Path.exists()` | Check whether this file exists on the current computer |\n",
        "| `Path.resolve()` | Compute the absolute path where the filepath will be relative to the working directory |\n",
        "| `Path.is_absolute()`| Whether the path is an absolute filepath or not |\n",
        "| `Path.is_dir()` | Whether the filepath is a directory or not |\n",
        "| `Path.is_file()` | Whether the filepath is a file or not |\n"
      ]
    },
    {
      "cell_type": "code",
      "execution_count": 8,
      "metadata": {},
      "outputs": [],
      "source": [
        "from pathlib import Path"
      ]
    },
    {
      "cell_type": "markdown",
      "metadata": {},
      "source": [
        "**Exercises**: In each example, answer the following question about the path given.  If the variable is a string, you'll probably want to make it into a `Path()` first to access the path attributes."
      ]
    },
    {
      "cell_type": "markdown",
      "metadata": {},
      "source": [
        "Use the `filepath` variable below to answer the following questions:"
      ]
    },
    {
      "cell_type": "code",
      "execution_count": 9,
      "metadata": {},
      "outputs": [
        {
          "data": {
            "text/plain": [
              "PosixPath('data/raw/iris.csv')"
            ]
          },
          "execution_count": 9,
          "metadata": {},
          "output_type": "execute_result"
        }
      ],
      "source": [
        "filepath = Path(\"data/raw/iris.csv\")\n",
        "filepath"
      ]
    },
    {
      "cell_type": "markdown",
      "metadata": {},
      "source": [
        "*Example*: does the path described in `filepath` currently exist on the computer?"
      ]
    },
    {
      "cell_type": "code",
      "execution_count": 12,
      "metadata": {},
      "outputs": [
        {
          "data": {
            "text/plain": [
              "False"
            ]
          },
          "execution_count": 12,
          "metadata": {},
          "output_type": "execute_result"
        }
      ],
      "source": [
        "filepath.exists()"
      ]
    },
    {
      "cell_type": "markdown",
      "metadata": {},
      "source": [
        "What is the name of the file described in this filepath?"
      ]
    },
    {
      "cell_type": "code",
      "execution_count": 10,
      "metadata": {
        "tags": [
          "exercise"
        ]
      },
      "outputs": [],
      "source": []
    },
    {
      "cell_type": "markdown",
      "metadata": {},
      "source": [
        "What is the parent folder of the file described in this filepath?"
      ]
    },
    {
      "cell_type": "code",
      "execution_count": 11,
      "metadata": {
        "tags": [
          "exercise"
        ]
      },
      "outputs": [],
      "source": []
    },
    {
      "cell_type": "markdown",
      "metadata": {},
      "source": [
        "What is the file extension (e.g. the \"suffix\") of the file described in this filepath?"
      ]
    },
    {
      "cell_type": "code",
      "execution_count": 13,
      "metadata": {
        "tags": [
          "exercise"
        ]
      },
      "outputs": [],
      "source": []
    },
    {
      "cell_type": "markdown",
      "metadata": {},
      "source": [
        "What is the name of the file *without* the extension (e.g. the \"stem\") of the file described in this filepath?"
      ]
    },
    {
      "cell_type": "code",
      "execution_count": 18,
      "metadata": {
        "tags": [
          "exercise"
        ]
      },
      "outputs": [],
      "source": []
    },
    {
      "cell_type": "markdown",
      "metadata": {},
      "source": [
        "What is the parent directory of the parent directory of the file described in this filepath?"
      ]
    },
    {
      "cell_type": "code",
      "execution_count": 17,
      "metadata": {
        "tags": [
          "exercise"
        ]
      },
      "outputs": [],
      "source": []
    },
    {
      "cell_type": "markdown",
      "metadata": {},
      "source": [
        "Where exactly would this file be on the computer, if it were to be created?  (i.e. What would its absolute path *resolve* to?)"
      ]
    },
    {
      "cell_type": "code",
      "execution_count": 19,
      "metadata": {
        "tags": [
          "exercise"
        ]
      },
      "outputs": [],
      "source": []
    },
    {
      "cell_type": "markdown",
      "metadata": {},
      "source": [
        "Sometimes functions don't accept a `Path` type, but rather prefer it given as a string. Make this path into a `str` type using the `str()` function:"
      ]
    },
    {
      "cell_type": "code",
      "execution_count": null,
      "metadata": {
        "tags": [
          "exercise"
        ]
      },
      "outputs": [],
      "source": []
    },
    {
      "cell_type": "markdown",
      "metadata": {},
      "source": [
        "\n",
        "\n",
        "**`Path` Methods: Transform one File Path into another Path**\n",
        "\n",
        "| Path method | Description |  Example |\n",
        "| :---  | :--- | :--- |\n",
        "| `Path.joinpath()` | Append a new path onto the existing one. | `Path('scripts').joinpath('process.py')` |\n",
        "| `Path.__div__()'`  | Another way to append a new path onto the existing one. | `Path('scripts') / 'process.py'` |\n",
        "| `Path.with_name()` |  Make a new filename in the same directory | `Path('data/file01.txt').with_name('newfile.txt')` |\n",
        "| `Path.with_suffix()`| Make a new filename except change the file extension | `Path('data/image.png').with_suffix('.tif')` |\n",
        "| `Path.mkdir(parents=True, exist_ok=True)` | If the path is a folder, make the folder | |\n",
        "| `Path.touch(exist_ok=True)` | If the path is a file, make the file with nothing inside it | |\n",
        "| `list(Path.glob(pattern))` | Find all the Paths that match a pattern | `list(Path('data').glob(**/*.csv))` |"
      ]
    },
    {
      "cell_type": "code",
      "execution_count": 2,
      "metadata": {},
      "outputs": [],
      "source": [
        "from pathlib import Path"
      ]
    },
    {
      "cell_type": "markdown",
      "metadata": {},
      "source": [
        "**Exercises**: Use the `folder` Path below to do the following exercises:"
      ]
    },
    {
      "cell_type": "code",
      "execution_count": 4,
      "metadata": {},
      "outputs": [],
      "source": [
        "folder = Path(\"data/processed/day1\")"
      ]
    },
    {
      "cell_type": "markdown",
      "metadata": {},
      "source": [
        "Does this folder exist on the computer right now?"
      ]
    },
    {
      "cell_type": "code",
      "execution_count": 5,
      "metadata": {
        "tags": [
          "exercise"
        ]
      },
      "outputs": [],
      "source": []
    },
    {
      "cell_type": "markdown",
      "metadata": {},
      "source": [
        "If the folder doesn't exist, then make it."
      ]
    },
    {
      "cell_type": "code",
      "execution_count": 6,
      "metadata": {
        "tags": [
          "exercise"
        ]
      },
      "outputs": [],
      "source": []
    },
    {
      "cell_type": "markdown",
      "metadata": {},
      "source": [
        "Make a new path to specify a data file inside the folder, joining the file \"spikes.txt\" to the folder."
      ]
    },
    {
      "cell_type": "code",
      "execution_count": 7,
      "metadata": {
        "tags": [
          "exercise"
        ]
      },
      "outputs": [],
      "source": []
    },
    {
      "cell_type": "markdown",
      "metadata": {},
      "source": [
        "Make this file exist as an empty file (e.g. \"touch\" the file)"
      ]
    },
    {
      "cell_type": "code",
      "execution_count": 8,
      "metadata": {
        "tags": [
          "exercise"
        ]
      },
      "outputs": [],
      "source": []
    },
    {
      "cell_type": "markdown",
      "metadata": {},
      "source": [
        "Make a new path to specify another data file inside the folder: \"image.png\""
      ]
    },
    {
      "cell_type": "code",
      "execution_count": 9,
      "metadata": {
        "tags": [
          "exercise"
        ]
      },
      "outputs": [],
      "source": []
    },
    {
      "cell_type": "markdown",
      "metadata": {},
      "source": [
        "Make this new image.png file exist on the computer:"
      ]
    },
    {
      "cell_type": "code",
      "execution_count": 10,
      "metadata": {
        "tags": [
          "exercise"
        ]
      },
      "outputs": [],
      "source": []
    },
    {
      "cell_type": "markdown",
      "metadata": {},
      "source": [
        "Take the image path and specify another one with a different file extension, this time the \".svg\" extension:"
      ]
    },
    {
      "cell_type": "code",
      "execution_count": 11,
      "metadata": {
        "tags": [
          "exercise"
        ]
      },
      "outputs": [],
      "source": []
    },
    {
      "cell_type": "markdown",
      "metadata": {},
      "source": [
        "Make this new image.svg file exist on the computer:"
      ]
    },
    {
      "cell_type": "code",
      "execution_count": 12,
      "metadata": {
        "tags": [
          "exercise"
        ]
      },
      "outputs": [],
      "source": []
    },
    {
      "cell_type": "markdown",
      "metadata": {},
      "source": [
        "Using the original `folder` Path, list all the files contining the word \"image\":"
      ]
    },
    {
      "cell_type": "code",
      "execution_count": 14,
      "metadata": {
        "tags": [
          "exercise"
        ]
      },
      "outputs": [],
      "source": []
    },
    {
      "cell_type": "markdown",
      "metadata": {},
      "source": [
        "Make a path for the current directory (`Path('.')`), and list all the .ipynb files there"
      ]
    },
    {
      "cell_type": "code",
      "execution_count": null,
      "metadata": {
        "tags": [
          "exercise"
        ]
      },
      "outputs": [],
      "source": []
    },
    {
      "cell_type": "markdown",
      "metadata": {},
      "source": [
        "## Making Paths Real\n",
        "\n",
        "### New (Empty) File Creation:  \n",
        "\n",
        "  - `Path(\"mypath.txt\").touch()`\n",
        "  - `Path(\"mypath.txt\").open(mode=\"w\")`\n",
        "  \n",
        "### New Folder Creation: \n",
        "\n",
        "  - `Path(\"myfolder\").mkdir()`\n",
        "  - `Path(\"myfolder\").mkdir(exist_ok=True)`\n",
        "  - `Path(\"myfolder1/myfolder2/myfolder3\").mkdir(parents=True)`\n",
        "   \n",
        "### Opening, Reading, Writing to a File:\n",
        "\n",
        "#### Text Data:\n",
        "\n",
        "  - `text = Path(\"myfile.txt\").read_text()`\n",
        "  - `text = Path(\"myfile.txt\").write_text()`\n",
        "  - `text = Path(\"myfile.txt\").open(mode=\"r\").read()`\n",
        "  - `Path(\"myfile.txt\").open(mode=\"w\").write(text)`\n",
        "\n",
        "#### Binary (raw bytes) Data:\n",
        "\n",
        "  - `raw = Path(\"myfile.dat\").read_bytes()`\n",
        "  - `raw = Path(\"myfile.data\").write_bytes()`\n",
        "  - `raw = Path(\"myfile.dat\").open(mode=\"rb\").read()`\n",
        "  - `Path(\"myfile.dat\").open(mode=\"wb\").write(raw)`\n",
        "  \n",
        "  \n",
        "  \n",
        "  "
      ]
    },
    {
      "cell_type": "markdown",
      "metadata": {},
      "source": [
        "**Exercises**"
      ]
    },
    {
      "cell_type": "markdown",
      "metadata": {},
      "source": [
        "Make a new folder called \"NewFolder\""
      ]
    },
    {
      "cell_type": "code",
      "execution_count": null,
      "metadata": {
        "tags": [
          "exercise"
        ]
      },
      "outputs": [],
      "source": []
    },
    {
      "cell_type": "markdown",
      "metadata": {},
      "source": [
        "Make a \"Hello Beautiful World\" text file: **hello.txt**."
      ]
    },
    {
      "cell_type": "code",
      "execution_count": null,
      "metadata": {
        "tags": [
          "exercise"
        ]
      },
      "outputs": [],
      "source": []
    },
    {
      "cell_type": "markdown",
      "metadata": {},
      "source": [
        "Make a \"Goodbye Cruel World\" text file: **bye.txt**, using a different method."
      ]
    },
    {
      "cell_type": "code",
      "execution_count": null,
      "metadata": {
        "tags": [
          "exercise"
        ]
      },
      "outputs": [],
      "source": []
    },
    {
      "cell_type": "markdown",
      "metadata": {},
      "source": [
        "Read from your hello file to a string variable and display the contents"
      ]
    },
    {
      "cell_type": "code",
      "execution_count": null,
      "metadata": {
        "tags": [
          "exercise"
        ]
      },
      "outputs": [],
      "source": []
    },
    {
      "cell_type": "markdown",
      "metadata": {},
      "source": [
        "Using a different method, read from your bye file to a string variable and display the contents."
      ]
    },
    {
      "cell_type": "code",
      "execution_count": null,
      "metadata": {
        "tags": [
          "exercise"
        ]
      },
      "outputs": [],
      "source": []
    }
  ],
  "metadata": {
    "kernelspec": {
      "display_name": "Python 3 (ipykernel)",
      "language": "python",
      "name": "python3"
    },
    "language_info": {
      "codemirror_mode": {
        "name": "ipython",
        "version": 3
      },
      "file_extension": ".py",
      "mimetype": "text/x-python",
      "name": "python",
      "nbconvert_exporter": "python",
      "pygments_lexer": "ipython3",
      "version": "3.10.4 (main, Mar 31 2022, 08:41:55) [GCC 7.5.0]"
    },
    "metadata": {
      "interpreter": {
        "hash": "96aaef06ee4620efb4426efa9d33cf4f7340991f4df94558c663a28125b37508"
      }
    },
    "vscode": {
      "interpreter": {
        "hash": "d6852d01271bf8033dbdb7ec364b6f6e89fd52a18c6bf5b4c73e48c86329a8dd"
      }
    }
  },
  "nbformat": 4,
  "nbformat_minor": 4
}