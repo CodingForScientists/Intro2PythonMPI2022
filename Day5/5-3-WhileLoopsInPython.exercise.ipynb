{
  "cells": [
    {
      "cell_type": "markdown",
      "metadata": {
        "cell_id": "3bc2572d966049469e5fd41e4f018bef",
        "deepnote_cell_height": 1053.546875,
        "deepnote_cell_type": "markdown",
        "tags": []
      },
      "source": [
        "## While Loops\n",
        "\n",
        "While loops *repeat* a block of code.  In this notebook, we'll look at some common uses of while loops and the patterns that surround them.\n",
        "\n",
        "\n",
        "### Infinite Loops and Breaking Them\n",
        "\n",
        "\n",
        "If the condition is always `True`, then the block of code will run an unlimited number of times; this is called an \"infinite loop\".  To have a loop run infinitely, the header will simply say `while True`!\n",
        "\n",
        "```python\n",
        "while True: \n",
        "    print(\"I'm running!\")\n",
        "```\n",
        ".\n",
        "\n",
        "*Tip*: If your code is running endlessly, you can **interrupt** it by either clicking the stop button (Deepnote, Jupyter) or pressing \"Ctrl-C' (everywhere else most cases)\n",
        "\n",
        "What if you want the computer to break out of the loop, and continue to the next lines of code?  Just put the keyword `break` where you want the loop to stop.  The following code will thus only run the while loop once:\n",
        "\n",
        "```python\n",
        "while True:\n",
        "    print(\"I'm running!\")\n",
        "    break\n",
        "\n",
        "print(\"I'm done.\")\n",
        "```\n",
        ".\n",
        "\n",
        "If you want to run the loop a set number of times, you could also insert an `if` block to only `break` the loop given a certain condition.  For example, the following loop will run a variable number of times:\n",
        "\n",
        "```python\n",
        "from random import randint\n",
        "while True:\n",
        "    print(\"I'm running!\")\n",
        "    if randint(0, 10) < 2:\n",
        "        break\n",
        "print(\"I'm done\")\n",
        "```\n",
        ".\n"
      ]
    },
    {
      "cell_type": "code",
      "execution_count": null,
      "metadata": {
        "cell_id": "805499c70e304372943312576f7fadbb",
        "deepnote_cell_height": 81,
        "deepnote_cell_type": "code",
        "deepnote_to_be_reexecuted": false,
        "execution_millis": 1,
        "execution_start": 1652965918556,
        "source_hash": "daaed9b1",
        "tags": []
      },
      "outputs": [],
      "source": [
        "import time"
      ]
    },
    {
      "cell_type": "code",
      "execution_count": null,
      "metadata": {
        "cell_id": "f92aeda0ff664d309e9a053111ba33fb",
        "deepnote_cell_height": 219.953125,
        "deepnote_cell_type": "code",
        "deepnote_to_be_reexecuted": false,
        "execution_millis": 5,
        "execution_start": 1652966139907,
        "source_hash": "433782b0",
        "tags": []
      },
      "outputs": [
        {
          "name": "stdout",
          "output_type": "stream",
          "text": [
            "I am done\n"
          ]
        }
      ],
      "source": [
        "while True:\n",
        "    if 3 > 2:\n",
        "        break\n",
        "    time.sleep(.5)\n",
        "    print('I am running...')\n",
        "    \n",
        "print('I am done')"
      ]
    },
    {
      "cell_type": "markdown",
      "metadata": {
        "cell_id": "170c8ad7624145a08a7da49fcdf3e8ab",
        "deepnote_cell_height": 52.390625,
        "deepnote_cell_type": "markdown",
        "tags": []
      },
      "source": [
        "**Exercises**"
      ]
    },
    {
      "cell_type": "markdown",
      "metadata": {
        "cell_id": "48d20ae4a8b746fe847869958da0ad83",
        "deepnote_cell_height": 97.1875,
        "deepnote_cell_type": "markdown",
        "tags": []
      },
      "source": [
        "Write an infinite loop that prints \"Hello, world!\" over and over again.  (remember to press the stop button when you want the computer to stop printing things!)"
      ]
    },
    {
      "cell_type": "code",
      "execution_count": null,
      "metadata": {
        "cell_id": "5dd6d006613a4bb9981f6a0a3ef4a41b",
        "deepnote_cell_height": 325.9375,
        "deepnote_cell_type": "code",
        "deepnote_to_be_reexecuted": false,
        "execution_millis": 6784,
        "execution_start": 1652966259991,
        "source_hash": "614ff8a2",
        "tags": [
          "exercise"
        ]
      },
      "outputs": [],
      "source": []
    },
    {
      "cell_type": "markdown",
      "metadata": {
        "cell_id": "20fc729198c84b508f88055390e76089",
        "deepnote_cell_height": 119.59375,
        "deepnote_cell_type": "markdown",
        "tags": []
      },
      "source": [
        "Write an infinite loop that randomly prints either \"Red\" or \"Blue\" over and over again.  (remember to press the stop button when you want the computer to stop printing things!)"
      ]
    },
    {
      "cell_type": "code",
      "execution_count": null,
      "metadata": {
        "cell_id": "59512af510d448d3b813ad77e792190e",
        "deepnote_cell_height": 481.6875,
        "deepnote_cell_type": "code",
        "deepnote_to_be_reexecuted": false,
        "execution_millis": 6232,
        "execution_start": 1652966558683,
        "source_hash": "a9a9c1cd",
        "tags": [
          "exercise"
        ]
      },
      "outputs": [],
      "source": []
    },
    {
      "cell_type": "markdown",
      "metadata": {
        "cell_id": "d42ab59878084204867ad95ec06cfbcb",
        "deepnote_cell_height": 74.796875,
        "deepnote_cell_type": "markdown",
        "tags": []
      },
      "source": [
        "Write a loop that randomly prints either \"Red\" or \"Blue\", but stops after doing it eight times. (using `if` and `break`)"
      ]
    },
    {
      "cell_type": "code",
      "execution_count": null,
      "metadata": {
        "cell_id": "8e73fce5deca4bcdb512f1cb82126c07",
        "deepnote_cell_height": 415.625,
        "deepnote_cell_type": "code",
        "deepnote_to_be_reexecuted": false,
        "execution_millis": 4515,
        "execution_start": 1652966918908,
        "source_hash": "81d1672",
        "tags": [
          "exercise"
        ]
      },
      "outputs": [],
      "source": []
    },
    {
      "cell_type": "markdown",
      "metadata": {
        "cell_id": "0b79321327b940afa8db77d281daca42",
        "deepnote_cell_height": 74.796875,
        "deepnote_cell_type": "markdown",
        "tags": []
      },
      "source": [
        "Write an infinite loop that prints a random integer every 0.75 seconds, stopping after 4 prints"
      ]
    },
    {
      "cell_type": "code",
      "execution_count": null,
      "metadata": {
        "cell_id": "e016e7da1fc94bf0a974b2b652fd93b3",
        "deepnote_cell_height": 315.828125,
        "deepnote_cell_type": "code",
        "deepnote_to_be_reexecuted": false,
        "execution_millis": 3300,
        "execution_start": 1652967145254,
        "owner_user_id": "37496921-8bbd-46c8-8c0a-510c79cdf5f6",
        "source_hash": "8f879217",
        "tags": [
          "exercise"
        ]
      },
      "outputs": [],
      "source": []
    },
    {
      "cell_type": "markdown",
      "metadata": {
        "cell_id": "e08d63b8fb1949b8a93fe6f3288dc949",
        "deepnote_cell_height": 97.1875,
        "deepnote_cell_type": "markdown",
        "deepnote_to_be_reexecuted": false,
        "execution_millis": 5,
        "execution_start": 1651010288473,
        "owner_user_id": "c7a9f7f2-eddd-41d5-be7d-5159ad6417bb",
        "source_hash": "5a6a0575",
        "tags": []
      },
      "source": [
        "Write an infinite loop out of the code below that displays 3 random pictures.  (picsum.photos automatically returns random photos on request)"
      ]
    },
    {
      "cell_type": "code",
      "execution_count": 1,
      "metadata": {},
      "outputs": [
        {
          "data": {
            "image/png": "[encoded data removed]",
            "text/plain": [
              "<PIL.JpegImagePlugin.JpegImageFile image mode=RGB size=200x100>"
            ]
          },
          "metadata": {},
          "output_type": "display_data"
        }
      ],
      "source": [
        "from requests import get\n",
        "from PIL import Image\n",
        "from io import BytesIO\n",
        "from IPython.display import display\n",
        "image_data = get(\"https://picsum.photos/200/100\").content  # get an image from this website\n",
        "image = Image.open(BytesIO(image_data))                    # make an Image object from the data\n",
        "display(image) "
      ]
    },
    {
      "cell_type": "code",
      "execution_count": null,
      "metadata": {
        "cell_id": "9a27632494dd427d80ef0ee03f259110",
        "deepnote_cell_height": 947,
        "deepnote_cell_type": "code",
        "deepnote_to_be_reexecuted": false,
        "execution_millis": 6091,
        "execution_start": 1652967354136,
        "owner_user_id": "e3492e5f-3e34-4c6f-aeb4-cc996534dc1a",
        "source_hash": "53d6b599",
        "tags": [
          "exercise"
        ]
      },
      "outputs": [],
      "source": []
    },
    {
      "cell_type": "markdown",
      "metadata": {
        "cell_id": "c3e29255703e4de4afdad1920d928821",
        "deepnote_cell_height": 479.96875,
        "deepnote_cell_type": "markdown",
        "tags": []
      },
      "source": [
        "### Pattern: Putting a Condition in the Header, Limiting Loops with an Incrementer Variable\n",
        "\n",
        "Using `break` can make code a hard to follow, turning the code into more of a puzzle than a statement of how you want the code to work.  For this reason, `while` loops can take a logical statement, code runs at the beginning of each loop to decide if the loop should run again (True) or break (False).  Because you're usually checking the state of a variable, it's common to create the variable right before the start of the loop.\n",
        "\n",
        "```\n",
        "x = 0              # Initialize the incrementer\n",
        "while x < 4:       # Set the loop breaking condition\n",
        "  x += 1           # *incrementing* the incrementer\n",
        "  print(\"Hello!\")  # Do the work\n",
        "```"
      ]
    },
    {
      "cell_type": "markdown",
      "metadata": {
        "cell_id": "c20e8f85716742ec8bc02e8213b7c54f",
        "deepnote_cell_height": 74.796875,
        "deepnote_cell_type": "markdown",
        "tags": []
      },
      "source": [
        "**Exercises**: Using `while` loops and the incrementer pattern (no `if` nor `break`), do the following tasks:"
      ]
    },
    {
      "cell_type": "markdown",
      "metadata": {
        "cell_id": "1e2a202301dd43989dfa621bc5be7364",
        "deepnote_cell_height": 52.390625,
        "deepnote_cell_type": "markdown",
        "tags": []
      },
      "source": [
        "Print \"Hello World\" 10 times"
      ]
    },
    {
      "cell_type": "code",
      "execution_count": null,
      "metadata": {
        "cell_id": "94c794d0e3d14bb390fc4cec38925882",
        "deepnote_cell_height": 66,
        "deepnote_cell_type": "code",
        "tags": [
          "exercise"
        ]
      },
      "outputs": [],
      "source": []
    },
    {
      "cell_type": "markdown",
      "metadata": {
        "cell_id": "b02b80fda48e4f7abaa35b96ccca25bd",
        "deepnote_cell_height": 52.390625,
        "deepnote_cell_type": "markdown",
        "tags": []
      },
      "source": [
        "Compute $20!$ (20 factorial, i.e. 1 x 2 x 3 x 4 x 5... x 20)  "
      ]
    },
    {
      "cell_type": "code",
      "execution_count": null,
      "metadata": {
        "cell_id": "72902a9e5b5641ccb69714a338886cde",
        "deepnote_cell_height": 81,
        "deepnote_cell_type": "code",
        "deepnote_to_be_reexecuted": false,
        "execution_millis": 1,
        "execution_start": 1637223387702,
        "source_hash": "b623e53d",
        "tags": [
          "exercise"
        ]
      },
      "outputs": [],
      "source": []
    },
    {
      "cell_type": "markdown",
      "metadata": {
        "cell_id": "5b4f3826b1f046f1b04c8b0c16045865",
        "deepnote_cell_height": 88.796875,
        "deepnote_cell_type": "markdown",
        "tags": []
      },
      "source": [
        "Compute 1 + 2 - 3 + 4 - 5 + 6 - 7... until 100. \n",
        "\n",
        "*Tip*: `x % 2` helps determine if a number is odd or even"
      ]
    },
    {
      "cell_type": "code",
      "execution_count": null,
      "metadata": {
        "cell_id": "47b89f18bd2f405490eb2f4802df111e",
        "deepnote_cell_height": 66,
        "deepnote_cell_type": "code",
        "tags": [
          "exercise"
        ]
      },
      "outputs": [],
      "source": []
    },
    {
      "cell_type": "markdown",
      "metadata": {
        "cell_id": "def42fec6f34491e9bbbc482aedbc33b",
        "deepnote_cell_height": 74.796875,
        "deepnote_cell_type": "markdown",
        "tags": []
      },
      "source": [
        "print N, for which the sum of all the numbers from 1 to N is less than 200"
      ]
    },
    {
      "cell_type": "code",
      "execution_count": null,
      "metadata": {
        "cell_id": "f3cf4c8a6f4d4d06b4f7e8a461fdbdfd",
        "deepnote_cell_height": 81,
        "deepnote_cell_type": "code",
        "deepnote_to_be_reexecuted": false,
        "execution_millis": 1,
        "execution_start": 1637223709953,
        "source_hash": "b623e53d",
        "tags": [
          "exercise"
        ]
      },
      "outputs": [],
      "source": []
    },
    {
      "cell_type": "markdown",
      "metadata": {
        "cell_id": "06c18374162742b39681074321d63c00",
        "deepnote_cell_height": 74.796875,
        "deepnote_cell_type": "markdown",
        "tags": []
      },
      "source": [
        "Print all the fractions from $\\frac{1}{12}$ to $\\frac{12}{12}$, reduced to its simplest form (e.g. $\\frac{2}{12}$ can be reduced to the simpler $\\frac{1}{6}$)"
      ]
    },
    {
      "cell_type": "code",
      "execution_count": null,
      "metadata": {
        "cell_id": "617bb41e976b42cdbbd18f0dd8213bbb",
        "deepnote_cell_height": 186,
        "deepnote_cell_type": "code",
        "deepnote_to_be_reexecuted": false,
        "execution_millis": 490,
        "execution_start": 1651214707824,
        "source_hash": "94d935a1",
        "tags": []
      },
      "outputs": [
        {
          "name": "stdout",
          "output_type": "stream",
          "text": [
            "1/12\n",
            "1/6\n"
          ]
        }
      ],
      "source": [
        "from fractions import Fraction\n",
        "print(Fraction(1, 12))\n",
        "print(Fraction(2, 12))\n"
      ]
    },
    {
      "cell_type": "code",
      "execution_count": null,
      "metadata": {
        "tags": [
          "exercise"
        ]
      },
      "outputs": [],
      "source": []
    },
    {
      "cell_type": "markdown",
      "metadata": {
        "cell_id": "66fd94420dee40a0b9a040d5943da984",
        "deepnote_cell_height": 52.390625,
        "deepnote_cell_type": "markdown",
        "tags": []
      },
      "source": [
        "Adapt the code below to print the name of each file in this folder and its file size."
      ]
    },
    {
      "cell_type": "code",
      "execution_count": 3,
      "metadata": {
        "cell_id": "c841ac6e2cd24872ba98a7813939e0d4",
        "deepnote_cell_height": 244.78125,
        "deepnote_cell_type": "code",
        "deepnote_to_be_reexecuted": false,
        "execution_millis": 7,
        "execution_start": 1651215340733,
        "source_hash": "4a2d44e7",
        "tags": []
      },
      "outputs": [
        {
          "name": "stdout",
          "output_type": "stream",
          "text": [
            "['Python Blocks While Loops.ipynb', 'exercise_data', 'Python Blocks For Loops Alt.ipynb']\n",
            "Python Blocks While Loops.ipynb 275.83984375 kb\n"
          ]
        }
      ],
      "source": [
        "import os\n",
        "filenames = os.listdir('.')\n",
        "print(filenames[:3])\n",
        "filename = filenames[0]\n",
        "file_stats = os.stat(filenames[0])\n",
        "file_size = file_stats.st_size / 1024   # convert size to kilobytes\n",
        "print(filename, file_size, 'kb')"
      ]
    },
    {
      "cell_type": "code",
      "execution_count": null,
      "metadata": {
        "tags": [
          "exercise"
        ]
      },
      "outputs": [],
      "source": []
    },
    {
      "cell_type": "markdown",
      "metadata": {
        "cell_id": "2554a302346840088b3747ac6e36e390",
        "deepnote_cell_height": 506.765625,
        "deepnote_cell_type": "markdown",
        "tags": []
      },
      "source": [
        "### Initializing a Data Structure\n",
        "\n",
        "The \"pre-initializing\" step is also used for data structures that are built-up inside a loop.\n",
        "\n",
        "```python\n",
        "new_list = []                    # Initialize the new data structure\n",
        "i = 0                            # Initialize the incrementer\n",
        "while i <= 10:                   # Set the loop condition\n",
        "    i += i                       # Increment the incrementer\n",
        "    new_value = 'Hello'          # Compute the new value\n",
        "    new_list.append(new_value)   # Put the new value in the data structure.\n",
        "```\n",
        ".\n",
        "\n",
        "**Tip:** Multiple variables can also be created on the same line (e.g. `new_list, i = [], 0`)"
      ]
    },
    {
      "cell_type": "markdown",
      "metadata": {
        "cell_id": "73528dab872645cc9b9f72c43b24f6f6",
        "deepnote_cell_height": 52.390625,
        "deepnote_cell_type": "markdown",
        "tags": []
      },
      "source": [
        "**Exercises** Using while-loops, make the following lists"
      ]
    },
    {
      "cell_type": "markdown",
      "metadata": {
        "cell_id": "4278fbcca8ed4b20bd59c5c2a20d23dd",
        "deepnote_cell_height": 52.390625,
        "deepnote_cell_type": "markdown",
        "tags": []
      },
      "source": [
        "[10, 20, 30, 40, 50, 60]"
      ]
    },
    {
      "cell_type": "code",
      "execution_count": null,
      "metadata": {
        "cell_id": "047618f4d8f540dbbe0be221f7bedefe",
        "deepnote_cell_height": 66,
        "deepnote_cell_type": "code",
        "tags": [
          "exercise"
        ]
      },
      "outputs": [],
      "source": []
    },
    {
      "cell_type": "markdown",
      "metadata": {
        "cell_id": "1473eb3caada479f8d2898fc8f65cd49",
        "deepnote_cell_height": 52.390625,
        "deepnote_cell_type": "markdown",
        "tags": []
      },
      "source": [
        "['Hi', 'Bye', 'Hi', 'Bye']"
      ]
    },
    {
      "cell_type": "code",
      "execution_count": null,
      "metadata": {
        "cell_id": "0c6bc9e4792f401f894fb44724546ced",
        "deepnote_cell_height": 66,
        "deepnote_cell_type": "code",
        "tags": [
          "exercise"
        ]
      },
      "outputs": [],
      "source": []
    },
    {
      "cell_type": "markdown",
      "metadata": {
        "cell_id": "6e651b8a5ca1477ca7f2b353d3b1599c",
        "deepnote_cell_height": 52.390625,
        "deepnote_cell_type": "markdown",
        "tags": []
      },
      "source": [
        "['a', 'g', 'c', 'j']  ->  ['A', 'G', 'C', 'J']"
      ]
    },
    {
      "cell_type": "code",
      "execution_count": null,
      "metadata": {
        "cell_id": "a6d4c79a49224d0ea7e7559156758363",
        "deepnote_cell_height": 81,
        "deepnote_cell_type": "code",
        "deepnote_to_be_reexecuted": false,
        "execution_millis": 7,
        "execution_start": 1637224025807,
        "source_hash": "824dca8b",
        "tags": []
      },
      "outputs": [],
      "source": [
        "old_list = ['a', 'b', 'c', 'd']"
      ]
    },
    {
      "cell_type": "code",
      "execution_count": null,
      "metadata": {
        "tags": [
          "exercise"
        ]
      },
      "outputs": [],
      "source": []
    },
    {
      "cell_type": "markdown",
      "metadata": {
        "cell_id": "ac492cda80ad4504b86265941bbdf4f2",
        "deepnote_cell_height": 52.390625,
        "deepnote_cell_type": "markdown",
        "deepnote_to_be_reexecuted": false,
        "execution_millis": 1,
        "execution_start": 1637224052274,
        "source_hash": "b623e53d",
        "tags": []
      },
      "source": [
        "[5, 3, 7, 10, 30]  -> [50, 30, 70, 100, 300]"
      ]
    },
    {
      "cell_type": "code",
      "execution_count": null,
      "metadata": {
        "cell_id": "8371a4c3fbeb43aca84ba389ec48149b",
        "deepnote_cell_height": 66,
        "deepnote_cell_type": "code",
        "tags": [
          "exercise"
        ]
      },
      "outputs": [],
      "source": []
    }
  ],
  "metadata": {
    "deepnote": {
      "is_reactive": false
    },
    "deepnote_execution_queue": [],
    "deepnote_notebook_id": "ea179fcef7c145b89979feb3973f226f",
    "kernelspec": {
      "display_name": "Python 3 (ipykernel)",
      "language": "python",
      "name": "python3"
    },
    "language_info": {
      "codemirror_mode": {
        "name": "ipython",
        "version": 3
      },
      "file_extension": ".py",
      "mimetype": "text/x-python",
      "name": "python",
      "nbconvert_exporter": "python",
      "pygments_lexer": "ipython3",
      "version": "3.9.12"
    },
    "vscode": {
      "interpreter": {
        "hash": "d6852d01271bf8033dbdb7ec364b6f6e89fd52a18c6bf5b4c73e48c86329a8dd"
      }
    }
  },
  "nbformat": 4,
  "nbformat_minor": 4
}