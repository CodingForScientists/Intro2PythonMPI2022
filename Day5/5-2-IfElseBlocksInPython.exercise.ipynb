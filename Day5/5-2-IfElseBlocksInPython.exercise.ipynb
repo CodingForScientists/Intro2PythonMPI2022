{
  "cells": [
    {
      "cell_type": "markdown",
      "metadata": {
        "cell_id": "b560c4094fbd4191a59e916d0bc5bd59",
        "deepnote_cell_height": 70,
        "deepnote_cell_type": "markdown",
        "deepnote_to_be_reexecuted": false,
        "execution_millis": 1,
        "execution_start": 1651006642853,
        "source_hash": "99bc5833",
        "tags": []
      },
      "source": [
        "## Control Flow in Python: If-Else Blocks"
      ]
    },
    {
      "cell_type": "markdown",
      "metadata": {
        "cell_id": "9c25d884d7754c69b279b69e1a3ebfb3",
        "deepnote_cell_height": 763.4375,
        "deepnote_cell_type": "markdown",
        "owner_user_id": "c7a9f7f2-eddd-41d5-be7d-5159ad6417bb",
        "tags": []
      },
      "source": [
        "### Python's Block Syntax\n",
        "\n",
        "A \"Block\" of code is code grouped code together into a logical whole.  In general, Python code blocks look very similar to other languages, except it uses no special end block charachter (like an end bracket or the word \"end\" ):\n",
        "\n",
        "```\n",
        "# C, Java, R            # Matlab               # Python    \n",
        "if (x > 1) {             if x > 1              if x > 1:\n",
        "    y = 3;                   y = 3                 y = 3\n",
        "} else if (x < 0) {      elseif x < 0          elif x < 0:\n",
        "    y = 5;                   y = 5                 y = 5\n",
        "} else {                 else                  else:\n",
        "    y = 2                    y = 2                 y = 2\n",
        "}                        end\n",
        "```\n",
        "\n",
        "What's quite different about Python's block syntax is that it is very strict: **matching indentation** in the body of the block absolutely required (unlike in the other languages, in which indentation is only style to make reading code easier, and doesn't matter to the computer).   If indentation levels don't match in a block, Python will raise an **IndentationError**.\n",
        "\n",
        "For example, the following different ways of writing an `if` block are all legal in Matlab, but are often frowned upon by Matlab coders because it produces hard-to-read code.:\n",
        "\n",
        "```\n",
        "if x > 1           if x > 1; y = 3            if x > 1\n",
        "y = 3              else; y = 5                        y = 3\n",
        "else               end                          else\n",
        "y = 5                                         y = 5\n",
        "end                                            end\n",
        "```\n",
        "\n",
        "Flexible syntax can be quite nice, but Python's strictness here is intended to encourage code that's easy to read by encouraging a community to use similar coding styles.  \n",
        "\n",
        "The rule in Python is **Start a header of a block with a keyword, then end the header with a colon (:), then indent each line below it in the body.  When the block ends, unindent.**\n",
        "\n",
        "Keywords that start blocks in python include **if**, **else**, **elif**, **while**, **for**, **def**, **with**, **try**, and **class**, and they all use this syntax.  \n",
        "\n",
        "Let's get some practice, starting with **if**, **else**, and **elif**!"
      ]
    },
    {
      "cell_type": "markdown",
      "metadata": {
        "cell_id": "b80957521b54403dac0168aba75eac8c",
        "deepnote_cell_height": 335.953125,
        "deepnote_cell_type": "markdown",
        "tags": []
      },
      "source": [
        "### If-Else Blocks\n",
        "\n",
        "If-Else blocks are used in programming languages to control the \"flow\" of the program (i.e. make decisions about which code gets run).  \n",
        "\n",
        "```python\n",
        "x = 5\n",
        "if x > 4:\n",
        "    print('big')\n",
        "elif x < 0:  # optional, can have as many elifs as you want\n",
        "    print('negative')\n",
        "else:   # optional, limited to one else.\n",
        "    print('small')\n",
        "```\n",
        "\n",
        "Reasoning through which lines of code will get run takes some practice."
      ]
    },
    {
      "cell_type": "code",
      "execution_count": null,
      "metadata": {
        "cell_id": "e3cd1fe4228c4fff900f662a1e897633",
        "deepnote_cell_height": 66,
        "deepnote_cell_type": "code",
        "tags": []
      },
      "outputs": [],
      "source": []
    },
    {
      "cell_type": "markdown",
      "metadata": {
        "cell_id": "36ef8c4977a145aab836bbeb3c386fb6",
        "deepnote_cell_height": 111.1875,
        "deepnote_cell_type": "markdown",
        "tags": []
      },
      "source": [
        "**Exercises**\n",
        "\n",
        "Write code that has the described behavior.  Be sure to test that the conditional flow works properly by changing your data and rerunning the cell!"
      ]
    },
    {
      "cell_type": "markdown",
      "metadata": {
        "cell_id": "3ac07a8773cf485198ef46a3aa892a68",
        "deepnote_cell_height": 52.390625,
        "deepnote_cell_type": "markdown",
        "tags": []
      },
      "source": [
        "If `data` has more than 5 values, print 'Big Data!\""
      ]
    },
    {
      "cell_type": "code",
      "execution_count": null,
      "metadata": {
        "cell_id": "fee6e441497c407bbc74cbc0f989e030",
        "deepnote_cell_height": 147.859375,
        "deepnote_cell_type": "code",
        "deepnote_to_be_reexecuted": false,
        "execution_millis": 2,
        "execution_start": 1651218651963,
        "source_hash": "12ee48f",
        "tags": [
          "exercise"
        ]
      },
      "outputs": [],
      "source": []
    },
    {
      "cell_type": "markdown",
      "metadata": {
        "cell_id": "d1f32a36414e431c97fd7e830a4ebe50",
        "deepnote_cell_height": 52.390625,
        "deepnote_cell_type": "markdown",
        "tags": []
      },
      "source": [
        "If `x` is less than 10, print 'Hello!'"
      ]
    },
    {
      "cell_type": "code",
      "execution_count": null,
      "metadata": {
        "cell_id": "2e5d16e00a6c483fbcc47b421d36cf65",
        "deepnote_cell_height": 81,
        "deepnote_cell_type": "code",
        "deepnote_to_be_reexecuted": false,
        "execution_millis": 0,
        "execution_start": 1651227037651,
        "source_hash": "b623e53d",
        "tags": [
          "exercise"
        ]
      },
      "outputs": [],
      "source": []
    },
    {
      "cell_type": "markdown",
      "metadata": {
        "cell_id": "615e541a29db4a5e9c9a8cc75daa17e2",
        "deepnote_cell_height": 74.78125,
        "deepnote_cell_type": "markdown",
        "tags": []
      },
      "source": [
        "If a random number `num` is even (that is, when it is divided by two, it has a *remainder* of zero), then print \"Even\".  If it is odd, print \"odd\""
      ]
    },
    {
      "cell_type": "code",
      "execution_count": null,
      "metadata": {
        "cell_id": "7120f04c66e740b8bd6e114ce1261665",
        "deepnote_cell_height": 117,
        "deepnote_cell_type": "code",
        "deepnote_to_be_reexecuted": false,
        "execution_millis": 3,
        "execution_start": 1651227043016,
        "source_hash": "c765d27f",
        "tags": []
      },
      "outputs": [],
      "source": [
        "import numpy as np\n",
        "num = np.random.randint(1, 7)\n"
      ]
    },
    {
      "cell_type": "code",
      "execution_count": null,
      "metadata": {
        "tags": [
          "exercise"
        ]
      },
      "outputs": [],
      "source": []
    },
    {
      "cell_type": "markdown",
      "metadata": {
        "cell_id": "b0a45d9a6baa4bf085e95ab71658b25a",
        "deepnote_cell_height": 52.390625,
        "deepnote_cell_type": "markdown",
        "tags": []
      },
      "source": [
        "If `x` is greater than 3, set `y` to 5.  Otherwise, set `y` to 3"
      ]
    },
    {
      "cell_type": "code",
      "execution_count": null,
      "metadata": {
        "allow_embed": "code_output",
        "cell_id": "a7615bd62c034114b108fab7b7afc13e",
        "deepnote_cell_height": 81,
        "deepnote_cell_type": "code",
        "deepnote_to_be_reexecuted": false,
        "execution_millis": 1,
        "execution_start": 1651227056177,
        "source_hash": "b623e53d",
        "tags": [
          "exercise"
        ]
      },
      "outputs": [],
      "source": []
    },
    {
      "cell_type": "markdown",
      "metadata": {
        "cell_id": "8a8ce1ced7cd4f149b3c48b58238a777",
        "deepnote_cell_height": 52.390625,
        "deepnote_cell_type": "markdown",
        "tags": []
      },
      "source": [
        "If `x` is less than 0, then `kind` is `'positive'`. If it is greater than 0, then \n",
        "`kind` is `'negative'`.  If it's 0, then `kind` is `'zero'`"
      ]
    },
    {
      "cell_type": "code",
      "execution_count": null,
      "metadata": {
        "cell_id": "5634286b87154557958966ad2e76935f",
        "deepnote_cell_height": 66,
        "deepnote_cell_type": "code",
        "tags": [
          "exercise"
        ]
      },
      "outputs": [],
      "source": []
    },
    {
      "cell_type": "markdown",
      "metadata": {
        "cell_id": "6f75f8d0262a43ffbbf615d070149c2a",
        "deepnote_cell_height": 88.78125,
        "deepnote_cell_type": "markdown",
        "tags": []
      },
      "source": [
        "If `x` is an `int`, set `y` to `'int'`.  If not, set it to `\"unknown\"`\n",
        "\n",
        "*Tip*: the `isinstance()` function checks is a variable is of a certain type.  For example: `isinstance(3.1, float)`"
      ]
    },
    {
      "cell_type": "code",
      "execution_count": null,
      "metadata": {
        "cell_id": "3a14ac4dfd304d80826ed179e223e63e",
        "deepnote_cell_height": 81,
        "deepnote_cell_type": "code",
        "deepnote_to_be_reexecuted": false,
        "execution_millis": 3,
        "execution_start": 1651227062821,
        "source_hash": "b623e53d",
        "tags": [
          "exercise"
        ]
      },
      "outputs": [],
      "source": []
    },
    {
      "cell_type": "markdown",
      "metadata": {
        "cell_id": "eaecf798a7784346a49184e21c3d7ab4",
        "deepnote_cell_height": 52.390625,
        "deepnote_cell_type": "markdown",
        "tags": []
      },
      "source": [
        "If the mean of `x` and `y` is positve, print \"You win!\" If not, print \"Sorry, play again...\""
      ]
    },
    {
      "cell_type": "code",
      "execution_count": null,
      "metadata": {
        "cell_id": "f9ae1008512a4f2ca6eebc0b868c38e2",
        "deepnote_cell_height": 190.1875,
        "deepnote_cell_type": "code",
        "deepnote_to_be_reexecuted": false,
        "execution_millis": 21,
        "execution_start": 1651225120573,
        "source_hash": "aa92454c",
        "tags": []
      },
      "outputs": [
        {
          "data": {
            "text/plain": [
              "(0, 1)"
            ]
          },
          "execution_count": 1,
          "metadata": {},
          "output_type": "execute_result"
        }
      ],
      "source": [
        "import random\n",
        "x = random.randint(-10, 7)\n",
        "y = random.randint(-10, 7)\n",
        "\n",
        "x, y"
      ]
    },
    {
      "cell_type": "code",
      "execution_count": null,
      "metadata": {
        "tags": [
          "exercise"
        ]
      },
      "outputs": [],
      "source": []
    },
    {
      "cell_type": "markdown",
      "metadata": {
        "cell_id": "7d0a5f65f36f45098afe9e7a973519ad",
        "deepnote_cell_height": 111.1875,
        "deepnote_cell_type": "markdown",
        "tags": []
      },
      "source": [
        "If `month` is January, March, May, July, August, October, or December, then `has_31_days` should be True.  Else, `has_31_days` should be False.\n",
        "\n",
        "Tip:  `'a' in ['a', 'b', 'c'] == True`"
      ]
    },
    {
      "cell_type": "code",
      "execution_count": 1,
      "metadata": {
        "cell_id": "989cc4baaa2b41cc93fe5c690d13d314",
        "deepnote_cell_height": 66,
        "deepnote_cell_type": "code",
        "tags": [
          "exercise"
        ]
      },
      "outputs": [],
      "source": []
    },
    {
      "cell_type": "markdown",
      "metadata": {
        "cell_id": "7afa0888f44042cbb2ed04f1f93c406d",
        "deepnote_cell_height": 120.1875,
        "deepnote_cell_type": "markdown",
        "tags": []
      },
      "source": [
        "  - If `seq` has 'T', print \"DNA!\".  \n",
        "  - If it has 'U' and not 'T', print \"RNA!\"\n",
        "  - Otherwise, print \"Not sure!\"\n"
      ]
    },
    {
      "cell_type": "code",
      "execution_count": 21,
      "metadata": {
        "cell_id": "1761070a1bfb40a4a999980bd78da6f7",
        "deepnote_cell_height": 81,
        "deepnote_cell_type": "code",
        "deepnote_to_be_reexecuted": false,
        "execution_millis": 0,
        "execution_start": 1634158109570,
        "source_hash": "b623e53d",
        "tags": [
          "exercise"
        ]
      },
      "outputs": [],
      "source": []
    },
    {
      "cell_type": "markdown",
      "metadata": {
        "cell_id": "68aac821f2c143279a57b6e5726acfe6",
        "deepnote_cell_height": 226.765625,
        "deepnote_cell_type": "markdown",
        "tags": []
      },
      "source": [
        "print a label for a person given their `age`.  Note: For the cases below, the ranges exclude the maximum value.  In this schema, if the person is 1.0 years old, then they are a toddler, not an infant. \n",
        "\n",
        "  - 0-1:  \"infant\"\n",
        "  - 1-3: \"toddler\"\n",
        "  - 3-10: \"child\"\n",
        "  - 10-13: \"preteen\"\n",
        "  - 13-18: \"teenager\""
      ]
    },
    {
      "cell_type": "code",
      "execution_count": null,
      "metadata": {
        "tags": [
          "exercise"
        ]
      },
      "outputs": [],
      "source": []
    },
    {
      "cell_type": "markdown",
      "metadata": {
        "cell_id": "49eb22ad49bd4b62a3538caa6992b23b",
        "deepnote_cell_height": 595.265625,
        "deepnote_cell_type": "markdown",
        "tags": []
      },
      "source": [
        "### (Extra) \"Truthiness\" in Python\n",
        "\n",
        "Python has a trick or two up it's sleeve to make code more readable, and you'll see these everywhere:\n",
        "\n",
        "#### `not` instead of `== False` or `!= True`\n",
        "\n",
        "instead of seeing `if x == False:`, you'll see `if not x:`.  Shorter!  (note: doesn't work with numpy arrays)\n",
        "\n",
        "#### `if data`; relying on `__bool__` (called the \"Truthiness\" rule)\n",
        "\n",
        "Instad of `if len(data) > 0`, you'll see `if data:`. \n",
        "\n",
        "Instead of `if len(data) == 0`, you'll see `if not data:`.\n",
        "\n",
        "What's happening is that Python's `if` statement automatically converts everything after it to a `bool` using the `bool()` function, which uses the type's `__bool__()` method.  Depending on the type, `bool()` will return a True or False depending on its value.\n",
        "\n",
        "  - **bool**: False is Falsy, True is Truthy\n",
        "  - **int**: Zero is Falsy, everything else is Truthy.\n",
        "  - **float**: Zero is Falsy, everything else is Truthy.\n",
        "  - **str**: Empty strings are Falsy, everything else is Truthy.\n",
        "  - **list**: Empty lists are Falsy, everything else is Truthy.\n",
        "  - **tuple**: Empty tuples are Falsy, everything else is Truthy.\n",
        "  - **None**: None is always Falsy.\n",
        "\n",
        "**Summary: False, 0, empty, and None return False, everything else returns True**\n"
      ]
    },
    {
      "cell_type": "markdown",
      "metadata": {
        "cell_id": "79fdf7f9fb694478995cea440e04b7bd",
        "deepnote_cell_height": 88.78125,
        "deepnote_cell_type": "markdown",
        "tags": []
      },
      "source": [
        "**Exercises**\n",
        "\n",
        "Refactor the following code to be more \"Pythonic\" using truthyness rules"
      ]
    },
    {
      "cell_type": "code",
      "execution_count": 14,
      "metadata": {
        "cell_id": "8a422a8641d74d79b219dcbd2996e6ed",
        "deepnote_cell_height": 333,
        "deepnote_cell_type": "code",
        "deepnote_to_be_reexecuted": false,
        "execution_millis": 0,
        "execution_start": 1651005590020,
        "source_hash": "df7a5d2",
        "tags": []
      },
      "outputs": [],
      "source": [
        "\n",
        "x = 5\n",
        "\n",
        "# Original\n",
        "if x != 0:\n",
        "    y = 5\n",
        "else:\n",
        "    y = 3\n",
        "\n",
        "# New\n",
        "x = 5\n",
        "if x:\n",
        "    y = 5\n",
        "else:\n",
        "    y = 3    "
      ]
    },
    {
      "cell_type": "code",
      "execution_count": 15,
      "metadata": {
        "cell_id": "df2ba135c2f04686b11f60aa51c0a908",
        "deepnote_cell_height": 243,
        "deepnote_cell_type": "code",
        "deepnote_to_be_reexecuted": false,
        "execution_millis": 0,
        "execution_start": 1651218856890,
        "source_hash": "812e03eb",
        "tags": []
      },
      "outputs": [],
      "source": [
        "\n",
        "x = [1, 2, 3]\n",
        "\n",
        "# Original\n",
        "if len(x) > 0:\n",
        "    y = 10\n",
        "else:\n",
        "    y = 3\n",
        "\n",
        "# New"
      ]
    },
    {
      "cell_type": "code",
      "execution_count": 16,
      "metadata": {
        "cell_id": "a54b42fa04e44edabad65ea92e4d32a0",
        "deepnote_cell_type": "code",
        "deepnote_to_be_reexecuted": false,
        "execution_millis": 0,
        "execution_start": 1651005222335,
        "source_hash": "7a8685a7",
        "tags": []
      },
      "outputs": [],
      "source": [
        "\n",
        "x = []\n",
        "\n",
        "# Original\n",
        "if len(x) == 0:\n",
        "    y = 10\n",
        "else:\n",
        "    y = 3\n",
        "\n",
        "# New    \n",
        "\n"
      ]
    },
    {
      "cell_type": "code",
      "execution_count": 17,
      "metadata": {
        "cell_id": "f18d4c89f3e94c7d998a827b8f57d2d1",
        "deepnote_cell_type": "code",
        "deepnote_to_be_reexecuted": false,
        "execution_millis": 1,
        "execution_start": 1651005563929,
        "source_hash": "e3c5187f",
        "tags": []
      },
      "outputs": [],
      "source": [
        "import random\n",
        "x = random.choice(['', 'Hi', 0, 3, -3, 1., 0., None])  # random value of one of those listed\n",
        "\n",
        "# Original \n",
        "if (isinstance(x, str) and len(x) > 0) or (isinstance(x, (int, float)) and x != 0) or x is not None:\n",
        "    y = 10\n",
        "else:\n",
        "    y = 3\n",
        "\n",
        "# New\n"
      ]
    },
    {
      "cell_type": "markdown",
      "metadata": {
        "cell_id": "95c2a374df3b47f1bc42f53453e6c739",
        "deepnote_cell_type": "markdown",
        "tags": []
      },
      "source": [
        "### (Extra): Conditional Assignment\n",
        "Python also has a syntax for a one-line if-else statement used to assign a variable:\n",
        "\n",
        "```python\n",
        "y = 5 if x > 3 else 10  \"# assign y to 5 if x is greater than 3, else assign y to 10.\"\n",
        "```\n",
        "\n",
        "This is quite useful for simple cases, and can help avoid accidentally forgetting to assign a variable.  For example, look at the following code.  What's bug is in it?\n",
        "\n",
        "```python\n",
        "if x > 4:\n",
        "    print('x is big')\n",
        "    y = True\n",
        "else:\n",
        "    print('x is small')\n",
        "\n",
        "print(y)    \n",
        "```\n",
        "\n",
        "Did you spot it?   The problem is that y is only assigned in one out of the two cases.  If x is equal to 3, then there will be a `NameError`! This can be refactored into the following:\n",
        "\n",
        "```python\n",
        "y = True if x > 4 else False\n",
        "msg = 'x is big' if y == True else 'x is small'\n",
        "print(msg)\n",
        "```\n",
        "\n",
        "No more errors!  \n",
        "\n",
        "The one caveat: you can't use **elif** with this syntax."
      ]
    },
    {
      "cell_type": "markdown",
      "metadata": {
        "cell_id": "9236014eda6441efab6cfcce73258288",
        "deepnote_cell_type": "markdown",
        "tags": []
      },
      "source": [
        "**Exercises**\n",
        "\n",
        "Refactor the the following code blocks into the single-line version:"
      ]
    },
    {
      "cell_type": "code",
      "execution_count": 18,
      "metadata": {
        "cell_id": "3c1ddf60f259472ea3bec58b997fa7e1",
        "deepnote_cell_type": "code",
        "deepnote_to_be_reexecuted": false,
        "execution_millis": 0,
        "execution_start": 1651006470262,
        "source_hash": "ac2edcac",
        "tags": []
      },
      "outputs": [],
      "source": [
        "x = 2\n",
        "\n",
        "# Original\n",
        "if x > 3:\n",
        "    y = 5\n",
        "else:\n",
        "    y = 3\n",
        "\n",
        "\n",
        "# New\n",
        "y = 5 if x > 3 else 3"
      ]
    },
    {
      "cell_type": "code",
      "execution_count": 19,
      "metadata": {
        "cell_id": "49ada22156c349eea65f93f9b52b3496",
        "deepnote_cell_type": "code",
        "deepnote_to_be_reexecuted": false,
        "execution_millis": 1,
        "execution_start": 1651006502488,
        "source_hash": "f2dcb866",
        "tags": []
      },
      "outputs": [],
      "source": [
        "x = 10\n",
        "\n",
        "# Original\n",
        "if x < 0:\n",
        "    data = 10\n",
        "else:\n",
        "    data = 4\n",
        "\n",
        "# New:"
      ]
    },
    {
      "cell_type": "code",
      "execution_count": 20,
      "metadata": {
        "cell_id": "d65936ab67544e2ba78fe7a54cf093f5",
        "deepnote_cell_type": "code",
        "deepnote_to_be_reexecuted": false,
        "execution_millis": 4,
        "execution_start": 1651006541762,
        "source_hash": "c0a6f26b",
        "tags": []
      },
      "outputs": [],
      "source": [
        "x = True\n",
        "\n",
        "# Original\n",
        "if x:\n",
        "    y = True\n",
        "else:\n",
        "    y = False"
      ]
    },
    {
      "cell_type": "markdown",
      "metadata": {
        "cell_id": "024f0d83a9314e829c5b26282dbc63ef",
        "deepnote_cell_type": "markdown",
        "tags": []
      },
      "source": [
        "Note: Can the exercise above be simplified even further? If so, how?"
      ]
    },
    {
      "cell_type": "markdown",
      "metadata": {
        "cell_id": "6aa3a71179cc4c9e90901a31d110c978",
        "deepnote_cell_type": "markdown",
        "tags": []
      },
      "source": []
    }
  ],
  "metadata": {
    "deepnote": {
      "is_reactive": false
    },
    "deepnote_execution_queue": [],
    "deepnote_notebook_id": "1169102dd3f542b0bf874dfe3cc1fa47",
    "kernelspec": {
      "display_name": "Python 3 (ipykernel)",
      "language": "python",
      "name": "python3"
    },
    "language_info": {
      "codemirror_mode": {
        "name": "ipython",
        "version": 3
      },
      "file_extension": ".py",
      "mimetype": "text/x-python",
      "name": "python",
      "nbconvert_exporter": "python",
      "pygments_lexer": "ipython3",
      "version": "3.9.12"
    },
    "vscode": {
      "interpreter": {
        "hash": "d6852d01271bf8033dbdb7ec364b6f6e89fd52a18c6bf5b4c73e48c86329a8dd"
      }
    }
  },
  "nbformat": 4,
  "nbformat_minor": 4
}